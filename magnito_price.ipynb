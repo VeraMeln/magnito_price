{
 "cells": [
  {
   "cell_type": "markdown",
   "id": "2c2626ae-a809-4048-bdcd-daa59cc7b75d",
   "metadata": {},
   "source": [
    "# Модель стоимости жилья в Магнитогорске"
   ]
  },
  {
   "cell_type": "markdown",
   "id": "29994b28-1fd9-468a-a22d-c5ec6aa02738",
   "metadata": {},
   "source": [
    "**id для демонстрации на собеседовании**\n",
    "id = 3, 37, 82"
   ]
  },
  {
   "cell_type": "markdown",
   "id": "e7ea8e44-32e5-49d6-b6bc-238885645f0e",
   "metadata": {},
   "source": [
    "## Введение"
   ]
  },
  {
   "cell_type": "markdown",
   "id": "c5b0168d-d84e-437e-8ade-46b5d6d1cb00",
   "metadata": {},
   "source": [
    "**Задача**\n",
    "\n",
    "Построить математическую модель стоимости жилья в зависимости от параметров этого жилья.\n",
    "\n",
    "\n",
    "Модель должна иметь REST API. На вход модели подаются параметры квартиры в формате JSON на выходе получается цена квартиры в формате JSON.\n",
    "\r\n",
    "Испытание проводится в режиме демонстрации экрана на собеседовании. Модель тестируется на 3х квартирах на выбор кандидата. (Просьба подготовить исходные данные (запросы) заранее)"
   ]
  },
  {
   "cell_type": "markdown",
   "id": "2404ee59-c5e5-4cf1-93b5-2c4f0170e0bd",
   "metadata": {},
   "source": [
    "\n",
    "**Данные**\n",
    "\n",
    "\n",
    "В качестве источника исходных данных предлагается использовать данные сайта магнитогорской недвижимости www.citystar.ru.\n",
    "\n",
    "Размер выборки исходных данных не имеет значения, однако она должна быть представительной (не следует делать ее слишком большой, т.к. задача тестовая).\n",
    "\n",
    "Данные должны быть загружены в базу данных."
   ]
  },
  {
   "cell_type": "markdown",
   "id": "09f28052-6e75-439d-bf1e-660f0a1048e6",
   "metadata": {},
   "source": [
    "## Импорт библиотек и загрузка данных"
   ]
  },
  {
   "cell_type": "code",
   "execution_count": 1017,
   "id": "5bd465e7-4ee0-44b5-ab0b-fe7217837dea",
   "metadata": {},
   "outputs": [],
   "source": [
    "import sqlite3\n",
    "import pandas as pd\n",
    "import numpy as np\n",
    "import matplotlib.pyplot as plt\n",
    "\n",
    "from sklearn.model_selection import train_test_split, GridSearchCV\n",
    "from sklearn.preprocessing import OrdinalEncoder, StandardScaler\n",
    "from sklearn.metrics import mean_absolute_error, mean_absolute_percentage_error, mean_squared_error\n",
    ", \n",
    "RANDOM_STATE = 12345"
   ]
  },
  {
   "cell_type": "code",
   "execution_count": 901,
   "id": "a846f2ee-b8da-4aff-8e3b-790a034e7cfb",
   "metadata": {},
   "outputs": [],
   "source": [
    "# подключаемся к базе данных\n",
    "cnx = sqlite3.connect('db/magnitogorsk.db')"
   ]
  },
  {
   "cell_type": "code",
   "execution_count": 902,
   "id": "b1e0d78b-6818-48b6-b14c-600aae7104f7",
   "metadata": {},
   "outputs": [],
   "source": [
    "# загружаем данные\n",
    "data = pd.read_sql_query(\"SELECT * FROM offers\", cnx)"
   ]
  },
  {
   "cell_type": "code",
   "execution_count": 903,
   "id": "13e0f458-562e-424d-9e6a-a55da04cad45",
   "metadata": {},
   "outputs": [],
   "source": [
    "# закрываем соединение с базой данных\n",
    "cnx.close()"
   ]
  },
  {
   "cell_type": "markdown",
   "id": "adc068c7-4d44-4567-97e3-12ae752cf902",
   "metadata": {},
   "source": [
    "## Первичное знакомство с данными"
   ]
  },
  {
   "cell_type": "code",
   "execution_count": 904,
   "id": "9e5381df-7762-4244-8eb7-ff621b4697ae",
   "metadata": {},
   "outputs": [],
   "source": [
    "def first_look(df, num_of_srtings=5):\n",
    "    print('Общая информация')\n",
    "    display(df.info())\n",
    "    \n",
    "    print(f'Первые {num_of_srtings} строк(и) данных')\n",
    "    display(df.head(num_of_srtings))\n",
    "    \n",
    "    print('Основные статистические характеристики данных')\n",
    "    display(df.describe())\n",
    "    print('Количество пропусков:')\n",
    "    print(df.isna().sum())\n",
    "    print()\n",
    "    \n",
    "    print('Количество дубликатов:', df.duplicated().sum())"
   ]
  },
  {
   "cell_type": "code",
   "execution_count": 905,
   "id": "f53d6f4e-af9b-44f6-b71e-ff8d5948842d",
   "metadata": {},
   "outputs": [
    {
     "name": "stdout",
     "output_type": "stream",
     "text": [
      "Общая информация\n",
      "<class 'pandas.core.frame.DataFrame'>\n",
      "RangeIndex: 456 entries, 0 to 455\n",
      "Data columns (total 9 columns):\n",
      " #   Column          Non-Null Count  Dtype  \n",
      "---  ------          --------------  -----  \n",
      " 0   id              456 non-null    int64  \n",
      " 1   type            445 non-null    object \n",
      " 2   district        254 non-null    object \n",
      " 3   adress          456 non-null    object \n",
      " 4   floor           456 non-null    object \n",
      " 5   total_square    456 non-null    float64\n",
      " 6   living_square   456 non-null    float64\n",
      " 7   kitchen_square  456 non-null    float64\n",
      " 8   price           456 non-null    int64  \n",
      "dtypes: float64(3), int64(2), object(4)\n",
      "memory usage: 32.2+ KB\n"
     ]
    },
    {
     "data": {
      "text/plain": [
       "None"
      ]
     },
     "metadata": {},
     "output_type": "display_data"
    },
    {
     "name": "stdout",
     "output_type": "stream",
     "text": [
      "Первые 5 строк(и) данных\n"
     ]
    },
    {
     "data": {
      "text/html": [
       "<div>\n",
       "<style scoped>\n",
       "    .dataframe tbody tr th:only-of-type {\n",
       "        vertical-align: middle;\n",
       "    }\n",
       "\n",
       "    .dataframe tbody tr th {\n",
       "        vertical-align: top;\n",
       "    }\n",
       "\n",
       "    .dataframe thead th {\n",
       "        text-align: right;\n",
       "    }\n",
       "</style>\n",
       "<table border=\"1\" class=\"dataframe\">\n",
       "  <thead>\n",
       "    <tr style=\"text-align: right;\">\n",
       "      <th></th>\n",
       "      <th>id</th>\n",
       "      <th>type</th>\n",
       "      <th>district</th>\n",
       "      <th>adress</th>\n",
       "      <th>floor</th>\n",
       "      <th>total_square</th>\n",
       "      <th>living_square</th>\n",
       "      <th>kitchen_square</th>\n",
       "      <th>price</th>\n",
       "    </tr>\n",
       "  </thead>\n",
       "  <tbody>\n",
       "    <tr>\n",
       "      <th>0</th>\n",
       "      <td>1</td>\n",
       "      <td>Трехкомнатная улучшенная</td>\n",
       "      <td>Орджоникидзевский</td>\n",
       "      <td>Ленина пр-т 145/2</td>\n",
       "      <td>1/5</td>\n",
       "      <td>64.0</td>\n",
       "      <td>43.0</td>\n",
       "      <td>8.0</td>\n",
       "      <td>3750</td>\n",
       "    </tr>\n",
       "    <tr>\n",
       "      <th>1</th>\n",
       "      <td>2</td>\n",
       "      <td>Трехкомнатная</td>\n",
       "      <td>Ленинский</td>\n",
       "      <td>Октябрьская 12</td>\n",
       "      <td>2/5</td>\n",
       "      <td>87.2</td>\n",
       "      <td>60.0</td>\n",
       "      <td>9.0</td>\n",
       "      <td>8300</td>\n",
       "    </tr>\n",
       "    <tr>\n",
       "      <th>2</th>\n",
       "      <td>3</td>\n",
       "      <td>Однокомнатная нестандартная</td>\n",
       "      <td>Орджоникидзевский</td>\n",
       "      <td>Ленина пр-т 135</td>\n",
       "      <td>6/14</td>\n",
       "      <td>36.1</td>\n",
       "      <td>20.0</td>\n",
       "      <td>9.0</td>\n",
       "      <td>3330</td>\n",
       "    </tr>\n",
       "    <tr>\n",
       "      <th>3</th>\n",
       "      <td>4</td>\n",
       "      <td>Трехкомнатная нестандартная</td>\n",
       "      <td>Орджоникидзевский</td>\n",
       "      <td>Ленина пр-т 129</td>\n",
       "      <td>5/16</td>\n",
       "      <td>105.0</td>\n",
       "      <td>75.0</td>\n",
       "      <td>14.0</td>\n",
       "      <td>7700</td>\n",
       "    </tr>\n",
       "    <tr>\n",
       "      <th>4</th>\n",
       "      <td>5</td>\n",
       "      <td>Двухкомнатная улучшенная</td>\n",
       "      <td>Орджоникидзевский</td>\n",
       "      <td>Сиреневый проезд 12</td>\n",
       "      <td>7/9</td>\n",
       "      <td>50.6</td>\n",
       "      <td>43.0</td>\n",
       "      <td>9.0</td>\n",
       "      <td>3800</td>\n",
       "    </tr>\n",
       "  </tbody>\n",
       "</table>\n",
       "</div>"
      ],
      "text/plain": [
       "   id                         type           district               adress  \\\n",
       "0   1     Трехкомнатная улучшенная  Орджоникидзевский    Ленина пр-т 145/2   \n",
       "1   2               Трехкомнатная           Ленинский       Октябрьская 12   \n",
       "2   3  Однокомнатная нестандартная  Орджоникидзевский      Ленина пр-т 135   \n",
       "3   4  Трехкомнатная нестандартная  Орджоникидзевский      Ленина пр-т 129   \n",
       "4   5     Двухкомнатная улучшенная  Орджоникидзевский  Сиреневый проезд 12   \n",
       "\n",
       "  floor  total_square  living_square  kitchen_square  price  \n",
       "0   1/5          64.0           43.0             8.0   3750  \n",
       "1   2/5          87.2           60.0             9.0   8300  \n",
       "2  6/14          36.1           20.0             9.0   3330  \n",
       "3  5/16         105.0           75.0            14.0   7700  \n",
       "4   7/9          50.6           43.0             9.0   3800  "
      ]
     },
     "metadata": {},
     "output_type": "display_data"
    },
    {
     "name": "stdout",
     "output_type": "stream",
     "text": [
      "Основные статистические характеристики данных\n"
     ]
    },
    {
     "data": {
      "text/html": [
       "<div>\n",
       "<style scoped>\n",
       "    .dataframe tbody tr th:only-of-type {\n",
       "        vertical-align: middle;\n",
       "    }\n",
       "\n",
       "    .dataframe tbody tr th {\n",
       "        vertical-align: top;\n",
       "    }\n",
       "\n",
       "    .dataframe thead th {\n",
       "        text-align: right;\n",
       "    }\n",
       "</style>\n",
       "<table border=\"1\" class=\"dataframe\">\n",
       "  <thead>\n",
       "    <tr style=\"text-align: right;\">\n",
       "      <th></th>\n",
       "      <th>id</th>\n",
       "      <th>total_square</th>\n",
       "      <th>living_square</th>\n",
       "      <th>kitchen_square</th>\n",
       "      <th>price</th>\n",
       "    </tr>\n",
       "  </thead>\n",
       "  <tbody>\n",
       "    <tr>\n",
       "      <th>count</th>\n",
       "      <td>456.00000</td>\n",
       "      <td>456.000000</td>\n",
       "      <td>456.000000</td>\n",
       "      <td>456.000000</td>\n",
       "      <td>456.000000</td>\n",
       "    </tr>\n",
       "    <tr>\n",
       "      <th>mean</th>\n",
       "      <td>228.50000</td>\n",
       "      <td>53.514912</td>\n",
       "      <td>32.120175</td>\n",
       "      <td>8.771250</td>\n",
       "      <td>3744.561404</td>\n",
       "    </tr>\n",
       "    <tr>\n",
       "      <th>std</th>\n",
       "      <td>131.78012</td>\n",
       "      <td>21.751910</td>\n",
       "      <td>17.343334</td>\n",
       "      <td>4.007841</td>\n",
       "      <td>1631.107124</td>\n",
       "    </tr>\n",
       "    <tr>\n",
       "      <th>min</th>\n",
       "      <td>1.00000</td>\n",
       "      <td>14.100000</td>\n",
       "      <td>0.000000</td>\n",
       "      <td>0.000000</td>\n",
       "      <td>0.000000</td>\n",
       "    </tr>\n",
       "    <tr>\n",
       "      <th>25%</th>\n",
       "      <td>114.75000</td>\n",
       "      <td>40.175000</td>\n",
       "      <td>19.000000</td>\n",
       "      <td>6.000000</td>\n",
       "      <td>2700.000000</td>\n",
       "    </tr>\n",
       "    <tr>\n",
       "      <th>50%</th>\n",
       "      <td>228.50000</td>\n",
       "      <td>50.000000</td>\n",
       "      <td>30.000000</td>\n",
       "      <td>8.050000</td>\n",
       "      <td>3500.000000</td>\n",
       "    </tr>\n",
       "    <tr>\n",
       "      <th>75%</th>\n",
       "      <td>342.25000</td>\n",
       "      <td>65.000000</td>\n",
       "      <td>43.000000</td>\n",
       "      <td>10.000000</td>\n",
       "      <td>4600.000000</td>\n",
       "    </tr>\n",
       "    <tr>\n",
       "      <th>max</th>\n",
       "      <td>456.00000</td>\n",
       "      <td>220.000000</td>\n",
       "      <td>150.000000</td>\n",
       "      <td>30.000000</td>\n",
       "      <td>10000.000000</td>\n",
       "    </tr>\n",
       "  </tbody>\n",
       "</table>\n",
       "</div>"
      ],
      "text/plain": [
       "              id  total_square  living_square  kitchen_square         price\n",
       "count  456.00000    456.000000     456.000000      456.000000    456.000000\n",
       "mean   228.50000     53.514912      32.120175        8.771250   3744.561404\n",
       "std    131.78012     21.751910      17.343334        4.007841   1631.107124\n",
       "min      1.00000     14.100000       0.000000        0.000000      0.000000\n",
       "25%    114.75000     40.175000      19.000000        6.000000   2700.000000\n",
       "50%    228.50000     50.000000      30.000000        8.050000   3500.000000\n",
       "75%    342.25000     65.000000      43.000000       10.000000   4600.000000\n",
       "max    456.00000    220.000000     150.000000       30.000000  10000.000000"
      ]
     },
     "metadata": {},
     "output_type": "display_data"
    },
    {
     "name": "stdout",
     "output_type": "stream",
     "text": [
      "Количество пропусков:\n",
      "id                  0\n",
      "type               11\n",
      "district          202\n",
      "adress              0\n",
      "floor               0\n",
      "total_square        0\n",
      "living_square       0\n",
      "kitchen_square      0\n",
      "price               0\n",
      "dtype: int64\n",
      "\n",
      "Количество дубликатов: 0\n"
     ]
    }
   ],
   "source": [
    "first_look(data)"
   ]
  },
  {
   "cell_type": "markdown",
   "id": "e75c0a57-1a23-4493-819d-f830b03af1af",
   "metadata": {},
   "source": [
    "### Цена"
   ]
  },
  {
   "cell_type": "code",
   "execution_count": 906,
   "id": "04f8b4a1-a767-4fa1-bc12-e4e93d816da3",
   "metadata": {},
   "outputs": [
    {
     "data": {
      "image/png": "[encoded data removed]",
      "text/plain": [
       "<Figure size 1200x500 with 1 Axes>"
      ]
     },
     "metadata": {},
     "output_type": "display_data"
    }
   ],
   "source": [
    "data['price'].plot(figsize=(12, 5));"
   ]
  },
  {
   "cell_type": "code",
   "execution_count": 907,
   "id": "394cf70f-19d2-409e-a70e-f79dc273a13b",
   "metadata": {},
   "outputs": [
    {
     "data": {
      "image/png": "[encoded data removed]",
      "text/plain": [
       "<Figure size 1200x500 with 1 Axes>"
      ]
     },
     "metadata": {},
     "output_type": "display_data"
    }
   ],
   "source": [
    "data[data['price'] < 1000]['price'].plot(figsize=(12, 5));"
   ]
  },
  {
   "cell_type": "code",
   "execution_count": 908,
   "id": "d13f357e-8e09-4c56-95db-d21a6641d549",
   "metadata": {},
   "outputs": [
    {
     "data": {
      "text/plain": [
       "3.070175438596491"
      ]
     },
     "execution_count": 908,
     "metadata": {},
     "output_type": "execute_result"
    }
   ],
   "source": [
    "data[data['price'] < 800].shape[0] / data.shape[0] * 100"
   ]
  },
  {
   "cell_type": "code",
   "execution_count": 909,
   "id": "0d5db257-f9e6-4177-a6a4-142745aa2081",
   "metadata": {},
   "outputs": [
    {
     "data": {
      "text/html": [
       "<div>\n",
       "<style scoped>\n",
       "    .dataframe tbody tr th:only-of-type {\n",
       "        vertical-align: middle;\n",
       "    }\n",
       "\n",
       "    .dataframe tbody tr th {\n",
       "        vertical-align: top;\n",
       "    }\n",
       "\n",
       "    .dataframe thead th {\n",
       "        text-align: right;\n",
       "    }\n",
       "</style>\n",
       "<table border=\"1\" class=\"dataframe\">\n",
       "  <thead>\n",
       "    <tr style=\"text-align: right;\">\n",
       "      <th></th>\n",
       "      <th>id</th>\n",
       "      <th>type</th>\n",
       "      <th>district</th>\n",
       "      <th>adress</th>\n",
       "      <th>floor</th>\n",
       "      <th>total_square</th>\n",
       "      <th>living_square</th>\n",
       "      <th>kitchen_square</th>\n",
       "      <th>price</th>\n",
       "    </tr>\n",
       "  </thead>\n",
       "  <tbody>\n",
       "    <tr>\n",
       "      <th>58</th>\n",
       "      <td>59</td>\n",
       "      <td>Трехкомнатная</td>\n",
       "      <td>None</td>\n",
       "      <td>Школьная 10</td>\n",
       "      <td>1/1</td>\n",
       "      <td>59.5</td>\n",
       "      <td>47.0</td>\n",
       "      <td>12.0</td>\n",
       "      <td>500</td>\n",
       "    </tr>\n",
       "    <tr>\n",
       "      <th>61</th>\n",
       "      <td>62</td>\n",
       "      <td>Двухкомнатная</td>\n",
       "      <td>None</td>\n",
       "      <td>Новая 1/5</td>\n",
       "      <td>1/2</td>\n",
       "      <td>47.0</td>\n",
       "      <td>29.0</td>\n",
       "      <td>8.0</td>\n",
       "      <td>550</td>\n",
       "    </tr>\n",
       "    <tr>\n",
       "      <th>63</th>\n",
       "      <td>64</td>\n",
       "      <td>Двухкомнатная</td>\n",
       "      <td>None</td>\n",
       "      <td>Новая 1/5</td>\n",
       "      <td>1/2</td>\n",
       "      <td>47.0</td>\n",
       "      <td>29.0</td>\n",
       "      <td>8.0</td>\n",
       "      <td>480</td>\n",
       "    </tr>\n",
       "    <tr>\n",
       "      <th>73</th>\n",
       "      <td>74</td>\n",
       "      <td>Однокомнатная</td>\n",
       "      <td>None</td>\n",
       "      <td>Первомайская 16</td>\n",
       "      <td>2/4</td>\n",
       "      <td>42.6</td>\n",
       "      <td>20.0</td>\n",
       "      <td>15.0</td>\n",
       "      <td>0</td>\n",
       "    </tr>\n",
       "    <tr>\n",
       "      <th>141</th>\n",
       "      <td>142</td>\n",
       "      <td>Однокомнатная</td>\n",
       "      <td>None</td>\n",
       "      <td>Труда 47</td>\n",
       "      <td>4/9</td>\n",
       "      <td>32.0</td>\n",
       "      <td>19.0</td>\n",
       "      <td>6.0</td>\n",
       "      <td>0</td>\n",
       "    </tr>\n",
       "    <tr>\n",
       "      <th>173</th>\n",
       "      <td>174</td>\n",
       "      <td>Однокомнатная малосемейка</td>\n",
       "      <td>Правобережный</td>\n",
       "      <td>Советской Армии 37/1</td>\n",
       "      <td>4/9</td>\n",
       "      <td>22.0</td>\n",
       "      <td>12.0</td>\n",
       "      <td>6.0</td>\n",
       "      <td>1</td>\n",
       "    </tr>\n",
       "    <tr>\n",
       "      <th>294</th>\n",
       "      <td>295</td>\n",
       "      <td>Однокомнатная</td>\n",
       "      <td>None</td>\n",
       "      <td>Привокзальная 29кв1</td>\n",
       "      <td>1/1</td>\n",
       "      <td>42.5</td>\n",
       "      <td>22.0</td>\n",
       "      <td>12.0</td>\n",
       "      <td>450</td>\n",
       "    </tr>\n",
       "    <tr>\n",
       "      <th>332</th>\n",
       "      <td>333</td>\n",
       "      <td>Двухкомнатная</td>\n",
       "      <td>None</td>\n",
       "      <td>Российская 7</td>\n",
       "      <td>2/2</td>\n",
       "      <td>45.0</td>\n",
       "      <td>31.0</td>\n",
       "      <td>6.0</td>\n",
       "      <td>500</td>\n",
       "    </tr>\n",
       "    <tr>\n",
       "      <th>373</th>\n",
       "      <td>374</td>\n",
       "      <td>Двухкомнатная</td>\n",
       "      <td>None</td>\n",
       "      <td>ул Черемушки 13</td>\n",
       "      <td>2/2</td>\n",
       "      <td>40.0</td>\n",
       "      <td>22.0</td>\n",
       "      <td>6.0</td>\n",
       "      <td>500</td>\n",
       "    </tr>\n",
       "    <tr>\n",
       "      <th>389</th>\n",
       "      <td>390</td>\n",
       "      <td>Трехкомнатная</td>\n",
       "      <td>None</td>\n",
       "      <td>Труда 2</td>\n",
       "      <td>1/2</td>\n",
       "      <td>63.4</td>\n",
       "      <td>0.0</td>\n",
       "      <td>0.0</td>\n",
       "      <td>530</td>\n",
       "    </tr>\n",
       "    <tr>\n",
       "      <th>399</th>\n",
       "      <td>400</td>\n",
       "      <td>Трехкомнатная</td>\n",
       "      <td>Орджоникидзевский</td>\n",
       "      <td>ул Репина 12</td>\n",
       "      <td>1/1</td>\n",
       "      <td>55.0</td>\n",
       "      <td>39.0</td>\n",
       "      <td>6.0</td>\n",
       "      <td>0</td>\n",
       "    </tr>\n",
       "    <tr>\n",
       "      <th>416</th>\n",
       "      <td>417</td>\n",
       "      <td>Трехкомнатная</td>\n",
       "      <td>None</td>\n",
       "      <td>сад Горняк</td>\n",
       "      <td>1/1</td>\n",
       "      <td>50.0</td>\n",
       "      <td>29.0</td>\n",
       "      <td>5.0</td>\n",
       "      <td>550</td>\n",
       "    </tr>\n",
       "    <tr>\n",
       "      <th>429</th>\n",
       "      <td>430</td>\n",
       "      <td>Двухкомнатная</td>\n",
       "      <td>None</td>\n",
       "      <td>Центральная 3</td>\n",
       "      <td>2/2</td>\n",
       "      <td>44.0</td>\n",
       "      <td>30.0</td>\n",
       "      <td>8.0</td>\n",
       "      <td>450</td>\n",
       "    </tr>\n",
       "  </tbody>\n",
       "</table>\n",
       "</div>"
      ],
      "text/plain": [
       "      id                       type           district                adress  \\\n",
       "58    59             Трехкомнатная                None           Школьная 10   \n",
       "61    62             Двухкомнатная                None             Новая 1/5   \n",
       "63    64             Двухкомнатная                None             Новая 1/5   \n",
       "73    74             Однокомнатная                None       Первомайская 16   \n",
       "141  142             Однокомнатная                None              Труда 47   \n",
       "173  174  Однокомнатная малосемейка      Правобережный  Советской Армии 37/1   \n",
       "294  295             Однокомнатная                None   Привокзальная 29кв1   \n",
       "332  333             Двухкомнатная                None          Российская 7   \n",
       "373  374             Двухкомнатная                None       ул Черемушки 13   \n",
       "389  390             Трехкомнатная                None               Труда 2   \n",
       "399  400             Трехкомнатная   Орджоникидзевский          ул Репина 12   \n",
       "416  417             Трехкомнатная                None           сад Горняк    \n",
       "429  430             Двухкомнатная                None         Центральная 3   \n",
       "\n",
       "    floor  total_square  living_square  kitchen_square  price  \n",
       "58    1/1          59.5           47.0            12.0    500  \n",
       "61    1/2          47.0           29.0             8.0    550  \n",
       "63    1/2          47.0           29.0             8.0    480  \n",
       "73    2/4          42.6           20.0            15.0      0  \n",
       "141   4/9          32.0           19.0             6.0      0  \n",
       "173   4/9          22.0           12.0             6.0      1  \n",
       "294   1/1          42.5           22.0            12.0    450  \n",
       "332   2/2          45.0           31.0             6.0    500  \n",
       "373   2/2          40.0           22.0             6.0    500  \n",
       "389   1/2          63.4            0.0             0.0    530  \n",
       "399   1/1          55.0           39.0             6.0      0  \n",
       "416   1/1          50.0           29.0             5.0    550  \n",
       "429   2/2          44.0           30.0             8.0    450  "
      ]
     },
     "execution_count": 909,
     "metadata": {},
     "output_type": "execute_result"
    }
   ],
   "source": [
    "data[data['price'] < 600]"
   ]
  },
  {
   "cell_type": "markdown",
   "id": "8e8be602-95bc-40ed-9e0a-9725f0b20ac6",
   "metadata": {},
   "source": [
    "Для трех квартир цена не указана, поэтому удалим эти строки, так как они не подходят ни для обучения модели ни для контроля качества. \n",
    "\n",
    "Количество квартир с нетипично низкой ценой составляет около 3 % данных. Удалим их, чтобы модель смогла точнее выявить закономерность."
   ]
  },
  {
   "cell_type": "code",
   "execution_count": 910,
   "id": "ec8fb70e-0c24-442d-aca0-0896268ce052",
   "metadata": {},
   "outputs": [
    {
     "data": {
      "text/plain": [
       "(456, 9)"
      ]
     },
     "execution_count": 910,
     "metadata": {},
     "output_type": "execute_result"
    }
   ],
   "source": [
    "# контроль размерности\n",
    "data.shape"
   ]
  },
  {
   "cell_type": "code",
   "execution_count": 911,
   "id": "25e8f942-e643-4d87-909e-d0b96dfc1e19",
   "metadata": {},
   "outputs": [],
   "source": [
    "data = data[data['price'] >= 800]"
   ]
  },
  {
   "cell_type": "code",
   "execution_count": 912,
   "id": "8002012f-c218-4ba6-ba8f-2411fc3a880f",
   "metadata": {},
   "outputs": [
    {
     "data": {
      "text/plain": [
       "(442, 9)"
      ]
     },
     "execution_count": 912,
     "metadata": {},
     "output_type": "execute_result"
    }
   ],
   "source": [
    "# контроль размерности\n",
    "data.shape"
   ]
  },
  {
   "cell_type": "markdown",
   "id": "239b1631-ea6a-47d8-9036-823163e77e03",
   "metadata": {},
   "source": [
    "### Этаж"
   ]
  },
  {
   "cell_type": "code",
   "execution_count": 913,
   "id": "6d682fca-6144-451d-ac55-b9cab4de92b8",
   "metadata": {},
   "outputs": [
    {
     "data": {
      "text/plain": [
       "0"
      ]
     },
     "execution_count": 913,
     "metadata": {},
     "output_type": "execute_result"
    }
   ],
   "source": [
    "data['floor'].isna().sum()"
   ]
  },
  {
   "cell_type": "code",
   "execution_count": 914,
   "id": "bed89371-f921-4e6c-b4a4-d90fb6c9c114",
   "metadata": {},
   "outputs": [],
   "source": [
    "def get_floor_num(row):\n",
    "    return int(row[:row.find('/')])"
   ]
  },
  {
   "cell_type": "code",
   "execution_count": 915,
   "id": "200280f3-7426-4896-8b43-a51157f89943",
   "metadata": {},
   "outputs": [],
   "source": [
    "data['floor_num'] = data['floor'].apply(get_floor_num)"
   ]
  },
  {
   "cell_type": "code",
   "execution_count": 916,
   "id": "ffe368e4-f05c-42c6-8ef8-36880f9c31f7",
   "metadata": {},
   "outputs": [
    {
     "data": {
      "text/plain": [
       "0"
      ]
     },
     "execution_count": 916,
     "metadata": {},
     "output_type": "execute_result"
    }
   ],
   "source": [
    "data['floor_num'].isna().sum()"
   ]
  },
  {
   "cell_type": "code",
   "execution_count": 917,
   "id": "57bc790d-d947-4916-8142-3d90aac500e9",
   "metadata": {},
   "outputs": [],
   "source": [
    "def get_total_floors(row):\n",
    "    return int(row[row.find('/')+1:])"
   ]
  },
  {
   "cell_type": "code",
   "execution_count": 918,
   "id": "e333900f-95de-48ae-82ea-ba9f167979a0",
   "metadata": {},
   "outputs": [],
   "source": [
    "data['total_floors'] = data['floor'].apply(get_total_floors)"
   ]
  },
  {
   "cell_type": "code",
   "execution_count": 919,
   "id": "1917e029-acdf-4630-ae93-f9011daf7d82",
   "metadata": {},
   "outputs": [
    {
     "data": {
      "text/plain": [
       "0"
      ]
     },
     "execution_count": 919,
     "metadata": {},
     "output_type": "execute_result"
    }
   ],
   "source": [
    "data['total_floors'].isna().sum()"
   ]
  },
  {
   "cell_type": "code",
   "execution_count": 920,
   "id": "e99fd97a-fa6d-4bf4-8831-b8858b4ea537",
   "metadata": {},
   "outputs": [
    {
     "data": {
      "text/html": [
       "<div>\n",
       "<style scoped>\n",
       "    .dataframe tbody tr th:only-of-type {\n",
       "        vertical-align: middle;\n",
       "    }\n",
       "\n",
       "    .dataframe tbody tr th {\n",
       "        vertical-align: top;\n",
       "    }\n",
       "\n",
       "    .dataframe thead th {\n",
       "        text-align: right;\n",
       "    }\n",
       "</style>\n",
       "<table border=\"1\" class=\"dataframe\">\n",
       "  <thead>\n",
       "    <tr style=\"text-align: right;\">\n",
       "      <th></th>\n",
       "      <th>id</th>\n",
       "      <th>type</th>\n",
       "      <th>district</th>\n",
       "      <th>adress</th>\n",
       "      <th>floor</th>\n",
       "      <th>total_square</th>\n",
       "      <th>living_square</th>\n",
       "      <th>kitchen_square</th>\n",
       "      <th>price</th>\n",
       "      <th>floor_num</th>\n",
       "      <th>total_floors</th>\n",
       "    </tr>\n",
       "  </thead>\n",
       "  <tbody>\n",
       "    <tr>\n",
       "      <th>0</th>\n",
       "      <td>1</td>\n",
       "      <td>Трехкомнатная улучшенная</td>\n",
       "      <td>Орджоникидзевский</td>\n",
       "      <td>Ленина пр-т 145/2</td>\n",
       "      <td>1/5</td>\n",
       "      <td>64.0</td>\n",
       "      <td>43.0</td>\n",
       "      <td>8.0</td>\n",
       "      <td>3750</td>\n",
       "      <td>1</td>\n",
       "      <td>5</td>\n",
       "    </tr>\n",
       "    <tr>\n",
       "      <th>1</th>\n",
       "      <td>2</td>\n",
       "      <td>Трехкомнатная</td>\n",
       "      <td>Ленинский</td>\n",
       "      <td>Октябрьская 12</td>\n",
       "      <td>2/5</td>\n",
       "      <td>87.2</td>\n",
       "      <td>60.0</td>\n",
       "      <td>9.0</td>\n",
       "      <td>8300</td>\n",
       "      <td>2</td>\n",
       "      <td>5</td>\n",
       "    </tr>\n",
       "    <tr>\n",
       "      <th>2</th>\n",
       "      <td>3</td>\n",
       "      <td>Однокомнатная нестандартная</td>\n",
       "      <td>Орджоникидзевский</td>\n",
       "      <td>Ленина пр-т 135</td>\n",
       "      <td>6/14</td>\n",
       "      <td>36.1</td>\n",
       "      <td>20.0</td>\n",
       "      <td>9.0</td>\n",
       "      <td>3330</td>\n",
       "      <td>6</td>\n",
       "      <td>14</td>\n",
       "    </tr>\n",
       "    <tr>\n",
       "      <th>3</th>\n",
       "      <td>4</td>\n",
       "      <td>Трехкомнатная нестандартная</td>\n",
       "      <td>Орджоникидзевский</td>\n",
       "      <td>Ленина пр-т 129</td>\n",
       "      <td>5/16</td>\n",
       "      <td>105.0</td>\n",
       "      <td>75.0</td>\n",
       "      <td>14.0</td>\n",
       "      <td>7700</td>\n",
       "      <td>5</td>\n",
       "      <td>16</td>\n",
       "    </tr>\n",
       "    <tr>\n",
       "      <th>4</th>\n",
       "      <td>5</td>\n",
       "      <td>Двухкомнатная улучшенная</td>\n",
       "      <td>Орджоникидзевский</td>\n",
       "      <td>Сиреневый проезд 12</td>\n",
       "      <td>7/9</td>\n",
       "      <td>50.6</td>\n",
       "      <td>43.0</td>\n",
       "      <td>9.0</td>\n",
       "      <td>3800</td>\n",
       "      <td>7</td>\n",
       "      <td>9</td>\n",
       "    </tr>\n",
       "  </tbody>\n",
       "</table>\n",
       "</div>"
      ],
      "text/plain": [
       "   id                         type           district               adress  \\\n",
       "0   1     Трехкомнатная улучшенная  Орджоникидзевский    Ленина пр-т 145/2   \n",
       "1   2               Трехкомнатная           Ленинский       Октябрьская 12   \n",
       "2   3  Однокомнатная нестандартная  Орджоникидзевский      Ленина пр-т 135   \n",
       "3   4  Трехкомнатная нестандартная  Орджоникидзевский      Ленина пр-т 129   \n",
       "4   5     Двухкомнатная улучшенная  Орджоникидзевский  Сиреневый проезд 12   \n",
       "\n",
       "  floor  total_square  living_square  kitchen_square  price  floor_num  \\\n",
       "0   1/5          64.0           43.0             8.0   3750          1   \n",
       "1   2/5          87.2           60.0             9.0   8300          2   \n",
       "2  6/14          36.1           20.0             9.0   3330          6   \n",
       "3  5/16         105.0           75.0            14.0   7700          5   \n",
       "4   7/9          50.6           43.0             9.0   3800          7   \n",
       "\n",
       "   total_floors  \n",
       "0             5  \n",
       "1             5  \n",
       "2            14  \n",
       "3            16  \n",
       "4             9  "
      ]
     },
     "execution_count": 920,
     "metadata": {},
     "output_type": "execute_result"
    }
   ],
   "source": [
    "data.head()"
   ]
  },
  {
   "cell_type": "markdown",
   "id": "502513c4-17b7-4d28-95dd-c783003da2e0",
   "metadata": {},
   "source": [
    "Добавим столбец с информацией о том, является ли этаж квартиры первым."
   ]
  },
  {
   "cell_type": "code",
   "execution_count": 921,
   "id": "380568c1-0c9f-46f9-a5a1-0475127f1941",
   "metadata": {},
   "outputs": [],
   "source": [
    "data['is_first_floor'] = data['floor_num'] == 1\n",
    "data['is_first_floor'] = data['is_first_floor'].astype('int')"
   ]
  },
  {
   "cell_type": "markdown",
   "id": "b8d6aea6-ae23-46d6-b23b-8566c57a1eea",
   "metadata": {},
   "source": [
    "Добавим столбец с информацией о том, является ли этаж квартиры последним."
   ]
  },
  {
   "cell_type": "code",
   "execution_count": 922,
   "id": "56ba1970-3a3f-4472-acde-bce3c3891731",
   "metadata": {},
   "outputs": [],
   "source": [
    "data['is_last_floor'] = data['floor_num'] == data['total_floors']\n",
    "data['is_last_floor'] = data['is_last_floor'].astype('int')"
   ]
  },
  {
   "cell_type": "code",
   "execution_count": 923,
   "id": "14a0b3bb-97a0-4c64-9399-5fa05b88fc28",
   "metadata": {},
   "outputs": [
    {
     "data": {
      "text/html": [
       "<div>\n",
       "<style scoped>\n",
       "    .dataframe tbody tr th:only-of-type {\n",
       "        vertical-align: middle;\n",
       "    }\n",
       "\n",
       "    .dataframe tbody tr th {\n",
       "        vertical-align: top;\n",
       "    }\n",
       "\n",
       "    .dataframe thead th {\n",
       "        text-align: right;\n",
       "    }\n",
       "</style>\n",
       "<table border=\"1\" class=\"dataframe\">\n",
       "  <thead>\n",
       "    <tr style=\"text-align: right;\">\n",
       "      <th></th>\n",
       "      <th>id</th>\n",
       "      <th>type</th>\n",
       "      <th>district</th>\n",
       "      <th>adress</th>\n",
       "      <th>floor</th>\n",
       "      <th>total_square</th>\n",
       "      <th>living_square</th>\n",
       "      <th>kitchen_square</th>\n",
       "      <th>price</th>\n",
       "      <th>floor_num</th>\n",
       "      <th>total_floors</th>\n",
       "      <th>is_first_floor</th>\n",
       "      <th>is_last_floor</th>\n",
       "    </tr>\n",
       "  </thead>\n",
       "  <tbody>\n",
       "    <tr>\n",
       "      <th>0</th>\n",
       "      <td>1</td>\n",
       "      <td>Трехкомнатная улучшенная</td>\n",
       "      <td>Орджоникидзевский</td>\n",
       "      <td>Ленина пр-т 145/2</td>\n",
       "      <td>1/5</td>\n",
       "      <td>64.0</td>\n",
       "      <td>43.0</td>\n",
       "      <td>8.0</td>\n",
       "      <td>3750</td>\n",
       "      <td>1</td>\n",
       "      <td>5</td>\n",
       "      <td>1</td>\n",
       "      <td>0</td>\n",
       "    </tr>\n",
       "    <tr>\n",
       "      <th>1</th>\n",
       "      <td>2</td>\n",
       "      <td>Трехкомнатная</td>\n",
       "      <td>Ленинский</td>\n",
       "      <td>Октябрьская 12</td>\n",
       "      <td>2/5</td>\n",
       "      <td>87.2</td>\n",
       "      <td>60.0</td>\n",
       "      <td>9.0</td>\n",
       "      <td>8300</td>\n",
       "      <td>2</td>\n",
       "      <td>5</td>\n",
       "      <td>0</td>\n",
       "      <td>0</td>\n",
       "    </tr>\n",
       "    <tr>\n",
       "      <th>2</th>\n",
       "      <td>3</td>\n",
       "      <td>Однокомнатная нестандартная</td>\n",
       "      <td>Орджоникидзевский</td>\n",
       "      <td>Ленина пр-т 135</td>\n",
       "      <td>6/14</td>\n",
       "      <td>36.1</td>\n",
       "      <td>20.0</td>\n",
       "      <td>9.0</td>\n",
       "      <td>3330</td>\n",
       "      <td>6</td>\n",
       "      <td>14</td>\n",
       "      <td>0</td>\n",
       "      <td>0</td>\n",
       "    </tr>\n",
       "    <tr>\n",
       "      <th>3</th>\n",
       "      <td>4</td>\n",
       "      <td>Трехкомнатная нестандартная</td>\n",
       "      <td>Орджоникидзевский</td>\n",
       "      <td>Ленина пр-т 129</td>\n",
       "      <td>5/16</td>\n",
       "      <td>105.0</td>\n",
       "      <td>75.0</td>\n",
       "      <td>14.0</td>\n",
       "      <td>7700</td>\n",
       "      <td>5</td>\n",
       "      <td>16</td>\n",
       "      <td>0</td>\n",
       "      <td>0</td>\n",
       "    </tr>\n",
       "    <tr>\n",
       "      <th>4</th>\n",
       "      <td>5</td>\n",
       "      <td>Двухкомнатная улучшенная</td>\n",
       "      <td>Орджоникидзевский</td>\n",
       "      <td>Сиреневый проезд 12</td>\n",
       "      <td>7/9</td>\n",
       "      <td>50.6</td>\n",
       "      <td>43.0</td>\n",
       "      <td>9.0</td>\n",
       "      <td>3800</td>\n",
       "      <td>7</td>\n",
       "      <td>9</td>\n",
       "      <td>0</td>\n",
       "      <td>0</td>\n",
       "    </tr>\n",
       "    <tr>\n",
       "      <th>5</th>\n",
       "      <td>6</td>\n",
       "      <td>Двухкомнатная улучшенная</td>\n",
       "      <td>Орджоникидзевский</td>\n",
       "      <td>Ленина пр-т 141</td>\n",
       "      <td>4/9</td>\n",
       "      <td>49.7</td>\n",
       "      <td>35.0</td>\n",
       "      <td>9.0</td>\n",
       "      <td>4000</td>\n",
       "      <td>4</td>\n",
       "      <td>9</td>\n",
       "      <td>0</td>\n",
       "      <td>0</td>\n",
       "    </tr>\n",
       "    <tr>\n",
       "      <th>6</th>\n",
       "      <td>7</td>\n",
       "      <td>Двухкомнатная</td>\n",
       "      <td>Правобережный</td>\n",
       "      <td>Советской Армии 9</td>\n",
       "      <td>1/5</td>\n",
       "      <td>43.8</td>\n",
       "      <td>28.6</td>\n",
       "      <td>6.0</td>\n",
       "      <td>3200</td>\n",
       "      <td>1</td>\n",
       "      <td>5</td>\n",
       "      <td>1</td>\n",
       "      <td>0</td>\n",
       "    </tr>\n",
       "    <tr>\n",
       "      <th>7</th>\n",
       "      <td>8</td>\n",
       "      <td>Однокомнатная брежневка</td>\n",
       "      <td>Правобережный</td>\n",
       "      <td>Карла Маркса 99</td>\n",
       "      <td>4/9</td>\n",
       "      <td>31.0</td>\n",
       "      <td>17.0</td>\n",
       "      <td>6.0</td>\n",
       "      <td>2670</td>\n",
       "      <td>4</td>\n",
       "      <td>9</td>\n",
       "      <td>0</td>\n",
       "      <td>0</td>\n",
       "    </tr>\n",
       "    <tr>\n",
       "      <th>8</th>\n",
       "      <td>9</td>\n",
       "      <td>Однокомнатная хрущевка</td>\n",
       "      <td>Ленинский</td>\n",
       "      <td>Ленинградская 37а</td>\n",
       "      <td>2/5</td>\n",
       "      <td>31.0</td>\n",
       "      <td>19.0</td>\n",
       "      <td>6.0</td>\n",
       "      <td>2650</td>\n",
       "      <td>2</td>\n",
       "      <td>5</td>\n",
       "      <td>0</td>\n",
       "      <td>0</td>\n",
       "    </tr>\n",
       "    <tr>\n",
       "      <th>9</th>\n",
       "      <td>10</td>\n",
       "      <td>Однокомнатная хабаровский вариант</td>\n",
       "      <td>Орджоникидзевский</td>\n",
       "      <td>Сиреневый проезд 14/2</td>\n",
       "      <td>6/6</td>\n",
       "      <td>37.0</td>\n",
       "      <td>19.0</td>\n",
       "      <td>8.0</td>\n",
       "      <td>2990</td>\n",
       "      <td>6</td>\n",
       "      <td>6</td>\n",
       "      <td>0</td>\n",
       "      <td>1</td>\n",
       "    </tr>\n",
       "  </tbody>\n",
       "</table>\n",
       "</div>"
      ],
      "text/plain": [
       "   id                               type           district  \\\n",
       "0   1           Трехкомнатная улучшенная  Орджоникидзевский   \n",
       "1   2                     Трехкомнатная           Ленинский   \n",
       "2   3        Однокомнатная нестандартная  Орджоникидзевский   \n",
       "3   4        Трехкомнатная нестандартная  Орджоникидзевский   \n",
       "4   5           Двухкомнатная улучшенная  Орджоникидзевский   \n",
       "5   6           Двухкомнатная улучшенная  Орджоникидзевский   \n",
       "6   7                     Двухкомнатная       Правобережный   \n",
       "7   8            Однокомнатная брежневка      Правобережный   \n",
       "8   9             Однокомнатная хрущевка          Ленинский   \n",
       "9  10  Однокомнатная хабаровский вариант  Орджоникидзевский   \n",
       "\n",
       "                  adress floor  total_square  living_square  kitchen_square  \\\n",
       "0      Ленина пр-т 145/2   1/5          64.0           43.0             8.0   \n",
       "1         Октябрьская 12   2/5          87.2           60.0             9.0   \n",
       "2        Ленина пр-т 135  6/14          36.1           20.0             9.0   \n",
       "3        Ленина пр-т 129  5/16         105.0           75.0            14.0   \n",
       "4    Сиреневый проезд 12   7/9          50.6           43.0             9.0   \n",
       "5        Ленина пр-т 141   4/9          49.7           35.0             9.0   \n",
       "6      Советской Армии 9   1/5          43.8           28.6             6.0   \n",
       "7        Карла Маркса 99   4/9          31.0           17.0             6.0   \n",
       "8      Ленинградская 37а   2/5          31.0           19.0             6.0   \n",
       "9  Сиреневый проезд 14/2   6/6          37.0           19.0             8.0   \n",
       "\n",
       "   price  floor_num  total_floors  is_first_floor  is_last_floor  \n",
       "0   3750          1             5               1              0  \n",
       "1   8300          2             5               0              0  \n",
       "2   3330          6            14               0              0  \n",
       "3   7700          5            16               0              0  \n",
       "4   3800          7             9               0              0  \n",
       "5   4000          4             9               0              0  \n",
       "6   3200          1             5               1              0  \n",
       "7   2670          4             9               0              0  \n",
       "8   2650          2             5               0              0  \n",
       "9   2990          6             6               0              1  "
      ]
     },
     "execution_count": 923,
     "metadata": {},
     "output_type": "execute_result"
    }
   ],
   "source": [
    "data.head(10)"
   ]
  },
  {
   "cell_type": "markdown",
   "id": "27bca13a-d972-44b4-82e2-5b2ad44c32ae",
   "metadata": {},
   "source": [
    "### Тип квартиры"
   ]
  },
  {
   "cell_type": "markdown",
   "id": "0a676db7-00c1-4c36-9a7f-511792de3615",
   "metadata": {},
   "source": [
    "В столбце с типом квартиры хранятся данные о количестве комнат и типе квартиры. Разделим их и сохраним в двух разных столбцах."
   ]
  },
  {
   "cell_type": "code",
   "execution_count": 924,
   "id": "dcffb3c8-3a42-497b-b759-a99918ef7779",
   "metadata": {},
   "outputs": [
    {
     "data": {
      "text/plain": [
       "11"
      ]
     },
     "execution_count": 924,
     "metadata": {},
     "output_type": "execute_result"
    }
   ],
   "source": [
    "data['type'].isna().sum()"
   ]
  },
  {
   "cell_type": "code",
   "execution_count": 925,
   "id": "3415cbfa-927c-4749-8ce9-22970668f45e",
   "metadata": {},
   "outputs": [
    {
     "data": {
      "text/plain": [
       "2.48868778280543"
      ]
     },
     "execution_count": 925,
     "metadata": {},
     "output_type": "execute_result"
    }
   ],
   "source": [
    "data['type'].isna().sum() / data.shape[0] * 100"
   ]
  },
  {
   "cell_type": "code",
   "execution_count": 926,
   "id": "c4e0fe04-fa0c-45ca-bf98-366d0a562f46",
   "metadata": {},
   "outputs": [
    {
     "data": {
      "text/html": [
       "<div>\n",
       "<style scoped>\n",
       "    .dataframe tbody tr th:only-of-type {\n",
       "        vertical-align: middle;\n",
       "    }\n",
       "\n",
       "    .dataframe tbody tr th {\n",
       "        vertical-align: top;\n",
       "    }\n",
       "\n",
       "    .dataframe thead th {\n",
       "        text-align: right;\n",
       "    }\n",
       "</style>\n",
       "<table border=\"1\" class=\"dataframe\">\n",
       "  <thead>\n",
       "    <tr style=\"text-align: right;\">\n",
       "      <th></th>\n",
       "      <th>id</th>\n",
       "      <th>type</th>\n",
       "      <th>district</th>\n",
       "      <th>adress</th>\n",
       "      <th>floor</th>\n",
       "      <th>total_square</th>\n",
       "      <th>living_square</th>\n",
       "      <th>kitchen_square</th>\n",
       "      <th>price</th>\n",
       "      <th>floor_num</th>\n",
       "      <th>total_floors</th>\n",
       "      <th>is_first_floor</th>\n",
       "      <th>is_last_floor</th>\n",
       "    </tr>\n",
       "  </thead>\n",
       "  <tbody>\n",
       "    <tr>\n",
       "      <th>59</th>\n",
       "      <td>60</td>\n",
       "      <td>None</td>\n",
       "      <td>None</td>\n",
       "      <td>Ленина пр-т 212а</td>\n",
       "      <td>1/1</td>\n",
       "      <td>18.4</td>\n",
       "      <td>12.0</td>\n",
       "      <td>5.0</td>\n",
       "      <td>1100</td>\n",
       "      <td>1</td>\n",
       "      <td>1</td>\n",
       "      <td>1</td>\n",
       "      <td>1</td>\n",
       "    </tr>\n",
       "    <tr>\n",
       "      <th>83</th>\n",
       "      <td>84</td>\n",
       "      <td>None</td>\n",
       "      <td>None</td>\n",
       "      <td>Карла Маркса 233</td>\n",
       "      <td>8/10</td>\n",
       "      <td>70.0</td>\n",
       "      <td>50.0</td>\n",
       "      <td>7.0</td>\n",
       "      <td>4860</td>\n",
       "      <td>8</td>\n",
       "      <td>10</td>\n",
       "      <td>0</td>\n",
       "      <td>0</td>\n",
       "    </tr>\n",
       "    <tr>\n",
       "      <th>97</th>\n",
       "      <td>98</td>\n",
       "      <td>None</td>\n",
       "      <td>Орджоникидзевский</td>\n",
       "      <td>Завенягина 1</td>\n",
       "      <td>5/9</td>\n",
       "      <td>65.1</td>\n",
       "      <td>44.0</td>\n",
       "      <td>8.0</td>\n",
       "      <td>4750</td>\n",
       "      <td>5</td>\n",
       "      <td>9</td>\n",
       "      <td>0</td>\n",
       "      <td>0</td>\n",
       "    </tr>\n",
       "    <tr>\n",
       "      <th>140</th>\n",
       "      <td>141</td>\n",
       "      <td>None</td>\n",
       "      <td>None</td>\n",
       "      <td>Торфяная 5/2</td>\n",
       "      <td>1/2</td>\n",
       "      <td>46.8</td>\n",
       "      <td>0.0</td>\n",
       "      <td>0.0</td>\n",
       "      <td>4950</td>\n",
       "      <td>1</td>\n",
       "      <td>2</td>\n",
       "      <td>1</td>\n",
       "      <td>0</td>\n",
       "    </tr>\n",
       "    <tr>\n",
       "      <th>161</th>\n",
       "      <td>162</td>\n",
       "      <td>None</td>\n",
       "      <td>None</td>\n",
       "      <td>Карла Маркса 119/1</td>\n",
       "      <td>2/5</td>\n",
       "      <td>41.0</td>\n",
       "      <td>0.0</td>\n",
       "      <td>6.0</td>\n",
       "      <td>3600</td>\n",
       "      <td>2</td>\n",
       "      <td>5</td>\n",
       "      <td>0</td>\n",
       "      <td>0</td>\n",
       "    </tr>\n",
       "    <tr>\n",
       "      <th>162</th>\n",
       "      <td>163</td>\n",
       "      <td>None</td>\n",
       "      <td>None</td>\n",
       "      <td>Карла Маркса 117</td>\n",
       "      <td>2/5</td>\n",
       "      <td>41.0</td>\n",
       "      <td>26.0</td>\n",
       "      <td>6.0</td>\n",
       "      <td>3400</td>\n",
       "      <td>2</td>\n",
       "      <td>5</td>\n",
       "      <td>0</td>\n",
       "      <td>0</td>\n",
       "    </tr>\n",
       "    <tr>\n",
       "      <th>163</th>\n",
       "      <td>164</td>\n",
       "      <td>None</td>\n",
       "      <td>None</td>\n",
       "      <td>ул Жукова 17/1</td>\n",
       "      <td>4/9</td>\n",
       "      <td>40.1</td>\n",
       "      <td>18.0</td>\n",
       "      <td>9.0</td>\n",
       "      <td>3100</td>\n",
       "      <td>4</td>\n",
       "      <td>9</td>\n",
       "      <td>0</td>\n",
       "      <td>0</td>\n",
       "    </tr>\n",
       "    <tr>\n",
       "      <th>176</th>\n",
       "      <td>177</td>\n",
       "      <td>None</td>\n",
       "      <td>None</td>\n",
       "      <td>Западное шоссе 101</td>\n",
       "      <td>2/3</td>\n",
       "      <td>68.0</td>\n",
       "      <td>40.0</td>\n",
       "      <td>0.0</td>\n",
       "      <td>6000</td>\n",
       "      <td>2</td>\n",
       "      <td>3</td>\n",
       "      <td>0</td>\n",
       "      <td>0</td>\n",
       "    </tr>\n",
       "    <tr>\n",
       "      <th>355</th>\n",
       "      <td>356</td>\n",
       "      <td>None</td>\n",
       "      <td>None</td>\n",
       "      <td>ул Лесопарковая 93/1</td>\n",
       "      <td>10/10</td>\n",
       "      <td>41.2</td>\n",
       "      <td>28.0</td>\n",
       "      <td>12.5</td>\n",
       "      <td>3150</td>\n",
       "      <td>10</td>\n",
       "      <td>10</td>\n",
       "      <td>0</td>\n",
       "      <td>1</td>\n",
       "    </tr>\n",
       "    <tr>\n",
       "      <th>365</th>\n",
       "      <td>366</td>\n",
       "      <td>None</td>\n",
       "      <td>None</td>\n",
       "      <td>Ленина пр-т 114/4</td>\n",
       "      <td>5/14</td>\n",
       "      <td>40.0</td>\n",
       "      <td>18.0</td>\n",
       "      <td>13.0</td>\n",
       "      <td>2620</td>\n",
       "      <td>5</td>\n",
       "      <td>14</td>\n",
       "      <td>0</td>\n",
       "      <td>0</td>\n",
       "    </tr>\n",
       "    <tr>\n",
       "      <th>387</th>\n",
       "      <td>388</td>\n",
       "      <td>None</td>\n",
       "      <td>None</td>\n",
       "      <td>Ленина пр-т 87а</td>\n",
       "      <td>6/14</td>\n",
       "      <td>45.0</td>\n",
       "      <td>37.0</td>\n",
       "      <td>8.0</td>\n",
       "      <td>2800</td>\n",
       "      <td>6</td>\n",
       "      <td>14</td>\n",
       "      <td>0</td>\n",
       "      <td>0</td>\n",
       "    </tr>\n",
       "  </tbody>\n",
       "</table>\n",
       "</div>"
      ],
      "text/plain": [
       "      id  type           district                adress  floor  total_square  \\\n",
       "59    60  None               None      Ленина пр-т 212а    1/1          18.4   \n",
       "83    84  None               None      Карла Маркса 233   8/10          70.0   \n",
       "97    98  None  Орджоникидзевский          Завенягина 1    5/9          65.1   \n",
       "140  141  None               None          Торфяная 5/2    1/2          46.8   \n",
       "161  162  None               None    Карла Маркса 119/1    2/5          41.0   \n",
       "162  163  None               None      Карла Маркса 117    2/5          41.0   \n",
       "163  164  None               None        ул Жукова 17/1    4/9          40.1   \n",
       "176  177  None               None    Западное шоссе 101    2/3          68.0   \n",
       "355  356  None               None  ул Лесопарковая 93/1  10/10          41.2   \n",
       "365  366  None               None     Ленина пр-т 114/4   5/14          40.0   \n",
       "387  388  None               None       Ленина пр-т 87а   6/14          45.0   \n",
       "\n",
       "     living_square  kitchen_square  price  floor_num  total_floors  \\\n",
       "59            12.0             5.0   1100          1             1   \n",
       "83            50.0             7.0   4860          8            10   \n",
       "97            44.0             8.0   4750          5             9   \n",
       "140            0.0             0.0   4950          1             2   \n",
       "161            0.0             6.0   3600          2             5   \n",
       "162           26.0             6.0   3400          2             5   \n",
       "163           18.0             9.0   3100          4             9   \n",
       "176           40.0             0.0   6000          2             3   \n",
       "355           28.0            12.5   3150         10            10   \n",
       "365           18.0            13.0   2620          5            14   \n",
       "387           37.0             8.0   2800          6            14   \n",
       "\n",
       "     is_first_floor  is_last_floor  \n",
       "59                1              1  \n",
       "83                0              0  \n",
       "97                0              0  \n",
       "140               1              0  \n",
       "161               0              0  \n",
       "162               0              0  \n",
       "163               0              0  \n",
       "176               0              0  \n",
       "355               0              1  \n",
       "365               0              0  \n",
       "387               0              0  "
      ]
     },
     "execution_count": 926,
     "metadata": {},
     "output_type": "execute_result"
    }
   ],
   "source": [
    "data[data['type'].isna()]"
   ]
  },
  {
   "cell_type": "code",
   "execution_count": 927,
   "id": "c8ea91cc-b9bc-4d4d-a189-a660a0c38599",
   "metadata": {},
   "outputs": [],
   "source": [
    "data = data[data['type'].notna()]"
   ]
  },
  {
   "cell_type": "code",
   "execution_count": 928,
   "id": "4f3b206f-da66-44df-911f-5fdd9be476ae",
   "metadata": {},
   "outputs": [
    {
     "data": {
      "text/plain": [
       "array(['Трехкомнатная улучшенная', 'Трехкомнатная ',\n",
       "       'Однокомнатная нестандартная', 'Трехкомнатная нестандартная',\n",
       "       'Двухкомнатная улучшенная', 'Двухкомнатная ',\n",
       "       'Однокомнатная брежневка', 'Однокомнатная хрущевка',\n",
       "       'Однокомнатная хабаровский вариант', 'Однокомнатная ',\n",
       "       'Трехкомнатная старой планировки', 'Двухкомнатная нестандартная',\n",
       "       'Однокомнатная свердловский вариант', 'Двухкомнатная брежневка',\n",
       "       'Трехкомнатная свердловский вариант',\n",
       "       'Четырехкомнатная распашонка', 'Двухкомнатная гребенка',\n",
       "       'Двухкомнатная раздельная', 'Двухкомнатная хрущевка',\n",
       "       'Двухкомнатная старой планировки',\n",
       "       'Однокомнатная сталинский вариант', 'Трехкомнатная брежневка',\n",
       "       'Двухкомнатная сталинский вариант', 'Многокомнатная ',\n",
       "       'Четырехкомнатная ', 'Однокомнатная улучшенная',\n",
       "       'Двухкомнатная хабаровский вариант', 'Однокомнатная малосемейка',\n",
       "       'Четырехкомнатная сталинский вариант', 'Трехкомнатная раздельная',\n",
       "       'Трехкомнатная смежная', 'Трехкомнатная евротрешка',\n",
       "       'Трехкомнатная полусмежная', 'Двухкомнатная евродвушка',\n",
       "       'Трехкомнатная хрущевка', 'Четырехкомнатная трапеция',\n",
       "       'Многокомнатная нестандартная',\n",
       "       'Двухкомнатная ленинградский проект', 'Четырехкомнатная гребенка',\n",
       "       'Трехкомнатная ленинградский проект',\n",
       "       'Четырехкомнатная нестандартная', 'Четырехкомнатная брежневка',\n",
       "       'Трехкомнатная сталинский вариант',\n",
       "       'Двухкомнатная свердловский вариант'], dtype=object)"
      ]
     },
     "execution_count": 928,
     "metadata": {},
     "output_type": "execute_result"
    }
   ],
   "source": [
    "data['type'].unique()"
   ]
  },
  {
   "cell_type": "code",
   "execution_count": 929,
   "id": "1096ade5-adf6-473b-95e8-ea3eca1dcc4e",
   "metadata": {},
   "outputs": [],
   "source": [
    "def get_num_of_rooms(row):\n",
    "    return row[: row.find(' ')] if row.find(' ') > 0 else None"
   ]
  },
  {
   "cell_type": "code",
   "execution_count": 930,
   "id": "b1773f89-2c65-488b-b686-46823772797e",
   "metadata": {},
   "outputs": [],
   "source": [
    "def get_flat_type(row):\n",
    "    return 'неизвестно' if (len(row) - row.find(' ') == 1) or (row.find(' ') == -1) else row[row.find(' ')+1:]"
   ]
  },
  {
   "cell_type": "code",
   "execution_count": 931,
   "id": "fe200001-15f3-4c62-8ab8-aa1406b38df0",
   "metadata": {},
   "outputs": [
    {
     "data": {
      "text/plain": [
       "'Двухкомнатная'"
      ]
     },
     "execution_count": 931,
     "metadata": {},
     "output_type": "execute_result"
    }
   ],
   "source": [
    "get_num_of_rooms('Двухкомнатная свердловский вариант')"
   ]
  },
  {
   "cell_type": "code",
   "execution_count": 932,
   "id": "3d69af9c-1835-41be-af7a-0290fd899d8d",
   "metadata": {},
   "outputs": [
    {
     "name": "stdout",
     "output_type": "stream",
     "text": [
      "свердловский вариант\n"
     ]
    }
   ],
   "source": [
    "print(get_flat_type('Двухкомнатная свердловский вариант'))"
   ]
  },
  {
   "cell_type": "code",
   "execution_count": 933,
   "id": "3368ee10-a4e1-49a1-b649-5775b297e6f9",
   "metadata": {},
   "outputs": [],
   "source": [
    "data['num_of_rooms'] = data['type'].apply(get_num_of_rooms)\n",
    "data['flat_type'] = data['type'].apply(get_flat_type)"
   ]
  },
  {
   "cell_type": "code",
   "execution_count": 934,
   "id": "9b7321d1-0ffb-49b1-b95f-b1a5ed7f9b1a",
   "metadata": {},
   "outputs": [
    {
     "data": {
      "text/html": [
       "<div>\n",
       "<style scoped>\n",
       "    .dataframe tbody tr th:only-of-type {\n",
       "        vertical-align: middle;\n",
       "    }\n",
       "\n",
       "    .dataframe tbody tr th {\n",
       "        vertical-align: top;\n",
       "    }\n",
       "\n",
       "    .dataframe thead th {\n",
       "        text-align: right;\n",
       "    }\n",
       "</style>\n",
       "<table border=\"1\" class=\"dataframe\">\n",
       "  <thead>\n",
       "    <tr style=\"text-align: right;\">\n",
       "      <th></th>\n",
       "      <th>id</th>\n",
       "      <th>type</th>\n",
       "      <th>district</th>\n",
       "      <th>adress</th>\n",
       "      <th>floor</th>\n",
       "      <th>total_square</th>\n",
       "      <th>living_square</th>\n",
       "      <th>kitchen_square</th>\n",
       "      <th>price</th>\n",
       "      <th>floor_num</th>\n",
       "      <th>total_floors</th>\n",
       "      <th>is_first_floor</th>\n",
       "      <th>is_last_floor</th>\n",
       "      <th>num_of_rooms</th>\n",
       "      <th>flat_type</th>\n",
       "    </tr>\n",
       "  </thead>\n",
       "  <tbody>\n",
       "    <tr>\n",
       "      <th>0</th>\n",
       "      <td>1</td>\n",
       "      <td>Трехкомнатная улучшенная</td>\n",
       "      <td>Орджоникидзевский</td>\n",
       "      <td>Ленина пр-т 145/2</td>\n",
       "      <td>1/5</td>\n",
       "      <td>64.0</td>\n",
       "      <td>43.0</td>\n",
       "      <td>8.0</td>\n",
       "      <td>3750</td>\n",
       "      <td>1</td>\n",
       "      <td>5</td>\n",
       "      <td>1</td>\n",
       "      <td>0</td>\n",
       "      <td>Трехкомнатная</td>\n",
       "      <td>улучшенная</td>\n",
       "    </tr>\n",
       "    <tr>\n",
       "      <th>1</th>\n",
       "      <td>2</td>\n",
       "      <td>Трехкомнатная</td>\n",
       "      <td>Ленинский</td>\n",
       "      <td>Октябрьская 12</td>\n",
       "      <td>2/5</td>\n",
       "      <td>87.2</td>\n",
       "      <td>60.0</td>\n",
       "      <td>9.0</td>\n",
       "      <td>8300</td>\n",
       "      <td>2</td>\n",
       "      <td>5</td>\n",
       "      <td>0</td>\n",
       "      <td>0</td>\n",
       "      <td>Трехкомнатная</td>\n",
       "      <td>неизвестно</td>\n",
       "    </tr>\n",
       "    <tr>\n",
       "      <th>2</th>\n",
       "      <td>3</td>\n",
       "      <td>Однокомнатная нестандартная</td>\n",
       "      <td>Орджоникидзевский</td>\n",
       "      <td>Ленина пр-т 135</td>\n",
       "      <td>6/14</td>\n",
       "      <td>36.1</td>\n",
       "      <td>20.0</td>\n",
       "      <td>9.0</td>\n",
       "      <td>3330</td>\n",
       "      <td>6</td>\n",
       "      <td>14</td>\n",
       "      <td>0</td>\n",
       "      <td>0</td>\n",
       "      <td>Однокомнатная</td>\n",
       "      <td>нестандартная</td>\n",
       "    </tr>\n",
       "    <tr>\n",
       "      <th>3</th>\n",
       "      <td>4</td>\n",
       "      <td>Трехкомнатная нестандартная</td>\n",
       "      <td>Орджоникидзевский</td>\n",
       "      <td>Ленина пр-т 129</td>\n",
       "      <td>5/16</td>\n",
       "      <td>105.0</td>\n",
       "      <td>75.0</td>\n",
       "      <td>14.0</td>\n",
       "      <td>7700</td>\n",
       "      <td>5</td>\n",
       "      <td>16</td>\n",
       "      <td>0</td>\n",
       "      <td>0</td>\n",
       "      <td>Трехкомнатная</td>\n",
       "      <td>нестандартная</td>\n",
       "    </tr>\n",
       "    <tr>\n",
       "      <th>4</th>\n",
       "      <td>5</td>\n",
       "      <td>Двухкомнатная улучшенная</td>\n",
       "      <td>Орджоникидзевский</td>\n",
       "      <td>Сиреневый проезд 12</td>\n",
       "      <td>7/9</td>\n",
       "      <td>50.6</td>\n",
       "      <td>43.0</td>\n",
       "      <td>9.0</td>\n",
       "      <td>3800</td>\n",
       "      <td>7</td>\n",
       "      <td>9</td>\n",
       "      <td>0</td>\n",
       "      <td>0</td>\n",
       "      <td>Двухкомнатная</td>\n",
       "      <td>улучшенная</td>\n",
       "    </tr>\n",
       "  </tbody>\n",
       "</table>\n",
       "</div>"
      ],
      "text/plain": [
       "   id                         type           district               adress  \\\n",
       "0   1     Трехкомнатная улучшенная  Орджоникидзевский    Ленина пр-т 145/2   \n",
       "1   2               Трехкомнатная           Ленинский       Октябрьская 12   \n",
       "2   3  Однокомнатная нестандартная  Орджоникидзевский      Ленина пр-т 135   \n",
       "3   4  Трехкомнатная нестандартная  Орджоникидзевский      Ленина пр-т 129   \n",
       "4   5     Двухкомнатная улучшенная  Орджоникидзевский  Сиреневый проезд 12   \n",
       "\n",
       "  floor  total_square  living_square  kitchen_square  price  floor_num  \\\n",
       "0   1/5          64.0           43.0             8.0   3750          1   \n",
       "1   2/5          87.2           60.0             9.0   8300          2   \n",
       "2  6/14          36.1           20.0             9.0   3330          6   \n",
       "3  5/16         105.0           75.0            14.0   7700          5   \n",
       "4   7/9          50.6           43.0             9.0   3800          7   \n",
       "\n",
       "   total_floors  is_first_floor  is_last_floor   num_of_rooms      flat_type  \n",
       "0             5               1              0  Трехкомнатная     улучшенная  \n",
       "1             5               0              0  Трехкомнатная     неизвестно  \n",
       "2            14               0              0  Однокомнатная  нестандартная  \n",
       "3            16               0              0  Трехкомнатная  нестандартная  \n",
       "4             9               0              0  Двухкомнатная     улучшенная  "
      ]
     },
     "execution_count": 934,
     "metadata": {},
     "output_type": "execute_result"
    }
   ],
   "source": [
    "data.head()"
   ]
  },
  {
   "cell_type": "code",
   "execution_count": 935,
   "id": "51cad7a3-cf2c-4fbd-90d2-55d8f96e209e",
   "metadata": {},
   "outputs": [
    {
     "data": {
      "text/plain": [
       "0"
      ]
     },
     "execution_count": 935,
     "metadata": {},
     "output_type": "execute_result"
    }
   ],
   "source": [
    "data['num_of_rooms'].isna().sum()"
   ]
  },
  {
   "cell_type": "code",
   "execution_count": 936,
   "id": "cedd8168-ffe2-41cf-95fc-cd20e4b1d7d2",
   "metadata": {},
   "outputs": [
    {
     "data": {
      "text/plain": [
       "0"
      ]
     },
     "execution_count": 936,
     "metadata": {},
     "output_type": "execute_result"
    }
   ],
   "source": [
    "data['flat_type'].isna().sum()"
   ]
  },
  {
   "cell_type": "code",
   "execution_count": 937,
   "id": "21e6e1fe-df2f-4b67-9e6d-c3e197a16a48",
   "metadata": {},
   "outputs": [
    {
     "data": {
      "text/plain": [
       "array(['Трехкомнатная', 'Однокомнатная', 'Двухкомнатная',\n",
       "       'Четырехкомнатная', 'Многокомнатная'], dtype=object)"
      ]
     },
     "execution_count": 937,
     "metadata": {},
     "output_type": "execute_result"
    }
   ],
   "source": [
    "data['num_of_rooms'].unique()"
   ]
  },
  {
   "cell_type": "code",
   "execution_count": 938,
   "id": "42dbdee5-093f-4334-abb1-cb28849c057b",
   "metadata": {},
   "outputs": [
    {
     "data": {
      "text/plain": [
       "array(['улучшенная', 'неизвестно', 'нестандартная', 'брежневка',\n",
       "       'хрущевка', 'хабаровский вариант', 'старой планировки',\n",
       "       'свердловский вариант', 'распашонка', 'гребенка', 'раздельная',\n",
       "       'сталинский вариант', 'малосемейка', 'смежная', 'евротрешка',\n",
       "       'полусмежная', 'евродвушка', 'трапеция', 'ленинградский проект'],\n",
       "      dtype=object)"
      ]
     },
     "execution_count": 938,
     "metadata": {},
     "output_type": "execute_result"
    }
   ],
   "source": [
    "data['flat_type'].unique()"
   ]
  },
  {
   "cell_type": "markdown",
   "id": "20c0ff1f-5bf9-4ff1-aeaa-ba9af9a3c893",
   "metadata": {},
   "source": [
    "### Улица"
   ]
  },
  {
   "cell_type": "code",
   "execution_count": 939,
   "id": "1ce66fad-de6e-472f-b2fb-e28a8c97c71c",
   "metadata": {},
   "outputs": [
    {
     "data": {
      "text/plain": [
       "(4, 15)"
      ]
     },
     "execution_count": 939,
     "metadata": {},
     "output_type": "execute_result"
    }
   ],
   "source": [
    "data[data['adress'] == ' '].shape"
   ]
  },
  {
   "cell_type": "code",
   "execution_count": 940,
   "id": "1c656172-75ad-4723-9dc0-bac56ef8dce4",
   "metadata": {},
   "outputs": [],
   "source": [
    "data = data[data['adress'] != ' ']"
   ]
  },
  {
   "cell_type": "code",
   "execution_count": 941,
   "id": "a95cdfbf-55bf-406f-9f3b-85d24b1a4dd9",
   "metadata": {},
   "outputs": [
    {
     "data": {
      "text/plain": [
       "366"
      ]
     },
     "execution_count": 941,
     "metadata": {},
     "output_type": "execute_result"
    }
   ],
   "source": [
    "# sorted(data['adress'].unique())\n",
    "data['adress'].nunique()"
   ]
  },
  {
   "cell_type": "code",
   "execution_count": 942,
   "id": "193b1795-a311-48e4-9e68-3b46db5bc404",
   "metadata": {},
   "outputs": [],
   "source": [
    "def get_street(row):\n",
    "    return row[: row.rfind(' ')]"
   ]
  },
  {
   "cell_type": "code",
   "execution_count": 943,
   "id": "d7997ead-ab5d-4f00-8cec-09f894938882",
   "metadata": {},
   "outputs": [
    {
     "data": {
      "text/plain": [
       "'ул Сталеваров'"
      ]
     },
     "execution_count": 943,
     "metadata": {},
     "output_type": "execute_result"
    }
   ],
   "source": [
    "get_street('ул Сталеваров 18/1',)"
   ]
  },
  {
   "cell_type": "code",
   "execution_count": 944,
   "id": "9e181b6c-e452-427a-926e-620f1d2637e6",
   "metadata": {},
   "outputs": [],
   "source": [
    "data['street'] = data['adress'].apply(get_street)"
   ]
  },
  {
   "cell_type": "code",
   "execution_count": 945,
   "id": "e4a318a1-d8d7-42b4-88cf-84686df00852",
   "metadata": {},
   "outputs": [
    {
     "data": {
      "text/plain": [
       "0"
      ]
     },
     "execution_count": 945,
     "metadata": {},
     "output_type": "execute_result"
    }
   ],
   "source": [
    "data['street'].isna().sum()"
   ]
  },
  {
   "cell_type": "code",
   "execution_count": 946,
   "id": "72382a33-a22d-4dd4-805b-fbc41c5840ec",
   "metadata": {},
   "outputs": [
    {
     "data": {
      "text/html": [
       "<div>\n",
       "<style scoped>\n",
       "    .dataframe tbody tr th:only-of-type {\n",
       "        vertical-align: middle;\n",
       "    }\n",
       "\n",
       "    .dataframe tbody tr th {\n",
       "        vertical-align: top;\n",
       "    }\n",
       "\n",
       "    .dataframe thead th {\n",
       "        text-align: right;\n",
       "    }\n",
       "</style>\n",
       "<table border=\"1\" class=\"dataframe\">\n",
       "  <thead>\n",
       "    <tr style=\"text-align: right;\">\n",
       "      <th></th>\n",
       "      <th>id</th>\n",
       "      <th>type</th>\n",
       "      <th>district</th>\n",
       "      <th>adress</th>\n",
       "      <th>floor</th>\n",
       "      <th>total_square</th>\n",
       "      <th>living_square</th>\n",
       "      <th>kitchen_square</th>\n",
       "      <th>price</th>\n",
       "      <th>floor_num</th>\n",
       "      <th>total_floors</th>\n",
       "      <th>is_first_floor</th>\n",
       "      <th>is_last_floor</th>\n",
       "      <th>num_of_rooms</th>\n",
       "      <th>flat_type</th>\n",
       "      <th>street</th>\n",
       "    </tr>\n",
       "  </thead>\n",
       "  <tbody>\n",
       "    <tr>\n",
       "      <th>0</th>\n",
       "      <td>1</td>\n",
       "      <td>Трехкомнатная улучшенная</td>\n",
       "      <td>Орджоникидзевский</td>\n",
       "      <td>Ленина пр-т 145/2</td>\n",
       "      <td>1/5</td>\n",
       "      <td>64.0</td>\n",
       "      <td>43.0</td>\n",
       "      <td>8.0</td>\n",
       "      <td>3750</td>\n",
       "      <td>1</td>\n",
       "      <td>5</td>\n",
       "      <td>1</td>\n",
       "      <td>0</td>\n",
       "      <td>Трехкомнатная</td>\n",
       "      <td>улучшенная</td>\n",
       "      <td>Ленина пр-т</td>\n",
       "    </tr>\n",
       "    <tr>\n",
       "      <th>1</th>\n",
       "      <td>2</td>\n",
       "      <td>Трехкомнатная</td>\n",
       "      <td>Ленинский</td>\n",
       "      <td>Октябрьская 12</td>\n",
       "      <td>2/5</td>\n",
       "      <td>87.2</td>\n",
       "      <td>60.0</td>\n",
       "      <td>9.0</td>\n",
       "      <td>8300</td>\n",
       "      <td>2</td>\n",
       "      <td>5</td>\n",
       "      <td>0</td>\n",
       "      <td>0</td>\n",
       "      <td>Трехкомнатная</td>\n",
       "      <td>неизвестно</td>\n",
       "      <td>Октябрьская</td>\n",
       "    </tr>\n",
       "    <tr>\n",
       "      <th>2</th>\n",
       "      <td>3</td>\n",
       "      <td>Однокомнатная нестандартная</td>\n",
       "      <td>Орджоникидзевский</td>\n",
       "      <td>Ленина пр-т 135</td>\n",
       "      <td>6/14</td>\n",
       "      <td>36.1</td>\n",
       "      <td>20.0</td>\n",
       "      <td>9.0</td>\n",
       "      <td>3330</td>\n",
       "      <td>6</td>\n",
       "      <td>14</td>\n",
       "      <td>0</td>\n",
       "      <td>0</td>\n",
       "      <td>Однокомнатная</td>\n",
       "      <td>нестандартная</td>\n",
       "      <td>Ленина пр-т</td>\n",
       "    </tr>\n",
       "    <tr>\n",
       "      <th>3</th>\n",
       "      <td>4</td>\n",
       "      <td>Трехкомнатная нестандартная</td>\n",
       "      <td>Орджоникидзевский</td>\n",
       "      <td>Ленина пр-т 129</td>\n",
       "      <td>5/16</td>\n",
       "      <td>105.0</td>\n",
       "      <td>75.0</td>\n",
       "      <td>14.0</td>\n",
       "      <td>7700</td>\n",
       "      <td>5</td>\n",
       "      <td>16</td>\n",
       "      <td>0</td>\n",
       "      <td>0</td>\n",
       "      <td>Трехкомнатная</td>\n",
       "      <td>нестандартная</td>\n",
       "      <td>Ленина пр-т</td>\n",
       "    </tr>\n",
       "    <tr>\n",
       "      <th>4</th>\n",
       "      <td>5</td>\n",
       "      <td>Двухкомнатная улучшенная</td>\n",
       "      <td>Орджоникидзевский</td>\n",
       "      <td>Сиреневый проезд 12</td>\n",
       "      <td>7/9</td>\n",
       "      <td>50.6</td>\n",
       "      <td>43.0</td>\n",
       "      <td>9.0</td>\n",
       "      <td>3800</td>\n",
       "      <td>7</td>\n",
       "      <td>9</td>\n",
       "      <td>0</td>\n",
       "      <td>0</td>\n",
       "      <td>Двухкомнатная</td>\n",
       "      <td>улучшенная</td>\n",
       "      <td>Сиреневый проезд</td>\n",
       "    </tr>\n",
       "  </tbody>\n",
       "</table>\n",
       "</div>"
      ],
      "text/plain": [
       "   id                         type           district               adress  \\\n",
       "0   1     Трехкомнатная улучшенная  Орджоникидзевский    Ленина пр-т 145/2   \n",
       "1   2               Трехкомнатная           Ленинский       Октябрьская 12   \n",
       "2   3  Однокомнатная нестандартная  Орджоникидзевский      Ленина пр-т 135   \n",
       "3   4  Трехкомнатная нестандартная  Орджоникидзевский      Ленина пр-т 129   \n",
       "4   5     Двухкомнатная улучшенная  Орджоникидзевский  Сиреневый проезд 12   \n",
       "\n",
       "  floor  total_square  living_square  kitchen_square  price  floor_num  \\\n",
       "0   1/5          64.0           43.0             8.0   3750          1   \n",
       "1   2/5          87.2           60.0             9.0   8300          2   \n",
       "2  6/14          36.1           20.0             9.0   3330          6   \n",
       "3  5/16         105.0           75.0            14.0   7700          5   \n",
       "4   7/9          50.6           43.0             9.0   3800          7   \n",
       "\n",
       "   total_floors  is_first_floor  is_last_floor   num_of_rooms      flat_type  \\\n",
       "0             5               1              0  Трехкомнатная     улучшенная   \n",
       "1             5               0              0  Трехкомнатная     неизвестно   \n",
       "2            14               0              0  Однокомнатная  нестандартная   \n",
       "3            16               0              0  Трехкомнатная  нестандартная   \n",
       "4             9               0              0  Двухкомнатная     улучшенная   \n",
       "\n",
       "             street  \n",
       "0       Ленина пр-т  \n",
       "1       Октябрьская  \n",
       "2       Ленина пр-т  \n",
       "3       Ленина пр-т  \n",
       "4  Сиреневый проезд  "
      ]
     },
     "execution_count": 946,
     "metadata": {},
     "output_type": "execute_result"
    }
   ],
   "source": [
    "data.head()"
   ]
  },
  {
   "cell_type": "code",
   "execution_count": 947,
   "id": "b5a401f5-ab21-4e86-b93f-bdc232500a20",
   "metadata": {},
   "outputs": [
    {
     "data": {
      "text/plain": [
       "115"
      ]
     },
     "execution_count": 947,
     "metadata": {},
     "output_type": "execute_result"
    }
   ],
   "source": [
    "data['street'].nunique()"
   ]
  },
  {
   "cell_type": "code",
   "execution_count": 948,
   "id": "c98e43d9-b767-4c89-be09-8763f2ba6786",
   "metadata": {},
   "outputs": [],
   "source": [
    "def get_street(row):\n",
    "    dirt = ['ул. ', 'ул.', 'ул ', 'пр.']\n",
    "    for dot in dirt:\n",
    "        if dot in row:\n",
    "            row = row.replace(dot, '')\n",
    "    if row.find('. ') == 0:\n",
    "        row = row[2:]\n",
    "    return row"
   ]
  },
  {
   "cell_type": "code",
   "execution_count": 949,
   "id": "055956c8-8293-4dec-ac5d-3c89f87c2967",
   "metadata": {},
   "outputs": [],
   "source": [
    "data['street'] = data['street'].apply(get_street)"
   ]
  },
  {
   "cell_type": "code",
   "execution_count": 950,
   "id": "a1244073-b281-41ae-a267-d828bc4a21a2",
   "metadata": {},
   "outputs": [],
   "source": [
    "streets_to_replace = {\n",
    "    'зеленый лог' : 'Зеленый Лог',\n",
    "    'Зеленый лог' : 'Зеленый Лог',\n",
    "    'Зеленый лог 30 к' : 'Зеленый Лог',\n",
    "    'Им. газеты \\\\\"Правда\\\\\"' : 'имени газеты Правда',\n",
    "    'Им. газеты \"Правда\"' : 'имени газеты Правда',\n",
    "    'проспект Сиреневый' : 'Сиреневый проезд',\n",
    "    'карла маркса' : 'Карла Маркса',\n",
    "    '50 лет Магнитки' : '50-летия Магнитки',\n",
    "    'Ленина пр-т 210' : 'Ленина пр-т',\n",
    "    'Советский переулок 12' : 'Советский переулок',\n",
    "    '26 Горнолыжная' : 'Горнолыжная'\n",
    "}"
   ]
  },
  {
   "cell_type": "code",
   "execution_count": 951,
   "id": "86d20ee6-ad4e-4630-8738-2d7b480edfcc",
   "metadata": {},
   "outputs": [],
   "source": [
    "data['street'].replace(streets_to_replace, inplace=True)"
   ]
  },
  {
   "cell_type": "code",
   "execution_count": 952,
   "id": "26433dc6-8dbe-458b-81af-6696c283b8ea",
   "metadata": {},
   "outputs": [
    {
     "data": {
      "text/plain": [
       "(427, 16)"
      ]
     },
     "execution_count": 952,
     "metadata": {},
     "output_type": "execute_result"
    }
   ],
   "source": [
    "data.shape"
   ]
  },
  {
   "cell_type": "code",
   "execution_count": 953,
   "id": "6745a678-b018-4668-9e66-1dcf4540048f",
   "metadata": {},
   "outputs": [
    {
     "data": {
      "text/plain": [
       "['133/1',\n",
       " '14',\n",
       " '50-летия Магнитки',\n",
       " '70 лет Октября',\n",
       " 'Анджиевского',\n",
       " 'Болотникова',\n",
       " 'Бориса Ручьева',\n",
       " 'Вознесенская',\n",
       " 'Вокзальная',\n",
       " 'Ворошилова',\n",
       " 'Габдрауфа Давлетова',\n",
       " 'Гагарина',\n",
       " 'Галиуллина',\n",
       " 'Герцена',\n",
       " 'Горнолыжная',\n",
       " 'Горького',\n",
       " 'Грязнова',\n",
       " 'Доменщиков',\n",
       " 'Жукова',\n",
       " 'Завенягина',\n",
       " 'Западное шоссе',\n",
       " 'Зеленый Лог',\n",
       " 'Индустриальная',\n",
       " 'Казакова',\n",
       " 'Калинина',\n",
       " 'Калмыкова',\n",
       " 'Карла Маркса',\n",
       " 'Коробова',\n",
       " 'Красноармейская',\n",
       " 'Кронштадтская',\n",
       " 'Куйбышева',\n",
       " 'Курортная',\n",
       " 'Ленина пр-т',\n",
       " 'Ленинградская',\n",
       " 'Лесная',\n",
       " 'Лесопарковая',\n",
       " 'Менделеева',\n",
       " 'Металлургов',\n",
       " 'Мичурина',\n",
       " 'Молодежная',\n",
       " 'Московская',\n",
       " 'Набережная',\n",
       " 'Николая Шишка',\n",
       " 'Октябрьская',\n",
       " 'Оранжерейная',\n",
       " 'Панькова',\n",
       " 'Парковая',\n",
       " 'Первомайская',\n",
       " 'Пионерская',\n",
       " 'Подольская',\n",
       " 'Помяловского',\n",
       " 'Пушкина',\n",
       " 'Раздольная',\n",
       " 'Ржевского переулок',\n",
       " 'Садовая',\n",
       " 'Салтыкова-Щедрина',\n",
       " 'Сиреневый проезд',\n",
       " 'Советская',\n",
       " 'Советский переулок',\n",
       " 'Советской Армии',\n",
       " 'Солнечный Берег',\n",
       " 'Сочинская',\n",
       " 'Сталеваров',\n",
       " 'Строителей',\n",
       " 'Суворова',\n",
       " 'Тагира Кусимова',\n",
       " 'Тарасенко',\n",
       " 'Тевосяна',\n",
       " 'Тимирязева',\n",
       " 'Титова',\n",
       " 'Торфяная',\n",
       " 'Трамвайная',\n",
       " 'Труда',\n",
       " 'Тургенева',\n",
       " 'Уральская',\n",
       " 'Фадеева',\n",
       " 'Центральная',\n",
       " 'Чайковского',\n",
       " 'Чапаева',\n",
       " 'Чекалина',\n",
       " 'Школьная',\n",
       " 'имени газеты Правда']"
      ]
     },
     "execution_count": 953,
     "metadata": {},
     "output_type": "execute_result"
    }
   ],
   "source": [
    "sorted(data['street'].unique())"
   ]
  },
  {
   "cell_type": "code",
   "execution_count": 954,
   "id": "683fdcba-aed8-4d56-9224-e6c5b6ceeb1a",
   "metadata": {},
   "outputs": [
    {
     "data": {
      "text/plain": [
       "82"
      ]
     },
     "execution_count": 954,
     "metadata": {},
     "output_type": "execute_result"
    }
   ],
   "source": [
    "data['street'].nunique()"
   ]
  },
  {
   "cell_type": "markdown",
   "id": "cc49fd9f-882a-4007-97af-90e72c02f015",
   "metadata": {},
   "source": [
    "### Район"
   ]
  },
  {
   "cell_type": "markdown",
   "id": "88ae5b92-9b31-418f-b66a-6e8dfe267ec7",
   "metadata": {},
   "source": [
    "Посмотрим количество пропусков в столбце с данными о районе."
   ]
  },
  {
   "cell_type": "code",
   "execution_count": 955,
   "id": "e3b97046-e8e6-48ff-acc6-2953748038a6",
   "metadata": {},
   "outputs": [
    {
     "data": {
      "text/plain": [
       "176"
      ]
     },
     "execution_count": 955,
     "metadata": {},
     "output_type": "execute_result"
    }
   ],
   "source": [
    "data['district'].isna().sum()"
   ]
  },
  {
   "cell_type": "markdown",
   "id": "46109abb-282b-4a5a-96b2-9459a3be2d56",
   "metadata": {},
   "source": [
    "Заполним пропуски значением 'неизвестно'."
   ]
  },
  {
   "cell_type": "code",
   "execution_count": 956,
   "id": "b2502e21-0283-45a1-9cc3-c086d710234e",
   "metadata": {},
   "outputs": [],
   "source": [
    "data['district'].fillna('неизвестно', inplace=True)"
   ]
  },
  {
   "cell_type": "code",
   "execution_count": 957,
   "id": "10afa532-215c-4c94-92b8-179a16c0ffbc",
   "metadata": {},
   "outputs": [
    {
     "data": {
      "text/plain": [
       "0"
      ]
     },
     "execution_count": 957,
     "metadata": {},
     "output_type": "execute_result"
    }
   ],
   "source": [
    "data['district'].isna().sum()"
   ]
  },
  {
   "cell_type": "code",
   "execution_count": 958,
   "id": "7186b37e-6ac8-492a-acd0-1c860a78cf7a",
   "metadata": {},
   "outputs": [
    {
     "data": {
      "text/plain": [
       "array(['Орджоникидзевский', 'Ленинский', 'Правобережный', 'неизвестно',\n",
       "       'Орджоникидзевский (левый берег)', 'ленинский',\n",
       "       'Орджоникидзевский район', 'Орджо', 'правобережный'], dtype=object)"
      ]
     },
     "execution_count": 958,
     "metadata": {},
     "output_type": "execute_result"
    }
   ],
   "source": [
    "data['district'].unique()"
   ]
  },
  {
   "cell_type": "markdown",
   "id": "6edc7abf-c50c-4840-a9e6-44a573bb1807",
   "metadata": {},
   "source": [
    "## Построение модели"
   ]
  },
  {
   "cell_type": "markdown",
   "id": "dfa3ade1-a6d2-4a75-86f5-83dc218c65de",
   "metadata": {},
   "source": [
    "### Подготовка обучающей и валидационной выборки."
   ]
  },
  {
   "cell_type": "markdown",
   "id": "cfb0fdcb-1e21-4dd1-a8d1-48e577a85ec4",
   "metadata": {},
   "source": [
    "Выделим характеристики, которые будем использовать для обучения модели."
   ]
  },
  {
   "cell_type": "markdown",
   "id": "cafad9e8-e4cc-4d74-a2bf-13c1edf64416",
   "metadata": {},
   "source": [
    "|столбец|комментарий|\n",
    "|:--|:--|\n",
    "|id|не влияет на цену квартиры|\n",
    "|type|вместо него будем использовать более информативные столбцы, сгенерированные на основе данных из этого столбца|\n",
    "|**district**|может оказывать влияние|\n",
    "|adress|вместо него будем использовать более информативные столбцы, сгенерированные на основе данных из этого столбца|\n",
    "|floor|вместо него будем использовать более информативные столбцы, сгенерированные на основе данных из этого столбца|\n",
    "|**total_square**|может оказывать влияние|\n",
    "|**living_square**|может оказывать влияние|\n",
    "|**kitchen_square**|может оказывать влияние|\n",
    "|**price**|целевой признак|\n",
    "|**floor_num**|может оказывать влияние|\n",
    "|**total_floors**|может оказывать влияние|\n",
    "|**is_first_floor**|может оказывать влияние|\n",
    "|**is_last_floor**|может оказывать влияние|\n",
    "|**num_of_rooms**|может оказывать влияние|\n",
    "|**flat_type**|может оказывать влияние|\n",
    "|**street**|может оказывать влияние|"
   ]
  },
  {
   "cell_type": "code",
   "execution_count": 959,
   "id": "e81c6d16-6904-4a4b-99f3-bd853424d6dd",
   "metadata": {},
   "outputs": [],
   "source": [
    "features = data.drop(['id', 'type', 'adress', 'floor', 'price'], axis=1)"
   ]
  },
  {
   "cell_type": "code",
   "execution_count": 960,
   "id": "7770b910-5756-4a25-aacf-37da7e658186",
   "metadata": {},
   "outputs": [
    {
     "data": {
      "text/html": [
       "<div>\n",
       "<style scoped>\n",
       "    .dataframe tbody tr th:only-of-type {\n",
       "        vertical-align: middle;\n",
       "    }\n",
       "\n",
       "    .dataframe tbody tr th {\n",
       "        vertical-align: top;\n",
       "    }\n",
       "\n",
       "    .dataframe thead th {\n",
       "        text-align: right;\n",
       "    }\n",
       "</style>\n",
       "<table border=\"1\" class=\"dataframe\">\n",
       "  <thead>\n",
       "    <tr style=\"text-align: right;\">\n",
       "      <th></th>\n",
       "      <th>district</th>\n",
       "      <th>total_square</th>\n",
       "      <th>living_square</th>\n",
       "      <th>kitchen_square</th>\n",
       "      <th>floor_num</th>\n",
       "      <th>total_floors</th>\n",
       "      <th>is_first_floor</th>\n",
       "      <th>is_last_floor</th>\n",
       "      <th>num_of_rooms</th>\n",
       "      <th>flat_type</th>\n",
       "      <th>street</th>\n",
       "    </tr>\n",
       "  </thead>\n",
       "  <tbody>\n",
       "    <tr>\n",
       "      <th>0</th>\n",
       "      <td>Орджоникидзевский</td>\n",
       "      <td>64.0</td>\n",
       "      <td>43.0</td>\n",
       "      <td>8.0</td>\n",
       "      <td>1</td>\n",
       "      <td>5</td>\n",
       "      <td>1</td>\n",
       "      <td>0</td>\n",
       "      <td>Трехкомнатная</td>\n",
       "      <td>улучшенная</td>\n",
       "      <td>Ленина пр-т</td>\n",
       "    </tr>\n",
       "    <tr>\n",
       "      <th>1</th>\n",
       "      <td>Ленинский</td>\n",
       "      <td>87.2</td>\n",
       "      <td>60.0</td>\n",
       "      <td>9.0</td>\n",
       "      <td>2</td>\n",
       "      <td>5</td>\n",
       "      <td>0</td>\n",
       "      <td>0</td>\n",
       "      <td>Трехкомнатная</td>\n",
       "      <td>неизвестно</td>\n",
       "      <td>Октябрьская</td>\n",
       "    </tr>\n",
       "    <tr>\n",
       "      <th>2</th>\n",
       "      <td>Орджоникидзевский</td>\n",
       "      <td>36.1</td>\n",
       "      <td>20.0</td>\n",
       "      <td>9.0</td>\n",
       "      <td>6</td>\n",
       "      <td>14</td>\n",
       "      <td>0</td>\n",
       "      <td>0</td>\n",
       "      <td>Однокомнатная</td>\n",
       "      <td>нестандартная</td>\n",
       "      <td>Ленина пр-т</td>\n",
       "    </tr>\n",
       "    <tr>\n",
       "      <th>3</th>\n",
       "      <td>Орджоникидзевский</td>\n",
       "      <td>105.0</td>\n",
       "      <td>75.0</td>\n",
       "      <td>14.0</td>\n",
       "      <td>5</td>\n",
       "      <td>16</td>\n",
       "      <td>0</td>\n",
       "      <td>0</td>\n",
       "      <td>Трехкомнатная</td>\n",
       "      <td>нестандартная</td>\n",
       "      <td>Ленина пр-т</td>\n",
       "    </tr>\n",
       "    <tr>\n",
       "      <th>4</th>\n",
       "      <td>Орджоникидзевский</td>\n",
       "      <td>50.6</td>\n",
       "      <td>43.0</td>\n",
       "      <td>9.0</td>\n",
       "      <td>7</td>\n",
       "      <td>9</td>\n",
       "      <td>0</td>\n",
       "      <td>0</td>\n",
       "      <td>Двухкомнатная</td>\n",
       "      <td>улучшенная</td>\n",
       "      <td>Сиреневый проезд</td>\n",
       "    </tr>\n",
       "  </tbody>\n",
       "</table>\n",
       "</div>"
      ],
      "text/plain": [
       "            district  total_square  living_square  kitchen_square  floor_num  \\\n",
       "0  Орджоникидзевский          64.0           43.0             8.0          1   \n",
       "1          Ленинский          87.2           60.0             9.0          2   \n",
       "2  Орджоникидзевский          36.1           20.0             9.0          6   \n",
       "3  Орджоникидзевский         105.0           75.0            14.0          5   \n",
       "4  Орджоникидзевский          50.6           43.0             9.0          7   \n",
       "\n",
       "   total_floors  is_first_floor  is_last_floor   num_of_rooms      flat_type  \\\n",
       "0             5               1              0  Трехкомнатная     улучшенная   \n",
       "1             5               0              0  Трехкомнатная     неизвестно   \n",
       "2            14               0              0  Однокомнатная  нестандартная   \n",
       "3            16               0              0  Трехкомнатная  нестандартная   \n",
       "4             9               0              0  Двухкомнатная     улучшенная   \n",
       "\n",
       "             street  \n",
       "0       Ленина пр-т  \n",
       "1       Октябрьская  \n",
       "2       Ленина пр-т  \n",
       "3       Ленина пр-т  \n",
       "4  Сиреневый проезд  "
      ]
     },
     "execution_count": 960,
     "metadata": {},
     "output_type": "execute_result"
    }
   ],
   "source": [
    "features.head()"
   ]
  },
  {
   "cell_type": "code",
   "execution_count": 961,
   "id": "96754b19-a9e2-4ce4-8d12-306111b677b6",
   "metadata": {},
   "outputs": [],
   "source": [
    "target = data['price']"
   ]
  },
  {
   "cell_type": "code",
   "execution_count": 962,
   "id": "f98ddcff-d8e3-47c0-b695-c262cdd7cfe4",
   "metadata": {},
   "outputs": [
    {
     "data": {
      "text/plain": [
       "0    3750\n",
       "1    8300\n",
       "2    3330\n",
       "3    7700\n",
       "4    3800\n",
       "Name: price, dtype: int64"
      ]
     },
     "execution_count": 962,
     "metadata": {},
     "output_type": "execute_result"
    }
   ],
   "source": [
    "target.head()"
   ]
  },
  {
   "cell_type": "code",
   "execution_count": 963,
   "id": "a434e4ea-d4af-4fa6-938c-4218f583092c",
   "metadata": {},
   "outputs": [
    {
     "data": {
      "text/plain": [
       "district          0\n",
       "total_square      0\n",
       "living_square     0\n",
       "kitchen_square    0\n",
       "floor_num         0\n",
       "total_floors      0\n",
       "is_first_floor    0\n",
       "is_last_floor     0\n",
       "num_of_rooms      0\n",
       "flat_type         0\n",
       "street            0\n",
       "dtype: int64"
      ]
     },
     "execution_count": 963,
     "metadata": {},
     "output_type": "execute_result"
    }
   ],
   "source": [
    "features.isna().sum()"
   ]
  },
  {
   "cell_type": "markdown",
   "id": "3fa0ac85-be71-401f-96a5-7f1c5285beab",
   "metadata": {},
   "source": [
    "Разобьем выборки на обучающую и валидационную в отношении 4 : 1."
   ]
  },
  {
   "cell_type": "code",
   "execution_count": 964,
   "id": "27f50d5d-e8e4-461e-8367-5cbcf2ae210d",
   "metadata": {},
   "outputs": [],
   "source": [
    "features_train, features_val, target_train, target_val = train_test_split(\n",
    "    features,\n",
    "    target,\n",
    "    test_size=0.2,\n",
    "    random_state=RANDOM_STATE\n",
    ")"
   ]
  },
  {
   "cell_type": "code",
   "execution_count": 965,
   "id": "32096860-36ed-4ea9-905f-ab9db20151b4",
   "metadata": {},
   "outputs": [
    {
     "data": {
      "text/plain": [
       "district          0\n",
       "total_square      0\n",
       "living_square     0\n",
       "kitchen_square    0\n",
       "floor_num         0\n",
       "total_floors      0\n",
       "is_first_floor    0\n",
       "is_last_floor     0\n",
       "num_of_rooms      0\n",
       "flat_type         0\n",
       "street            0\n",
       "dtype: int64"
      ]
     },
     "execution_count": 965,
     "metadata": {},
     "output_type": "execute_result"
    }
   ],
   "source": [
    "features_train.isna().sum()"
   ]
  },
  {
   "cell_type": "markdown",
   "id": "b574cd27-785f-47a3-a571-c8479dc542be",
   "metadata": {},
   "source": [
    "### Предварительна обработка данных"
   ]
  },
  {
   "cell_type": "markdown",
   "id": "a9926ee8-c2c2-44b6-8f7e-cca5108dc115",
   "metadata": {},
   "source": [
    "Выделим категориальные и числовые признаки."
   ]
  },
  {
   "cell_type": "code",
   "execution_count": 966,
   "id": "8cce391e-4266-4cff-a499-0abcf5c8f7a3",
   "metadata": {},
   "outputs": [],
   "source": [
    "numeric = ['total_square', 'living_square', 'kitchen_square',\n",
    "       'floor_num', 'total_floors', 'is_first_floor', 'is_last_floor']\n",
    "categorical = ['district', 'num_of_rooms', 'flat_type', 'street']"
   ]
  },
  {
   "cell_type": "markdown",
   "id": "53a8c0f0-889b-46b7-94e4-3c35457c2167",
   "metadata": {},
   "source": [
    "Количество комнат попадает в категориальные признаки, потому что содержит значение «многоквартирная», которое нельзя заменить конкретным числовым значением."
   ]
  },
  {
   "cell_type": "markdown",
   "id": "302f19a7-b817-4b7d-a461-82b4dbdbd07c",
   "metadata": {},
   "source": [
    "Преобразуем категориальные признаки в числа с помощью порядкового кодирования. "
   ]
  },
  {
   "cell_type": "code",
   "execution_count": 967,
   "id": "92510dce-f679-4c1e-bef5-7b8b0df5849f",
   "metadata": {},
   "outputs": [
    {
     "data": {
      "text/plain": [
       "0"
      ]
     },
     "execution_count": 967,
     "metadata": {},
     "output_type": "execute_result"
    }
   ],
   "source": [
    "features_train['district'].isna().sum()"
   ]
  },
  {
   "cell_type": "code",
   "execution_count": 968,
   "id": "62ec7636-6eb8-4475-bcd0-d9e950cf0ec7",
   "metadata": {},
   "outputs": [],
   "source": [
    "oe = OrdinalEncoder(\n",
    "    handle_unknown='use_encoded_value',\n",
    "    unknown_value = -1\n",
    ")"
   ]
  },
  {
   "cell_type": "code",
   "execution_count": 969,
   "id": "a9ff2679-8e52-4c12-957d-b44a4afdb926",
   "metadata": {},
   "outputs": [],
   "source": [
    "cat_features_train = pd.DataFrame(oe.fit_transform(features_train[categorical]))\n",
    "cat_features_train.columns = categorical"
   ]
  },
  {
   "cell_type": "code",
   "execution_count": 970,
   "id": "715af898-efb7-4255-8847-e439c7d5e620",
   "metadata": {},
   "outputs": [
    {
     "data": {
      "text/html": [
       "<div>\n",
       "<style scoped>\n",
       "    .dataframe tbody tr th:only-of-type {\n",
       "        vertical-align: middle;\n",
       "    }\n",
       "\n",
       "    .dataframe tbody tr th {\n",
       "        vertical-align: top;\n",
       "    }\n",
       "\n",
       "    .dataframe thead th {\n",
       "        text-align: right;\n",
       "    }\n",
       "</style>\n",
       "<table border=\"1\" class=\"dataframe\">\n",
       "  <thead>\n",
       "    <tr style=\"text-align: right;\">\n",
       "      <th></th>\n",
       "      <th>district</th>\n",
       "      <th>num_of_rooms</th>\n",
       "      <th>flat_type</th>\n",
       "      <th>street</th>\n",
       "    </tr>\n",
       "  </thead>\n",
       "  <tbody>\n",
       "    <tr>\n",
       "      <th>0</th>\n",
       "      <td>2.0</td>\n",
       "      <td>2.0</td>\n",
       "      <td>7.0</td>\n",
       "      <td>29.0</td>\n",
       "    </tr>\n",
       "    <tr>\n",
       "      <th>1</th>\n",
       "      <td>2.0</td>\n",
       "      <td>3.0</td>\n",
       "      <td>15.0</td>\n",
       "      <td>68.0</td>\n",
       "    </tr>\n",
       "    <tr>\n",
       "      <th>2</th>\n",
       "      <td>2.0</td>\n",
       "      <td>2.0</td>\n",
       "      <td>5.0</td>\n",
       "      <td>5.0</td>\n",
       "    </tr>\n",
       "    <tr>\n",
       "      <th>3</th>\n",
       "      <td>7.0</td>\n",
       "      <td>0.0</td>\n",
       "      <td>6.0</td>\n",
       "      <td>0.0</td>\n",
       "    </tr>\n",
       "    <tr>\n",
       "      <th>4</th>\n",
       "      <td>2.0</td>\n",
       "      <td>3.0</td>\n",
       "      <td>3.0</td>\n",
       "      <td>18.0</td>\n",
       "    </tr>\n",
       "    <tr>\n",
       "      <th>...</th>\n",
       "      <td>...</td>\n",
       "      <td>...</td>\n",
       "      <td>...</td>\n",
       "      <td>...</td>\n",
       "    </tr>\n",
       "    <tr>\n",
       "      <th>336</th>\n",
       "      <td>5.0</td>\n",
       "      <td>0.0</td>\n",
       "      <td>6.0</td>\n",
       "      <td>23.0</td>\n",
       "    </tr>\n",
       "    <tr>\n",
       "      <th>337</th>\n",
       "      <td>2.0</td>\n",
       "      <td>2.0</td>\n",
       "      <td>6.0</td>\n",
       "      <td>23.0</td>\n",
       "    </tr>\n",
       "    <tr>\n",
       "      <th>338</th>\n",
       "      <td>5.0</td>\n",
       "      <td>2.0</td>\n",
       "      <td>6.0</td>\n",
       "      <td>29.0</td>\n",
       "    </tr>\n",
       "    <tr>\n",
       "      <th>339</th>\n",
       "      <td>0.0</td>\n",
       "      <td>2.0</td>\n",
       "      <td>13.0</td>\n",
       "      <td>39.0</td>\n",
       "    </tr>\n",
       "    <tr>\n",
       "      <th>340</th>\n",
       "      <td>2.0</td>\n",
       "      <td>3.0</td>\n",
       "      <td>6.0</td>\n",
       "      <td>52.0</td>\n",
       "    </tr>\n",
       "  </tbody>\n",
       "</table>\n",
       "<p>341 rows × 4 columns</p>\n",
       "</div>"
      ],
      "text/plain": [
       "     district  num_of_rooms  flat_type  street\n",
       "0         2.0           2.0        7.0    29.0\n",
       "1         2.0           3.0       15.0    68.0\n",
       "2         2.0           2.0        5.0     5.0\n",
       "3         7.0           0.0        6.0     0.0\n",
       "4         2.0           3.0        3.0    18.0\n",
       "..        ...           ...        ...     ...\n",
       "336       5.0           0.0        6.0    23.0\n",
       "337       2.0           2.0        6.0    23.0\n",
       "338       5.0           2.0        6.0    29.0\n",
       "339       0.0           2.0       13.0    39.0\n",
       "340       2.0           3.0        6.0    52.0\n",
       "\n",
       "[341 rows x 4 columns]"
      ]
     },
     "execution_count": 970,
     "metadata": {},
     "output_type": "execute_result"
    }
   ],
   "source": [
    "cat_features_train"
   ]
  },
  {
   "cell_type": "code",
   "execution_count": 971,
   "id": "0e23de59-894a-45c4-b2fc-ca731683d6c4",
   "metadata": {},
   "outputs": [
    {
     "data": {
      "text/html": [
       "<div>\n",
       "<style scoped>\n",
       "    .dataframe tbody tr th:only-of-type {\n",
       "        vertical-align: middle;\n",
       "    }\n",
       "\n",
       "    .dataframe tbody tr th {\n",
       "        vertical-align: top;\n",
       "    }\n",
       "\n",
       "    .dataframe thead th {\n",
       "        text-align: right;\n",
       "    }\n",
       "</style>\n",
       "<table border=\"1\" class=\"dataframe\">\n",
       "  <thead>\n",
       "    <tr style=\"text-align: right;\">\n",
       "      <th></th>\n",
       "      <th>district</th>\n",
       "      <th>num_of_rooms</th>\n",
       "      <th>flat_type</th>\n",
       "      <th>street</th>\n",
       "      <th>total_square</th>\n",
       "      <th>living_square</th>\n",
       "      <th>kitchen_square</th>\n",
       "      <th>floor_num</th>\n",
       "      <th>total_floors</th>\n",
       "      <th>is_first_floor</th>\n",
       "      <th>is_last_floor</th>\n",
       "    </tr>\n",
       "  </thead>\n",
       "  <tbody>\n",
       "    <tr>\n",
       "      <th>0</th>\n",
       "      <td>2.0</td>\n",
       "      <td>2.0</td>\n",
       "      <td>7.0</td>\n",
       "      <td>29.0</td>\n",
       "      <td>40.3</td>\n",
       "      <td>20.0</td>\n",
       "      <td>9.0</td>\n",
       "      <td>10</td>\n",
       "      <td>10</td>\n",
       "      <td>0</td>\n",
       "      <td>1</td>\n",
       "    </tr>\n",
       "    <tr>\n",
       "      <th>1</th>\n",
       "      <td>2.0</td>\n",
       "      <td>3.0</td>\n",
       "      <td>15.0</td>\n",
       "      <td>68.0</td>\n",
       "      <td>65.0</td>\n",
       "      <td>43.0</td>\n",
       "      <td>9.0</td>\n",
       "      <td>6</td>\n",
       "      <td>9</td>\n",
       "      <td>0</td>\n",
       "      <td>0</td>\n",
       "    </tr>\n",
       "    <tr>\n",
       "      <th>2</th>\n",
       "      <td>2.0</td>\n",
       "      <td>2.0</td>\n",
       "      <td>5.0</td>\n",
       "      <td>5.0</td>\n",
       "      <td>24.0</td>\n",
       "      <td>14.0</td>\n",
       "      <td>5.0</td>\n",
       "      <td>2</td>\n",
       "      <td>9</td>\n",
       "      <td>0</td>\n",
       "      <td>0</td>\n",
       "    </tr>\n",
       "    <tr>\n",
       "      <th>3</th>\n",
       "      <td>7.0</td>\n",
       "      <td>0.0</td>\n",
       "      <td>6.0</td>\n",
       "      <td>0.0</td>\n",
       "      <td>100.0</td>\n",
       "      <td>65.0</td>\n",
       "      <td>25.0</td>\n",
       "      <td>-1</td>\n",
       "      <td>1</td>\n",
       "      <td>0</td>\n",
       "      <td>0</td>\n",
       "    </tr>\n",
       "    <tr>\n",
       "      <th>4</th>\n",
       "      <td>2.0</td>\n",
       "      <td>3.0</td>\n",
       "      <td>3.0</td>\n",
       "      <td>18.0</td>\n",
       "      <td>83.0</td>\n",
       "      <td>52.0</td>\n",
       "      <td>20.0</td>\n",
       "      <td>1</td>\n",
       "      <td>10</td>\n",
       "      <td>1</td>\n",
       "      <td>0</td>\n",
       "    </tr>\n",
       "    <tr>\n",
       "      <th>...</th>\n",
       "      <td>...</td>\n",
       "      <td>...</td>\n",
       "      <td>...</td>\n",
       "      <td>...</td>\n",
       "      <td>...</td>\n",
       "      <td>...</td>\n",
       "      <td>...</td>\n",
       "      <td>...</td>\n",
       "      <td>...</td>\n",
       "      <td>...</td>\n",
       "      <td>...</td>\n",
       "    </tr>\n",
       "    <tr>\n",
       "      <th>336</th>\n",
       "      <td>5.0</td>\n",
       "      <td>0.0</td>\n",
       "      <td>6.0</td>\n",
       "      <td>23.0</td>\n",
       "      <td>46.0</td>\n",
       "      <td>30.0</td>\n",
       "      <td>6.0</td>\n",
       "      <td>4</td>\n",
       "      <td>5</td>\n",
       "      <td>0</td>\n",
       "      <td>0</td>\n",
       "    </tr>\n",
       "    <tr>\n",
       "      <th>337</th>\n",
       "      <td>2.0</td>\n",
       "      <td>2.0</td>\n",
       "      <td>6.0</td>\n",
       "      <td>23.0</td>\n",
       "      <td>53.0</td>\n",
       "      <td>30.0</td>\n",
       "      <td>14.0</td>\n",
       "      <td>13</td>\n",
       "      <td>16</td>\n",
       "      <td>0</td>\n",
       "      <td>0</td>\n",
       "    </tr>\n",
       "    <tr>\n",
       "      <th>338</th>\n",
       "      <td>5.0</td>\n",
       "      <td>2.0</td>\n",
       "      <td>6.0</td>\n",
       "      <td>29.0</td>\n",
       "      <td>26.0</td>\n",
       "      <td>14.0</td>\n",
       "      <td>7.0</td>\n",
       "      <td>5</td>\n",
       "      <td>16</td>\n",
       "      <td>0</td>\n",
       "      <td>0</td>\n",
       "    </tr>\n",
       "    <tr>\n",
       "      <th>339</th>\n",
       "      <td>0.0</td>\n",
       "      <td>2.0</td>\n",
       "      <td>13.0</td>\n",
       "      <td>39.0</td>\n",
       "      <td>33.0</td>\n",
       "      <td>20.0</td>\n",
       "      <td>7.0</td>\n",
       "      <td>3</td>\n",
       "      <td>5</td>\n",
       "      <td>0</td>\n",
       "      <td>0</td>\n",
       "    </tr>\n",
       "    <tr>\n",
       "      <th>340</th>\n",
       "      <td>2.0</td>\n",
       "      <td>3.0</td>\n",
       "      <td>6.0</td>\n",
       "      <td>52.0</td>\n",
       "      <td>68.0</td>\n",
       "      <td>42.0</td>\n",
       "      <td>9.0</td>\n",
       "      <td>5</td>\n",
       "      <td>9</td>\n",
       "      <td>0</td>\n",
       "      <td>0</td>\n",
       "    </tr>\n",
       "  </tbody>\n",
       "</table>\n",
       "<p>341 rows × 11 columns</p>\n",
       "</div>"
      ],
      "text/plain": [
       "     district  num_of_rooms  flat_type  street  total_square  living_square  \\\n",
       "0         2.0           2.0        7.0    29.0          40.3           20.0   \n",
       "1         2.0           3.0       15.0    68.0          65.0           43.0   \n",
       "2         2.0           2.0        5.0     5.0          24.0           14.0   \n",
       "3         7.0           0.0        6.0     0.0         100.0           65.0   \n",
       "4         2.0           3.0        3.0    18.0          83.0           52.0   \n",
       "..        ...           ...        ...     ...           ...            ...   \n",
       "336       5.0           0.0        6.0    23.0          46.0           30.0   \n",
       "337       2.0           2.0        6.0    23.0          53.0           30.0   \n",
       "338       5.0           2.0        6.0    29.0          26.0           14.0   \n",
       "339       0.0           2.0       13.0    39.0          33.0           20.0   \n",
       "340       2.0           3.0        6.0    52.0          68.0           42.0   \n",
       "\n",
       "     kitchen_square  floor_num  total_floors  is_first_floor  is_last_floor  \n",
       "0               9.0         10            10               0              1  \n",
       "1               9.0          6             9               0              0  \n",
       "2               5.0          2             9               0              0  \n",
       "3              25.0         -1             1               0              0  \n",
       "4              20.0          1            10               1              0  \n",
       "..              ...        ...           ...             ...            ...  \n",
       "336             6.0          4             5               0              0  \n",
       "337            14.0         13            16               0              0  \n",
       "338             7.0          5            16               0              0  \n",
       "339             7.0          3             5               0              0  \n",
       "340             9.0          5             9               0              0  \n",
       "\n",
       "[341 rows x 11 columns]"
      ]
     },
     "execution_count": 971,
     "metadata": {},
     "output_type": "execute_result"
    }
   ],
   "source": [
    "features_train_oe =pd.merge(\n",
    "    cat_features_train, \n",
    "    features_train[numeric].reset_index(drop=True), \n",
    "    left_index=True, \n",
    "    right_index=True)\n",
    "features_train_oe"
   ]
  },
  {
   "cell_type": "code",
   "execution_count": 972,
   "id": "b2145059-731a-4888-9247-76cc04f74cdc",
   "metadata": {},
   "outputs": [],
   "source": [
    "target_train = target_train.reset_index(drop=True)"
   ]
  },
  {
   "cell_type": "code",
   "execution_count": 973,
   "id": "cc8d013c-53a6-4a75-be08-5a1ae51c250d",
   "metadata": {},
   "outputs": [],
   "source": [
    "cat_features_val = pd.DataFrame(oe.transform(features_val[categorical]))\n",
    "cat_features_val.columns = categorical"
   ]
  },
  {
   "cell_type": "code",
   "execution_count": 974,
   "id": "7e534800-cf9b-40ea-8af0-f8c0a58c259f",
   "metadata": {},
   "outputs": [
    {
     "data": {
      "text/html": [
       "<div>\n",
       "<style scoped>\n",
       "    .dataframe tbody tr th:only-of-type {\n",
       "        vertical-align: middle;\n",
       "    }\n",
       "\n",
       "    .dataframe tbody tr th {\n",
       "        vertical-align: top;\n",
       "    }\n",
       "\n",
       "    .dataframe thead th {\n",
       "        text-align: right;\n",
       "    }\n",
       "</style>\n",
       "<table border=\"1\" class=\"dataframe\">\n",
       "  <thead>\n",
       "    <tr style=\"text-align: right;\">\n",
       "      <th></th>\n",
       "      <th>district</th>\n",
       "      <th>num_of_rooms</th>\n",
       "      <th>flat_type</th>\n",
       "      <th>street</th>\n",
       "      <th>total_square</th>\n",
       "      <th>living_square</th>\n",
       "      <th>kitchen_square</th>\n",
       "      <th>floor_num</th>\n",
       "      <th>total_floors</th>\n",
       "      <th>is_first_floor</th>\n",
       "      <th>is_last_floor</th>\n",
       "    </tr>\n",
       "  </thead>\n",
       "  <tbody>\n",
       "    <tr>\n",
       "      <th>0</th>\n",
       "      <td>2.0</td>\n",
       "      <td>0.0</td>\n",
       "      <td>7.0</td>\n",
       "      <td>52.0</td>\n",
       "      <td>56.1</td>\n",
       "      <td>35.0</td>\n",
       "      <td>9.0</td>\n",
       "      <td>7</td>\n",
       "      <td>9</td>\n",
       "      <td>0</td>\n",
       "      <td>0</td>\n",
       "    </tr>\n",
       "    <tr>\n",
       "      <th>1</th>\n",
       "      <td>2.0</td>\n",
       "      <td>3.0</td>\n",
       "      <td>6.0</td>\n",
       "      <td>47.0</td>\n",
       "      <td>67.0</td>\n",
       "      <td>45.0</td>\n",
       "      <td>8.0</td>\n",
       "      <td>2</td>\n",
       "      <td>5</td>\n",
       "      <td>0</td>\n",
       "      <td>0</td>\n",
       "    </tr>\n",
       "    <tr>\n",
       "      <th>2</th>\n",
       "      <td>7.0</td>\n",
       "      <td>0.0</td>\n",
       "      <td>6.0</td>\n",
       "      <td>52.0</td>\n",
       "      <td>53.0</td>\n",
       "      <td>40.0</td>\n",
       "      <td>9.0</td>\n",
       "      <td>9</td>\n",
       "      <td>9</td>\n",
       "      <td>0</td>\n",
       "      <td>1</td>\n",
       "    </tr>\n",
       "    <tr>\n",
       "      <th>3</th>\n",
       "      <td>7.0</td>\n",
       "      <td>4.0</td>\n",
       "      <td>6.0</td>\n",
       "      <td>53.0</td>\n",
       "      <td>61.0</td>\n",
       "      <td>45.0</td>\n",
       "      <td>7.0</td>\n",
       "      <td>4</td>\n",
       "      <td>5</td>\n",
       "      <td>0</td>\n",
       "      <td>0</td>\n",
       "    </tr>\n",
       "    <tr>\n",
       "      <th>4</th>\n",
       "      <td>0.0</td>\n",
       "      <td>2.0</td>\n",
       "      <td>6.0</td>\n",
       "      <td>41.0</td>\n",
       "      <td>26.0</td>\n",
       "      <td>13.0</td>\n",
       "      <td>7.0</td>\n",
       "      <td>1</td>\n",
       "      <td>3</td>\n",
       "      <td>1</td>\n",
       "      <td>0</td>\n",
       "    </tr>\n",
       "    <tr>\n",
       "      <th>...</th>\n",
       "      <td>...</td>\n",
       "      <td>...</td>\n",
       "      <td>...</td>\n",
       "      <td>...</td>\n",
       "      <td>...</td>\n",
       "      <td>...</td>\n",
       "      <td>...</td>\n",
       "      <td>...</td>\n",
       "      <td>...</td>\n",
       "      <td>...</td>\n",
       "      <td>...</td>\n",
       "    </tr>\n",
       "    <tr>\n",
       "      <th>81</th>\n",
       "      <td>7.0</td>\n",
       "      <td>2.0</td>\n",
       "      <td>6.0</td>\n",
       "      <td>55.0</td>\n",
       "      <td>31.0</td>\n",
       "      <td>18.0</td>\n",
       "      <td>6.0</td>\n",
       "      <td>5</td>\n",
       "      <td>9</td>\n",
       "      <td>0</td>\n",
       "      <td>0</td>\n",
       "    </tr>\n",
       "    <tr>\n",
       "      <th>82</th>\n",
       "      <td>5.0</td>\n",
       "      <td>0.0</td>\n",
       "      <td>9.0</td>\n",
       "      <td>53.0</td>\n",
       "      <td>44.0</td>\n",
       "      <td>30.0</td>\n",
       "      <td>6.0</td>\n",
       "      <td>1</td>\n",
       "      <td>5</td>\n",
       "      <td>1</td>\n",
       "      <td>0</td>\n",
       "    </tr>\n",
       "    <tr>\n",
       "      <th>83</th>\n",
       "      <td>7.0</td>\n",
       "      <td>2.0</td>\n",
       "      <td>6.0</td>\n",
       "      <td>68.0</td>\n",
       "      <td>32.7</td>\n",
       "      <td>19.0</td>\n",
       "      <td>6.0</td>\n",
       "      <td>6</td>\n",
       "      <td>9</td>\n",
       "      <td>0</td>\n",
       "      <td>0</td>\n",
       "    </tr>\n",
       "    <tr>\n",
       "      <th>84</th>\n",
       "      <td>5.0</td>\n",
       "      <td>3.0</td>\n",
       "      <td>0.0</td>\n",
       "      <td>58.0</td>\n",
       "      <td>65.0</td>\n",
       "      <td>47.0</td>\n",
       "      <td>6.0</td>\n",
       "      <td>2</td>\n",
       "      <td>5</td>\n",
       "      <td>0</td>\n",
       "      <td>0</td>\n",
       "    </tr>\n",
       "    <tr>\n",
       "      <th>85</th>\n",
       "      <td>2.0</td>\n",
       "      <td>3.0</td>\n",
       "      <td>7.0</td>\n",
       "      <td>8.0</td>\n",
       "      <td>70.0</td>\n",
       "      <td>50.0</td>\n",
       "      <td>9.0</td>\n",
       "      <td>7</td>\n",
       "      <td>9</td>\n",
       "      <td>0</td>\n",
       "      <td>0</td>\n",
       "    </tr>\n",
       "  </tbody>\n",
       "</table>\n",
       "<p>86 rows × 11 columns</p>\n",
       "</div>"
      ],
      "text/plain": [
       "    district  num_of_rooms  flat_type  street  total_square  living_square  \\\n",
       "0        2.0           0.0        7.0    52.0          56.1           35.0   \n",
       "1        2.0           3.0        6.0    47.0          67.0           45.0   \n",
       "2        7.0           0.0        6.0    52.0          53.0           40.0   \n",
       "3        7.0           4.0        6.0    53.0          61.0           45.0   \n",
       "4        0.0           2.0        6.0    41.0          26.0           13.0   \n",
       "..       ...           ...        ...     ...           ...            ...   \n",
       "81       7.0           2.0        6.0    55.0          31.0           18.0   \n",
       "82       5.0           0.0        9.0    53.0          44.0           30.0   \n",
       "83       7.0           2.0        6.0    68.0          32.7           19.0   \n",
       "84       5.0           3.0        0.0    58.0          65.0           47.0   \n",
       "85       2.0           3.0        7.0     8.0          70.0           50.0   \n",
       "\n",
       "    kitchen_square  floor_num  total_floors  is_first_floor  is_last_floor  \n",
       "0              9.0          7             9               0              0  \n",
       "1              8.0          2             5               0              0  \n",
       "2              9.0          9             9               0              1  \n",
       "3              7.0          4             5               0              0  \n",
       "4              7.0          1             3               1              0  \n",
       "..             ...        ...           ...             ...            ...  \n",
       "81             6.0          5             9               0              0  \n",
       "82             6.0          1             5               1              0  \n",
       "83             6.0          6             9               0              0  \n",
       "84             6.0          2             5               0              0  \n",
       "85             9.0          7             9               0              0  \n",
       "\n",
       "[86 rows x 11 columns]"
      ]
     },
     "execution_count": 974,
     "metadata": {},
     "output_type": "execute_result"
    }
   ],
   "source": [
    "features_val_oe =pd.merge(\n",
    "    cat_features_val, \n",
    "    features_val[numeric].reset_index(drop=True), \n",
    "    left_index=True, \n",
    "    right_index=True)\n",
    "features_val_oe"
   ]
  },
  {
   "cell_type": "code",
   "execution_count": 975,
   "id": "036ca421-e37a-45ea-84ac-ce0600dccd0d",
   "metadata": {},
   "outputs": [],
   "source": [
    "target_val = target_val.reset_index(drop=True)"
   ]
  },
  {
   "cell_type": "code",
   "execution_count": 976,
   "id": "6ffae567-36ce-4c26-b13f-8bb58a0fe487",
   "metadata": {},
   "outputs": [
    {
     "data": {
      "text/plain": [
       "0     4260\n",
       "1     3000\n",
       "2     3600\n",
       "3     4050\n",
       "4     1000\n",
       "      ... \n",
       "81    2100\n",
       "82    3450\n",
       "83    2650\n",
       "84    4200\n",
       "85    5990\n",
       "Name: price, Length: 86, dtype: int64"
      ]
     },
     "execution_count": 976,
     "metadata": {},
     "output_type": "execute_result"
    }
   ],
   "source": [
    "target_val"
   ]
  },
  {
   "cell_type": "markdown",
   "id": "c1a4095c-a370-443c-87c7-b1d41f82097a",
   "metadata": {},
   "source": [
    "Теперь масштабируем наши данные."
   ]
  },
  {
   "cell_type": "code",
   "execution_count": 977,
   "id": "2d4f36ce-0272-4600-b17d-21bae31e4e69",
   "metadata": {},
   "outputs": [],
   "source": [
    "sscaler = StandardScaler()"
   ]
  },
  {
   "cell_type": "code",
   "execution_count": 978,
   "id": "fc70bf02-3716-4475-8f87-be929b68f9ad",
   "metadata": {},
   "outputs": [],
   "source": [
    "features_train_sc = pd.DataFrame(sscaler.fit_transform(features_train_oe))\n",
    "features_train_sc.columns = features_train_oe.columns"
   ]
  },
  {
   "cell_type": "code",
   "execution_count": 979,
   "id": "63ffb8b4-925f-4038-986b-f93355970792",
   "metadata": {},
   "outputs": [
    {
     "data": {
      "text/html": [
       "<div>\n",
       "<style scoped>\n",
       "    .dataframe tbody tr th:only-of-type {\n",
       "        vertical-align: middle;\n",
       "    }\n",
       "\n",
       "    .dataframe tbody tr th {\n",
       "        vertical-align: top;\n",
       "    }\n",
       "\n",
       "    .dataframe thead th {\n",
       "        text-align: right;\n",
       "    }\n",
       "</style>\n",
       "<table border=\"1\" class=\"dataframe\">\n",
       "  <thead>\n",
       "    <tr style=\"text-align: right;\">\n",
       "      <th></th>\n",
       "      <th>district</th>\n",
       "      <th>num_of_rooms</th>\n",
       "      <th>flat_type</th>\n",
       "      <th>street</th>\n",
       "      <th>total_square</th>\n",
       "      <th>living_square</th>\n",
       "      <th>kitchen_square</th>\n",
       "      <th>floor_num</th>\n",
       "      <th>total_floors</th>\n",
       "      <th>is_first_floor</th>\n",
       "      <th>is_last_floor</th>\n",
       "    </tr>\n",
       "  </thead>\n",
       "  <tbody>\n",
       "    <tr>\n",
       "      <th>0</th>\n",
       "      <td>-0.768132</td>\n",
       "      <td>0.252053</td>\n",
       "      <td>-0.047680</td>\n",
       "      <td>-0.360772</td>\n",
       "      <td>-0.639131</td>\n",
       "      <td>-0.707860</td>\n",
       "      <td>0.032162</td>\n",
       "      <td>2.360121</td>\n",
       "      <td>1.100421</td>\n",
       "      <td>-0.517357</td>\n",
       "      <td>1.645151</td>\n",
       "    </tr>\n",
       "    <tr>\n",
       "      <th>1</th>\n",
       "      <td>-0.768132</td>\n",
       "      <td>1.006002</td>\n",
       "      <td>2.361058</td>\n",
       "      <td>1.592775</td>\n",
       "      <td>0.497479</td>\n",
       "      <td>0.584627</td>\n",
       "      <td>0.032162</td>\n",
       "      <td>0.838038</td>\n",
       "      <td>0.803316</td>\n",
       "      <td>-0.517357</td>\n",
       "      <td>-0.607847</td>\n",
       "    </tr>\n",
       "    <tr>\n",
       "      <th>2</th>\n",
       "      <td>-0.768132</td>\n",
       "      <td>0.252053</td>\n",
       "      <td>-0.649865</td>\n",
       "      <td>-1.562956</td>\n",
       "      <td>-1.389202</td>\n",
       "      <td>-1.045031</td>\n",
       "      <td>-1.002495</td>\n",
       "      <td>-0.684044</td>\n",
       "      <td>0.803316</td>\n",
       "      <td>-0.517357</td>\n",
       "      <td>-0.607847</td>\n",
       "    </tr>\n",
       "    <tr>\n",
       "      <th>3</th>\n",
       "      <td>1.043299</td>\n",
       "      <td>-1.255844</td>\n",
       "      <td>-0.348773</td>\n",
       "      <td>-1.813411</td>\n",
       "      <td>2.108060</td>\n",
       "      <td>1.820918</td>\n",
       "      <td>4.170792</td>\n",
       "      <td>-1.825606</td>\n",
       "      <td>-1.573524</td>\n",
       "      <td>-0.517357</td>\n",
       "      <td>-0.607847</td>\n",
       "    </tr>\n",
       "    <tr>\n",
       "      <th>4</th>\n",
       "      <td>-0.768132</td>\n",
       "      <td>1.006002</td>\n",
       "      <td>-1.252049</td>\n",
       "      <td>-0.911773</td>\n",
       "      <td>1.325777</td>\n",
       "      <td>1.090382</td>\n",
       "      <td>2.877470</td>\n",
       "      <td>-1.064565</td>\n",
       "      <td>1.100421</td>\n",
       "      <td>1.932902</td>\n",
       "      <td>-0.607847</td>\n",
       "    </tr>\n",
       "  </tbody>\n",
       "</table>\n",
       "</div>"
      ],
      "text/plain": [
       "   district  num_of_rooms  flat_type    street  total_square  living_square  \\\n",
       "0 -0.768132      0.252053  -0.047680 -0.360772     -0.639131      -0.707860   \n",
       "1 -0.768132      1.006002   2.361058  1.592775      0.497479       0.584627   \n",
       "2 -0.768132      0.252053  -0.649865 -1.562956     -1.389202      -1.045031   \n",
       "3  1.043299     -1.255844  -0.348773 -1.813411      2.108060       1.820918   \n",
       "4 -0.768132      1.006002  -1.252049 -0.911773      1.325777       1.090382   \n",
       "\n",
       "   kitchen_square  floor_num  total_floors  is_first_floor  is_last_floor  \n",
       "0        0.032162   2.360121      1.100421       -0.517357       1.645151  \n",
       "1        0.032162   0.838038      0.803316       -0.517357      -0.607847  \n",
       "2       -1.002495  -0.684044      0.803316       -0.517357      -0.607847  \n",
       "3        4.170792  -1.825606     -1.573524       -0.517357      -0.607847  \n",
       "4        2.877470  -1.064565      1.100421        1.932902      -0.607847  "
      ]
     },
     "execution_count": 979,
     "metadata": {},
     "output_type": "execute_result"
    }
   ],
   "source": [
    "features_train_sc.head()"
   ]
  },
  {
   "cell_type": "code",
   "execution_count": 980,
   "id": "c806c626-881a-4cbf-99bb-5bdfb7d7d0f5",
   "metadata": {},
   "outputs": [],
   "source": [
    "features_val_sc = pd.DataFrame(sscaler.transform(features_val_oe))\n",
    "features_val_sc.columns = features_val_oe.columns"
   ]
  },
  {
   "cell_type": "code",
   "execution_count": 981,
   "id": "e51af1eb-c263-4435-b4bb-c9730c1e122b",
   "metadata": {},
   "outputs": [
    {
     "data": {
      "text/html": [
       "<div>\n",
       "<style scoped>\n",
       "    .dataframe tbody tr th:only-of-type {\n",
       "        vertical-align: middle;\n",
       "    }\n",
       "\n",
       "    .dataframe tbody tr th {\n",
       "        vertical-align: top;\n",
       "    }\n",
       "\n",
       "    .dataframe thead th {\n",
       "        text-align: right;\n",
       "    }\n",
       "</style>\n",
       "<table border=\"1\" class=\"dataframe\">\n",
       "  <thead>\n",
       "    <tr style=\"text-align: right;\">\n",
       "      <th></th>\n",
       "      <th>district</th>\n",
       "      <th>num_of_rooms</th>\n",
       "      <th>flat_type</th>\n",
       "      <th>street</th>\n",
       "      <th>total_square</th>\n",
       "      <th>living_square</th>\n",
       "      <th>kitchen_square</th>\n",
       "      <th>floor_num</th>\n",
       "      <th>total_floors</th>\n",
       "      <th>is_first_floor</th>\n",
       "      <th>is_last_floor</th>\n",
       "    </tr>\n",
       "  </thead>\n",
       "  <tbody>\n",
       "    <tr>\n",
       "      <th>0</th>\n",
       "      <td>-0.768132</td>\n",
       "      <td>-1.255844</td>\n",
       "      <td>-0.047680</td>\n",
       "      <td>0.791320</td>\n",
       "      <td>0.087931</td>\n",
       "      <td>0.135066</td>\n",
       "      <td>0.032162</td>\n",
       "      <td>1.218559</td>\n",
       "      <td>0.803316</td>\n",
       "      <td>-0.517357</td>\n",
       "      <td>-0.607847</td>\n",
       "    </tr>\n",
       "    <tr>\n",
       "      <th>1</th>\n",
       "      <td>-0.768132</td>\n",
       "      <td>1.006002</td>\n",
       "      <td>-0.348773</td>\n",
       "      <td>0.540865</td>\n",
       "      <td>0.589512</td>\n",
       "      <td>0.697017</td>\n",
       "      <td>-0.226502</td>\n",
       "      <td>-0.684044</td>\n",
       "      <td>-0.385104</td>\n",
       "      <td>-0.517357</td>\n",
       "      <td>-0.607847</td>\n",
       "    </tr>\n",
       "    <tr>\n",
       "      <th>2</th>\n",
       "      <td>1.043299</td>\n",
       "      <td>-1.255844</td>\n",
       "      <td>-0.348773</td>\n",
       "      <td>0.791320</td>\n",
       "      <td>-0.054721</td>\n",
       "      <td>0.416041</td>\n",
       "      <td>0.032162</td>\n",
       "      <td>1.979600</td>\n",
       "      <td>0.803316</td>\n",
       "      <td>-0.517357</td>\n",
       "      <td>1.645151</td>\n",
       "    </tr>\n",
       "    <tr>\n",
       "      <th>3</th>\n",
       "      <td>1.043299</td>\n",
       "      <td>1.759951</td>\n",
       "      <td>-0.348773</td>\n",
       "      <td>0.841411</td>\n",
       "      <td>0.313412</td>\n",
       "      <td>0.697017</td>\n",
       "      <td>-0.485166</td>\n",
       "      <td>0.076997</td>\n",
       "      <td>-0.385104</td>\n",
       "      <td>-0.517357</td>\n",
       "      <td>-0.607847</td>\n",
       "    </tr>\n",
       "    <tr>\n",
       "      <th>4</th>\n",
       "      <td>-1.492704</td>\n",
       "      <td>0.252053</td>\n",
       "      <td>-0.348773</td>\n",
       "      <td>0.240319</td>\n",
       "      <td>-1.297169</td>\n",
       "      <td>-1.101226</td>\n",
       "      <td>-0.485166</td>\n",
       "      <td>-1.064565</td>\n",
       "      <td>-0.979314</td>\n",
       "      <td>1.932902</td>\n",
       "      <td>-0.607847</td>\n",
       "    </tr>\n",
       "  </tbody>\n",
       "</table>\n",
       "</div>"
      ],
      "text/plain": [
       "   district  num_of_rooms  flat_type    street  total_square  living_square  \\\n",
       "0 -0.768132     -1.255844  -0.047680  0.791320      0.087931       0.135066   \n",
       "1 -0.768132      1.006002  -0.348773  0.540865      0.589512       0.697017   \n",
       "2  1.043299     -1.255844  -0.348773  0.791320     -0.054721       0.416041   \n",
       "3  1.043299      1.759951  -0.348773  0.841411      0.313412       0.697017   \n",
       "4 -1.492704      0.252053  -0.348773  0.240319     -1.297169      -1.101226   \n",
       "\n",
       "   kitchen_square  floor_num  total_floors  is_first_floor  is_last_floor  \n",
       "0        0.032162   1.218559      0.803316       -0.517357      -0.607847  \n",
       "1       -0.226502  -0.684044     -0.385104       -0.517357      -0.607847  \n",
       "2        0.032162   1.979600      0.803316       -0.517357       1.645151  \n",
       "3       -0.485166   0.076997     -0.385104       -0.517357      -0.607847  \n",
       "4       -0.485166  -1.064565     -0.979314        1.932902      -0.607847  "
      ]
     },
     "execution_count": 981,
     "metadata": {},
     "output_type": "execute_result"
    }
   ],
   "source": [
    "features_val_sc.head()"
   ]
  },
  {
   "cell_type": "markdown",
   "id": "9bd65cd1-475f-45a5-ad50-6a51601961f2",
   "metadata": {},
   "source": [
    "Модель линейной регрессии"
   ]
  },
  {
   "cell_type": "code",
   "execution_count": 982,
   "id": "51cf6011-6cef-4c11-8427-968ca17baf6e",
   "metadata": {},
   "outputs": [],
   "source": [
    "class MyLinearRegression:\n",
    "    \n",
    "    def fit(self, train_features, train_target):\n",
    "        X = np.concatenate((np.ones((train_features.shape[0], 1)), train_features), axis=1)\n",
    "        y = train_target\n",
    "        w = np.linalg.inv(X.T @ X) @ X.T @ y\n",
    "        self.w = w[1:]\n",
    "        self.w0 = w[0]\n",
    "\n",
    "    def predict(self, test_features):\n",
    "        return test_features.dot(self.w) + self.w0"
   ]
  },
  {
   "cell_type": "code",
   "execution_count": 983,
   "id": "58b8df52-66c4-4c23-8b4b-18488f3afbe6",
   "metadata": {},
   "outputs": [
    {
     "name": "stdout",
     "output_type": "stream",
     "text": [
      "672.0942860631774\n"
     ]
    }
   ],
   "source": [
    "# наша модель\n",
    "model_1 = MyLinearRegression()\n",
    "model_1.fit(features_train_sc, target_train)\n",
    "predictions = model_1.predict(features_val_sc)\n",
    "\n",
    "# метрика MAE\n",
    "mae = mean_absolute_error(target_val, predictions)\n",
    "print(mae)"
   ]
  },
  {
   "cell_type": "code",
   "execution_count": 984,
   "id": "0f3b2bd4-9914-4fd1-adda-4db1d2f45cdd",
   "metadata": {},
   "outputs": [
    {
     "data": {
      "text/plain": [
       "0     4260\n",
       "1     3000\n",
       "2     3600\n",
       "3     4050\n",
       "4     1000\n",
       "      ... \n",
       "81    2100\n",
       "82    3450\n",
       "83    2650\n",
       "84    4200\n",
       "85    5990\n",
       "Name: price, Length: 86, dtype: int64"
      ]
     },
     "execution_count": 984,
     "metadata": {},
     "output_type": "execute_result"
    }
   ],
   "source": [
    "target_val"
   ]
  },
  {
   "cell_type": "code",
   "execution_count": 985,
   "id": "7e237e40-4d9a-4a9d-9cbc-c3e0530af3ab",
   "metadata": {},
   "outputs": [
    {
     "name": "stdout",
     "output_type": "stream",
     "text": [
      "4260 4052.99688637837\n",
      "3000 4712.333898575558\n",
      "3600 3806.7982454762073\n",
      "4050 4351.10037000778\n",
      "1000 2236.5064927159356\n",
      "3500 3497.239442095292\n",
      "3700 3977.1318628837444\n",
      "4250 4555.614779034155\n",
      "5100 5280.829261751394\n",
      "6990 5531.14307727672\n"
     ]
    }
   ],
   "source": [
    "for i in range(10):\n",
    "    print(target_val.iloc[i], predictions.iloc[i])"
   ]
  },
  {
   "cell_type": "code",
   "execution_count": 986,
   "id": "ef8f546e-1993-4c69-a720-6e203cb1646d",
   "metadata": {},
   "outputs": [],
   "source": [
    "from sklearn.tree import DecisionTreeRegressor"
   ]
  },
  {
   "cell_type": "code",
   "execution_count": 987,
   "id": "ab6ce193-fc60-45a0-90b8-9fbe76420b82",
   "metadata": {},
   "outputs": [],
   "source": [
    "DTR = DecisionTreeRegressor(\n",
    "    max_depth=10,\n",
    "    random_state=RANDOM_STATE\n",
    ")"
   ]
  },
  {
   "cell_type": "code",
   "execution_count": 988,
   "id": "5551caec-1e60-4adb-b873-399f8ed50f15",
   "metadata": {},
   "outputs": [
    {
     "data": {
      "text/html": [
       "<style>#sk-container-id-19 {color: black;}#sk-container-id-19 pre{padding: 0;}#sk-container-id-19 div.sk-toggleable {background-color: white;}#sk-container-id-19 label.sk-toggleable__label {cursor: pointer;display: block;width: 100%;margin-bottom: 0;padding: 0.3em;box-sizing: border-box;text-align: center;}#sk-container-id-19 label.sk-toggleable__label-arrow:before {content: \"▸\";float: left;margin-right: 0.25em;color: #696969;}#sk-container-id-19 label.sk-toggleable__label-arrow:hover:before {color: black;}#sk-container-id-19 div.sk-estimator:hover label.sk-toggleable__label-arrow:before {color: black;}#sk-container-id-19 div.sk-toggleable__content {max-height: 0;max-width: 0;overflow: hidden;text-align: left;background-color: #f0f8ff;}#sk-container-id-19 div.sk-toggleable__content pre {margin: 0.2em;color: black;border-radius: 0.25em;background-color: #f0f8ff;}#sk-container-id-19 input.sk-toggleable__control:checked~div.sk-toggleable__content {max-height: 200px;max-width: 100%;overflow: auto;}#sk-container-id-19 input.sk-toggleable__control:checked~label.sk-toggleable__label-arrow:before {content: \"▾\";}#sk-container-id-19 div.sk-estimator input.sk-toggleable__control:checked~label.sk-toggleable__label {background-color: #d4ebff;}#sk-container-id-19 div.sk-label input.sk-toggleable__control:checked~label.sk-toggleable__label {background-color: #d4ebff;}#sk-container-id-19 input.sk-hidden--visually {border: 0;clip: rect(1px 1px 1px 1px);clip: rect(1px, 1px, 1px, 1px);height: 1px;margin: -1px;overflow: hidden;padding: 0;position: absolute;width: 1px;}#sk-container-id-19 div.sk-estimator {font-family: monospace;background-color: #f0f8ff;border: 1px dotted black;border-radius: 0.25em;box-sizing: border-box;margin-bottom: 0.5em;}#sk-container-id-19 div.sk-estimator:hover {background-color: #d4ebff;}#sk-container-id-19 div.sk-parallel-item::after {content: \"\";width: 100%;border-bottom: 1px solid gray;flex-grow: 1;}#sk-container-id-19 div.sk-label:hover label.sk-toggleable__label {background-color: #d4ebff;}#sk-container-id-19 div.sk-serial::before {content: \"\";position: absolute;border-left: 1px solid gray;box-sizing: border-box;top: 0;bottom: 0;left: 50%;z-index: 0;}#sk-container-id-19 div.sk-serial {display: flex;flex-direction: column;align-items: center;background-color: white;padding-right: 0.2em;padding-left: 0.2em;position: relative;}#sk-container-id-19 div.sk-item {position: relative;z-index: 1;}#sk-container-id-19 div.sk-parallel {display: flex;align-items: stretch;justify-content: center;background-color: white;position: relative;}#sk-container-id-19 div.sk-item::before, #sk-container-id-19 div.sk-parallel-item::before {content: \"\";position: absolute;border-left: 1px solid gray;box-sizing: border-box;top: 0;bottom: 0;left: 50%;z-index: -1;}#sk-container-id-19 div.sk-parallel-item {display: flex;flex-direction: column;z-index: 1;position: relative;background-color: white;}#sk-container-id-19 div.sk-parallel-item:first-child::after {align-self: flex-end;width: 50%;}#sk-container-id-19 div.sk-parallel-item:last-child::after {align-self: flex-start;width: 50%;}#sk-container-id-19 div.sk-parallel-item:only-child::after {width: 0;}#sk-container-id-19 div.sk-dashed-wrapped {border: 1px dashed gray;margin: 0 0.4em 0.5em 0.4em;box-sizing: border-box;padding-bottom: 0.4em;background-color: white;}#sk-container-id-19 div.sk-label label {font-family: monospace;font-weight: bold;display: inline-block;line-height: 1.2em;}#sk-container-id-19 div.sk-label-container {text-align: center;}#sk-container-id-19 div.sk-container {/* jupyter's `normalize.less` sets `[hidden] { display: none; }` but bootstrap.min.css set `[hidden] { display: none !important; }` so we also need the `!important` here to be able to override the default hidden behavior on the sphinx rendered scikit-learn.org. See: https://github.com/scikit-learn/scikit-learn/issues/21755 */display: inline-block !important;position: relative;}#sk-container-id-19 div.sk-text-repr-fallback {display: none;}</style><div id=\"sk-container-id-19\" class=\"sk-top-container\"><div class=\"sk-text-repr-fallback\"><pre>DecisionTreeRegressor(max_depth=10, random_state=12345)</pre><b>In a Jupyter environment, please rerun this cell to show the HTML representation or trust the notebook. <br />On GitHub, the HTML representation is unable to render, please try loading this page with nbviewer.org.</b></div><div class=\"sk-container\" hidden><div class=\"sk-item\"><div class=\"sk-estimator sk-toggleable\"><input class=\"sk-toggleable__control sk-hidden--visually\" id=\"sk-estimator-id-19\" type=\"checkbox\" checked><label for=\"sk-estimator-id-19\" class=\"sk-toggleable__label sk-toggleable__label-arrow\">DecisionTreeRegressor</label><div class=\"sk-toggleable__content\"><pre>DecisionTreeRegressor(max_depth=10, random_state=12345)</pre></div></div></div></div></div>"
      ],
      "text/plain": [
       "DecisionTreeRegressor(max_depth=10, random_state=12345)"
      ]
     },
     "execution_count": 988,
     "metadata": {},
     "output_type": "execute_result"
    }
   ],
   "source": [
    "DTR.fit(features_train_sc, target_train)"
   ]
  },
  {
   "cell_type": "code",
   "execution_count": 989,
   "id": "d46adbf4-183d-403e-b119-2959ea87ecb5",
   "metadata": {},
   "outputs": [
    {
     "name": "stdout",
     "output_type": "stream",
     "text": [
      "663.9269149618232\n"
     ]
    }
   ],
   "source": [
    "predictionsDTR = DTR.predict(features_val_sc)\n",
    "\n",
    "# метрика MAE\n",
    "maeDTR = mean_absolute_error(target_val, predictionsDTR)\n",
    "print(maeDTR)"
   ]
  },
  {
   "cell_type": "code",
   "execution_count": 990,
   "id": "ca094643-3886-40b6-9fe3-e93cc04ead87",
   "metadata": {},
   "outputs": [],
   "source": [
    "from sklearn.ensemble import RandomForestRegressor"
   ]
  },
  {
   "cell_type": "code",
   "execution_count": 1014,
   "id": "035e390c-8ea1-4aad-b75b-df7eb3b2105f",
   "metadata": {},
   "outputs": [],
   "source": [
    "# список гиперпараметров и их значений\n",
    "search_space = {\n",
    "    'criterion' : ['squared_error', 'absolute_error', 'friedman_mse', 'poisson'],\n",
    "    'max_depth' : [5, 10, 15],\n",
    "    'n_estimators' : [50, 100, 200],\n",
    "    'max_features' : ['sqrt', 'log2', 1]\n",
    "}"
   ]
  },
  {
   "cell_type": "code",
   "execution_count": 1015,
   "id": "88bc8b2b-9747-45c7-94c1-03e30d85da0b",
   "metadata": {},
   "outputs": [],
   "source": [
    "model_rfr = RandomForestRegressor(\n",
    "    random_state=RANDOM_STATE\n",
    ")"
   ]
  },
  {
   "cell_type": "code",
   "execution_count": 1019,
   "id": "baf5d16c-4cdb-459a-a908-9767ba1863e0",
   "metadata": {},
   "outputs": [],
   "source": [
    "GS = GridSearchCV(\n",
    "    estimator=model_rfr,\n",
    "    param_grid=search_space,\n",
    "    scoring='neg_mean_absolute_error',\n",
    "    cv=3,\n",
    "    verbose=4\n",
    ")"
   ]
  },
  {
   "cell_type": "code",
   "execution_count": 1020,
   "id": "2c0a4fa2-bc23-45b5-a984-4c4368244202",
   "metadata": {
    "collapsed": true,
    "jupyter": {
     "outputs_hidden": true
    }
   },
   "outputs": [
    {
     "name": "stdout",
     "output_type": "stream",
     "text": [
      "Fitting 3 folds for each of 108 candidates, totalling 324 fits\n",
      "[CV 1/3] END criterion=squared_error, max_depth=5, max_features=sqrt, n_estimators=50;, score=-550.101 total time=   0.0s\n",
      "[CV 2/3] END criterion=squared_error, max_depth=5, max_features=sqrt, n_estimators=50;, score=-685.601 total time=   0.0s\n",
      "[CV 3/3] END criterion=squared_error, max_depth=5, max_features=sqrt, n_estimators=50;, score=-539.805 total time=   0.0s\n",
      "[CV 1/3] END criterion=squared_error, max_depth=5, max_features=sqrt, n_estimators=100;, score=-564.603 total time=   0.0s\n",
      "[CV 2/3] END criterion=squared_error, max_depth=5, max_features=sqrt, n_estimators=100;, score=-669.839 total time=   0.0s\n",
      "[CV 3/3] END criterion=squared_error, max_depth=5, max_features=sqrt, n_estimators=100;, score=-529.349 total time=   0.0s\n",
      "[CV 1/3] END criterion=squared_error, max_depth=5, max_features=sqrt, n_estimators=200;, score=-568.342 total time=   0.0s\n",
      "[CV 2/3] END criterion=squared_error, max_depth=5, max_features=sqrt, n_estimators=200;, score=-662.229 total time=   0.0s\n",
      "[CV 3/3] END criterion=squared_error, max_depth=5, max_features=sqrt, n_estimators=200;, score=-538.964 total time=   0.0s\n",
      "[CV 1/3] END criterion=squared_error, max_depth=5, max_features=log2, n_estimators=50;, score=-550.101 total time=   0.0s\n",
      "[CV 2/3] END criterion=squared_error, max_depth=5, max_features=log2, n_estimators=50;, score=-685.601 total time=   0.0s\n",
      "[CV 3/3] END criterion=squared_error, max_depth=5, max_features=log2, n_estimators=50;, score=-539.805 total time=   0.0s\n",
      "[CV 1/3] END criterion=squared_error, max_depth=5, max_features=log2, n_estimators=100;, score=-564.603 total time=   0.0s\n",
      "[CV 2/3] END criterion=squared_error, max_depth=5, max_features=log2, n_estimators=100;, score=-669.839 total time=   0.0s\n",
      "[CV 3/3] END criterion=squared_error, max_depth=5, max_features=log2, n_estimators=100;, score=-529.349 total time=   0.0s\n",
      "[CV 1/3] END criterion=squared_error, max_depth=5, max_features=log2, n_estimators=200;, score=-568.342 total time=   0.0s\n",
      "[CV 2/3] END criterion=squared_error, max_depth=5, max_features=log2, n_estimators=200;, score=-662.229 total time=   0.0s\n",
      "[CV 3/3] END criterion=squared_error, max_depth=5, max_features=log2, n_estimators=200;, score=-538.964 total time=   0.0s\n",
      "[CV 1/3] END criterion=squared_error, max_depth=5, max_features=1, n_estimators=50;, score=-745.536 total time=   0.0s\n",
      "[CV 2/3] END criterion=squared_error, max_depth=5, max_features=1, n_estimators=50;, score=-760.899 total time=   0.0s\n",
      "[CV 3/3] END criterion=squared_error, max_depth=5, max_features=1, n_estimators=50;, score=-687.268 total time=   0.0s\n",
      "[CV 1/3] END criterion=squared_error, max_depth=5, max_features=1, n_estimators=100;, score=-744.457 total time=   0.0s\n",
      "[CV 2/3] END criterion=squared_error, max_depth=5, max_features=1, n_estimators=100;, score=-757.053 total time=   0.0s\n",
      "[CV 3/3] END criterion=squared_error, max_depth=5, max_features=1, n_estimators=100;, score=-696.290 total time=   0.0s\n",
      "[CV 1/3] END criterion=squared_error, max_depth=5, max_features=1, n_estimators=200;, score=-751.875 total time=   0.0s\n",
      "[CV 2/3] END criterion=squared_error, max_depth=5, max_features=1, n_estimators=200;, score=-749.549 total time=   0.0s\n",
      "[CV 3/3] END criterion=squared_error, max_depth=5, max_features=1, n_estimators=200;, score=-687.456 total time=   0.0s\n",
      "[CV 1/3] END criterion=squared_error, max_depth=10, max_features=sqrt, n_estimators=50;, score=-557.312 total time=   0.0s\n",
      "[CV 2/3] END criterion=squared_error, max_depth=10, max_features=sqrt, n_estimators=50;, score=-643.654 total time=   0.0s\n",
      "[CV 3/3] END criterion=squared_error, max_depth=10, max_features=sqrt, n_estimators=50;, score=-544.902 total time=   0.0s\n",
      "[CV 1/3] END criterion=squared_error, max_depth=10, max_features=sqrt, n_estimators=100;, score=-549.831 total time=   0.0s\n",
      "[CV 2/3] END criterion=squared_error, max_depth=10, max_features=sqrt, n_estimators=100;, score=-648.724 total time=   0.0s\n",
      "[CV 3/3] END criterion=squared_error, max_depth=10, max_features=sqrt, n_estimators=100;, score=-538.473 total time=   0.0s\n",
      "[CV 1/3] END criterion=squared_error, max_depth=10, max_features=sqrt, n_estimators=200;, score=-550.829 total time=   0.1s\n",
      "[CV 2/3] END criterion=squared_error, max_depth=10, max_features=sqrt, n_estimators=200;, score=-640.573 total time=   0.1s\n",
      "[CV 3/3] END criterion=squared_error, max_depth=10, max_features=sqrt, n_estimators=200;, score=-523.116 total time=   0.1s\n",
      "[CV 1/3] END criterion=squared_error, max_depth=10, max_features=log2, n_estimators=50;, score=-557.312 total time=   0.0s\n",
      "[CV 2/3] END criterion=squared_error, max_depth=10, max_features=log2, n_estimators=50;, score=-643.654 total time=   0.0s\n",
      "[CV 3/3] END criterion=squared_error, max_depth=10, max_features=log2, n_estimators=50;, score=-544.902 total time=   0.0s\n",
      "[CV 1/3] END criterion=squared_error, max_depth=10, max_features=log2, n_estimators=100;, score=-549.831 total time=   0.0s\n",
      "[CV 2/3] END criterion=squared_error, max_depth=10, max_features=log2, n_estimators=100;, score=-648.724 total time=   0.0s\n",
      "[CV 3/3] END criterion=squared_error, max_depth=10, max_features=log2, n_estimators=100;, score=-538.473 total time=   0.0s\n",
      "[CV 1/3] END criterion=squared_error, max_depth=10, max_features=log2, n_estimators=200;, score=-550.829 total time=   0.1s\n",
      "[CV 2/3] END criterion=squared_error, max_depth=10, max_features=log2, n_estimators=200;, score=-640.573 total time=   0.1s\n",
      "[CV 3/3] END criterion=squared_error, max_depth=10, max_features=log2, n_estimators=200;, score=-523.116 total time=   0.1s\n",
      "[CV 1/3] END criterion=squared_error, max_depth=10, max_features=1, n_estimators=50;, score=-665.052 total time=   0.0s\n",
      "[CV 2/3] END criterion=squared_error, max_depth=10, max_features=1, n_estimators=50;, score=-685.694 total time=   0.0s\n",
      "[CV 3/3] END criterion=squared_error, max_depth=10, max_features=1, n_estimators=50;, score=-592.531 total time=   0.0s\n",
      "[CV 1/3] END criterion=squared_error, max_depth=10, max_features=1, n_estimators=100;, score=-677.080 total time=   0.0s\n",
      "[CV 2/3] END criterion=squared_error, max_depth=10, max_features=1, n_estimators=100;, score=-695.247 total time=   0.0s\n",
      "[CV 3/3] END criterion=squared_error, max_depth=10, max_features=1, n_estimators=100;, score=-578.981 total time=   0.0s\n",
      "[CV 1/3] END criterion=squared_error, max_depth=10, max_features=1, n_estimators=200;, score=-671.765 total time=   0.0s\n",
      "[CV 2/3] END criterion=squared_error, max_depth=10, max_features=1, n_estimators=200;, score=-676.079 total time=   0.0s\n",
      "[CV 3/3] END criterion=squared_error, max_depth=10, max_features=1, n_estimators=200;, score=-585.981 total time=   0.0s\n",
      "[CV 1/3] END criterion=squared_error, max_depth=15, max_features=sqrt, n_estimators=50;, score=-546.645 total time=   0.0s\n",
      "[CV 2/3] END criterion=squared_error, max_depth=15, max_features=sqrt, n_estimators=50;, score=-649.013 total time=   0.0s\n",
      "[CV 3/3] END criterion=squared_error, max_depth=15, max_features=sqrt, n_estimators=50;, score=-519.460 total time=   0.0s\n",
      "[CV 1/3] END criterion=squared_error, max_depth=15, max_features=sqrt, n_estimators=100;, score=-547.420 total time=   0.0s\n",
      "[CV 2/3] END criterion=squared_error, max_depth=15, max_features=sqrt, n_estimators=100;, score=-646.617 total time=   0.0s\n",
      "[CV 3/3] END criterion=squared_error, max_depth=15, max_features=sqrt, n_estimators=100;, score=-514.434 total time=   0.0s\n",
      "[CV 1/3] END criterion=squared_error, max_depth=15, max_features=sqrt, n_estimators=200;, score=-553.968 total time=   0.1s\n",
      "[CV 2/3] END criterion=squared_error, max_depth=15, max_features=sqrt, n_estimators=200;, score=-642.925 total time=   0.1s\n",
      "[CV 3/3] END criterion=squared_error, max_depth=15, max_features=sqrt, n_estimators=200;, score=-510.616 total time=   0.1s\n",
      "[CV 1/3] END criterion=squared_error, max_depth=15, max_features=log2, n_estimators=50;, score=-546.645 total time=   0.0s\n",
      "[CV 2/3] END criterion=squared_error, max_depth=15, max_features=log2, n_estimators=50;, score=-649.013 total time=   0.0s\n",
      "[CV 3/3] END criterion=squared_error, max_depth=15, max_features=log2, n_estimators=50;, score=-519.460 total time=   0.0s\n",
      "[CV 1/3] END criterion=squared_error, max_depth=15, max_features=log2, n_estimators=100;, score=-547.420 total time=   0.0s\n",
      "[CV 2/3] END criterion=squared_error, max_depth=15, max_features=log2, n_estimators=100;, score=-646.617 total time=   0.0s\n",
      "[CV 3/3] END criterion=squared_error, max_depth=15, max_features=log2, n_estimators=100;, score=-514.434 total time=   0.0s\n",
      "[CV 1/3] END criterion=squared_error, max_depth=15, max_features=log2, n_estimators=200;, score=-553.968 total time=   0.1s\n",
      "[CV 2/3] END criterion=squared_error, max_depth=15, max_features=log2, n_estimators=200;, score=-642.925 total time=   0.1s\n",
      "[CV 3/3] END criterion=squared_error, max_depth=15, max_features=log2, n_estimators=200;, score=-510.616 total time=   0.1s\n",
      "[CV 1/3] END criterion=squared_error, max_depth=15, max_features=1, n_estimators=50;, score=-658.400 total time=   0.0s\n",
      "[CV 2/3] END criterion=squared_error, max_depth=15, max_features=1, n_estimators=50;, score=-684.313 total time=   0.0s\n",
      "[CV 3/3] END criterion=squared_error, max_depth=15, max_features=1, n_estimators=50;, score=-578.057 total time=   0.0s\n",
      "[CV 1/3] END criterion=squared_error, max_depth=15, max_features=1, n_estimators=100;, score=-676.446 total time=   0.0s\n",
      "[CV 2/3] END criterion=squared_error, max_depth=15, max_features=1, n_estimators=100;, score=-695.594 total time=   0.0s\n",
      "[CV 3/3] END criterion=squared_error, max_depth=15, max_features=1, n_estimators=100;, score=-595.671 total time=   0.0s\n",
      "[CV 1/3] END criterion=squared_error, max_depth=15, max_features=1, n_estimators=200;, score=-669.240 total time=   0.0s\n",
      "[CV 2/3] END criterion=squared_error, max_depth=15, max_features=1, n_estimators=200;, score=-685.235 total time=   0.0s\n",
      "[CV 3/3] END criterion=squared_error, max_depth=15, max_features=1, n_estimators=200;, score=-587.903 total time=   0.0s\n",
      "[CV 1/3] END criterion=absolute_error, max_depth=5, max_features=sqrt, n_estimators=50;, score=-592.383 total time=   0.0s\n",
      "[CV 2/3] END criterion=absolute_error, max_depth=5, max_features=sqrt, n_estimators=50;, score=-656.428 total time=   0.0s\n",
      "[CV 3/3] END criterion=absolute_error, max_depth=5, max_features=sqrt, n_estimators=50;, score=-551.802 total time=   0.0s\n",
      "[CV 1/3] END criterion=absolute_error, max_depth=5, max_features=sqrt, n_estimators=100;, score=-597.136 total time=   0.0s\n",
      "[CV 2/3] END criterion=absolute_error, max_depth=5, max_features=sqrt, n_estimators=100;, score=-654.891 total time=   0.0s\n",
      "[CV 3/3] END criterion=absolute_error, max_depth=5, max_features=sqrt, n_estimators=100;, score=-561.877 total time=   0.0s\n",
      "[CV 1/3] END criterion=absolute_error, max_depth=5, max_features=sqrt, n_estimators=200;, score=-599.017 total time=   0.1s\n",
      "[CV 2/3] END criterion=absolute_error, max_depth=5, max_features=sqrt, n_estimators=200;, score=-663.388 total time=   0.1s\n",
      "[CV 3/3] END criterion=absolute_error, max_depth=5, max_features=sqrt, n_estimators=200;, score=-550.207 total time=   0.1s\n",
      "[CV 1/3] END criterion=absolute_error, max_depth=5, max_features=log2, n_estimators=50;, score=-592.383 total time=   0.0s\n",
      "[CV 2/3] END criterion=absolute_error, max_depth=5, max_features=log2, n_estimators=50;, score=-656.428 total time=   0.0s\n",
      "[CV 3/3] END criterion=absolute_error, max_depth=5, max_features=log2, n_estimators=50;, score=-551.802 total time=   0.0s\n",
      "[CV 1/3] END criterion=absolute_error, max_depth=5, max_features=log2, n_estimators=100;, score=-597.136 total time=   0.0s\n",
      "[CV 2/3] END criterion=absolute_error, max_depth=5, max_features=log2, n_estimators=100;, score=-654.891 total time=   0.0s\n",
      "[CV 3/3] END criterion=absolute_error, max_depth=5, max_features=log2, n_estimators=100;, score=-561.877 total time=   0.0s\n",
      "[CV 1/3] END criterion=absolute_error, max_depth=5, max_features=log2, n_estimators=200;, score=-599.017 total time=   0.1s\n",
      "[CV 2/3] END criterion=absolute_error, max_depth=5, max_features=log2, n_estimators=200;, score=-663.388 total time=   0.1s\n",
      "[CV 3/3] END criterion=absolute_error, max_depth=5, max_features=log2, n_estimators=200;, score=-550.207 total time=   0.1s\n",
      "[CV 1/3] END criterion=absolute_error, max_depth=5, max_features=1, n_estimators=50;, score=-759.448 total time=   0.0s\n",
      "[CV 2/3] END criterion=absolute_error, max_depth=5, max_features=1, n_estimators=50;, score=-724.360 total time=   0.0s\n",
      "[CV 3/3] END criterion=absolute_error, max_depth=5, max_features=1, n_estimators=50;, score=-667.811 total time=   0.0s\n",
      "[CV 1/3] END criterion=absolute_error, max_depth=5, max_features=1, n_estimators=100;, score=-764.180 total time=   0.0s\n",
      "[CV 2/3] END criterion=absolute_error, max_depth=5, max_features=1, n_estimators=100;, score=-735.222 total time=   0.0s\n",
      "[CV 3/3] END criterion=absolute_error, max_depth=5, max_features=1, n_estimators=100;, score=-679.858 total time=   0.0s\n",
      "[CV 1/3] END criterion=absolute_error, max_depth=5, max_features=1, n_estimators=200;, score=-770.110 total time=   0.1s\n",
      "[CV 2/3] END criterion=absolute_error, max_depth=5, max_features=1, n_estimators=200;, score=-743.016 total time=   0.1s\n",
      "[CV 3/3] END criterion=absolute_error, max_depth=5, max_features=1, n_estimators=200;, score=-699.079 total time=   0.1s\n",
      "[CV 1/3] END criterion=absolute_error, max_depth=10, max_features=sqrt, n_estimators=50;, score=-537.531 total time=   0.0s\n",
      "[CV 2/3] END criterion=absolute_error, max_depth=10, max_features=sqrt, n_estimators=50;, score=-645.023 total time=   0.0s\n",
      "[CV 3/3] END criterion=absolute_error, max_depth=10, max_features=sqrt, n_estimators=50;, score=-550.977 total time=   0.0s\n",
      "[CV 1/3] END criterion=absolute_error, max_depth=10, max_features=sqrt, n_estimators=100;, score=-541.904 total time=   0.1s\n",
      "[CV 2/3] END criterion=absolute_error, max_depth=10, max_features=sqrt, n_estimators=100;, score=-640.318 total time=   0.1s\n",
      "[CV 3/3] END criterion=absolute_error, max_depth=10, max_features=sqrt, n_estimators=100;, score=-534.433 total time=   0.1s\n",
      "[CV 1/3] END criterion=absolute_error, max_depth=10, max_features=sqrt, n_estimators=200;, score=-549.322 total time=   0.2s\n",
      "[CV 2/3] END criterion=absolute_error, max_depth=10, max_features=sqrt, n_estimators=200;, score=-646.831 total time=   0.2s\n",
      "[CV 3/3] END criterion=absolute_error, max_depth=10, max_features=sqrt, n_estimators=200;, score=-529.148 total time=   0.2s\n",
      "[CV 1/3] END criterion=absolute_error, max_depth=10, max_features=log2, n_estimators=50;, score=-537.531 total time=   0.0s\n",
      "[CV 2/3] END criterion=absolute_error, max_depth=10, max_features=log2, n_estimators=50;, score=-645.023 total time=   0.0s\n",
      "[CV 3/3] END criterion=absolute_error, max_depth=10, max_features=log2, n_estimators=50;, score=-550.977 total time=   0.0s\n",
      "[CV 1/3] END criterion=absolute_error, max_depth=10, max_features=log2, n_estimators=100;, score=-541.904 total time=   0.1s\n",
      "[CV 2/3] END criterion=absolute_error, max_depth=10, max_features=log2, n_estimators=100;, score=-640.318 total time=   0.1s\n",
      "[CV 3/3] END criterion=absolute_error, max_depth=10, max_features=log2, n_estimators=100;, score=-534.433 total time=   0.1s\n",
      "[CV 1/3] END criterion=absolute_error, max_depth=10, max_features=log2, n_estimators=200;, score=-549.322 total time=   0.2s\n",
      "[CV 2/3] END criterion=absolute_error, max_depth=10, max_features=log2, n_estimators=200;, score=-646.831 total time=   0.2s\n",
      "[CV 3/3] END criterion=absolute_error, max_depth=10, max_features=log2, n_estimators=200;, score=-529.148 total time=   0.2s\n",
      "[CV 1/3] END criterion=absolute_error, max_depth=10, max_features=1, n_estimators=50;, score=-680.213 total time=   0.0s\n",
      "[CV 2/3] END criterion=absolute_error, max_depth=10, max_features=1, n_estimators=50;, score=-703.750 total time=   0.0s\n",
      "[CV 3/3] END criterion=absolute_error, max_depth=10, max_features=1, n_estimators=50;, score=-603.754 total time=   0.0s\n",
      "[CV 1/3] END criterion=absolute_error, max_depth=10, max_features=1, n_estimators=100;, score=-684.916 total time=   0.0s\n",
      "[CV 2/3] END criterion=absolute_error, max_depth=10, max_features=1, n_estimators=100;, score=-707.906 total time=   0.0s\n",
      "[CV 3/3] END criterion=absolute_error, max_depth=10, max_features=1, n_estimators=100;, score=-601.515 total time=   0.0s\n",
      "[CV 1/3] END criterion=absolute_error, max_depth=10, max_features=1, n_estimators=200;, score=-686.304 total time=   0.1s\n",
      "[CV 2/3] END criterion=absolute_error, max_depth=10, max_features=1, n_estimators=200;, score=-692.735 total time=   0.1s\n",
      "[CV 3/3] END criterion=absolute_error, max_depth=10, max_features=1, n_estimators=200;, score=-591.152 total time=   0.1s\n",
      "[CV 1/3] END criterion=absolute_error, max_depth=15, max_features=sqrt, n_estimators=50;, score=-536.667 total time=   0.0s\n",
      "[CV 2/3] END criterion=absolute_error, max_depth=15, max_features=sqrt, n_estimators=50;, score=-645.125 total time=   0.0s\n",
      "[CV 3/3] END criterion=absolute_error, max_depth=15, max_features=sqrt, n_estimators=50;, score=-525.343 total time=   0.0s\n",
      "[CV 1/3] END criterion=absolute_error, max_depth=15, max_features=sqrt, n_estimators=100;, score=-543.240 total time=   0.1s\n",
      "[CV 2/3] END criterion=absolute_error, max_depth=15, max_features=sqrt, n_estimators=100;, score=-645.496 total time=   0.1s\n",
      "[CV 3/3] END criterion=absolute_error, max_depth=15, max_features=sqrt, n_estimators=100;, score=-514.142 total time=   0.1s\n",
      "[CV 1/3] END criterion=absolute_error, max_depth=15, max_features=sqrt, n_estimators=200;, score=-544.475 total time=   0.2s\n",
      "[CV 2/3] END criterion=absolute_error, max_depth=15, max_features=sqrt, n_estimators=200;, score=-641.871 total time=   0.2s\n",
      "[CV 3/3] END criterion=absolute_error, max_depth=15, max_features=sqrt, n_estimators=200;, score=-515.409 total time=   0.2s\n",
      "[CV 1/3] END criterion=absolute_error, max_depth=15, max_features=log2, n_estimators=50;, score=-536.667 total time=   0.0s\n",
      "[CV 2/3] END criterion=absolute_error, max_depth=15, max_features=log2, n_estimators=50;, score=-645.125 total time=   0.0s\n",
      "[CV 3/3] END criterion=absolute_error, max_depth=15, max_features=log2, n_estimators=50;, score=-525.343 total time=   0.0s\n",
      "[CV 1/3] END criterion=absolute_error, max_depth=15, max_features=log2, n_estimators=100;, score=-543.240 total time=   0.1s\n",
      "[CV 2/3] END criterion=absolute_error, max_depth=15, max_features=log2, n_estimators=100;, score=-645.496 total time=   0.1s\n",
      "[CV 3/3] END criterion=absolute_error, max_depth=15, max_features=log2, n_estimators=100;, score=-514.142 total time=   0.1s\n",
      "[CV 1/3] END criterion=absolute_error, max_depth=15, max_features=log2, n_estimators=200;, score=-544.475 total time=   0.2s\n",
      "[CV 2/3] END criterion=absolute_error, max_depth=15, max_features=log2, n_estimators=200;, score=-641.871 total time=   0.2s\n",
      "[CV 3/3] END criterion=absolute_error, max_depth=15, max_features=log2, n_estimators=200;, score=-515.409 total time=   0.2s\n",
      "[CV 1/3] END criterion=absolute_error, max_depth=15, max_features=1, n_estimators=50;, score=-679.550 total time=   0.0s\n",
      "[CV 2/3] END criterion=absolute_error, max_depth=15, max_features=1, n_estimators=50;, score=-699.183 total time=   0.0s\n",
      "[CV 3/3] END criterion=absolute_error, max_depth=15, max_features=1, n_estimators=50;, score=-633.213 total time=   0.0s\n",
      "[CV 1/3] END criterion=absolute_error, max_depth=15, max_features=1, n_estimators=100;, score=-669.869 total time=   0.0s\n",
      "[CV 2/3] END criterion=absolute_error, max_depth=15, max_features=1, n_estimators=100;, score=-697.049 total time=   0.0s\n",
      "[CV 3/3] END criterion=absolute_error, max_depth=15, max_features=1, n_estimators=100;, score=-610.421 total time=   0.0s\n",
      "[CV 1/3] END criterion=absolute_error, max_depth=15, max_features=1, n_estimators=200;, score=-675.599 total time=   0.1s\n",
      "[CV 2/3] END criterion=absolute_error, max_depth=15, max_features=1, n_estimators=200;, score=-689.064 total time=   0.1s\n",
      "[CV 3/3] END criterion=absolute_error, max_depth=15, max_features=1, n_estimators=200;, score=-592.803 total time=   0.1s\n",
      "[CV 1/3] END criterion=friedman_mse, max_depth=5, max_features=sqrt, n_estimators=50;, score=-550.101 total time=   0.0s\n",
      "[CV 2/3] END criterion=friedman_mse, max_depth=5, max_features=sqrt, n_estimators=50;, score=-685.601 total time=   0.0s\n",
      "[CV 3/3] END criterion=friedman_mse, max_depth=5, max_features=sqrt, n_estimators=50;, score=-539.805 total time=   0.0s\n",
      "[CV 1/3] END criterion=friedman_mse, max_depth=5, max_features=sqrt, n_estimators=100;, score=-564.603 total time=   0.0s\n",
      "[CV 2/3] END criterion=friedman_mse, max_depth=5, max_features=sqrt, n_estimators=100;, score=-669.839 total time=   0.0s\n",
      "[CV 3/3] END criterion=friedman_mse, max_depth=5, max_features=sqrt, n_estimators=100;, score=-529.349 total time=   0.0s\n",
      "[CV 1/3] END criterion=friedman_mse, max_depth=5, max_features=sqrt, n_estimators=200;, score=-568.342 total time=   0.0s\n",
      "[CV 2/3] END criterion=friedman_mse, max_depth=5, max_features=sqrt, n_estimators=200;, score=-662.229 total time=   0.0s\n",
      "[CV 3/3] END criterion=friedman_mse, max_depth=5, max_features=sqrt, n_estimators=200;, score=-538.964 total time=   0.0s\n",
      "[CV 1/3] END criterion=friedman_mse, max_depth=5, max_features=log2, n_estimators=50;, score=-550.101 total time=   0.0s\n",
      "[CV 2/3] END criterion=friedman_mse, max_depth=5, max_features=log2, n_estimators=50;, score=-685.601 total time=   0.0s\n",
      "[CV 3/3] END criterion=friedman_mse, max_depth=5, max_features=log2, n_estimators=50;, score=-539.805 total time=   0.0s\n",
      "[CV 1/3] END criterion=friedman_mse, max_depth=5, max_features=log2, n_estimators=100;, score=-564.603 total time=   0.0s\n",
      "[CV 2/3] END criterion=friedman_mse, max_depth=5, max_features=log2, n_estimators=100;, score=-669.839 total time=   0.0s\n",
      "[CV 3/3] END criterion=friedman_mse, max_depth=5, max_features=log2, n_estimators=100;, score=-529.349 total time=   0.0s\n",
      "[CV 1/3] END criterion=friedman_mse, max_depth=5, max_features=log2, n_estimators=200;, score=-568.342 total time=   0.0s\n",
      "[CV 2/3] END criterion=friedman_mse, max_depth=5, max_features=log2, n_estimators=200;, score=-662.229 total time=   0.0s\n",
      "[CV 3/3] END criterion=friedman_mse, max_depth=5, max_features=log2, n_estimators=200;, score=-538.964 total time=   0.0s\n",
      "[CV 1/3] END criterion=friedman_mse, max_depth=5, max_features=1, n_estimators=50;, score=-745.536 total time=   0.0s\n",
      "[CV 2/3] END criterion=friedman_mse, max_depth=5, max_features=1, n_estimators=50;, score=-760.899 total time=   0.0s\n",
      "[CV 3/3] END criterion=friedman_mse, max_depth=5, max_features=1, n_estimators=50;, score=-687.268 total time=   0.0s\n",
      "[CV 1/3] END criterion=friedman_mse, max_depth=5, max_features=1, n_estimators=100;, score=-744.457 total time=   0.0s\n",
      "[CV 2/3] END criterion=friedman_mse, max_depth=5, max_features=1, n_estimators=100;, score=-757.053 total time=   0.0s\n",
      "[CV 3/3] END criterion=friedman_mse, max_depth=5, max_features=1, n_estimators=100;, score=-696.290 total time=   0.0s\n",
      "[CV 1/3] END criterion=friedman_mse, max_depth=5, max_features=1, n_estimators=200;, score=-751.875 total time=   0.0s\n",
      "[CV 2/3] END criterion=friedman_mse, max_depth=5, max_features=1, n_estimators=200;, score=-749.549 total time=   0.0s\n",
      "[CV 3/3] END criterion=friedman_mse, max_depth=5, max_features=1, n_estimators=200;, score=-687.456 total time=   0.0s\n",
      "[CV 1/3] END criterion=friedman_mse, max_depth=10, max_features=sqrt, n_estimators=50;, score=-557.312 total time=   0.0s\n",
      "[CV 2/3] END criterion=friedman_mse, max_depth=10, max_features=sqrt, n_estimators=50;, score=-643.654 total time=   0.0s\n",
      "[CV 3/3] END criterion=friedman_mse, max_depth=10, max_features=sqrt, n_estimators=50;, score=-545.399 total time=   0.0s\n",
      "[CV 1/3] END criterion=friedman_mse, max_depth=10, max_features=sqrt, n_estimators=100;, score=-549.831 total time=   0.0s\n",
      "[CV 2/3] END criterion=friedman_mse, max_depth=10, max_features=sqrt, n_estimators=100;, score=-648.724 total time=   0.0s\n",
      "[CV 3/3] END criterion=friedman_mse, max_depth=10, max_features=sqrt, n_estimators=100;, score=-538.721 total time=   0.0s\n",
      "[CV 1/3] END criterion=friedman_mse, max_depth=10, max_features=sqrt, n_estimators=200;, score=-550.760 total time=   0.1s\n",
      "[CV 2/3] END criterion=friedman_mse, max_depth=10, max_features=sqrt, n_estimators=200;, score=-640.573 total time=   0.1s\n",
      "[CV 3/3] END criterion=friedman_mse, max_depth=10, max_features=sqrt, n_estimators=200;, score=-523.241 total time=   0.1s\n",
      "[CV 1/3] END criterion=friedman_mse, max_depth=10, max_features=log2, n_estimators=50;, score=-557.312 total time=   0.0s\n",
      "[CV 2/3] END criterion=friedman_mse, max_depth=10, max_features=log2, n_estimators=50;, score=-643.654 total time=   0.0s\n",
      "[CV 3/3] END criterion=friedman_mse, max_depth=10, max_features=log2, n_estimators=50;, score=-545.399 total time=   0.0s\n",
      "[CV 1/3] END criterion=friedman_mse, max_depth=10, max_features=log2, n_estimators=100;, score=-549.831 total time=   0.0s\n",
      "[CV 2/3] END criterion=friedman_mse, max_depth=10, max_features=log2, n_estimators=100;, score=-648.724 total time=   0.0s\n",
      "[CV 3/3] END criterion=friedman_mse, max_depth=10, max_features=log2, n_estimators=100;, score=-538.721 total time=   0.0s\n",
      "[CV 1/3] END criterion=friedman_mse, max_depth=10, max_features=log2, n_estimators=200;, score=-550.760 total time=   0.1s\n",
      "[CV 2/3] END criterion=friedman_mse, max_depth=10, max_features=log2, n_estimators=200;, score=-640.573 total time=   0.1s\n",
      "[CV 3/3] END criterion=friedman_mse, max_depth=10, max_features=log2, n_estimators=200;, score=-523.241 total time=   0.1s\n",
      "[CV 1/3] END criterion=friedman_mse, max_depth=10, max_features=1, n_estimators=50;, score=-663.263 total time=   0.0s\n",
      "[CV 2/3] END criterion=friedman_mse, max_depth=10, max_features=1, n_estimators=50;, score=-685.694 total time=   0.0s\n",
      "[CV 3/3] END criterion=friedman_mse, max_depth=10, max_features=1, n_estimators=50;, score=-591.793 total time=   0.0s\n",
      "[CV 1/3] END criterion=friedman_mse, max_depth=10, max_features=1, n_estimators=100;, score=-676.446 total time=   0.0s\n",
      "[CV 2/3] END criterion=friedman_mse, max_depth=10, max_features=1, n_estimators=100;, score=-694.668 total time=   0.0s\n",
      "[CV 3/3] END criterion=friedman_mse, max_depth=10, max_features=1, n_estimators=100;, score=-579.255 total time=   0.0s\n",
      "[CV 1/3] END criterion=friedman_mse, max_depth=10, max_features=1, n_estimators=200;, score=-670.755 total time=   0.0s\n",
      "[CV 2/3] END criterion=friedman_mse, max_depth=10, max_features=1, n_estimators=200;, score=-677.979 total time=   0.0s\n",
      "[CV 3/3] END criterion=friedman_mse, max_depth=10, max_features=1, n_estimators=200;, score=-585.562 total time=   0.0s\n",
      "[CV 1/3] END criterion=friedman_mse, max_depth=15, max_features=sqrt, n_estimators=50;, score=-546.645 total time=   0.0s\n",
      "[CV 2/3] END criterion=friedman_mse, max_depth=15, max_features=sqrt, n_estimators=50;, score=-649.013 total time=   0.0s\n",
      "[CV 3/3] END criterion=friedman_mse, max_depth=15, max_features=sqrt, n_estimators=50;, score=-519.460 total time=   0.0s\n",
      "[CV 1/3] END criterion=friedman_mse, max_depth=15, max_features=sqrt, n_estimators=100;, score=-547.420 total time=   0.0s\n",
      "[CV 2/3] END criterion=friedman_mse, max_depth=15, max_features=sqrt, n_estimators=100;, score=-646.787 total time=   0.0s\n",
      "[CV 3/3] END criterion=friedman_mse, max_depth=15, max_features=sqrt, n_estimators=100;, score=-514.434 total time=   0.0s\n",
      "[CV 1/3] END criterion=friedman_mse, max_depth=15, max_features=sqrt, n_estimators=200;, score=-553.968 total time=   0.1s\n",
      "[CV 2/3] END criterion=friedman_mse, max_depth=15, max_features=sqrt, n_estimators=200;, score=-644.095 total time=   0.1s\n",
      "[CV 3/3] END criterion=friedman_mse, max_depth=15, max_features=sqrt, n_estimators=200;, score=-510.616 total time=   0.1s\n",
      "[CV 1/3] END criterion=friedman_mse, max_depth=15, max_features=log2, n_estimators=50;, score=-546.645 total time=   0.0s\n",
      "[CV 2/3] END criterion=friedman_mse, max_depth=15, max_features=log2, n_estimators=50;, score=-649.013 total time=   0.0s\n",
      "[CV 3/3] END criterion=friedman_mse, max_depth=15, max_features=log2, n_estimators=50;, score=-519.460 total time=   0.0s\n",
      "[CV 1/3] END criterion=friedman_mse, max_depth=15, max_features=log2, n_estimators=100;, score=-547.420 total time=   0.0s\n",
      "[CV 2/3] END criterion=friedman_mse, max_depth=15, max_features=log2, n_estimators=100;, score=-646.787 total time=   0.0s\n",
      "[CV 3/3] END criterion=friedman_mse, max_depth=15, max_features=log2, n_estimators=100;, score=-514.434 total time=   0.0s\n",
      "[CV 1/3] END criterion=friedman_mse, max_depth=15, max_features=log2, n_estimators=200;, score=-553.968 total time=   0.1s\n",
      "[CV 2/3] END criterion=friedman_mse, max_depth=15, max_features=log2, n_estimators=200;, score=-644.095 total time=   0.1s\n",
      "[CV 3/3] END criterion=friedman_mse, max_depth=15, max_features=log2, n_estimators=200;, score=-510.616 total time=   0.1s\n",
      "[CV 1/3] END criterion=friedman_mse, max_depth=15, max_features=1, n_estimators=50;, score=-657.568 total time=   0.0s\n",
      "[CV 2/3] END criterion=friedman_mse, max_depth=15, max_features=1, n_estimators=50;, score=-684.313 total time=   0.0s\n",
      "[CV 3/3] END criterion=friedman_mse, max_depth=15, max_features=1, n_estimators=50;, score=-578.057 total time=   0.0s\n",
      "[CV 1/3] END criterion=friedman_mse, max_depth=15, max_features=1, n_estimators=100;, score=-676.029 total time=   0.0s\n",
      "[CV 2/3] END criterion=friedman_mse, max_depth=15, max_features=1, n_estimators=100;, score=-694.384 total time=   0.0s\n",
      "[CV 3/3] END criterion=friedman_mse, max_depth=15, max_features=1, n_estimators=100;, score=-591.404 total time=   0.0s\n",
      "[CV 1/3] END criterion=friedman_mse, max_depth=15, max_features=1, n_estimators=200;, score=-669.152 total time=   0.0s\n",
      "[CV 2/3] END criterion=friedman_mse, max_depth=15, max_features=1, n_estimators=200;, score=-686.248 total time=   0.0s\n",
      "[CV 3/3] END criterion=friedman_mse, max_depth=15, max_features=1, n_estimators=200;, score=-586.437 total time=   0.0s\n",
      "[CV 1/3] END criterion=poisson, max_depth=5, max_features=sqrt, n_estimators=50;, score=-561.305 total time=   0.0s\n",
      "[CV 2/3] END criterion=poisson, max_depth=5, max_features=sqrt, n_estimators=50;, score=-672.704 total time=   0.0s\n",
      "[CV 3/3] END criterion=poisson, max_depth=5, max_features=sqrt, n_estimators=50;, score=-545.292 total time=   0.0s\n",
      "[CV 1/3] END criterion=poisson, max_depth=5, max_features=sqrt, n_estimators=100;, score=-572.730 total time=   0.0s\n",
      "[CV 2/3] END criterion=poisson, max_depth=5, max_features=sqrt, n_estimators=100;, score=-670.205 total time=   0.0s\n",
      "[CV 3/3] END criterion=poisson, max_depth=5, max_features=sqrt, n_estimators=100;, score=-541.231 total time=   0.0s\n",
      "[CV 1/3] END criterion=poisson, max_depth=5, max_features=sqrt, n_estimators=200;, score=-572.044 total time=   0.0s\n",
      "[CV 2/3] END criterion=poisson, max_depth=5, max_features=sqrt, n_estimators=200;, score=-669.490 total time=   0.0s\n",
      "[CV 3/3] END criterion=poisson, max_depth=5, max_features=sqrt, n_estimators=200;, score=-541.167 total time=   0.0s\n",
      "[CV 1/3] END criterion=poisson, max_depth=5, max_features=log2, n_estimators=50;, score=-561.305 total time=   0.0s\n",
      "[CV 2/3] END criterion=poisson, max_depth=5, max_features=log2, n_estimators=50;, score=-672.704 total time=   0.0s\n",
      "[CV 3/3] END criterion=poisson, max_depth=5, max_features=log2, n_estimators=50;, score=-545.292 total time=   0.0s\n",
      "[CV 1/3] END criterion=poisson, max_depth=5, max_features=log2, n_estimators=100;, score=-572.730 total time=   0.0s\n",
      "[CV 2/3] END criterion=poisson, max_depth=5, max_features=log2, n_estimators=100;, score=-670.205 total time=   0.0s\n",
      "[CV 3/3] END criterion=poisson, max_depth=5, max_features=log2, n_estimators=100;, score=-541.231 total time=   0.0s\n",
      "[CV 1/3] END criterion=poisson, max_depth=5, max_features=log2, n_estimators=200;, score=-572.044 total time=   0.0s\n",
      "[CV 2/3] END criterion=poisson, max_depth=5, max_features=log2, n_estimators=200;, score=-669.490 total time=   0.0s\n",
      "[CV 3/3] END criterion=poisson, max_depth=5, max_features=log2, n_estimators=200;, score=-541.167 total time=   0.0s\n",
      "[CV 1/3] END criterion=poisson, max_depth=5, max_features=1, n_estimators=50;, score=-751.330 total time=   0.0s\n",
      "[CV 2/3] END criterion=poisson, max_depth=5, max_features=1, n_estimators=50;, score=-748.802 total time=   0.0s\n",
      "[CV 3/3] END criterion=poisson, max_depth=5, max_features=1, n_estimators=50;, score=-664.652 total time=   0.0s\n",
      "[CV 1/3] END criterion=poisson, max_depth=5, max_features=1, n_estimators=100;, score=-745.532 total time=   0.0s\n",
      "[CV 2/3] END criterion=poisson, max_depth=5, max_features=1, n_estimators=100;, score=-756.551 total time=   0.0s\n",
      "[CV 3/3] END criterion=poisson, max_depth=5, max_features=1, n_estimators=100;, score=-665.618 total time=   0.0s\n",
      "[CV 1/3] END criterion=poisson, max_depth=5, max_features=1, n_estimators=200;, score=-746.566 total time=   0.0s\n",
      "[CV 2/3] END criterion=poisson, max_depth=5, max_features=1, n_estimators=200;, score=-750.233 total time=   0.0s\n",
      "[CV 3/3] END criterion=poisson, max_depth=5, max_features=1, n_estimators=200;, score=-665.195 total time=   0.0s\n",
      "[CV 1/3] END criterion=poisson, max_depth=10, max_features=sqrt, n_estimators=50;, score=-558.090 total time=   0.0s\n",
      "[CV 2/3] END criterion=poisson, max_depth=10, max_features=sqrt, n_estimators=50;, score=-636.507 total time=   0.0s\n",
      "[CV 3/3] END criterion=poisson, max_depth=10, max_features=sqrt, n_estimators=50;, score=-526.412 total time=   0.0s\n",
      "[CV 1/3] END criterion=poisson, max_depth=10, max_features=sqrt, n_estimators=100;, score=-559.882 total time=   0.0s\n",
      "[CV 2/3] END criterion=poisson, max_depth=10, max_features=sqrt, n_estimators=100;, score=-640.709 total time=   0.0s\n",
      "[CV 3/3] END criterion=poisson, max_depth=10, max_features=sqrt, n_estimators=100;, score=-527.257 total time=   0.0s\n",
      "[CV 1/3] END criterion=poisson, max_depth=10, max_features=sqrt, n_estimators=200;, score=-558.778 total time=   0.1s\n",
      "[CV 2/3] END criterion=poisson, max_depth=10, max_features=sqrt, n_estimators=200;, score=-645.820 total time=   0.1s\n",
      "[CV 3/3] END criterion=poisson, max_depth=10, max_features=sqrt, n_estimators=200;, score=-526.512 total time=   0.1s\n",
      "[CV 1/3] END criterion=poisson, max_depth=10, max_features=log2, n_estimators=50;, score=-558.090 total time=   0.0s\n",
      "[CV 2/3] END criterion=poisson, max_depth=10, max_features=log2, n_estimators=50;, score=-636.507 total time=   0.0s\n",
      "[CV 3/3] END criterion=poisson, max_depth=10, max_features=log2, n_estimators=50;, score=-526.412 total time=   0.0s\n",
      "[CV 1/3] END criterion=poisson, max_depth=10, max_features=log2, n_estimators=100;, score=-559.882 total time=   0.0s\n",
      "[CV 2/3] END criterion=poisson, max_depth=10, max_features=log2, n_estimators=100;, score=-640.709 total time=   0.0s\n",
      "[CV 3/3] END criterion=poisson, max_depth=10, max_features=log2, n_estimators=100;, score=-527.257 total time=   0.0s\n",
      "[CV 1/3] END criterion=poisson, max_depth=10, max_features=log2, n_estimators=200;, score=-558.778 total time=   0.1s\n",
      "[CV 2/3] END criterion=poisson, max_depth=10, max_features=log2, n_estimators=200;, score=-645.820 total time=   0.1s\n",
      "[CV 3/3] END criterion=poisson, max_depth=10, max_features=log2, n_estimators=200;, score=-526.512 total time=   0.1s\n",
      "[CV 1/3] END criterion=poisson, max_depth=10, max_features=1, n_estimators=50;, score=-650.391 total time=   0.0s\n",
      "[CV 2/3] END criterion=poisson, max_depth=10, max_features=1, n_estimators=50;, score=-701.247 total time=   0.0s\n",
      "[CV 3/3] END criterion=poisson, max_depth=10, max_features=1, n_estimators=50;, score=-585.178 total time=   0.0s\n",
      "[CV 1/3] END criterion=poisson, max_depth=10, max_features=1, n_estimators=100;, score=-654.947 total time=   0.0s\n",
      "[CV 2/3] END criterion=poisson, max_depth=10, max_features=1, n_estimators=100;, score=-705.695 total time=   0.0s\n",
      "[CV 3/3] END criterion=poisson, max_depth=10, max_features=1, n_estimators=100;, score=-583.184 total time=   0.0s\n",
      "[CV 1/3] END criterion=poisson, max_depth=10, max_features=1, n_estimators=200;, score=-660.906 total time=   0.1s\n",
      "[CV 2/3] END criterion=poisson, max_depth=10, max_features=1, n_estimators=200;, score=-692.085 total time=   0.1s\n",
      "[CV 3/3] END criterion=poisson, max_depth=10, max_features=1, n_estimators=200;, score=-580.657 total time=   0.1s\n",
      "[CV 1/3] END criterion=poisson, max_depth=15, max_features=sqrt, n_estimators=50;, score=-554.505 total time=   0.0s\n",
      "[CV 2/3] END criterion=poisson, max_depth=15, max_features=sqrt, n_estimators=50;, score=-648.479 total time=   0.0s\n",
      "[CV 3/3] END criterion=poisson, max_depth=15, max_features=sqrt, n_estimators=50;, score=-521.514 total time=   0.0s\n",
      "[CV 1/3] END criterion=poisson, max_depth=15, max_features=sqrt, n_estimators=100;, score=-559.756 total time=   0.0s\n",
      "[CV 2/3] END criterion=poisson, max_depth=15, max_features=sqrt, n_estimators=100;, score=-643.296 total time=   0.0s\n",
      "[CV 3/3] END criterion=poisson, max_depth=15, max_features=sqrt, n_estimators=100;, score=-514.948 total time=   0.0s\n",
      "[CV 1/3] END criterion=poisson, max_depth=15, max_features=sqrt, n_estimators=200;, score=-547.767 total time=   0.1s\n",
      "[CV 2/3] END criterion=poisson, max_depth=15, max_features=sqrt, n_estimators=200;, score=-643.088 total time=   0.1s\n",
      "[CV 3/3] END criterion=poisson, max_depth=15, max_features=sqrt, n_estimators=200;, score=-510.429 total time=   0.1s\n",
      "[CV 1/3] END criterion=poisson, max_depth=15, max_features=log2, n_estimators=50;, score=-554.505 total time=   0.0s\n",
      "[CV 2/3] END criterion=poisson, max_depth=15, max_features=log2, n_estimators=50;, score=-648.479 total time=   0.0s\n",
      "[CV 3/3] END criterion=poisson, max_depth=15, max_features=log2, n_estimators=50;, score=-521.514 total time=   0.0s\n",
      "[CV 1/3] END criterion=poisson, max_depth=15, max_features=log2, n_estimators=100;, score=-559.756 total time=   0.0s\n",
      "[CV 2/3] END criterion=poisson, max_depth=15, max_features=log2, n_estimators=100;, score=-643.296 total time=   0.0s\n",
      "[CV 3/3] END criterion=poisson, max_depth=15, max_features=log2, n_estimators=100;, score=-514.948 total time=   0.0s\n",
      "[CV 1/3] END criterion=poisson, max_depth=15, max_features=log2, n_estimators=200;, score=-547.767 total time=   0.1s\n",
      "[CV 2/3] END criterion=poisson, max_depth=15, max_features=log2, n_estimators=200;, score=-643.088 total time=   0.1s\n",
      "[CV 3/3] END criterion=poisson, max_depth=15, max_features=log2, n_estimators=200;, score=-510.429 total time=   0.1s\n",
      "[CV 1/3] END criterion=poisson, max_depth=15, max_features=1, n_estimators=50;, score=-630.285 total time=   0.0s\n",
      "[CV 2/3] END criterion=poisson, max_depth=15, max_features=1, n_estimators=50;, score=-687.089 total time=   0.0s\n",
      "[CV 3/3] END criterion=poisson, max_depth=15, max_features=1, n_estimators=50;, score=-585.930 total time=   0.0s\n",
      "[CV 1/3] END criterion=poisson, max_depth=15, max_features=1, n_estimators=100;, score=-653.876 total time=   0.0s\n",
      "[CV 2/3] END criterion=poisson, max_depth=15, max_features=1, n_estimators=100;, score=-690.888 total time=   0.0s\n",
      "[CV 3/3] END criterion=poisson, max_depth=15, max_features=1, n_estimators=100;, score=-593.843 total time=   0.0s\n",
      "[CV 1/3] END criterion=poisson, max_depth=15, max_features=1, n_estimators=200;, score=-657.577 total time=   0.1s\n",
      "[CV 2/3] END criterion=poisson, max_depth=15, max_features=1, n_estimators=200;, score=-687.878 total time=   0.1s\n",
      "[CV 3/3] END criterion=poisson, max_depth=15, max_features=1, n_estimators=200;, score=-588.346 total time=   0.1s\n"
     ]
    },
    {
     "data": {
      "text/html": [
       "<style>#sk-container-id-21 {color: black;}#sk-container-id-21 pre{padding: 0;}#sk-container-id-21 div.sk-toggleable {background-color: white;}#sk-container-id-21 label.sk-toggleable__label {cursor: pointer;display: block;width: 100%;margin-bottom: 0;padding: 0.3em;box-sizing: border-box;text-align: center;}#sk-container-id-21 label.sk-toggleable__label-arrow:before {content: \"▸\";float: left;margin-right: 0.25em;color: #696969;}#sk-container-id-21 label.sk-toggleable__label-arrow:hover:before {color: black;}#sk-container-id-21 div.sk-estimator:hover label.sk-toggleable__label-arrow:before {color: black;}#sk-container-id-21 div.sk-toggleable__content {max-height: 0;max-width: 0;overflow: hidden;text-align: left;background-color: #f0f8ff;}#sk-container-id-21 div.sk-toggleable__content pre {margin: 0.2em;color: black;border-radius: 0.25em;background-color: #f0f8ff;}#sk-container-id-21 input.sk-toggleable__control:checked~div.sk-toggleable__content {max-height: 200px;max-width: 100%;overflow: auto;}#sk-container-id-21 input.sk-toggleable__control:checked~label.sk-toggleable__label-arrow:before {content: \"▾\";}#sk-container-id-21 div.sk-estimator input.sk-toggleable__control:checked~label.sk-toggleable__label {background-color: #d4ebff;}#sk-container-id-21 div.sk-label input.sk-toggleable__control:checked~label.sk-toggleable__label {background-color: #d4ebff;}#sk-container-id-21 input.sk-hidden--visually {border: 0;clip: rect(1px 1px 1px 1px);clip: rect(1px, 1px, 1px, 1px);height: 1px;margin: -1px;overflow: hidden;padding: 0;position: absolute;width: 1px;}#sk-container-id-21 div.sk-estimator {font-family: monospace;background-color: #f0f8ff;border: 1px dotted black;border-radius: 0.25em;box-sizing: border-box;margin-bottom: 0.5em;}#sk-container-id-21 div.sk-estimator:hover {background-color: #d4ebff;}#sk-container-id-21 div.sk-parallel-item::after {content: \"\";width: 100%;border-bottom: 1px solid gray;flex-grow: 1;}#sk-container-id-21 div.sk-label:hover label.sk-toggleable__label {background-color: #d4ebff;}#sk-container-id-21 div.sk-serial::before {content: \"\";position: absolute;border-left: 1px solid gray;box-sizing: border-box;top: 0;bottom: 0;left: 50%;z-index: 0;}#sk-container-id-21 div.sk-serial {display: flex;flex-direction: column;align-items: center;background-color: white;padding-right: 0.2em;padding-left: 0.2em;position: relative;}#sk-container-id-21 div.sk-item {position: relative;z-index: 1;}#sk-container-id-21 div.sk-parallel {display: flex;align-items: stretch;justify-content: center;background-color: white;position: relative;}#sk-container-id-21 div.sk-item::before, #sk-container-id-21 div.sk-parallel-item::before {content: \"\";position: absolute;border-left: 1px solid gray;box-sizing: border-box;top: 0;bottom: 0;left: 50%;z-index: -1;}#sk-container-id-21 div.sk-parallel-item {display: flex;flex-direction: column;z-index: 1;position: relative;background-color: white;}#sk-container-id-21 div.sk-parallel-item:first-child::after {align-self: flex-end;width: 50%;}#sk-container-id-21 div.sk-parallel-item:last-child::after {align-self: flex-start;width: 50%;}#sk-container-id-21 div.sk-parallel-item:only-child::after {width: 0;}#sk-container-id-21 div.sk-dashed-wrapped {border: 1px dashed gray;margin: 0 0.4em 0.5em 0.4em;box-sizing: border-box;padding-bottom: 0.4em;background-color: white;}#sk-container-id-21 div.sk-label label {font-family: monospace;font-weight: bold;display: inline-block;line-height: 1.2em;}#sk-container-id-21 div.sk-label-container {text-align: center;}#sk-container-id-21 div.sk-container {/* jupyter's `normalize.less` sets `[hidden] { display: none; }` but bootstrap.min.css set `[hidden] { display: none !important; }` so we also need the `!important` here to be able to override the default hidden behavior on the sphinx rendered scikit-learn.org. See: https://github.com/scikit-learn/scikit-learn/issues/21755 */display: inline-block !important;position: relative;}#sk-container-id-21 div.sk-text-repr-fallback {display: none;}</style><div id=\"sk-container-id-21\" class=\"sk-top-container\"><div class=\"sk-text-repr-fallback\"><pre>GridSearchCV(cv=3, estimator=RandomForestRegressor(random_state=12345),\n",
       "             param_grid={&#x27;criterion&#x27;: [&#x27;squared_error&#x27;, &#x27;absolute_error&#x27;,\n",
       "                                       &#x27;friedman_mse&#x27;, &#x27;poisson&#x27;],\n",
       "                         &#x27;max_depth&#x27;: [5, 10, 15],\n",
       "                         &#x27;max_features&#x27;: [&#x27;sqrt&#x27;, &#x27;log2&#x27;, 1],\n",
       "                         &#x27;n_estimators&#x27;: [50, 100, 200]},\n",
       "             scoring=&#x27;neg_mean_absolute_error&#x27;, verbose=4)</pre><b>In a Jupyter environment, please rerun this cell to show the HTML representation or trust the notebook. <br />On GitHub, the HTML representation is unable to render, please try loading this page with nbviewer.org.</b></div><div class=\"sk-container\" hidden><div class=\"sk-item sk-dashed-wrapped\"><div class=\"sk-label-container\"><div class=\"sk-label sk-toggleable\"><input class=\"sk-toggleable__control sk-hidden--visually\" id=\"sk-estimator-id-21\" type=\"checkbox\" ><label for=\"sk-estimator-id-21\" class=\"sk-toggleable__label sk-toggleable__label-arrow\">GridSearchCV</label><div class=\"sk-toggleable__content\"><pre>GridSearchCV(cv=3, estimator=RandomForestRegressor(random_state=12345),\n",
       "             param_grid={&#x27;criterion&#x27;: [&#x27;squared_error&#x27;, &#x27;absolute_error&#x27;,\n",
       "                                       &#x27;friedman_mse&#x27;, &#x27;poisson&#x27;],\n",
       "                         &#x27;max_depth&#x27;: [5, 10, 15],\n",
       "                         &#x27;max_features&#x27;: [&#x27;sqrt&#x27;, &#x27;log2&#x27;, 1],\n",
       "                         &#x27;n_estimators&#x27;: [50, 100, 200]},\n",
       "             scoring=&#x27;neg_mean_absolute_error&#x27;, verbose=4)</pre></div></div></div><div class=\"sk-parallel\"><div class=\"sk-parallel-item\"><div class=\"sk-item\"><div class=\"sk-label-container\"><div class=\"sk-label sk-toggleable\"><input class=\"sk-toggleable__control sk-hidden--visually\" id=\"sk-estimator-id-22\" type=\"checkbox\" ><label for=\"sk-estimator-id-22\" class=\"sk-toggleable__label sk-toggleable__label-arrow\">estimator: RandomForestRegressor</label><div class=\"sk-toggleable__content\"><pre>RandomForestRegressor(random_state=12345)</pre></div></div></div><div class=\"sk-serial\"><div class=\"sk-item\"><div class=\"sk-estimator sk-toggleable\"><input class=\"sk-toggleable__control sk-hidden--visually\" id=\"sk-estimator-id-23\" type=\"checkbox\" ><label for=\"sk-estimator-id-23\" class=\"sk-toggleable__label sk-toggleable__label-arrow\">RandomForestRegressor</label><div class=\"sk-toggleable__content\"><pre>RandomForestRegressor(random_state=12345)</pre></div></div></div></div></div></div></div></div></div></div>"
      ],
      "text/plain": [
       "GridSearchCV(cv=3, estimator=RandomForestRegressor(random_state=12345),\n",
       "             param_grid={'criterion': ['squared_error', 'absolute_error',\n",
       "                                       'friedman_mse', 'poisson'],\n",
       "                         'max_depth': [5, 10, 15],\n",
       "                         'max_features': ['sqrt', 'log2', 1],\n",
       "                         'n_estimators': [50, 100, 200]},\n",
       "             scoring='neg_mean_absolute_error', verbose=4)"
      ]
     },
     "execution_count": 1020,
     "metadata": {},
     "output_type": "execute_result"
    }
   ],
   "source": [
    "GS.fit(features_train_sc, target_train)"
   ]
  },
  {
   "cell_type": "code",
   "execution_count": 1022,
   "id": "5f94f7a1-7434-40ac-b9ae-3a3c7286cda3",
   "metadata": {},
   "outputs": [
    {
     "data": {
      "text/plain": [
       "-567.0945135855253"
      ]
     },
     "execution_count": 1022,
     "metadata": {},
     "output_type": "execute_result"
    }
   ],
   "source": [
    "GS.best_score_"
   ]
  },
  {
   "cell_type": "code",
   "execution_count": 1024,
   "id": "95769eac-7bc2-46a6-b552-345acbb2677e",
   "metadata": {},
   "outputs": [
    {
     "data": {
      "text/html": [
       "<style>#sk-container-id-22 {color: black;}#sk-container-id-22 pre{padding: 0;}#sk-container-id-22 div.sk-toggleable {background-color: white;}#sk-container-id-22 label.sk-toggleable__label {cursor: pointer;display: block;width: 100%;margin-bottom: 0;padding: 0.3em;box-sizing: border-box;text-align: center;}#sk-container-id-22 label.sk-toggleable__label-arrow:before {content: \"▸\";float: left;margin-right: 0.25em;color: #696969;}#sk-container-id-22 label.sk-toggleable__label-arrow:hover:before {color: black;}#sk-container-id-22 div.sk-estimator:hover label.sk-toggleable__label-arrow:before {color: black;}#sk-container-id-22 div.sk-toggleable__content {max-height: 0;max-width: 0;overflow: hidden;text-align: left;background-color: #f0f8ff;}#sk-container-id-22 div.sk-toggleable__content pre {margin: 0.2em;color: black;border-radius: 0.25em;background-color: #f0f8ff;}#sk-container-id-22 input.sk-toggleable__control:checked~div.sk-toggleable__content {max-height: 200px;max-width: 100%;overflow: auto;}#sk-container-id-22 input.sk-toggleable__control:checked~label.sk-toggleable__label-arrow:before {content: \"▾\";}#sk-container-id-22 div.sk-estimator input.sk-toggleable__control:checked~label.sk-toggleable__label {background-color: #d4ebff;}#sk-container-id-22 div.sk-label input.sk-toggleable__control:checked~label.sk-toggleable__label {background-color: #d4ebff;}#sk-container-id-22 input.sk-hidden--visually {border: 0;clip: rect(1px 1px 1px 1px);clip: rect(1px, 1px, 1px, 1px);height: 1px;margin: -1px;overflow: hidden;padding: 0;position: absolute;width: 1px;}#sk-container-id-22 div.sk-estimator {font-family: monospace;background-color: #f0f8ff;border: 1px dotted black;border-radius: 0.25em;box-sizing: border-box;margin-bottom: 0.5em;}#sk-container-id-22 div.sk-estimator:hover {background-color: #d4ebff;}#sk-container-id-22 div.sk-parallel-item::after {content: \"\";width: 100%;border-bottom: 1px solid gray;flex-grow: 1;}#sk-container-id-22 div.sk-label:hover label.sk-toggleable__label {background-color: #d4ebff;}#sk-container-id-22 div.sk-serial::before {content: \"\";position: absolute;border-left: 1px solid gray;box-sizing: border-box;top: 0;bottom: 0;left: 50%;z-index: 0;}#sk-container-id-22 div.sk-serial {display: flex;flex-direction: column;align-items: center;background-color: white;padding-right: 0.2em;padding-left: 0.2em;position: relative;}#sk-container-id-22 div.sk-item {position: relative;z-index: 1;}#sk-container-id-22 div.sk-parallel {display: flex;align-items: stretch;justify-content: center;background-color: white;position: relative;}#sk-container-id-22 div.sk-item::before, #sk-container-id-22 div.sk-parallel-item::before {content: \"\";position: absolute;border-left: 1px solid gray;box-sizing: border-box;top: 0;bottom: 0;left: 50%;z-index: -1;}#sk-container-id-22 div.sk-parallel-item {display: flex;flex-direction: column;z-index: 1;position: relative;background-color: white;}#sk-container-id-22 div.sk-parallel-item:first-child::after {align-self: flex-end;width: 50%;}#sk-container-id-22 div.sk-parallel-item:last-child::after {align-self: flex-start;width: 50%;}#sk-container-id-22 div.sk-parallel-item:only-child::after {width: 0;}#sk-container-id-22 div.sk-dashed-wrapped {border: 1px dashed gray;margin: 0 0.4em 0.5em 0.4em;box-sizing: border-box;padding-bottom: 0.4em;background-color: white;}#sk-container-id-22 div.sk-label label {font-family: monospace;font-weight: bold;display: inline-block;line-height: 1.2em;}#sk-container-id-22 div.sk-label-container {text-align: center;}#sk-container-id-22 div.sk-container {/* jupyter's `normalize.less` sets `[hidden] { display: none; }` but bootstrap.min.css set `[hidden] { display: none !important; }` so we also need the `!important` here to be able to override the default hidden behavior on the sphinx rendered scikit-learn.org. See: https://github.com/scikit-learn/scikit-learn/issues/21755 */display: inline-block !important;position: relative;}#sk-container-id-22 div.sk-text-repr-fallback {display: none;}</style><div id=\"sk-container-id-22\" class=\"sk-top-container\"><div class=\"sk-text-repr-fallback\"><pre>RandomForestRegressor(criterion=&#x27;poisson&#x27;, max_depth=15, max_features=&#x27;sqrt&#x27;,\n",
       "                      n_estimators=200, random_state=12345)</pre><b>In a Jupyter environment, please rerun this cell to show the HTML representation or trust the notebook. <br />On GitHub, the HTML representation is unable to render, please try loading this page with nbviewer.org.</b></div><div class=\"sk-container\" hidden><div class=\"sk-item\"><div class=\"sk-estimator sk-toggleable\"><input class=\"sk-toggleable__control sk-hidden--visually\" id=\"sk-estimator-id-24\" type=\"checkbox\" checked><label for=\"sk-estimator-id-24\" class=\"sk-toggleable__label sk-toggleable__label-arrow\">RandomForestRegressor</label><div class=\"sk-toggleable__content\"><pre>RandomForestRegressor(criterion=&#x27;poisson&#x27;, max_depth=15, max_features=&#x27;sqrt&#x27;,\n",
       "                      n_estimators=200, random_state=12345)</pre></div></div></div></div></div>"
      ],
      "text/plain": [
       "RandomForestRegressor(criterion='poisson', max_depth=15, max_features='sqrt',\n",
       "                      n_estimators=200, random_state=12345)"
      ]
     },
     "execution_count": 1024,
     "metadata": {},
     "output_type": "execute_result"
    }
   ],
   "source": [
    "GS.best_estimator_"
   ]
  },
  {
   "cell_type": "code",
   "execution_count": 1047,
   "id": "4bd1a873-6479-4c38-be7c-fee5815abdfa",
   "metadata": {},
   "outputs": [],
   "source": [
    "RFR = RandomForestRegressor(\n",
    "    # criterion='poisson',\n",
    "    max_depth=10, \n",
    "    # max_features='sqrt',\n",
    "    n_estimators=100,\n",
    "    random_state=RANDOM_STATE\n",
    ")"
   ]
  },
  {
   "cell_type": "code",
   "execution_count": 1048,
   "id": "1c501962-2cb3-40af-9290-de0189c3cd53",
   "metadata": {},
   "outputs": [],
   "source": [
    "# RFR = RandomForestRegressor(\n",
    "#     max_depth=10,\n",
    "#     random_state=RANDOM_STATE,\n",
    "#     n_estimators=100\n",
    "# )"
   ]
  },
  {
   "cell_type": "code",
   "execution_count": 1050,
   "id": "022f5524-6096-42e9-be59-225d5ec8a005",
   "metadata": {},
   "outputs": [],
   "source": [
    "features_val_oe = features_val_oe.reset_index(drop=True)\n",
    "features_val_oe = features_val_oe.reset_index(drop=True)\n"
   ]
  },
  {
   "cell_type": "code",
   "execution_count": 1053,
   "id": "e58e6cd6-ad61-46fc-8b48-0dab26fc9d5c",
   "metadata": {},
   "outputs": [
    {
     "data": {
      "text/html": [
       "<div>\n",
       "<style scoped>\n",
       "    .dataframe tbody tr th:only-of-type {\n",
       "        vertical-align: middle;\n",
       "    }\n",
       "\n",
       "    .dataframe tbody tr th {\n",
       "        vertical-align: top;\n",
       "    }\n",
       "\n",
       "    .dataframe thead th {\n",
       "        text-align: right;\n",
       "    }\n",
       "</style>\n",
       "<table border=\"1\" class=\"dataframe\">\n",
       "  <thead>\n",
       "    <tr style=\"text-align: right;\">\n",
       "      <th></th>\n",
       "      <th>district</th>\n",
       "      <th>num_of_rooms</th>\n",
       "      <th>flat_type</th>\n",
       "      <th>street</th>\n",
       "      <th>total_square</th>\n",
       "      <th>living_square</th>\n",
       "      <th>kitchen_square</th>\n",
       "      <th>floor_num</th>\n",
       "      <th>total_floors</th>\n",
       "      <th>is_first_floor</th>\n",
       "      <th>is_last_floor</th>\n",
       "    </tr>\n",
       "  </thead>\n",
       "  <tbody>\n",
       "    <tr>\n",
       "      <th>0</th>\n",
       "      <td>2.0</td>\n",
       "      <td>2.0</td>\n",
       "      <td>7.0</td>\n",
       "      <td>29.0</td>\n",
       "      <td>40.3</td>\n",
       "      <td>20.0</td>\n",
       "      <td>9.0</td>\n",
       "      <td>10</td>\n",
       "      <td>10</td>\n",
       "      <td>0</td>\n",
       "      <td>1</td>\n",
       "    </tr>\n",
       "    <tr>\n",
       "      <th>1</th>\n",
       "      <td>2.0</td>\n",
       "      <td>3.0</td>\n",
       "      <td>15.0</td>\n",
       "      <td>68.0</td>\n",
       "      <td>65.0</td>\n",
       "      <td>43.0</td>\n",
       "      <td>9.0</td>\n",
       "      <td>6</td>\n",
       "      <td>9</td>\n",
       "      <td>0</td>\n",
       "      <td>0</td>\n",
       "    </tr>\n",
       "    <tr>\n",
       "      <th>2</th>\n",
       "      <td>2.0</td>\n",
       "      <td>2.0</td>\n",
       "      <td>5.0</td>\n",
       "      <td>5.0</td>\n",
       "      <td>24.0</td>\n",
       "      <td>14.0</td>\n",
       "      <td>5.0</td>\n",
       "      <td>2</td>\n",
       "      <td>9</td>\n",
       "      <td>0</td>\n",
       "      <td>0</td>\n",
       "    </tr>\n",
       "    <tr>\n",
       "      <th>3</th>\n",
       "      <td>7.0</td>\n",
       "      <td>0.0</td>\n",
       "      <td>6.0</td>\n",
       "      <td>0.0</td>\n",
       "      <td>100.0</td>\n",
       "      <td>65.0</td>\n",
       "      <td>25.0</td>\n",
       "      <td>-1</td>\n",
       "      <td>1</td>\n",
       "      <td>0</td>\n",
       "      <td>0</td>\n",
       "    </tr>\n",
       "    <tr>\n",
       "      <th>4</th>\n",
       "      <td>2.0</td>\n",
       "      <td>3.0</td>\n",
       "      <td>3.0</td>\n",
       "      <td>18.0</td>\n",
       "      <td>83.0</td>\n",
       "      <td>52.0</td>\n",
       "      <td>20.0</td>\n",
       "      <td>1</td>\n",
       "      <td>10</td>\n",
       "      <td>1</td>\n",
       "      <td>0</td>\n",
       "    </tr>\n",
       "    <tr>\n",
       "      <th>...</th>\n",
       "      <td>...</td>\n",
       "      <td>...</td>\n",
       "      <td>...</td>\n",
       "      <td>...</td>\n",
       "      <td>...</td>\n",
       "      <td>...</td>\n",
       "      <td>...</td>\n",
       "      <td>...</td>\n",
       "      <td>...</td>\n",
       "      <td>...</td>\n",
       "      <td>...</td>\n",
       "    </tr>\n",
       "    <tr>\n",
       "      <th>336</th>\n",
       "      <td>5.0</td>\n",
       "      <td>0.0</td>\n",
       "      <td>6.0</td>\n",
       "      <td>23.0</td>\n",
       "      <td>46.0</td>\n",
       "      <td>30.0</td>\n",
       "      <td>6.0</td>\n",
       "      <td>4</td>\n",
       "      <td>5</td>\n",
       "      <td>0</td>\n",
       "      <td>0</td>\n",
       "    </tr>\n",
       "    <tr>\n",
       "      <th>337</th>\n",
       "      <td>2.0</td>\n",
       "      <td>2.0</td>\n",
       "      <td>6.0</td>\n",
       "      <td>23.0</td>\n",
       "      <td>53.0</td>\n",
       "      <td>30.0</td>\n",
       "      <td>14.0</td>\n",
       "      <td>13</td>\n",
       "      <td>16</td>\n",
       "      <td>0</td>\n",
       "      <td>0</td>\n",
       "    </tr>\n",
       "    <tr>\n",
       "      <th>338</th>\n",
       "      <td>5.0</td>\n",
       "      <td>2.0</td>\n",
       "      <td>6.0</td>\n",
       "      <td>29.0</td>\n",
       "      <td>26.0</td>\n",
       "      <td>14.0</td>\n",
       "      <td>7.0</td>\n",
       "      <td>5</td>\n",
       "      <td>16</td>\n",
       "      <td>0</td>\n",
       "      <td>0</td>\n",
       "    </tr>\n",
       "    <tr>\n",
       "      <th>339</th>\n",
       "      <td>0.0</td>\n",
       "      <td>2.0</td>\n",
       "      <td>13.0</td>\n",
       "      <td>39.0</td>\n",
       "      <td>33.0</td>\n",
       "      <td>20.0</td>\n",
       "      <td>7.0</td>\n",
       "      <td>3</td>\n",
       "      <td>5</td>\n",
       "      <td>0</td>\n",
       "      <td>0</td>\n",
       "    </tr>\n",
       "    <tr>\n",
       "      <th>340</th>\n",
       "      <td>2.0</td>\n",
       "      <td>3.0</td>\n",
       "      <td>6.0</td>\n",
       "      <td>52.0</td>\n",
       "      <td>68.0</td>\n",
       "      <td>42.0</td>\n",
       "      <td>9.0</td>\n",
       "      <td>5</td>\n",
       "      <td>9</td>\n",
       "      <td>0</td>\n",
       "      <td>0</td>\n",
       "    </tr>\n",
       "  </tbody>\n",
       "</table>\n",
       "<p>341 rows × 11 columns</p>\n",
       "</div>"
      ],
      "text/plain": [
       "     district  num_of_rooms  flat_type  street  total_square  living_square  \\\n",
       "0         2.0           2.0        7.0    29.0          40.3           20.0   \n",
       "1         2.0           3.0       15.0    68.0          65.0           43.0   \n",
       "2         2.0           2.0        5.0     5.0          24.0           14.0   \n",
       "3         7.0           0.0        6.0     0.0         100.0           65.0   \n",
       "4         2.0           3.0        3.0    18.0          83.0           52.0   \n",
       "..        ...           ...        ...     ...           ...            ...   \n",
       "336       5.0           0.0        6.0    23.0          46.0           30.0   \n",
       "337       2.0           2.0        6.0    23.0          53.0           30.0   \n",
       "338       5.0           2.0        6.0    29.0          26.0           14.0   \n",
       "339       0.0           2.0       13.0    39.0          33.0           20.0   \n",
       "340       2.0           3.0        6.0    52.0          68.0           42.0   \n",
       "\n",
       "     kitchen_square  floor_num  total_floors  is_first_floor  is_last_floor  \n",
       "0               9.0         10            10               0              1  \n",
       "1               9.0          6             9               0              0  \n",
       "2               5.0          2             9               0              0  \n",
       "3              25.0         -1             1               0              0  \n",
       "4              20.0          1            10               1              0  \n",
       "..              ...        ...           ...             ...            ...  \n",
       "336             6.0          4             5               0              0  \n",
       "337            14.0         13            16               0              0  \n",
       "338             7.0          5            16               0              0  \n",
       "339             7.0          3             5               0              0  \n",
       "340             9.0          5             9               0              0  \n",
       "\n",
       "[341 rows x 11 columns]"
      ]
     },
     "execution_count": 1053,
     "metadata": {},
     "output_type": "execute_result"
    }
   ],
   "source": [
    "features_train_oe"
   ]
  },
  {
   "cell_type": "code",
   "execution_count": 1052,
   "id": "af108726-54ef-4490-84aa-fb2d1922ff0b",
   "metadata": {},
   "outputs": [
    {
     "data": {
      "text/html": [
       "<style>#sk-container-id-26 {color: black;}#sk-container-id-26 pre{padding: 0;}#sk-container-id-26 div.sk-toggleable {background-color: white;}#sk-container-id-26 label.sk-toggleable__label {cursor: pointer;display: block;width: 100%;margin-bottom: 0;padding: 0.3em;box-sizing: border-box;text-align: center;}#sk-container-id-26 label.sk-toggleable__label-arrow:before {content: \"▸\";float: left;margin-right: 0.25em;color: #696969;}#sk-container-id-26 label.sk-toggleable__label-arrow:hover:before {color: black;}#sk-container-id-26 div.sk-estimator:hover label.sk-toggleable__label-arrow:before {color: black;}#sk-container-id-26 div.sk-toggleable__content {max-height: 0;max-width: 0;overflow: hidden;text-align: left;background-color: #f0f8ff;}#sk-container-id-26 div.sk-toggleable__content pre {margin: 0.2em;color: black;border-radius: 0.25em;background-color: #f0f8ff;}#sk-container-id-26 input.sk-toggleable__control:checked~div.sk-toggleable__content {max-height: 200px;max-width: 100%;overflow: auto;}#sk-container-id-26 input.sk-toggleable__control:checked~label.sk-toggleable__label-arrow:before {content: \"▾\";}#sk-container-id-26 div.sk-estimator input.sk-toggleable__control:checked~label.sk-toggleable__label {background-color: #d4ebff;}#sk-container-id-26 div.sk-label input.sk-toggleable__control:checked~label.sk-toggleable__label {background-color: #d4ebff;}#sk-container-id-26 input.sk-hidden--visually {border: 0;clip: rect(1px 1px 1px 1px);clip: rect(1px, 1px, 1px, 1px);height: 1px;margin: -1px;overflow: hidden;padding: 0;position: absolute;width: 1px;}#sk-container-id-26 div.sk-estimator {font-family: monospace;background-color: #f0f8ff;border: 1px dotted black;border-radius: 0.25em;box-sizing: border-box;margin-bottom: 0.5em;}#sk-container-id-26 div.sk-estimator:hover {background-color: #d4ebff;}#sk-container-id-26 div.sk-parallel-item::after {content: \"\";width: 100%;border-bottom: 1px solid gray;flex-grow: 1;}#sk-container-id-26 div.sk-label:hover label.sk-toggleable__label {background-color: #d4ebff;}#sk-container-id-26 div.sk-serial::before {content: \"\";position: absolute;border-left: 1px solid gray;box-sizing: border-box;top: 0;bottom: 0;left: 50%;z-index: 0;}#sk-container-id-26 div.sk-serial {display: flex;flex-direction: column;align-items: center;background-color: white;padding-right: 0.2em;padding-left: 0.2em;position: relative;}#sk-container-id-26 div.sk-item {position: relative;z-index: 1;}#sk-container-id-26 div.sk-parallel {display: flex;align-items: stretch;justify-content: center;background-color: white;position: relative;}#sk-container-id-26 div.sk-item::before, #sk-container-id-26 div.sk-parallel-item::before {content: \"\";position: absolute;border-left: 1px solid gray;box-sizing: border-box;top: 0;bottom: 0;left: 50%;z-index: -1;}#sk-container-id-26 div.sk-parallel-item {display: flex;flex-direction: column;z-index: 1;position: relative;background-color: white;}#sk-container-id-26 div.sk-parallel-item:first-child::after {align-self: flex-end;width: 50%;}#sk-container-id-26 div.sk-parallel-item:last-child::after {align-self: flex-start;width: 50%;}#sk-container-id-26 div.sk-parallel-item:only-child::after {width: 0;}#sk-container-id-26 div.sk-dashed-wrapped {border: 1px dashed gray;margin: 0 0.4em 0.5em 0.4em;box-sizing: border-box;padding-bottom: 0.4em;background-color: white;}#sk-container-id-26 div.sk-label label {font-family: monospace;font-weight: bold;display: inline-block;line-height: 1.2em;}#sk-container-id-26 div.sk-label-container {text-align: center;}#sk-container-id-26 div.sk-container {/* jupyter's `normalize.less` sets `[hidden] { display: none; }` but bootstrap.min.css set `[hidden] { display: none !important; }` so we also need the `!important` here to be able to override the default hidden behavior on the sphinx rendered scikit-learn.org. See: https://github.com/scikit-learn/scikit-learn/issues/21755 */display: inline-block !important;position: relative;}#sk-container-id-26 div.sk-text-repr-fallback {display: none;}</style><div id=\"sk-container-id-26\" class=\"sk-top-container\"><div class=\"sk-text-repr-fallback\"><pre>RandomForestRegressor(max_depth=10, random_state=12345)</pre><b>In a Jupyter environment, please rerun this cell to show the HTML representation or trust the notebook. <br />On GitHub, the HTML representation is unable to render, please try loading this page with nbviewer.org.</b></div><div class=\"sk-container\" hidden><div class=\"sk-item\"><div class=\"sk-estimator sk-toggleable\"><input class=\"sk-toggleable__control sk-hidden--visually\" id=\"sk-estimator-id-28\" type=\"checkbox\" checked><label for=\"sk-estimator-id-28\" class=\"sk-toggleable__label sk-toggleable__label-arrow\">RandomForestRegressor</label><div class=\"sk-toggleable__content\"><pre>RandomForestRegressor(max_depth=10, random_state=12345)</pre></div></div></div></div></div>"
      ],
      "text/plain": [
       "RandomForestRegressor(max_depth=10, random_state=12345)"
      ]
     },
     "execution_count": 1052,
     "metadata": {},
     "output_type": "execute_result"
    }
   ],
   "source": [
    "RFR.fit(features_train_oe, target_train)"
   ]
  },
  {
   "cell_type": "code",
   "execution_count": 1055,
   "id": "dad8c915-8ab3-4588-80b0-4a90671853c0",
   "metadata": {},
   "outputs": [
    {
     "name": "stdout",
     "output_type": "stream",
     "text": [
      "503.25228523155494\n"
     ]
    }
   ],
   "source": [
    "predictionsRFR = RFR.predict(features_val_oe)\n",
    "\n",
    "# метрика MAE\n",
    "maeRFR = mean_absolute_error(target_val, predictionsRFR)\n",
    "print(maeRFR)"
   ]
  },
  {
   "cell_type": "code",
   "execution_count": 1056,
   "id": "304ede7a-aa3c-48ff-8921-53dd070bccc8",
   "metadata": {},
   "outputs": [
    {
     "data": {
      "text/plain": [
       "22.796016460640452"
      ]
     },
     "execution_count": 1056,
     "metadata": {},
     "output_type": "execute_result"
    }
   ],
   "source": [
    "mean_absolute_percentage_error(target_val, predictionsRFR)*100"
   ]
  },
  {
   "cell_type": "code",
   "execution_count": 1057,
   "id": "888691a8-bb57-4e28-8719-699508dfdb09",
   "metadata": {},
   "outputs": [
    {
     "data": {
      "text/plain": [
       "720.2353498439822"
      ]
     },
     "execution_count": 1057,
     "metadata": {},
     "output_type": "execute_result"
    }
   ],
   "source": [
    "mean_squared_error(target_val, predictionsRFR) ** 0.5"
   ]
  },
  {
   "cell_type": "code",
   "execution_count": 1058,
   "id": "85eba103-615f-48bc-841e-9dffdd89f6a8",
   "metadata": {},
   "outputs": [
    {
     "name": "stdout",
     "output_type": "stream",
     "text": [
      "4260 4080.392189639629\n",
      "3000 4363.220167630616\n",
      "3600 4069.992041430793\n",
      "4050 4002.3244936477545\n",
      "1000 2133.0936324786326\n",
      "3500 3573.091282907472\n",
      "3700 3859.2183928062914\n",
      "4250 4001.4275375939847\n",
      "5100 4669.185009379509\n",
      "6990 6645.989399867376\n"
     ]
    }
   ],
   "source": [
    "for i in range(10):\n",
    "    print(target_val.iloc[i], predictionsRFR[i])"
   ]
  },
  {
   "cell_type": "code",
   "execution_count": 1059,
   "id": "9d7dc68e-7cdd-487d-be19-305f609e6261",
   "metadata": {},
   "outputs": [
    {
     "data": {
      "text/plain": [
       "86"
      ]
     },
     "execution_count": 1059,
     "metadata": {},
     "output_type": "execute_result"
    }
   ],
   "source": [
    "len(target_val)"
   ]
  },
  {
   "cell_type": "code",
   "execution_count": 1060,
   "id": "a10e2b4e-96c7-43ff-bd51-836c3b54acf9",
   "metadata": {},
   "outputs": [
    {
     "data": {
      "image/png": "[encoded data removed]",
      "text/plain": [
       "<Figure size 900x600 with 1 Axes>"
      ]
     },
     "metadata": {},
     "output_type": "display_data"
    }
   ],
   "source": [
    "# построим диаграмму значений\n",
    "fig, ax = plt.subplots(figsize=(9, 6))\n",
    "plt.rc('font', size=14)\n",
    "x = [i for i in range(15)]\n",
    "\n",
    "ax.bar(x, target_val[71:], color='#96ceb4', label='Факт')\n",
    "ax.bar(x, predictionsRFR[71:], width = .45, color='#ff6f69', label='Прогноз')\n",
    "# ax.plot(x, [y_test[:13].median() for i in range(13)], color='#36454f', label='Медиана')\n",
    "\n",
    "\n",
    "\n",
    "ax.set_ylabel('Стоимость квартиры')\n",
    "ax.set_title('Номер квартиры в таблице данных')\n",
    "ax.legend()\n",
    "plt.show()"
   ]
  },
  {
   "cell_type": "code",
   "execution_count": 1061,
   "id": "058e05e9-73ec-4599-b520-c1e5a9e2ce87",
   "metadata": {},
   "outputs": [
    {
     "data": {
      "text/plain": [
       "[(0.7770291694257448, 'total_square'),\n",
       " (0.040231378668611185, 'total_floors'),\n",
       " (0.039160227109966854, 'kitchen_square'),\n",
       " (0.03543478054277892, 'living_square'),\n",
       " (0.03045132933756871, 'street'),\n",
       " (0.028316163793768383, 'num_of_rooms'),\n",
       " (0.019135427084902422, 'floor_num'),\n",
       " (0.012814478101897139, 'district'),\n",
       " (0.010394255711051355, 'flat_type'),\n",
       " (0.004588425797274254, 'is_last_floor'),\n",
       " (0.0024443644264360276, 'is_first_floor')]"
      ]
     },
     "execution_count": 1061,
     "metadata": {},
     "output_type": "execute_result"
    }
   ],
   "source": [
    "sorted(zip(RFR.feature_importances_, features_val_oe.columns), reverse=True)"
   ]
  },
  {
   "cell_type": "code",
   "execution_count": 1075,
   "id": "94c830b6-f122-4569-be4e-a6559b158c1c",
   "metadata": {},
   "outputs": [],
   "source": [
    "most_important = [\n",
    "    'total_square', \n",
    "    'total_floors', \n",
    "    'kitchen_square', \n",
    "    'living_square', \n",
    "    'street', \n",
    "    'num_of_rooms', \n",
    "    'floor_num',\n",
    "    'district',\n",
    "    'flat_type'\n",
    "]"
   ]
  },
  {
   "cell_type": "code",
   "execution_count": 1076,
   "id": "efe2d779-5a22-48fb-b715-b0ff74a68152",
   "metadata": {},
   "outputs": [],
   "source": [
    "RFR_mi = RandomForestRegressor(\n",
    "    # criterion='poisson',\n",
    "    max_depth=10, \n",
    "    # max_features='sqrt',\n",
    "    n_estimators=100,\n",
    "    random_state=RANDOM_STATE\n",
    ")"
   ]
  },
  {
   "cell_type": "code",
   "execution_count": 1077,
   "id": "d6d87bd7-5afb-4dfe-bf7f-a8a33939e3e5",
   "metadata": {},
   "outputs": [
    {
     "data": {
      "text/html": [
       "<style>#sk-container-id-30 {color: black;}#sk-container-id-30 pre{padding: 0;}#sk-container-id-30 div.sk-toggleable {background-color: white;}#sk-container-id-30 label.sk-toggleable__label {cursor: pointer;display: block;width: 100%;margin-bottom: 0;padding: 0.3em;box-sizing: border-box;text-align: center;}#sk-container-id-30 label.sk-toggleable__label-arrow:before {content: \"▸\";float: left;margin-right: 0.25em;color: #696969;}#sk-container-id-30 label.sk-toggleable__label-arrow:hover:before {color: black;}#sk-container-id-30 div.sk-estimator:hover label.sk-toggleable__label-arrow:before {color: black;}#sk-container-id-30 div.sk-toggleable__content {max-height: 0;max-width: 0;overflow: hidden;text-align: left;background-color: #f0f8ff;}#sk-container-id-30 div.sk-toggleable__content pre {margin: 0.2em;color: black;border-radius: 0.25em;background-color: #f0f8ff;}#sk-container-id-30 input.sk-toggleable__control:checked~div.sk-toggleable__content {max-height: 200px;max-width: 100%;overflow: auto;}#sk-container-id-30 input.sk-toggleable__control:checked~label.sk-toggleable__label-arrow:before {content: \"▾\";}#sk-container-id-30 div.sk-estimator input.sk-toggleable__control:checked~label.sk-toggleable__label {background-color: #d4ebff;}#sk-container-id-30 div.sk-label input.sk-toggleable__control:checked~label.sk-toggleable__label {background-color: #d4ebff;}#sk-container-id-30 input.sk-hidden--visually {border: 0;clip: rect(1px 1px 1px 1px);clip: rect(1px, 1px, 1px, 1px);height: 1px;margin: -1px;overflow: hidden;padding: 0;position: absolute;width: 1px;}#sk-container-id-30 div.sk-estimator {font-family: monospace;background-color: #f0f8ff;border: 1px dotted black;border-radius: 0.25em;box-sizing: border-box;margin-bottom: 0.5em;}#sk-container-id-30 div.sk-estimator:hover {background-color: #d4ebff;}#sk-container-id-30 div.sk-parallel-item::after {content: \"\";width: 100%;border-bottom: 1px solid gray;flex-grow: 1;}#sk-container-id-30 div.sk-label:hover label.sk-toggleable__label {background-color: #d4ebff;}#sk-container-id-30 div.sk-serial::before {content: \"\";position: absolute;border-left: 1px solid gray;box-sizing: border-box;top: 0;bottom: 0;left: 50%;z-index: 0;}#sk-container-id-30 div.sk-serial {display: flex;flex-direction: column;align-items: center;background-color: white;padding-right: 0.2em;padding-left: 0.2em;position: relative;}#sk-container-id-30 div.sk-item {position: relative;z-index: 1;}#sk-container-id-30 div.sk-parallel {display: flex;align-items: stretch;justify-content: center;background-color: white;position: relative;}#sk-container-id-30 div.sk-item::before, #sk-container-id-30 div.sk-parallel-item::before {content: \"\";position: absolute;border-left: 1px solid gray;box-sizing: border-box;top: 0;bottom: 0;left: 50%;z-index: -1;}#sk-container-id-30 div.sk-parallel-item {display: flex;flex-direction: column;z-index: 1;position: relative;background-color: white;}#sk-container-id-30 div.sk-parallel-item:first-child::after {align-self: flex-end;width: 50%;}#sk-container-id-30 div.sk-parallel-item:last-child::after {align-self: flex-start;width: 50%;}#sk-container-id-30 div.sk-parallel-item:only-child::after {width: 0;}#sk-container-id-30 div.sk-dashed-wrapped {border: 1px dashed gray;margin: 0 0.4em 0.5em 0.4em;box-sizing: border-box;padding-bottom: 0.4em;background-color: white;}#sk-container-id-30 div.sk-label label {font-family: monospace;font-weight: bold;display: inline-block;line-height: 1.2em;}#sk-container-id-30 div.sk-label-container {text-align: center;}#sk-container-id-30 div.sk-container {/* jupyter's `normalize.less` sets `[hidden] { display: none; }` but bootstrap.min.css set `[hidden] { display: none !important; }` so we also need the `!important` here to be able to override the default hidden behavior on the sphinx rendered scikit-learn.org. See: https://github.com/scikit-learn/scikit-learn/issues/21755 */display: inline-block !important;position: relative;}#sk-container-id-30 div.sk-text-repr-fallback {display: none;}</style><div id=\"sk-container-id-30\" class=\"sk-top-container\"><div class=\"sk-text-repr-fallback\"><pre>RandomForestRegressor(max_depth=10, random_state=12345)</pre><b>In a Jupyter environment, please rerun this cell to show the HTML representation or trust the notebook. <br />On GitHub, the HTML representation is unable to render, please try loading this page with nbviewer.org.</b></div><div class=\"sk-container\" hidden><div class=\"sk-item\"><div class=\"sk-estimator sk-toggleable\"><input class=\"sk-toggleable__control sk-hidden--visually\" id=\"sk-estimator-id-32\" type=\"checkbox\" checked><label for=\"sk-estimator-id-32\" class=\"sk-toggleable__label sk-toggleable__label-arrow\">RandomForestRegressor</label><div class=\"sk-toggleable__content\"><pre>RandomForestRegressor(max_depth=10, random_state=12345)</pre></div></div></div></div></div>"
      ],
      "text/plain": [
       "RandomForestRegressor(max_depth=10, random_state=12345)"
      ]
     },
     "execution_count": 1077,
     "metadata": {},
     "output_type": "execute_result"
    }
   ],
   "source": [
    "RFR.fit(features_train_sc[most_important], target_train)"
   ]
  },
  {
   "cell_type": "code",
   "execution_count": 1078,
   "id": "04378713-882e-4775-9f66-1ba960d75f69",
   "metadata": {},
   "outputs": [
    {
     "name": "stdout",
     "output_type": "stream",
     "text": [
      "509.2807473518596\n"
     ]
    }
   ],
   "source": [
    "predictionsRFR_mi = RFR.predict(features_val_sc[most_important])\n",
    "\n",
    "# метрика MAE\n",
    "maeRFR_mi = mean_absolute_error(target_val, predictionsRFR_mi)\n",
    "print(maeRFR_mi)"
   ]
  },
  {
   "cell_type": "code",
   "execution_count": null,
   "id": "63dfa5af-3b24-402c-9b59-74bfbbc9bdb6",
   "metadata": {},
   "outputs": [],
   "source": []
  },
  {
   "cell_type": "code",
   "execution_count": null,
   "id": "8c0dee08-49c1-41d3-8460-312497596c8a",
   "metadata": {},
   "outputs": [],
   "source": []
  },
  {
   "cell_type": "code",
   "execution_count": null,
   "id": "e787cc90-4332-44a0-b54d-93e246ab9701",
   "metadata": {},
   "outputs": [],
   "source": []
  },
  {
   "cell_type": "code",
   "execution_count": null,
   "id": "b76532cc-3e77-475c-bccc-978457867e06",
   "metadata": {},
   "outputs": [],
   "source": []
  },
  {
   "cell_type": "code",
   "execution_count": null,
   "id": "6a4d26f7-b8ba-4cb4-88ff-5e9a209d8902",
   "metadata": {},
   "outputs": [],
   "source": [
    " 3, 37, 82"
   ]
  },
  {
   "cell_type": "code",
   "execution_count": 89,
   "id": "30103a19-8875-4382-ac33-dba0cd7cc444",
   "metadata": {},
   "outputs": [],
   "source": [
    "example_1 = data[data['id'] == 3]"
   ]
  },
  {
   "cell_type": "code",
   "execution_count": 91,
   "id": "d8758779-31d8-454e-9343-27c7e13cf301",
   "metadata": {},
   "outputs": [
    {
     "data": {
      "text/plain": [
       "2    3330\n",
       "Name: price, dtype: int64"
      ]
     },
     "execution_count": 91,
     "metadata": {},
     "output_type": "execute_result"
    }
   ],
   "source": [
    "example_1['price']"
   ]
  },
  {
   "cell_type": "code",
   "execution_count": null,
   "id": "5a99288c-f81d-4bd0-88e9-bcbccbb9f399",
   "metadata": {},
   "outputs": [],
   "source": [
    "model_1.predict(sscaler.transform())"
   ]
  }
 ],
 "metadata": {
  "kernelspec": {
   "display_name": "Python 3 (ipykernel)",
   "language": "python",
   "name": "python3"
  },
  "language_info": {
   "codemirror_mode": {
    "name": "ipython",
    "version": 3
   },
   "file_extension": ".py",
   "mimetype": "text/x-python",
   "name": "python",
   "nbconvert_exporter": "python",
   "pygments_lexer": "ipython3",
   "version": "3.11.4"
  }
 },
 "nbformat": 4,
 "nbformat_minor": 5
}
