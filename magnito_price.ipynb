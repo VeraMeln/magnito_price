{
 "cells": [
  {
   "cell_type": "markdown",
   "id": "2c2626ae-a809-4048-bdcd-daa59cc7b75d",
   "metadata": {},
   "source": [
    "# Модель стоимости жилья в Магнитогорске"
   ]
  },
  {
   "cell_type": "markdown",
   "id": "29994b28-1fd9-468a-a22d-c5ec6aa02738",
   "metadata": {},
   "source": [
    "**id для демонстрации на собеседовании**\n",
    "id = 3, 37, 82"
   ]
  },
  {
   "cell_type": "markdown",
   "id": "e7ea8e44-32e5-49d6-b6bc-238885645f0e",
   "metadata": {},
   "source": [
    "## Введение"
   ]
  },
  {
   "cell_type": "markdown",
   "id": "c5b0168d-d84e-437e-8ade-46b5d6d1cb00",
   "metadata": {},
   "source": [
    "**Задача**\n",
    "\n",
    "Построить математическую модель стоимости жилья в зависимости от параметров этого жилья.\n",
    "\n",
    "\n",
    "Модель должна иметь REST API. На вход модели подаются параметры квартиры в формате JSON на выходе получается цена квартиры в формате JSON.\n",
    "\r\n",
    "Испытание проводится в режиме демонстрации экрана на собеседовании. Модель тестируется на 3х квартирах на выбор кандидата. (Просьба подготовить исходные данные (запросы) заранее)"
   ]
  },
  {
   "cell_type": "markdown",
   "id": "2404ee59-c5e5-4cf1-93b5-2c4f0170e0bd",
   "metadata": {},
   "source": [
    "\n",
    "**Данные**\n",
    "\n",
    "\n",
    "В качестве источника исходных данных предлагается использовать данные сайта магнитогорской недвижимости www.citystar.ru.\n",
    "\n",
    "Размер выборки исходных данных не имеет значения, однако она должна быть представительной (не следует делать ее слишком большой, т.к. задача тестовая).\n",
    "\n",
    "Данные должны быть загружены в базу данных."
   ]
  },
  {
   "cell_type": "markdown",
   "id": "09f28052-6e75-439d-bf1e-660f0a1048e6",
   "metadata": {},
   "source": [
    "## Импорт библиотек и загрузка данных"
   ]
  },
  {
   "cell_type": "code",
   "execution_count": 93,
   "id": "5bd465e7-4ee0-44b5-ab0b-fe7217837dea",
   "metadata": {},
   "outputs": [],
   "source": [
    "import sqlite3\n",
    "import pandas as pd\n",
    "import numpy as np\n",
    "import matplotlib.pyplot as plt\n",
    "import pickle\n",
    "\n",
    "from sklearn.model_selection import train_test_split, GridSearchCV\n",
    "from sklearn.base import BaseEstimator, TransformerMixin\n",
    "from sklearn.compose import ColumnTransformer\n",
    "from sklearn.preprocessing import OrdinalEncoder, StandardScaler\n",
    "from sklearn.pipeline import Pipeline\n",
    "from sklearn.metrics import mean_absolute_error, mean_absolute_percentage_error, mean_squared_error\n",
    ", \n",
    "RANDOM_STATE = 12345"
   ]
  },
  {
   "cell_type": "code",
   "execution_count": 94,
   "id": "a846f2ee-b8da-4aff-8e3b-790a034e7cfb",
   "metadata": {},
   "outputs": [],
   "source": [
    "# подключаемся к базе данных\n",
    "cnx = sqlite3.connect('db/magnitogorsk.db')"
   ]
  },
  {
   "cell_type": "code",
   "execution_count": 95,
   "id": "b1e0d78b-6818-48b6-b14c-600aae7104f7",
   "metadata": {},
   "outputs": [],
   "source": [
    "# загружаем данные\n",
    "data = pd.read_sql_query(\"SELECT * FROM offers\", cnx)"
   ]
  },
  {
   "cell_type": "code",
   "execution_count": 96,
   "id": "13e0f458-562e-424d-9e6a-a55da04cad45",
   "metadata": {},
   "outputs": [],
   "source": [
    "# закрываем соединение с базой данных\n",
    "cnx.close()"
   ]
  },
  {
   "cell_type": "markdown",
   "id": "adc068c7-4d44-4567-97e3-12ae752cf902",
   "metadata": {},
   "source": [
    "## Первичное знакомство с данными"
   ]
  },
  {
   "cell_type": "code",
   "execution_count": 97,
   "id": "9e5381df-7762-4244-8eb7-ff621b4697ae",
   "metadata": {},
   "outputs": [],
   "source": [
    "def first_look(df, num_of_srtings=5):\n",
    "    print('Общая информация')\n",
    "    display(df.info())\n",
    "    \n",
    "    print(f'Первые {num_of_srtings} строк(и) данных')\n",
    "    display(df.head(num_of_srtings))\n",
    "    \n",
    "    print('Основные статистические характеристики данных')\n",
    "    display(df.describe())\n",
    "    print('Количество пропусков:')\n",
    "    print(df.isna().sum())\n",
    "    print()\n",
    "    \n",
    "    print('Количество дубликатов:', df.duplicated().sum())"
   ]
  },
  {
   "cell_type": "code",
   "execution_count": 98,
   "id": "f53d6f4e-af9b-44f6-b71e-ff8d5948842d",
   "metadata": {},
   "outputs": [
    {
     "name": "stdout",
     "output_type": "stream",
     "text": [
      "Общая информация\n",
      "<class 'pandas.core.frame.DataFrame'>\n",
      "RangeIndex: 456 entries, 0 to 455\n",
      "Data columns (total 9 columns):\n",
      " #   Column          Non-Null Count  Dtype  \n",
      "---  ------          --------------  -----  \n",
      " 0   id              456 non-null    int64  \n",
      " 1   type            445 non-null    object \n",
      " 2   district        254 non-null    object \n",
      " 3   adress          456 non-null    object \n",
      " 4   floor           456 non-null    object \n",
      " 5   total_square    456 non-null    float64\n",
      " 6   living_square   456 non-null    float64\n",
      " 7   kitchen_square  456 non-null    float64\n",
      " 8   price           456 non-null    int64  \n",
      "dtypes: float64(3), int64(2), object(4)\n",
      "memory usage: 32.2+ KB\n"
     ]
    },
    {
     "data": {
      "text/plain": [
       "None"
      ]
     },
     "metadata": {},
     "output_type": "display_data"
    },
    {
     "name": "stdout",
     "output_type": "stream",
     "text": [
      "Первые 5 строк(и) данных\n"
     ]
    },
    {
     "data": {
      "text/html": [
       "<div>\n",
       "<style scoped>\n",
       "    .dataframe tbody tr th:only-of-type {\n",
       "        vertical-align: middle;\n",
       "    }\n",
       "\n",
       "    .dataframe tbody tr th {\n",
       "        vertical-align: top;\n",
       "    }\n",
       "\n",
       "    .dataframe thead th {\n",
       "        text-align: right;\n",
       "    }\n",
       "</style>\n",
       "<table border=\"1\" class=\"dataframe\">\n",
       "  <thead>\n",
       "    <tr style=\"text-align: right;\">\n",
       "      <th></th>\n",
       "      <th>id</th>\n",
       "      <th>type</th>\n",
       "      <th>district</th>\n",
       "      <th>adress</th>\n",
       "      <th>floor</th>\n",
       "      <th>total_square</th>\n",
       "      <th>living_square</th>\n",
       "      <th>kitchen_square</th>\n",
       "      <th>price</th>\n",
       "    </tr>\n",
       "  </thead>\n",
       "  <tbody>\n",
       "    <tr>\n",
       "      <th>0</th>\n",
       "      <td>1</td>\n",
       "      <td>Трехкомнатная улучшенная</td>\n",
       "      <td>Орджоникидзевский</td>\n",
       "      <td>Ленина пр-т 145/2</td>\n",
       "      <td>1/5</td>\n",
       "      <td>64.0</td>\n",
       "      <td>43.0</td>\n",
       "      <td>8.0</td>\n",
       "      <td>3750</td>\n",
       "    </tr>\n",
       "    <tr>\n",
       "      <th>1</th>\n",
       "      <td>2</td>\n",
       "      <td>Трехкомнатная</td>\n",
       "      <td>Ленинский</td>\n",
       "      <td>Октябрьская 12</td>\n",
       "      <td>2/5</td>\n",
       "      <td>87.2</td>\n",
       "      <td>60.0</td>\n",
       "      <td>9.0</td>\n",
       "      <td>8300</td>\n",
       "    </tr>\n",
       "    <tr>\n",
       "      <th>2</th>\n",
       "      <td>3</td>\n",
       "      <td>Однокомнатная нестандартная</td>\n",
       "      <td>Орджоникидзевский</td>\n",
       "      <td>Ленина пр-т 135</td>\n",
       "      <td>6/14</td>\n",
       "      <td>36.1</td>\n",
       "      <td>20.0</td>\n",
       "      <td>9.0</td>\n",
       "      <td>3330</td>\n",
       "    </tr>\n",
       "    <tr>\n",
       "      <th>3</th>\n",
       "      <td>4</td>\n",
       "      <td>Трехкомнатная нестандартная</td>\n",
       "      <td>Орджоникидзевский</td>\n",
       "      <td>Ленина пр-т 129</td>\n",
       "      <td>5/16</td>\n",
       "      <td>105.0</td>\n",
       "      <td>75.0</td>\n",
       "      <td>14.0</td>\n",
       "      <td>7700</td>\n",
       "    </tr>\n",
       "    <tr>\n",
       "      <th>4</th>\n",
       "      <td>5</td>\n",
       "      <td>Двухкомнатная улучшенная</td>\n",
       "      <td>Орджоникидзевский</td>\n",
       "      <td>Сиреневый проезд 12</td>\n",
       "      <td>7/9</td>\n",
       "      <td>50.6</td>\n",
       "      <td>43.0</td>\n",
       "      <td>9.0</td>\n",
       "      <td>3800</td>\n",
       "    </tr>\n",
       "  </tbody>\n",
       "</table>\n",
       "</div>"
      ],
      "text/plain": [
       "   id                         type           district               adress  \\\n",
       "0   1     Трехкомнатная улучшенная  Орджоникидзевский    Ленина пр-т 145/2   \n",
       "1   2               Трехкомнатная           Ленинский       Октябрьская 12   \n",
       "2   3  Однокомнатная нестандартная  Орджоникидзевский      Ленина пр-т 135   \n",
       "3   4  Трехкомнатная нестандартная  Орджоникидзевский      Ленина пр-т 129   \n",
       "4   5     Двухкомнатная улучшенная  Орджоникидзевский  Сиреневый проезд 12   \n",
       "\n",
       "  floor  total_square  living_square  kitchen_square  price  \n",
       "0   1/5          64.0           43.0             8.0   3750  \n",
       "1   2/5          87.2           60.0             9.0   8300  \n",
       "2  6/14          36.1           20.0             9.0   3330  \n",
       "3  5/16         105.0           75.0            14.0   7700  \n",
       "4   7/9          50.6           43.0             9.0   3800  "
      ]
     },
     "metadata": {},
     "output_type": "display_data"
    },
    {
     "name": "stdout",
     "output_type": "stream",
     "text": [
      "Основные статистические характеристики данных\n"
     ]
    },
    {
     "data": {
      "text/html": [
       "<div>\n",
       "<style scoped>\n",
       "    .dataframe tbody tr th:only-of-type {\n",
       "        vertical-align: middle;\n",
       "    }\n",
       "\n",
       "    .dataframe tbody tr th {\n",
       "        vertical-align: top;\n",
       "    }\n",
       "\n",
       "    .dataframe thead th {\n",
       "        text-align: right;\n",
       "    }\n",
       "</style>\n",
       "<table border=\"1\" class=\"dataframe\">\n",
       "  <thead>\n",
       "    <tr style=\"text-align: right;\">\n",
       "      <th></th>\n",
       "      <th>id</th>\n",
       "      <th>total_square</th>\n",
       "      <th>living_square</th>\n",
       "      <th>kitchen_square</th>\n",
       "      <th>price</th>\n",
       "    </tr>\n",
       "  </thead>\n",
       "  <tbody>\n",
       "    <tr>\n",
       "      <th>count</th>\n",
       "      <td>456.00000</td>\n",
       "      <td>456.000000</td>\n",
       "      <td>456.000000</td>\n",
       "      <td>456.000000</td>\n",
       "      <td>456.000000</td>\n",
       "    </tr>\n",
       "    <tr>\n",
       "      <th>mean</th>\n",
       "      <td>228.50000</td>\n",
       "      <td>53.514912</td>\n",
       "      <td>32.120175</td>\n",
       "      <td>8.771250</td>\n",
       "      <td>3744.561404</td>\n",
       "    </tr>\n",
       "    <tr>\n",
       "      <th>std</th>\n",
       "      <td>131.78012</td>\n",
       "      <td>21.751910</td>\n",
       "      <td>17.343334</td>\n",
       "      <td>4.007841</td>\n",
       "      <td>1631.107124</td>\n",
       "    </tr>\n",
       "    <tr>\n",
       "      <th>min</th>\n",
       "      <td>1.00000</td>\n",
       "      <td>14.100000</td>\n",
       "      <td>0.000000</td>\n",
       "      <td>0.000000</td>\n",
       "      <td>0.000000</td>\n",
       "    </tr>\n",
       "    <tr>\n",
       "      <th>25%</th>\n",
       "      <td>114.75000</td>\n",
       "      <td>40.175000</td>\n",
       "      <td>19.000000</td>\n",
       "      <td>6.000000</td>\n",
       "      <td>2700.000000</td>\n",
       "    </tr>\n",
       "    <tr>\n",
       "      <th>50%</th>\n",
       "      <td>228.50000</td>\n",
       "      <td>50.000000</td>\n",
       "      <td>30.000000</td>\n",
       "      <td>8.050000</td>\n",
       "      <td>3500.000000</td>\n",
       "    </tr>\n",
       "    <tr>\n",
       "      <th>75%</th>\n",
       "      <td>342.25000</td>\n",
       "      <td>65.000000</td>\n",
       "      <td>43.000000</td>\n",
       "      <td>10.000000</td>\n",
       "      <td>4600.000000</td>\n",
       "    </tr>\n",
       "    <tr>\n",
       "      <th>max</th>\n",
       "      <td>456.00000</td>\n",
       "      <td>220.000000</td>\n",
       "      <td>150.000000</td>\n",
       "      <td>30.000000</td>\n",
       "      <td>10000.000000</td>\n",
       "    </tr>\n",
       "  </tbody>\n",
       "</table>\n",
       "</div>"
      ],
      "text/plain": [
       "              id  total_square  living_square  kitchen_square         price\n",
       "count  456.00000    456.000000     456.000000      456.000000    456.000000\n",
       "mean   228.50000     53.514912      32.120175        8.771250   3744.561404\n",
       "std    131.78012     21.751910      17.343334        4.007841   1631.107124\n",
       "min      1.00000     14.100000       0.000000        0.000000      0.000000\n",
       "25%    114.75000     40.175000      19.000000        6.000000   2700.000000\n",
       "50%    228.50000     50.000000      30.000000        8.050000   3500.000000\n",
       "75%    342.25000     65.000000      43.000000       10.000000   4600.000000\n",
       "max    456.00000    220.000000     150.000000       30.000000  10000.000000"
      ]
     },
     "metadata": {},
     "output_type": "display_data"
    },
    {
     "name": "stdout",
     "output_type": "stream",
     "text": [
      "Количество пропусков:\n",
      "id                  0\n",
      "type               11\n",
      "district          202\n",
      "adress              0\n",
      "floor               0\n",
      "total_square        0\n",
      "living_square       0\n",
      "kitchen_square      0\n",
      "price               0\n",
      "dtype: int64\n",
      "\n",
      "Количество дубликатов: 0\n"
     ]
    }
   ],
   "source": [
    "first_look(data)"
   ]
  },
  {
   "cell_type": "markdown",
   "id": "0c6b9a30-5595-481d-951b-bdb8198c5731",
   "metadata": {},
   "source": [
    "Посмотрим, есть ли в данных дубликаты, если мы не будем учитывать столбец id."
   ]
  },
  {
   "cell_type": "code",
   "execution_count": 99,
   "id": "0e935065-a2a3-4b02-a72e-90bf54abcf37",
   "metadata": {},
   "outputs": [
    {
     "name": "stdout",
     "output_type": "stream",
     "text": [
      "Количество дубликатов: 2\n"
     ]
    }
   ],
   "source": [
    "print('Количество дубликатов:', data.drop('id', axis=1).duplicated().sum())"
   ]
  },
  {
   "cell_type": "code",
   "execution_count": 100,
   "id": "a5db09cb-6585-4404-b1a8-1f1e1d61f3b6",
   "metadata": {},
   "outputs": [
    {
     "data": {
      "text/html": [
       "<div>\n",
       "<style scoped>\n",
       "    .dataframe tbody tr th:only-of-type {\n",
       "        vertical-align: middle;\n",
       "    }\n",
       "\n",
       "    .dataframe tbody tr th {\n",
       "        vertical-align: top;\n",
       "    }\n",
       "\n",
       "    .dataframe thead th {\n",
       "        text-align: right;\n",
       "    }\n",
       "</style>\n",
       "<table border=\"1\" class=\"dataframe\">\n",
       "  <thead>\n",
       "    <tr style=\"text-align: right;\">\n",
       "      <th></th>\n",
       "      <th>id</th>\n",
       "      <th>type</th>\n",
       "      <th>district</th>\n",
       "      <th>adress</th>\n",
       "      <th>floor</th>\n",
       "      <th>total_square</th>\n",
       "      <th>living_square</th>\n",
       "      <th>kitchen_square</th>\n",
       "      <th>price</th>\n",
       "    </tr>\n",
       "  </thead>\n",
       "  <tbody>\n",
       "    <tr>\n",
       "      <th>354</th>\n",
       "      <td>355</td>\n",
       "      <td>Двухкомнатная раздельная</td>\n",
       "      <td>Орджоникидзевский (левый берег)</td>\n",
       "      <td>Трамвайная 25</td>\n",
       "      <td>1/3</td>\n",
       "      <td>43.0</td>\n",
       "      <td>31.0</td>\n",
       "      <td>6.0</td>\n",
       "      <td>2350</td>\n",
       "    </tr>\n",
       "    <tr>\n",
       "      <th>413</th>\n",
       "      <td>414</td>\n",
       "      <td>Двухкомнатная</td>\n",
       "      <td>Правобережный</td>\n",
       "      <td>Им. газеты \"Правда\" 23</td>\n",
       "      <td>4/5</td>\n",
       "      <td>46.1</td>\n",
       "      <td>29.0</td>\n",
       "      <td>6.0</td>\n",
       "      <td>2600</td>\n",
       "    </tr>\n",
       "  </tbody>\n",
       "</table>\n",
       "</div>"
      ],
      "text/plain": [
       "      id                      type                         district  \\\n",
       "354  355  Двухкомнатная раздельная  Орджоникидзевский (левый берег)   \n",
       "413  414            Двухкомнатная                     Правобережный   \n",
       "\n",
       "                     adress floor  total_square  living_square  \\\n",
       "354           Трамвайная 25   1/3          43.0           31.0   \n",
       "413  Им. газеты \"Правда\" 23   4/5          46.1           29.0   \n",
       "\n",
       "     kitchen_square  price  \n",
       "354             6.0   2350  \n",
       "413             6.0   2600  "
      ]
     },
     "execution_count": 100,
     "metadata": {},
     "output_type": "execute_result"
    }
   ],
   "source": [
    "data[data.drop('id', axis=1).duplicated()]"
   ]
  },
  {
   "cell_type": "code",
   "execution_count": 101,
   "id": "c09ee71b-eafa-4019-99a8-7866f57aa537",
   "metadata": {},
   "outputs": [
    {
     "data": {
      "text/plain": [
       "(456, 9)"
      ]
     },
     "execution_count": 101,
     "metadata": {},
     "output_type": "execute_result"
    }
   ],
   "source": [
    "data.shape"
   ]
  },
  {
   "cell_type": "code",
   "execution_count": 102,
   "id": "98066ede-ff30-4cc1-9512-9d251db4d392",
   "metadata": {},
   "outputs": [],
   "source": [
    "data.drop_duplicates(\n",
    "    subset=['type', 'district', 'adress', 'floor', 'total_square', 'living_square', 'kitchen_square', 'price'],\n",
    "    inplace=True\n",
    ")"
   ]
  },
  {
   "cell_type": "code",
   "execution_count": 103,
   "id": "47798c8f-82b4-4098-ab1d-0f5b0e8b7ca2",
   "metadata": {},
   "outputs": [
    {
     "data": {
      "text/plain": [
       "(454, 9)"
      ]
     },
     "execution_count": 103,
     "metadata": {},
     "output_type": "execute_result"
    }
   ],
   "source": [
    "data.shape"
   ]
  },
  {
   "cell_type": "markdown",
   "id": "e75c0a57-1a23-4493-819d-f830b03af1af",
   "metadata": {},
   "source": [
    "### Цена"
   ]
  },
  {
   "cell_type": "code",
   "execution_count": 104,
   "id": "04f8b4a1-a767-4fa1-bc12-e4e93d816da3",
   "metadata": {},
   "outputs": [
    {
     "data": {
      "image/png": "[encoded data removed]",
      "text/plain": [
       "<Figure size 1200x500 with 1 Axes>"
      ]
     },
     "metadata": {},
     "output_type": "display_data"
    }
   ],
   "source": [
    "data['price'].plot(figsize=(12, 5));"
   ]
  },
  {
   "cell_type": "code",
   "execution_count": 105,
   "id": "394cf70f-19d2-409e-a70e-f79dc273a13b",
   "metadata": {},
   "outputs": [
    {
     "data": {
      "image/png": "[encoded data removed]",
      "text/plain": [
       "<Figure size 1200x500 with 1 Axes>"
      ]
     },
     "metadata": {},
     "output_type": "display_data"
    }
   ],
   "source": [
    "data[data['price'] < 1000]['price'].plot(figsize=(12, 5));"
   ]
  },
  {
   "cell_type": "code",
   "execution_count": 106,
   "id": "d13f357e-8e09-4c56-95db-d21a6641d549",
   "metadata": {},
   "outputs": [
    {
     "data": {
      "text/plain": [
       "3.0837004405286343"
      ]
     },
     "execution_count": 106,
     "metadata": {},
     "output_type": "execute_result"
    }
   ],
   "source": [
    "data[data['price'] < 800].shape[0] / data.shape[0] * 100"
   ]
  },
  {
   "cell_type": "code",
   "execution_count": 107,
   "id": "0d5db257-f9e6-4177-a6a4-142745aa2081",
   "metadata": {},
   "outputs": [
    {
     "data": {
      "text/html": [
       "<div>\n",
       "<style scoped>\n",
       "    .dataframe tbody tr th:only-of-type {\n",
       "        vertical-align: middle;\n",
       "    }\n",
       "\n",
       "    .dataframe tbody tr th {\n",
       "        vertical-align: top;\n",
       "    }\n",
       "\n",
       "    .dataframe thead th {\n",
       "        text-align: right;\n",
       "    }\n",
       "</style>\n",
       "<table border=\"1\" class=\"dataframe\">\n",
       "  <thead>\n",
       "    <tr style=\"text-align: right;\">\n",
       "      <th></th>\n",
       "      <th>id</th>\n",
       "      <th>type</th>\n",
       "      <th>district</th>\n",
       "      <th>adress</th>\n",
       "      <th>floor</th>\n",
       "      <th>total_square</th>\n",
       "      <th>living_square</th>\n",
       "      <th>kitchen_square</th>\n",
       "      <th>price</th>\n",
       "    </tr>\n",
       "  </thead>\n",
       "  <tbody>\n",
       "    <tr>\n",
       "      <th>58</th>\n",
       "      <td>59</td>\n",
       "      <td>Трехкомнатная</td>\n",
       "      <td>None</td>\n",
       "      <td>Школьная 10</td>\n",
       "      <td>1/1</td>\n",
       "      <td>59.5</td>\n",
       "      <td>47.0</td>\n",
       "      <td>12.0</td>\n",
       "      <td>500</td>\n",
       "    </tr>\n",
       "    <tr>\n",
       "      <th>61</th>\n",
       "      <td>62</td>\n",
       "      <td>Двухкомнатная</td>\n",
       "      <td>None</td>\n",
       "      <td>Новая 1/5</td>\n",
       "      <td>1/2</td>\n",
       "      <td>47.0</td>\n",
       "      <td>29.0</td>\n",
       "      <td>8.0</td>\n",
       "      <td>550</td>\n",
       "    </tr>\n",
       "    <tr>\n",
       "      <th>63</th>\n",
       "      <td>64</td>\n",
       "      <td>Двухкомнатная</td>\n",
       "      <td>None</td>\n",
       "      <td>Новая 1/5</td>\n",
       "      <td>1/2</td>\n",
       "      <td>47.0</td>\n",
       "      <td>29.0</td>\n",
       "      <td>8.0</td>\n",
       "      <td>480</td>\n",
       "    </tr>\n",
       "    <tr>\n",
       "      <th>73</th>\n",
       "      <td>74</td>\n",
       "      <td>Однокомнатная</td>\n",
       "      <td>None</td>\n",
       "      <td>Первомайская 16</td>\n",
       "      <td>2/4</td>\n",
       "      <td>42.6</td>\n",
       "      <td>20.0</td>\n",
       "      <td>15.0</td>\n",
       "      <td>0</td>\n",
       "    </tr>\n",
       "    <tr>\n",
       "      <th>141</th>\n",
       "      <td>142</td>\n",
       "      <td>Однокомнатная</td>\n",
       "      <td>None</td>\n",
       "      <td>Труда 47</td>\n",
       "      <td>4/9</td>\n",
       "      <td>32.0</td>\n",
       "      <td>19.0</td>\n",
       "      <td>6.0</td>\n",
       "      <td>0</td>\n",
       "    </tr>\n",
       "    <tr>\n",
       "      <th>173</th>\n",
       "      <td>174</td>\n",
       "      <td>Однокомнатная малосемейка</td>\n",
       "      <td>Правобережный</td>\n",
       "      <td>Советской Армии 37/1</td>\n",
       "      <td>4/9</td>\n",
       "      <td>22.0</td>\n",
       "      <td>12.0</td>\n",
       "      <td>6.0</td>\n",
       "      <td>1</td>\n",
       "    </tr>\n",
       "    <tr>\n",
       "      <th>294</th>\n",
       "      <td>295</td>\n",
       "      <td>Однокомнатная</td>\n",
       "      <td>None</td>\n",
       "      <td>Привокзальная 29кв1</td>\n",
       "      <td>1/1</td>\n",
       "      <td>42.5</td>\n",
       "      <td>22.0</td>\n",
       "      <td>12.0</td>\n",
       "      <td>450</td>\n",
       "    </tr>\n",
       "    <tr>\n",
       "      <th>332</th>\n",
       "      <td>333</td>\n",
       "      <td>Двухкомнатная</td>\n",
       "      <td>None</td>\n",
       "      <td>Российская 7</td>\n",
       "      <td>2/2</td>\n",
       "      <td>45.0</td>\n",
       "      <td>31.0</td>\n",
       "      <td>6.0</td>\n",
       "      <td>500</td>\n",
       "    </tr>\n",
       "    <tr>\n",
       "      <th>373</th>\n",
       "      <td>374</td>\n",
       "      <td>Двухкомнатная</td>\n",
       "      <td>None</td>\n",
       "      <td>ул Черемушки 13</td>\n",
       "      <td>2/2</td>\n",
       "      <td>40.0</td>\n",
       "      <td>22.0</td>\n",
       "      <td>6.0</td>\n",
       "      <td>500</td>\n",
       "    </tr>\n",
       "    <tr>\n",
       "      <th>389</th>\n",
       "      <td>390</td>\n",
       "      <td>Трехкомнатная</td>\n",
       "      <td>None</td>\n",
       "      <td>Труда 2</td>\n",
       "      <td>1/2</td>\n",
       "      <td>63.4</td>\n",
       "      <td>0.0</td>\n",
       "      <td>0.0</td>\n",
       "      <td>530</td>\n",
       "    </tr>\n",
       "    <tr>\n",
       "      <th>399</th>\n",
       "      <td>400</td>\n",
       "      <td>Трехкомнатная</td>\n",
       "      <td>Орджоникидзевский</td>\n",
       "      <td>ул Репина 12</td>\n",
       "      <td>1/1</td>\n",
       "      <td>55.0</td>\n",
       "      <td>39.0</td>\n",
       "      <td>6.0</td>\n",
       "      <td>0</td>\n",
       "    </tr>\n",
       "    <tr>\n",
       "      <th>416</th>\n",
       "      <td>417</td>\n",
       "      <td>Трехкомнатная</td>\n",
       "      <td>None</td>\n",
       "      <td>сад Горняк</td>\n",
       "      <td>1/1</td>\n",
       "      <td>50.0</td>\n",
       "      <td>29.0</td>\n",
       "      <td>5.0</td>\n",
       "      <td>550</td>\n",
       "    </tr>\n",
       "    <tr>\n",
       "      <th>429</th>\n",
       "      <td>430</td>\n",
       "      <td>Двухкомнатная</td>\n",
       "      <td>None</td>\n",
       "      <td>Центральная 3</td>\n",
       "      <td>2/2</td>\n",
       "      <td>44.0</td>\n",
       "      <td>30.0</td>\n",
       "      <td>8.0</td>\n",
       "      <td>450</td>\n",
       "    </tr>\n",
       "  </tbody>\n",
       "</table>\n",
       "</div>"
      ],
      "text/plain": [
       "      id                       type           district                adress  \\\n",
       "58    59             Трехкомнатная                None           Школьная 10   \n",
       "61    62             Двухкомнатная                None             Новая 1/5   \n",
       "63    64             Двухкомнатная                None             Новая 1/5   \n",
       "73    74             Однокомнатная                None       Первомайская 16   \n",
       "141  142             Однокомнатная                None              Труда 47   \n",
       "173  174  Однокомнатная малосемейка      Правобережный  Советской Армии 37/1   \n",
       "294  295             Однокомнатная                None   Привокзальная 29кв1   \n",
       "332  333             Двухкомнатная                None          Российская 7   \n",
       "373  374             Двухкомнатная                None       ул Черемушки 13   \n",
       "389  390             Трехкомнатная                None               Труда 2   \n",
       "399  400             Трехкомнатная   Орджоникидзевский          ул Репина 12   \n",
       "416  417             Трехкомнатная                None           сад Горняк    \n",
       "429  430             Двухкомнатная                None         Центральная 3   \n",
       "\n",
       "    floor  total_square  living_square  kitchen_square  price  \n",
       "58    1/1          59.5           47.0            12.0    500  \n",
       "61    1/2          47.0           29.0             8.0    550  \n",
       "63    1/2          47.0           29.0             8.0    480  \n",
       "73    2/4          42.6           20.0            15.0      0  \n",
       "141   4/9          32.0           19.0             6.0      0  \n",
       "173   4/9          22.0           12.0             6.0      1  \n",
       "294   1/1          42.5           22.0            12.0    450  \n",
       "332   2/2          45.0           31.0             6.0    500  \n",
       "373   2/2          40.0           22.0             6.0    500  \n",
       "389   1/2          63.4            0.0             0.0    530  \n",
       "399   1/1          55.0           39.0             6.0      0  \n",
       "416   1/1          50.0           29.0             5.0    550  \n",
       "429   2/2          44.0           30.0             8.0    450  "
      ]
     },
     "execution_count": 107,
     "metadata": {},
     "output_type": "execute_result"
    }
   ],
   "source": [
    "data[data['price'] < 600]"
   ]
  },
  {
   "cell_type": "markdown",
   "id": "8e8be602-95bc-40ed-9e0a-9725f0b20ac6",
   "metadata": {},
   "source": [
    "Для трех квартир цена не указана, поэтому удалим эти строки, так как они не подходят ни для обучения модели ни для контроля качества. \n",
    "\n",
    "Количество квартир с нетипично низкой ценой составляет около 3 % данных. Удалим их, чтобы модель смогла точнее выявить закономерность."
   ]
  },
  {
   "cell_type": "code",
   "execution_count": 108,
   "id": "ec8fb70e-0c24-442d-aca0-0896268ce052",
   "metadata": {},
   "outputs": [
    {
     "data": {
      "text/plain": [
       "(454, 9)"
      ]
     },
     "execution_count": 108,
     "metadata": {},
     "output_type": "execute_result"
    }
   ],
   "source": [
    "# контроль размерности\n",
    "data.shape"
   ]
  },
  {
   "cell_type": "code",
   "execution_count": 109,
   "id": "25e8f942-e643-4d87-909e-d0b96dfc1e19",
   "metadata": {},
   "outputs": [],
   "source": [
    "data = data[data['price'] >= 800]"
   ]
  },
  {
   "cell_type": "code",
   "execution_count": 110,
   "id": "8002012f-c218-4ba6-ba8f-2411fc3a880f",
   "metadata": {},
   "outputs": [
    {
     "data": {
      "text/plain": [
       "(440, 9)"
      ]
     },
     "execution_count": 110,
     "metadata": {},
     "output_type": "execute_result"
    }
   ],
   "source": [
    "# контроль размерности\n",
    "data.shape"
   ]
  },
  {
   "cell_type": "markdown",
   "id": "239b1631-ea6a-47d8-9036-823163e77e03",
   "metadata": {},
   "source": [
    "### Этаж"
   ]
  },
  {
   "cell_type": "code",
   "execution_count": 111,
   "id": "6d682fca-6144-451d-ac55-b9cab4de92b8",
   "metadata": {},
   "outputs": [
    {
     "data": {
      "text/plain": [
       "0"
      ]
     },
     "execution_count": 111,
     "metadata": {},
     "output_type": "execute_result"
    }
   ],
   "source": [
    "data['floor'].isna().sum()"
   ]
  },
  {
   "cell_type": "markdown",
   "id": "bd37bdf2-a9ec-43be-a6b7-dac0ff13cf28",
   "metadata": {},
   "source": [
    "Первоначально генерировала характеристики «первый этаж», «последний этаж». Но после анализа работы лучшей модели, выяснилось, что эти характеристики в рейтинге полезности заняли последние места, а модель, обученная без них, дает более высокие оценки."
   ]
  },
  {
   "cell_type": "markdown",
   "id": "27bca13a-d972-44b4-82e2-5b2ad44c32ae",
   "metadata": {},
   "source": [
    "### Тип квартиры"
   ]
  },
  {
   "cell_type": "markdown",
   "id": "0a676db7-00c1-4c36-9a7f-511792de3615",
   "metadata": {},
   "source": [
    "В столбце с типом квартиры хранятся данные о количестве комнат и типе квартиры. Разделим их и сохраним в двух разных столбцах."
   ]
  },
  {
   "cell_type": "code",
   "execution_count": 112,
   "id": "dcffb3c8-3a42-497b-b759-a99918ef7779",
   "metadata": {},
   "outputs": [
    {
     "data": {
      "text/plain": [
       "11"
      ]
     },
     "execution_count": 112,
     "metadata": {},
     "output_type": "execute_result"
    }
   ],
   "source": [
    "data['type'].isna().sum()"
   ]
  },
  {
   "cell_type": "code",
   "execution_count": 113,
   "id": "3415cbfa-927c-4749-8ce9-22970668f45e",
   "metadata": {},
   "outputs": [
    {
     "data": {
      "text/plain": [
       "2.5"
      ]
     },
     "execution_count": 113,
     "metadata": {},
     "output_type": "execute_result"
    }
   ],
   "source": [
    "data['type'].isna().sum() / data.shape[0] * 100"
   ]
  },
  {
   "cell_type": "code",
   "execution_count": 114,
   "id": "c4e0fe04-fa0c-45ca-bf98-366d0a562f46",
   "metadata": {},
   "outputs": [
    {
     "data": {
      "text/html": [
       "<div>\n",
       "<style scoped>\n",
       "    .dataframe tbody tr th:only-of-type {\n",
       "        vertical-align: middle;\n",
       "    }\n",
       "\n",
       "    .dataframe tbody tr th {\n",
       "        vertical-align: top;\n",
       "    }\n",
       "\n",
       "    .dataframe thead th {\n",
       "        text-align: right;\n",
       "    }\n",
       "</style>\n",
       "<table border=\"1\" class=\"dataframe\">\n",
       "  <thead>\n",
       "    <tr style=\"text-align: right;\">\n",
       "      <th></th>\n",
       "      <th>id</th>\n",
       "      <th>type</th>\n",
       "      <th>district</th>\n",
       "      <th>adress</th>\n",
       "      <th>floor</th>\n",
       "      <th>total_square</th>\n",
       "      <th>living_square</th>\n",
       "      <th>kitchen_square</th>\n",
       "      <th>price</th>\n",
       "    </tr>\n",
       "  </thead>\n",
       "  <tbody>\n",
       "    <tr>\n",
       "      <th>59</th>\n",
       "      <td>60</td>\n",
       "      <td>None</td>\n",
       "      <td>None</td>\n",
       "      <td>Ленина пр-т 212а</td>\n",
       "      <td>1/1</td>\n",
       "      <td>18.4</td>\n",
       "      <td>12.0</td>\n",
       "      <td>5.0</td>\n",
       "      <td>1100</td>\n",
       "    </tr>\n",
       "    <tr>\n",
       "      <th>83</th>\n",
       "      <td>84</td>\n",
       "      <td>None</td>\n",
       "      <td>None</td>\n",
       "      <td>Карла Маркса 233</td>\n",
       "      <td>8/10</td>\n",
       "      <td>70.0</td>\n",
       "      <td>50.0</td>\n",
       "      <td>7.0</td>\n",
       "      <td>4860</td>\n",
       "    </tr>\n",
       "    <tr>\n",
       "      <th>97</th>\n",
       "      <td>98</td>\n",
       "      <td>None</td>\n",
       "      <td>Орджоникидзевский</td>\n",
       "      <td>Завенягина 1</td>\n",
       "      <td>5/9</td>\n",
       "      <td>65.1</td>\n",
       "      <td>44.0</td>\n",
       "      <td>8.0</td>\n",
       "      <td>4750</td>\n",
       "    </tr>\n",
       "    <tr>\n",
       "      <th>140</th>\n",
       "      <td>141</td>\n",
       "      <td>None</td>\n",
       "      <td>None</td>\n",
       "      <td>Торфяная 5/2</td>\n",
       "      <td>1/2</td>\n",
       "      <td>46.8</td>\n",
       "      <td>0.0</td>\n",
       "      <td>0.0</td>\n",
       "      <td>4950</td>\n",
       "    </tr>\n",
       "    <tr>\n",
       "      <th>161</th>\n",
       "      <td>162</td>\n",
       "      <td>None</td>\n",
       "      <td>None</td>\n",
       "      <td>Карла Маркса 119/1</td>\n",
       "      <td>2/5</td>\n",
       "      <td>41.0</td>\n",
       "      <td>0.0</td>\n",
       "      <td>6.0</td>\n",
       "      <td>3600</td>\n",
       "    </tr>\n",
       "    <tr>\n",
       "      <th>162</th>\n",
       "      <td>163</td>\n",
       "      <td>None</td>\n",
       "      <td>None</td>\n",
       "      <td>Карла Маркса 117</td>\n",
       "      <td>2/5</td>\n",
       "      <td>41.0</td>\n",
       "      <td>26.0</td>\n",
       "      <td>6.0</td>\n",
       "      <td>3400</td>\n",
       "    </tr>\n",
       "    <tr>\n",
       "      <th>163</th>\n",
       "      <td>164</td>\n",
       "      <td>None</td>\n",
       "      <td>None</td>\n",
       "      <td>ул Жукова 17/1</td>\n",
       "      <td>4/9</td>\n",
       "      <td>40.1</td>\n",
       "      <td>18.0</td>\n",
       "      <td>9.0</td>\n",
       "      <td>3100</td>\n",
       "    </tr>\n",
       "    <tr>\n",
       "      <th>176</th>\n",
       "      <td>177</td>\n",
       "      <td>None</td>\n",
       "      <td>None</td>\n",
       "      <td>Западное шоссе 101</td>\n",
       "      <td>2/3</td>\n",
       "      <td>68.0</td>\n",
       "      <td>40.0</td>\n",
       "      <td>0.0</td>\n",
       "      <td>6000</td>\n",
       "    </tr>\n",
       "    <tr>\n",
       "      <th>355</th>\n",
       "      <td>356</td>\n",
       "      <td>None</td>\n",
       "      <td>None</td>\n",
       "      <td>ул Лесопарковая 93/1</td>\n",
       "      <td>10/10</td>\n",
       "      <td>41.2</td>\n",
       "      <td>28.0</td>\n",
       "      <td>12.5</td>\n",
       "      <td>3150</td>\n",
       "    </tr>\n",
       "    <tr>\n",
       "      <th>365</th>\n",
       "      <td>366</td>\n",
       "      <td>None</td>\n",
       "      <td>None</td>\n",
       "      <td>Ленина пр-т 114/4</td>\n",
       "      <td>5/14</td>\n",
       "      <td>40.0</td>\n",
       "      <td>18.0</td>\n",
       "      <td>13.0</td>\n",
       "      <td>2620</td>\n",
       "    </tr>\n",
       "    <tr>\n",
       "      <th>387</th>\n",
       "      <td>388</td>\n",
       "      <td>None</td>\n",
       "      <td>None</td>\n",
       "      <td>Ленина пр-т 87а</td>\n",
       "      <td>6/14</td>\n",
       "      <td>45.0</td>\n",
       "      <td>37.0</td>\n",
       "      <td>8.0</td>\n",
       "      <td>2800</td>\n",
       "    </tr>\n",
       "  </tbody>\n",
       "</table>\n",
       "</div>"
      ],
      "text/plain": [
       "      id  type           district                adress  floor  total_square  \\\n",
       "59    60  None               None      Ленина пр-т 212а    1/1          18.4   \n",
       "83    84  None               None      Карла Маркса 233   8/10          70.0   \n",
       "97    98  None  Орджоникидзевский          Завенягина 1    5/9          65.1   \n",
       "140  141  None               None          Торфяная 5/2    1/2          46.8   \n",
       "161  162  None               None    Карла Маркса 119/1    2/5          41.0   \n",
       "162  163  None               None      Карла Маркса 117    2/5          41.0   \n",
       "163  164  None               None        ул Жукова 17/1    4/9          40.1   \n",
       "176  177  None               None    Западное шоссе 101    2/3          68.0   \n",
       "355  356  None               None  ул Лесопарковая 93/1  10/10          41.2   \n",
       "365  366  None               None     Ленина пр-т 114/4   5/14          40.0   \n",
       "387  388  None               None       Ленина пр-т 87а   6/14          45.0   \n",
       "\n",
       "     living_square  kitchen_square  price  \n",
       "59            12.0             5.0   1100  \n",
       "83            50.0             7.0   4860  \n",
       "97            44.0             8.0   4750  \n",
       "140            0.0             0.0   4950  \n",
       "161            0.0             6.0   3600  \n",
       "162           26.0             6.0   3400  \n",
       "163           18.0             9.0   3100  \n",
       "176           40.0             0.0   6000  \n",
       "355           28.0            12.5   3150  \n",
       "365           18.0            13.0   2620  \n",
       "387           37.0             8.0   2800  "
      ]
     },
     "execution_count": 114,
     "metadata": {},
     "output_type": "execute_result"
    }
   ],
   "source": [
    "data[data['type'].isna()]"
   ]
  },
  {
   "cell_type": "code",
   "execution_count": 115,
   "id": "c8ea91cc-b9bc-4d4d-a189-a660a0c38599",
   "metadata": {},
   "outputs": [],
   "source": [
    "data = data[data['type'].notna()]"
   ]
  },
  {
   "cell_type": "markdown",
   "id": "20c0ff1f-5bf9-4ff1-aeaa-ba9af9a3c893",
   "metadata": {},
   "source": [
    "### Улица"
   ]
  },
  {
   "cell_type": "code",
   "execution_count": 116,
   "id": "1ce66fad-de6e-472f-b2fb-e28a8c97c71c",
   "metadata": {},
   "outputs": [
    {
     "data": {
      "text/plain": [
       "(4, 9)"
      ]
     },
     "execution_count": 116,
     "metadata": {},
     "output_type": "execute_result"
    }
   ],
   "source": [
    "data[data['adress'] == ' '].shape"
   ]
  },
  {
   "cell_type": "code",
   "execution_count": 117,
   "id": "1c656172-75ad-4723-9dc0-bac56ef8dce4",
   "metadata": {},
   "outputs": [],
   "source": [
    "data = data[data['adress'] != ' ']"
   ]
  },
  {
   "cell_type": "code",
   "execution_count": 118,
   "id": "a95cdfbf-55bf-406f-9f3b-85d24b1a4dd9",
   "metadata": {},
   "outputs": [
    {
     "data": {
      "text/plain": [
       "366"
      ]
     },
     "execution_count": 118,
     "metadata": {},
     "output_type": "execute_result"
    }
   ],
   "source": [
    "# sorted(data['adress'].unique())\n",
    "data['adress'].nunique()"
   ]
  },
  {
   "cell_type": "markdown",
   "id": "cc49fd9f-882a-4007-97af-90e72c02f015",
   "metadata": {},
   "source": [
    "### Район"
   ]
  },
  {
   "cell_type": "markdown",
   "id": "88ae5b92-9b31-418f-b66a-6e8dfe267ec7",
   "metadata": {},
   "source": [
    "Посмотрим количество пропусков в столбце с данными о районе."
   ]
  },
  {
   "cell_type": "code",
   "execution_count": 119,
   "id": "e3b97046-e8e6-48ff-acc6-2953748038a6",
   "metadata": {},
   "outputs": [
    {
     "data": {
      "text/plain": [
       "176"
      ]
     },
     "execution_count": 119,
     "metadata": {},
     "output_type": "execute_result"
    }
   ],
   "source": [
    "data['district'].isna().sum()"
   ]
  },
  {
   "cell_type": "markdown",
   "id": "46109abb-282b-4a5a-96b2-9459a3be2d56",
   "metadata": {},
   "source": [
    "Заполним пропуски значением 'неизвестно'."
   ]
  },
  {
   "cell_type": "markdown",
   "id": "6edc7abf-c50c-4840-a9e6-44a573bb1807",
   "metadata": {},
   "source": [
    "## Построение модели"
   ]
  },
  {
   "cell_type": "markdown",
   "id": "b574cd27-785f-47a3-a571-c8479dc542be",
   "metadata": {},
   "source": [
    "### Предварительна обработка данных"
   ]
  },
  {
   "cell_type": "markdown",
   "id": "ccc7260e-c8cb-40a3-bf1f-a464b20b2e73",
   "metadata": {},
   "source": [
    "Разделим характеристики и целевую переменную."
   ]
  },
  {
   "cell_type": "code",
   "execution_count": 120,
   "id": "e84bff10-f328-4e06-8cec-384dc09df959",
   "metadata": {},
   "outputs": [
    {
     "data": {
      "text/html": [
       "<div>\n",
       "<style scoped>\n",
       "    .dataframe tbody tr th:only-of-type {\n",
       "        vertical-align: middle;\n",
       "    }\n",
       "\n",
       "    .dataframe tbody tr th {\n",
       "        vertical-align: top;\n",
       "    }\n",
       "\n",
       "    .dataframe thead th {\n",
       "        text-align: right;\n",
       "    }\n",
       "</style>\n",
       "<table border=\"1\" class=\"dataframe\">\n",
       "  <thead>\n",
       "    <tr style=\"text-align: right;\">\n",
       "      <th></th>\n",
       "      <th>id</th>\n",
       "      <th>type</th>\n",
       "      <th>district</th>\n",
       "      <th>adress</th>\n",
       "      <th>floor</th>\n",
       "      <th>total_square</th>\n",
       "      <th>living_square</th>\n",
       "      <th>kitchen_square</th>\n",
       "      <th>price</th>\n",
       "    </tr>\n",
       "  </thead>\n",
       "  <tbody>\n",
       "    <tr>\n",
       "      <th>0</th>\n",
       "      <td>1</td>\n",
       "      <td>Трехкомнатная улучшенная</td>\n",
       "      <td>Орджоникидзевский</td>\n",
       "      <td>Ленина пр-т 145/2</td>\n",
       "      <td>1/5</td>\n",
       "      <td>64.0</td>\n",
       "      <td>43.0</td>\n",
       "      <td>8.0</td>\n",
       "      <td>3750</td>\n",
       "    </tr>\n",
       "    <tr>\n",
       "      <th>1</th>\n",
       "      <td>2</td>\n",
       "      <td>Трехкомнатная</td>\n",
       "      <td>Ленинский</td>\n",
       "      <td>Октябрьская 12</td>\n",
       "      <td>2/5</td>\n",
       "      <td>87.2</td>\n",
       "      <td>60.0</td>\n",
       "      <td>9.0</td>\n",
       "      <td>8300</td>\n",
       "    </tr>\n",
       "    <tr>\n",
       "      <th>2</th>\n",
       "      <td>3</td>\n",
       "      <td>Однокомнатная нестандартная</td>\n",
       "      <td>Орджоникидзевский</td>\n",
       "      <td>Ленина пр-т 135</td>\n",
       "      <td>6/14</td>\n",
       "      <td>36.1</td>\n",
       "      <td>20.0</td>\n",
       "      <td>9.0</td>\n",
       "      <td>3330</td>\n",
       "    </tr>\n",
       "    <tr>\n",
       "      <th>3</th>\n",
       "      <td>4</td>\n",
       "      <td>Трехкомнатная нестандартная</td>\n",
       "      <td>Орджоникидзевский</td>\n",
       "      <td>Ленина пр-т 129</td>\n",
       "      <td>5/16</td>\n",
       "      <td>105.0</td>\n",
       "      <td>75.0</td>\n",
       "      <td>14.0</td>\n",
       "      <td>7700</td>\n",
       "    </tr>\n",
       "    <tr>\n",
       "      <th>4</th>\n",
       "      <td>5</td>\n",
       "      <td>Двухкомнатная улучшенная</td>\n",
       "      <td>Орджоникидзевский</td>\n",
       "      <td>Сиреневый проезд 12</td>\n",
       "      <td>7/9</td>\n",
       "      <td>50.6</td>\n",
       "      <td>43.0</td>\n",
       "      <td>9.0</td>\n",
       "      <td>3800</td>\n",
       "    </tr>\n",
       "  </tbody>\n",
       "</table>\n",
       "</div>"
      ],
      "text/plain": [
       "   id                         type           district               adress  \\\n",
       "0   1     Трехкомнатная улучшенная  Орджоникидзевский    Ленина пр-т 145/2   \n",
       "1   2               Трехкомнатная           Ленинский       Октябрьская 12   \n",
       "2   3  Однокомнатная нестандартная  Орджоникидзевский      Ленина пр-т 135   \n",
       "3   4  Трехкомнатная нестандартная  Орджоникидзевский      Ленина пр-т 129   \n",
       "4   5     Двухкомнатная улучшенная  Орджоникидзевский  Сиреневый проезд 12   \n",
       "\n",
       "  floor  total_square  living_square  kitchen_square  price  \n",
       "0   1/5          64.0           43.0             8.0   3750  \n",
       "1   2/5          87.2           60.0             9.0   8300  \n",
       "2  6/14          36.1           20.0             9.0   3330  \n",
       "3  5/16         105.0           75.0            14.0   7700  \n",
       "4   7/9          50.6           43.0             9.0   3800  "
      ]
     },
     "execution_count": 120,
     "metadata": {},
     "output_type": "execute_result"
    }
   ],
   "source": [
    "data.head()"
   ]
  },
  {
   "cell_type": "code",
   "execution_count": 121,
   "id": "fb744a56-b2cb-4ca5-a3f8-b302ca090e3a",
   "metadata": {},
   "outputs": [],
   "source": [
    "features = data.drop(['id', 'price'], axis=1)\n",
    "target = data['price']"
   ]
  },
  {
   "cell_type": "code",
   "execution_count": 122,
   "id": "3350556c-0542-4f85-a12c-93be420ce0bd",
   "metadata": {},
   "outputs": [
    {
     "data": {
      "text/html": [
       "<div>\n",
       "<style scoped>\n",
       "    .dataframe tbody tr th:only-of-type {\n",
       "        vertical-align: middle;\n",
       "    }\n",
       "\n",
       "    .dataframe tbody tr th {\n",
       "        vertical-align: top;\n",
       "    }\n",
       "\n",
       "    .dataframe thead th {\n",
       "        text-align: right;\n",
       "    }\n",
       "</style>\n",
       "<table border=\"1\" class=\"dataframe\">\n",
       "  <thead>\n",
       "    <tr style=\"text-align: right;\">\n",
       "      <th></th>\n",
       "      <th>type</th>\n",
       "      <th>district</th>\n",
       "      <th>adress</th>\n",
       "      <th>floor</th>\n",
       "      <th>total_square</th>\n",
       "      <th>living_square</th>\n",
       "      <th>kitchen_square</th>\n",
       "    </tr>\n",
       "  </thead>\n",
       "  <tbody>\n",
       "    <tr>\n",
       "      <th>0</th>\n",
       "      <td>Трехкомнатная улучшенная</td>\n",
       "      <td>Орджоникидзевский</td>\n",
       "      <td>Ленина пр-т 145/2</td>\n",
       "      <td>1/5</td>\n",
       "      <td>64.0</td>\n",
       "      <td>43.0</td>\n",
       "      <td>8.0</td>\n",
       "    </tr>\n",
       "    <tr>\n",
       "      <th>1</th>\n",
       "      <td>Трехкомнатная</td>\n",
       "      <td>Ленинский</td>\n",
       "      <td>Октябрьская 12</td>\n",
       "      <td>2/5</td>\n",
       "      <td>87.2</td>\n",
       "      <td>60.0</td>\n",
       "      <td>9.0</td>\n",
       "    </tr>\n",
       "    <tr>\n",
       "      <th>2</th>\n",
       "      <td>Однокомнатная нестандартная</td>\n",
       "      <td>Орджоникидзевский</td>\n",
       "      <td>Ленина пр-т 135</td>\n",
       "      <td>6/14</td>\n",
       "      <td>36.1</td>\n",
       "      <td>20.0</td>\n",
       "      <td>9.0</td>\n",
       "    </tr>\n",
       "    <tr>\n",
       "      <th>3</th>\n",
       "      <td>Трехкомнатная нестандартная</td>\n",
       "      <td>Орджоникидзевский</td>\n",
       "      <td>Ленина пр-т 129</td>\n",
       "      <td>5/16</td>\n",
       "      <td>105.0</td>\n",
       "      <td>75.0</td>\n",
       "      <td>14.0</td>\n",
       "    </tr>\n",
       "    <tr>\n",
       "      <th>4</th>\n",
       "      <td>Двухкомнатная улучшенная</td>\n",
       "      <td>Орджоникидзевский</td>\n",
       "      <td>Сиреневый проезд 12</td>\n",
       "      <td>7/9</td>\n",
       "      <td>50.6</td>\n",
       "      <td>43.0</td>\n",
       "      <td>9.0</td>\n",
       "    </tr>\n",
       "  </tbody>\n",
       "</table>\n",
       "</div>"
      ],
      "text/plain": [
       "                          type           district               adress floor  \\\n",
       "0     Трехкомнатная улучшенная  Орджоникидзевский    Ленина пр-т 145/2   1/5   \n",
       "1               Трехкомнатная           Ленинский       Октябрьская 12   2/5   \n",
       "2  Однокомнатная нестандартная  Орджоникидзевский      Ленина пр-т 135  6/14   \n",
       "3  Трехкомнатная нестандартная  Орджоникидзевский      Ленина пр-т 129  5/16   \n",
       "4     Двухкомнатная улучшенная  Орджоникидзевский  Сиреневый проезд 12   7/9   \n",
       "\n",
       "   total_square  living_square  kitchen_square  \n",
       "0          64.0           43.0             8.0  \n",
       "1          87.2           60.0             9.0  \n",
       "2          36.1           20.0             9.0  \n",
       "3         105.0           75.0            14.0  \n",
       "4          50.6           43.0             9.0  "
      ]
     },
     "execution_count": 122,
     "metadata": {},
     "output_type": "execute_result"
    }
   ],
   "source": [
    "features.head()"
   ]
  },
  {
   "cell_type": "code",
   "execution_count": 123,
   "id": "f96a68c9-382b-4b43-96b4-f6fe21c514b8",
   "metadata": {},
   "outputs": [
    {
     "data": {
      "text/plain": [
       "0    3750\n",
       "1    8300\n",
       "2    3330\n",
       "3    7700\n",
       "4    3800\n",
       "Name: price, dtype: int64"
      ]
     },
     "execution_count": 123,
     "metadata": {},
     "output_type": "execute_result"
    }
   ],
   "source": [
    "target.head()"
   ]
  },
  {
   "cell_type": "markdown",
   "id": "ad4231ab-7f2b-487e-81d3-201cf0714d9a",
   "metadata": {},
   "source": [
    "### Трансформер для предварительной обработки данных"
   ]
  },
  {
   "cell_type": "markdown",
   "id": "a3e9755b-bf19-4bba-a4dd-757da5793297",
   "metadata": {},
   "source": [
    "Напишем два трансформера для предварительной обработки данных\n",
    "\n",
    "**Чистка данных**\n",
    "- 'adress': у названий улиц уберем номера домов\n",
    "- 'adress': в названиях улиц исправим неявные дубликаты\n",
    "- 'district': исправим неявные дубликаты\n",
    "\n",
    "**Преобразование характеристик**\n",
    "    \n",
    "- 'floor': добавляем столбец с номером этажа\n",
    "- 'floor': добавляем столбец с общим количеством этажей в доме.\n",
    "- 'type': добавляем столбец с количеством комнат\n",
    "- 'type': добавляем столбец с типом планировки. пропуски заполняем значением «неизвестно»\n",
    "- 'floor': удалим, потому что вместо него будем использовать столбцы, сгенерированные на его основе \n",
    "- 'type': удалим, потому что вместо него будем использовать столбцы, сгенерированные на его основе \n",
    "- 'adress': удалим, потому что вместо него будем использовать столбцы, сгенерированные на его основе\n"
   ]
  },
  {
   "cell_type": "code",
   "execution_count": 124,
   "id": "f2b88aaa-12de-4e11-849c-c9bc513c6fe5",
   "metadata": {},
   "outputs": [],
   "source": [
    "class DataCleaner(BaseEstimator, TransformerMixin):\n",
    "    '''\n",
    "    Класс для обработки неявных дубликатов и пропусков\n",
    "    '''\n",
    "    def __init__(self):\n",
    "        self.districts_to_replace = {\n",
    "            'ленинский' : 'Ленинский',\n",
    "            'Орджоникидзевский район' : 'Орджоникидзевский',\n",
    "            'Орджо' : 'Орджоникидзевский',\n",
    "            'правобережный' : 'Правобережный'\n",
    "        }\n",
    "        self.streets_to_replace = {\n",
    "            'зеленый лог' : 'Зеленый Лог',\n",
    "            'Зеленый лог' : 'Зеленый Лог',\n",
    "            'Зеленый лог 30 к' : 'Зеленый Лог',\n",
    "            'Им. газеты \\\\\"Правда\\\\\"' : 'имени газеты Правда',\n",
    "            'Им. газеты \"Правда\"' : 'имени газеты Правда',\n",
    "            'проспект Сиреневый' : 'Сиреневый проезд',\n",
    "            'карла маркса' : 'Карла Маркса',\n",
    "            '50 лет Магнитки' : '50-летия Магнитки',\n",
    "            'Ленина пр-т 210' : 'Ленина пр-т',\n",
    "            'Советский переулок 12' : 'Советский переулок',\n",
    "            '26 Горнолыжная' : 'Горнолыжная'\n",
    "        }\n",
    "        \n",
    "    def __get_street(self, row):\n",
    "        dirt = ['ул. ', 'ул.', 'ул ', 'пр.']\n",
    "        for dot in dirt:\n",
    "            if dot in row:\n",
    "                row = row.replace(dot, '')\n",
    "        if row.find('. ') == 0:\n",
    "            row = row[2:]\n",
    "        return row[: row.rfind(' ')]\n",
    "    \n",
    "    def fit(self, X):\n",
    "        return self\n",
    "\n",
    "    def transform(self, X):\n",
    "         \n",
    "        # обработка дубликатов и пропусков района\n",
    "        X['district'].replace(to_replace=self.districts_to_replace, inplace=True)\n",
    "        X['district'].fillna('неизвестно', inplace=True)\n",
    "        \n",
    "        # обработка дубликатов улиц\n",
    "        X['adress'] = X['adress'].apply(self.__get_street)\n",
    "        X['adress'].replace(to_replace=self.streets_to_replace, inplace=True)\n",
    "                        \n",
    "        return X"
   ]
  },
  {
   "cell_type": "code",
   "execution_count": 125,
   "id": "ca91d7dc-7038-4d6f-8194-c763fb9e3951",
   "metadata": {},
   "outputs": [],
   "source": [
    "class FeaturesTransformer(BaseEstimator, TransformerMixin):\n",
    "    '''\n",
    "    Класс для преобразования характеристик.\n",
    "    \n",
    "    Добавляет:\n",
    "        floor_num - номер этажа\n",
    "        total_floors - общее количество этажей\n",
    "        num_of_rooms - количество комнат\n",
    "        flat_type - тип планировки\n",
    "\n",
    "    Удаляет: \n",
    "        floor - так как заменен на два более информативных признака\n",
    "        type - так как заменен на два более информативных признака\n",
    "    '''\n",
    "    columns_ = [\n",
    "        'district', \n",
    "        'adress', \n",
    "        'total_square', \n",
    "        'living_square', \n",
    "        'kitchen_square', \n",
    "        'floor_num', \n",
    "        'total_floors', \n",
    "        'num_of_rooms', \n",
    "        'flat_type'\n",
    "    ]\n",
    "    def __init__(self):\n",
    "        pass\n",
    "        \n",
    "    def __get_floor_num(self, row):\n",
    "        return int(row[:row.find('/')])\n",
    "    \n",
    "    def __get_total_floors(self, row):\n",
    "        return int(row[row.find('/')+1:])\n",
    "\n",
    "    def __get_num_of_rooms(self, row):\n",
    "        return row[: row.find(' ')] if row.find(' ') > 0 else None\n",
    "\n",
    "    def __get_flat_type(self, row):\n",
    "        return 'неизвестно' if (len(row) - row.find(' ') == 1) or (row.find(' ') == -1) else row[row.find(' ')+1:]\n",
    "    \n",
    "    def fit(self, X):\n",
    "        return self\n",
    "\n",
    "    def transform(self, X):\n",
    "         \n",
    "        # номер этажа квартиры\n",
    "        floor_num = X['floor'].apply(self.__get_floor_num)\n",
    "\n",
    "        # общее количество этажей в доме\n",
    "        total_floors = X['floor'].apply(self.__get_total_floors)\n",
    "\n",
    "        num_of_rooms = X['type'].apply(self.__get_num_of_rooms)\n",
    "        flat_type = X['type'].apply(self.__get_flat_type)\n",
    "        \n",
    "        X = pd.DataFrame(np.c_[X.drop(['floor', 'type'], axis=1), floor_num, total_floors, num_of_rooms, flat_type])    \n",
    "        X.columns = self.columns_\n",
    "        return X"
   ]
  },
  {
   "cell_type": "markdown",
   "id": "a9926ee8-c2c2-44b6-8f7e-cca5108dc115",
   "metadata": {},
   "source": [
    "Выделим категориальные и числовые признаки."
   ]
  },
  {
   "cell_type": "markdown",
   "id": "83ac31ca-5d0b-4188-9913-10b660988df3",
   "metadata": {},
   "source": [
    "### Подготовка обучающей и валидационной выборки."
   ]
  },
  {
   "cell_type": "markdown",
   "id": "4682e01c-5358-4bed-aea2-388eb200c26a",
   "metadata": {},
   "source": [
    "Выделим характеристики, которые будем использовать для обучения модели."
   ]
  },
  {
   "cell_type": "markdown",
   "id": "45c4c7ed-a276-4f91-a306-afc2a43ca330",
   "metadata": {},
   "source": [
    "|столбец|комментарий|\n",
    "|:--|:--|\n",
    "|id|не влияет на цену квартиры|\n",
    "|type|вместо него будем использовать более информативные столбцы, сгенерированные на основе данных из этого столбца|\n",
    "|**district**|может оказывать влияние|\n",
    "|**adress**|может оказывать влияние|\n",
    "|floor|вместо него будем использовать более информативные столбцы, сгенерированные на основе данных из этого столбца|\n",
    "|**total_square**|может оказывать влияние|\n",
    "|**living_square**|может оказывать влияние|\n",
    "|**kitchen_square**|может оказывать влияние|\n",
    "|**price**|целевой признак|\n",
    "|**floor_num**|может оказывать влияние|\n",
    "|**total_floors**|может оказывать влияние|\n",
    "|**num_of_rooms**|может оказывать влияние|\n",
    "|**flat_type**|может оказывать влияние|"
   ]
  },
  {
   "cell_type": "markdown",
   "id": "0398c59a-7238-41fb-a273-e932ff8d0216",
   "metadata": {},
   "source": [
    "Разобьем выборки на обучающую и валидационную в отношении 4 : 1."
   ]
  },
  {
   "cell_type": "code",
   "execution_count": 126,
   "id": "27f50d5d-e8e4-461e-8367-5cbcf2ae210d",
   "metadata": {},
   "outputs": [],
   "source": [
    "features_train, features_val, target_train, target_val = train_test_split(\n",
    "    features,\n",
    "    target,\n",
    "    test_size=0.2,\n",
    "    random_state=RANDOM_STATE\n",
    ")"
   ]
  },
  {
   "cell_type": "code",
   "execution_count": 127,
   "id": "8cce391e-4266-4cff-a499-0abcf5c8f7a3",
   "metadata": {},
   "outputs": [],
   "source": [
    "numeric = ['total_square', 'living_square', 'kitchen_square',\n",
    "       'floor_num', 'total_floors']\n",
    "categorical = ['district', 'adress', 'num_of_rooms', 'flat_type']"
   ]
  },
  {
   "cell_type": "markdown",
   "id": "53a8c0f0-889b-46b7-94e4-3c35457c2167",
   "metadata": {},
   "source": [
    "Количество комнат попадает в категориальные признаки, потому что содержит значение «многоквартирная», которое нельзя заменить конкретным числовым значением."
   ]
  },
  {
   "cell_type": "markdown",
   "id": "302f19a7-b817-4b7d-a461-82b4dbdbd07c",
   "metadata": {},
   "source": [
    "Преобразуем категориальные признаки в числа с помощью порядкового кодирования. "
   ]
  },
  {
   "cell_type": "code",
   "execution_count": 128,
   "id": "29924a4f-0ca3-4665-b394-dfc0b1478da6",
   "metadata": {},
   "outputs": [],
   "source": [
    "# my_pipeline[1].columns_"
   ]
  },
  {
   "cell_type": "code",
   "execution_count": 129,
   "id": "c0156806-8a71-46ff-87d7-a181d7a93163",
   "metadata": {},
   "outputs": [],
   "source": [
    "my_pipeline = Pipeline([\n",
    "    ('data_cleaner', DataCleaner()),\n",
    "    ('features_transformer', FeaturesTransformer()),\n",
    "    ('col_transformer', ColumnTransformer(\n",
    "   transformers=[\n",
    "       ('oe', OrdinalEncoder(handle_unknown='use_encoded_value', unknown_value = -1), categorical)\n",
    "       ],\n",
    "    remainder=\"passthrough\",\n",
    "    verbose_feature_names_out=False\n",
    ")),\n",
    "    ('scaler', StandardScaler())\n",
    "])"
   ]
  },
  {
   "cell_type": "code",
   "execution_count": 130,
   "id": "14e9eeb5-25c9-4fd9-8e37-4fc912b48690",
   "metadata": {},
   "outputs": [],
   "source": [
    "features_train_piped = pd.DataFrame(my_pipeline.fit_transform(features_train))"
   ]
  },
  {
   "cell_type": "code",
   "execution_count": 131,
   "id": "ceae8c79-317a-4c81-85d6-fa8df6a7972a",
   "metadata": {},
   "outputs": [],
   "source": [
    "features_val_piped = pd.DataFrame(my_pipeline.transform(features_val))"
   ]
  },
  {
   "cell_type": "code",
   "execution_count": 132,
   "id": "5b0f4455-c54b-4a14-a2b9-eec670e423df",
   "metadata": {},
   "outputs": [
    {
     "data": {
      "text/html": [
       "<div>\n",
       "<style scoped>\n",
       "    .dataframe tbody tr th:only-of-type {\n",
       "        vertical-align: middle;\n",
       "    }\n",
       "\n",
       "    .dataframe tbody tr th {\n",
       "        vertical-align: top;\n",
       "    }\n",
       "\n",
       "    .dataframe thead th {\n",
       "        text-align: right;\n",
       "    }\n",
       "</style>\n",
       "<table border=\"1\" class=\"dataframe\">\n",
       "  <thead>\n",
       "    <tr style=\"text-align: right;\">\n",
       "      <th></th>\n",
       "      <th>district</th>\n",
       "      <th>adress</th>\n",
       "      <th>num_of_rooms</th>\n",
       "      <th>flat_type</th>\n",
       "      <th>total_square</th>\n",
       "      <th>living_square</th>\n",
       "      <th>kitchen_square</th>\n",
       "      <th>floor_num</th>\n",
       "      <th>total_floors</th>\n",
       "    </tr>\n",
       "  </thead>\n",
       "  <tbody>\n",
       "    <tr>\n",
       "      <th>0</th>\n",
       "      <td>1.025638</td>\n",
       "      <td>-1.587622</td>\n",
       "      <td>0.277145</td>\n",
       "      <td>-0.360087</td>\n",
       "      <td>-1.431076</td>\n",
       "      <td>-1.115889</td>\n",
       "      <td>-0.963241</td>\n",
       "      <td>0.839670</td>\n",
       "      <td>0.813310</td>\n",
       "    </tr>\n",
       "    <tr>\n",
       "      <th>1</th>\n",
       "      <td>1.025638</td>\n",
       "      <td>-0.667000</td>\n",
       "      <td>0.277145</td>\n",
       "      <td>-0.360087</td>\n",
       "      <td>-0.232604</td>\n",
       "      <td>-1.286261</td>\n",
       "      <td>3.935852</td>\n",
       "      <td>0.075312</td>\n",
       "      <td>0.813310</td>\n",
       "    </tr>\n",
       "    <tr>\n",
       "      <th>2</th>\n",
       "      <td>-0.809714</td>\n",
       "      <td>-1.434185</td>\n",
       "      <td>1.037059</td>\n",
       "      <td>-1.790338</td>\n",
       "      <td>0.228347</td>\n",
       "      <td>0.587835</td>\n",
       "      <td>-0.473332</td>\n",
       "      <td>0.457491</td>\n",
       "      <td>0.813310</td>\n",
       "    </tr>\n",
       "    <tr>\n",
       "      <th>3</th>\n",
       "      <td>-1.421498</td>\n",
       "      <td>-1.229602</td>\n",
       "      <td>-1.242682</td>\n",
       "      <td>1.928315</td>\n",
       "      <td>0.652422</td>\n",
       "      <td>0.241411</td>\n",
       "      <td>0.506487</td>\n",
       "      <td>-0.689046</td>\n",
       "      <td>-1.279314</td>\n",
       "    </tr>\n",
       "    <tr>\n",
       "      <th>4</th>\n",
       "      <td>1.025638</td>\n",
       "      <td>0.765079</td>\n",
       "      <td>1.037059</td>\n",
       "      <td>-0.360087</td>\n",
       "      <td>0.551012</td>\n",
       "      <td>-1.797378</td>\n",
       "      <td>0.016578</td>\n",
       "      <td>-0.689046</td>\n",
       "      <td>0.813310</td>\n",
       "    </tr>\n",
       "    <tr>\n",
       "      <th>...</th>\n",
       "      <td>...</td>\n",
       "      <td>...</td>\n",
       "      <td>...</td>\n",
       "      <td>...</td>\n",
       "      <td>...</td>\n",
       "      <td>...</td>\n",
       "      <td>...</td>\n",
       "      <td>...</td>\n",
       "      <td>...</td>\n",
       "    </tr>\n",
       "    <tr>\n",
       "      <th>335</th>\n",
       "      <td>0.413854</td>\n",
       "      <td>0.918516</td>\n",
       "      <td>-1.242682</td>\n",
       "      <td>-1.790338</td>\n",
       "      <td>-0.416984</td>\n",
       "      <td>-0.150445</td>\n",
       "      <td>-0.473332</td>\n",
       "      <td>0.457491</td>\n",
       "      <td>-0.382475</td>\n",
       "    </tr>\n",
       "    <tr>\n",
       "      <th>336</th>\n",
       "      <td>1.025638</td>\n",
       "      <td>-0.411271</td>\n",
       "      <td>0.277145</td>\n",
       "      <td>-0.360087</td>\n",
       "      <td>-0.831840</td>\n",
       "      <td>-0.661562</td>\n",
       "      <td>-1.208196</td>\n",
       "      <td>0.075312</td>\n",
       "      <td>-0.382475</td>\n",
       "    </tr>\n",
       "    <tr>\n",
       "      <th>337</th>\n",
       "      <td>1.025638</td>\n",
       "      <td>-0.411271</td>\n",
       "      <td>0.277145</td>\n",
       "      <td>-0.360087</td>\n",
       "      <td>-1.408028</td>\n",
       "      <td>-0.945516</td>\n",
       "      <td>-0.963241</td>\n",
       "      <td>-0.689046</td>\n",
       "      <td>-0.382475</td>\n",
       "    </tr>\n",
       "    <tr>\n",
       "      <th>338</th>\n",
       "      <td>-1.421498</td>\n",
       "      <td>0.202477</td>\n",
       "      <td>0.277145</td>\n",
       "      <td>1.642265</td>\n",
       "      <td>-0.924030</td>\n",
       "      <td>-0.661562</td>\n",
       "      <td>-0.473332</td>\n",
       "      <td>-0.306867</td>\n",
       "      <td>-0.382475</td>\n",
       "    </tr>\n",
       "    <tr>\n",
       "      <th>339</th>\n",
       "      <td>-0.809714</td>\n",
       "      <td>0.765079</td>\n",
       "      <td>1.037059</td>\n",
       "      <td>-0.360087</td>\n",
       "      <td>0.689298</td>\n",
       "      <td>0.587835</td>\n",
       "      <td>0.016578</td>\n",
       "      <td>0.457491</td>\n",
       "      <td>0.813310</td>\n",
       "    </tr>\n",
       "  </tbody>\n",
       "</table>\n",
       "<p>340 rows × 9 columns</p>\n",
       "</div>"
      ],
      "text/plain": [
       "     district    adress  num_of_rooms  flat_type  total_square  living_square  \\\n",
       "0    1.025638 -1.587622      0.277145  -0.360087     -1.431076      -1.115889   \n",
       "1    1.025638 -0.667000      0.277145  -0.360087     -0.232604      -1.286261   \n",
       "2   -0.809714 -1.434185      1.037059  -1.790338      0.228347       0.587835   \n",
       "3   -1.421498 -1.229602     -1.242682   1.928315      0.652422       0.241411   \n",
       "4    1.025638  0.765079      1.037059  -0.360087      0.551012      -1.797378   \n",
       "..        ...       ...           ...        ...           ...            ...   \n",
       "335  0.413854  0.918516     -1.242682  -1.790338     -0.416984      -0.150445   \n",
       "336  1.025638 -0.411271      0.277145  -0.360087     -0.831840      -0.661562   \n",
       "337  1.025638 -0.411271      0.277145  -0.360087     -1.408028      -0.945516   \n",
       "338 -1.421498  0.202477      0.277145   1.642265     -0.924030      -0.661562   \n",
       "339 -0.809714  0.765079      1.037059  -0.360087      0.689298       0.587835   \n",
       "\n",
       "     kitchen_square  floor_num  total_floors  \n",
       "0         -0.963241   0.839670      0.813310  \n",
       "1          3.935852   0.075312      0.813310  \n",
       "2         -0.473332   0.457491      0.813310  \n",
       "3          0.506487  -0.689046     -1.279314  \n",
       "4          0.016578  -0.689046      0.813310  \n",
       "..              ...        ...           ...  \n",
       "335       -0.473332   0.457491     -0.382475  \n",
       "336       -1.208196   0.075312     -0.382475  \n",
       "337       -0.963241  -0.689046     -0.382475  \n",
       "338       -0.473332  -0.306867     -0.382475  \n",
       "339        0.016578   0.457491      0.813310  \n",
       "\n",
       "[340 rows x 9 columns]"
      ]
     },
     "execution_count": 132,
     "metadata": {},
     "output_type": "execute_result"
    }
   ],
   "source": [
    "features_train_piped.columns = categorical + numeric\n",
    "features_train_piped"
   ]
  },
  {
   "cell_type": "code",
   "execution_count": 133,
   "id": "a412d7dc-b776-4cad-8da4-b418e9786228",
   "metadata": {},
   "outputs": [
    {
     "data": {
      "text/html": [
       "<div>\n",
       "<style scoped>\n",
       "    .dataframe tbody tr th:only-of-type {\n",
       "        vertical-align: middle;\n",
       "    }\n",
       "\n",
       "    .dataframe tbody tr th {\n",
       "        vertical-align: top;\n",
       "    }\n",
       "\n",
       "    .dataframe thead th {\n",
       "        text-align: right;\n",
       "    }\n",
       "</style>\n",
       "<table border=\"1\" class=\"dataframe\">\n",
       "  <thead>\n",
       "    <tr style=\"text-align: right;\">\n",
       "      <th></th>\n",
       "      <th>district</th>\n",
       "      <th>adress</th>\n",
       "      <th>num_of_rooms</th>\n",
       "      <th>flat_type</th>\n",
       "      <th>total_square</th>\n",
       "      <th>living_square</th>\n",
       "      <th>kitchen_square</th>\n",
       "      <th>floor_num</th>\n",
       "      <th>total_floors</th>\n",
       "    </tr>\n",
       "  </thead>\n",
       "  <tbody>\n",
       "    <tr>\n",
       "      <th>0</th>\n",
       "      <td>1.025638</td>\n",
       "      <td>-1.025019</td>\n",
       "      <td>0.277145</td>\n",
       "      <td>-0.360087</td>\n",
       "      <td>-0.601364</td>\n",
       "      <td>-0.661562</td>\n",
       "      <td>0.016578</td>\n",
       "      <td>-0.306867</td>\n",
       "      <td>0.813310</td>\n",
       "    </tr>\n",
       "    <tr>\n",
       "      <th>1</th>\n",
       "      <td>-0.809714</td>\n",
       "      <td>-0.360126</td>\n",
       "      <td>-1.242682</td>\n",
       "      <td>-0.360087</td>\n",
       "      <td>0.444994</td>\n",
       "      <td>0.814998</td>\n",
       "      <td>-0.105900</td>\n",
       "      <td>1.221849</td>\n",
       "      <td>1.112256</td>\n",
       "    </tr>\n",
       "    <tr>\n",
       "      <th>2</th>\n",
       "      <td>1.025638</td>\n",
       "      <td>-0.411271</td>\n",
       "      <td>1.037059</td>\n",
       "      <td>-0.360087</td>\n",
       "      <td>1.703389</td>\n",
       "      <td>1.610069</td>\n",
       "      <td>-0.473332</td>\n",
       "      <td>-0.689046</td>\n",
       "      <td>-1.279314</td>\n",
       "    </tr>\n",
       "    <tr>\n",
       "      <th>3</th>\n",
       "      <td>-1.421498</td>\n",
       "      <td>0.151331</td>\n",
       "      <td>1.037059</td>\n",
       "      <td>-0.074037</td>\n",
       "      <td>0.965868</td>\n",
       "      <td>1.382906</td>\n",
       "      <td>0.016578</td>\n",
       "      <td>0.457491</td>\n",
       "      <td>-0.382475</td>\n",
       "    </tr>\n",
       "    <tr>\n",
       "      <th>4</th>\n",
       "      <td>0.413854</td>\n",
       "      <td>0.509351</td>\n",
       "      <td>-1.242682</td>\n",
       "      <td>-0.360087</td>\n",
       "      <td>-0.440032</td>\n",
       "      <td>-0.264027</td>\n",
       "      <td>-0.718286</td>\n",
       "      <td>0.075312</td>\n",
       "      <td>-0.382475</td>\n",
       "    </tr>\n",
       "    <tr>\n",
       "      <th>...</th>\n",
       "      <td>...</td>\n",
       "      <td>...</td>\n",
       "      <td>...</td>\n",
       "      <td>...</td>\n",
       "      <td>...</td>\n",
       "      <td>...</td>\n",
       "      <td>...</td>\n",
       "      <td>...</td>\n",
       "      <td>...</td>\n",
       "    </tr>\n",
       "    <tr>\n",
       "      <th>80</th>\n",
       "      <td>-1.421498</td>\n",
       "      <td>0.100185</td>\n",
       "      <td>-1.242682</td>\n",
       "      <td>1.928315</td>\n",
       "      <td>0.320537</td>\n",
       "      <td>0.019927</td>\n",
       "      <td>0.016578</td>\n",
       "      <td>-1.071225</td>\n",
       "      <td>-0.681422</td>\n",
       "    </tr>\n",
       "    <tr>\n",
       "      <th>81</th>\n",
       "      <td>1.025638</td>\n",
       "      <td>0.816225</td>\n",
       "      <td>-1.242682</td>\n",
       "      <td>-0.360087</td>\n",
       "      <td>-0.163461</td>\n",
       "      <td>0.019927</td>\n",
       "      <td>-0.105900</td>\n",
       "      <td>0.075312</td>\n",
       "      <td>0.813310</td>\n",
       "    </tr>\n",
       "    <tr>\n",
       "      <th>82</th>\n",
       "      <td>-0.809714</td>\n",
       "      <td>-1.792204</td>\n",
       "      <td>1.037059</td>\n",
       "      <td>-1.790338</td>\n",
       "      <td>0.689298</td>\n",
       "      <td>0.758207</td>\n",
       "      <td>-0.718286</td>\n",
       "      <td>0.457491</td>\n",
       "      <td>-0.382475</td>\n",
       "    </tr>\n",
       "    <tr>\n",
       "      <th>83</th>\n",
       "      <td>-0.809714</td>\n",
       "      <td>-0.360126</td>\n",
       "      <td>0.277145</td>\n",
       "      <td>-0.074037</td>\n",
       "      <td>-0.587536</td>\n",
       "      <td>-0.661562</td>\n",
       "      <td>0.016578</td>\n",
       "      <td>2.368386</td>\n",
       "      <td>1.112256</td>\n",
       "    </tr>\n",
       "    <tr>\n",
       "      <th>84</th>\n",
       "      <td>-0.809714</td>\n",
       "      <td>-1.843350</td>\n",
       "      <td>1.037059</td>\n",
       "      <td>-0.074037</td>\n",
       "      <td>1.334629</td>\n",
       "      <td>1.042161</td>\n",
       "      <td>0.261532</td>\n",
       "      <td>1.221849</td>\n",
       "      <td>2.905934</td>\n",
       "    </tr>\n",
       "  </tbody>\n",
       "</table>\n",
       "<p>85 rows × 9 columns</p>\n",
       "</div>"
      ],
      "text/plain": [
       "    district    adress  num_of_rooms  flat_type  total_square  living_square  \\\n",
       "0   1.025638 -1.025019      0.277145  -0.360087     -0.601364      -0.661562   \n",
       "1  -0.809714 -0.360126     -1.242682  -0.360087      0.444994       0.814998   \n",
       "2   1.025638 -0.411271      1.037059  -0.360087      1.703389       1.610069   \n",
       "3  -1.421498  0.151331      1.037059  -0.074037      0.965868       1.382906   \n",
       "4   0.413854  0.509351     -1.242682  -0.360087     -0.440032      -0.264027   \n",
       "..       ...       ...           ...        ...           ...            ...   \n",
       "80 -1.421498  0.100185     -1.242682   1.928315      0.320537       0.019927   \n",
       "81  1.025638  0.816225     -1.242682  -0.360087     -0.163461       0.019927   \n",
       "82 -0.809714 -1.792204      1.037059  -1.790338      0.689298       0.758207   \n",
       "83 -0.809714 -0.360126      0.277145  -0.074037     -0.587536      -0.661562   \n",
       "84 -0.809714 -1.843350      1.037059  -0.074037      1.334629       1.042161   \n",
       "\n",
       "    kitchen_square  floor_num  total_floors  \n",
       "0         0.016578  -0.306867      0.813310  \n",
       "1        -0.105900   1.221849      1.112256  \n",
       "2        -0.473332  -0.689046     -1.279314  \n",
       "3         0.016578   0.457491     -0.382475  \n",
       "4        -0.718286   0.075312     -0.382475  \n",
       "..             ...        ...           ...  \n",
       "80        0.016578  -1.071225     -0.681422  \n",
       "81       -0.105900   0.075312      0.813310  \n",
       "82       -0.718286   0.457491     -0.382475  \n",
       "83        0.016578   2.368386      1.112256  \n",
       "84        0.261532   1.221849      2.905934  \n",
       "\n",
       "[85 rows x 9 columns]"
      ]
     },
     "execution_count": 133,
     "metadata": {},
     "output_type": "execute_result"
    }
   ],
   "source": [
    "features_val_piped.columns = categorical + numeric\n",
    "features_val_piped"
   ]
  },
  {
   "cell_type": "code",
   "execution_count": 134,
   "id": "b2145059-731a-4888-9247-76cc04f74cdc",
   "metadata": {},
   "outputs": [],
   "source": [
    "target_train = target_train.reset_index(drop=True)"
   ]
  },
  {
   "cell_type": "code",
   "execution_count": 135,
   "id": "036ca421-e37a-45ea-84ac-ce0600dccd0d",
   "metadata": {},
   "outputs": [],
   "source": [
    "target_val = target_val.reset_index(drop=True)"
   ]
  },
  {
   "cell_type": "markdown",
   "id": "9bd65cd1-475f-45a5-ad50-6a51601961f2",
   "metadata": {},
   "source": [
    "Модель линейной регрессии"
   ]
  },
  {
   "cell_type": "code",
   "execution_count": 136,
   "id": "51cf6011-6cef-4c11-8427-968ca17baf6e",
   "metadata": {},
   "outputs": [],
   "source": [
    "class MyLinearRegression:\n",
    "    \n",
    "    def fit(self, train_features, train_target):\n",
    "        X = np.concatenate((np.ones((train_features.shape[0], 1)), train_features), axis=1)\n",
    "        y = train_target\n",
    "        w = np.linalg.inv(X.T @ X) @ X.T @ y\n",
    "        self.w = w[1:]\n",
    "        self.w0 = w[0]\n",
    "\n",
    "    def predict(self, test_features):\n",
    "        return test_features.dot(self.w) + self.w0"
   ]
  },
  {
   "cell_type": "code",
   "execution_count": 137,
   "id": "58b8df52-66c4-4c23-8b4b-18488f3afbe6",
   "metadata": {},
   "outputs": [
    {
     "name": "stdout",
     "output_type": "stream",
     "text": [
      "664.8244052685571\n"
     ]
    }
   ],
   "source": [
    "# наша модель\n",
    "model_1 = MyLinearRegression()\n",
    "model_1.fit(features_train_piped, target_train)\n",
    "predictions = model_1.predict(features_val_piped)\n",
    "\n",
    "# метрика MAE\n",
    "mae = mean_absolute_error(target_val, predictions)\n",
    "print(mae)"
   ]
  },
  {
   "cell_type": "code",
   "execution_count": 138,
   "id": "0f3b2bd4-9914-4fd1-adda-4db1d2f45cdd",
   "metadata": {},
   "outputs": [
    {
     "data": {
      "text/plain": [
       "0     3050\n",
       "1     5950\n",
       "2     7400\n",
       "3     5500\n",
       "4     2650\n",
       "      ... \n",
       "80    3840\n",
       "81    3400\n",
       "82    4130\n",
       "83    3300\n",
       "84    6200\n",
       "Name: price, Length: 85, dtype: int64"
      ]
     },
     "execution_count": 138,
     "metadata": {},
     "output_type": "execute_result"
    }
   ],
   "source": [
    "target_val"
   ]
  },
  {
   "cell_type": "code",
   "execution_count": 139,
   "id": "7e237e40-4d9a-4a9d-9cbc-c3e0530af3ab",
   "metadata": {},
   "outputs": [
    {
     "name": "stdout",
     "output_type": "stream",
     "text": [
      "3050 3267.7070993571897\n",
      "5950 4533.4168818013895\n",
      "7400 5549.792917958559\n",
      "5500 5159.7563727256\n",
      "2650 3027.4608064842996\n",
      "3000 3266.5331128096204\n",
      "4200 4476.107689289267\n",
      "2800 2722.296552297572\n",
      "4300 4759.778454810906\n",
      "2750 4623.611591793881\n"
     ]
    }
   ],
   "source": [
    "for i in range(10):\n",
    "    print(target_val.iloc[i], predictions.iloc[i])"
   ]
  },
  {
   "cell_type": "code",
   "execution_count": 140,
   "id": "ef8f546e-1993-4c69-a720-6e203cb1646d",
   "metadata": {},
   "outputs": [],
   "source": [
    "from sklearn.tree import DecisionTreeRegressor"
   ]
  },
  {
   "cell_type": "code",
   "execution_count": 141,
   "id": "ab6ce193-fc60-45a0-90b8-9fbe76420b82",
   "metadata": {},
   "outputs": [],
   "source": [
    "DTR = DecisionTreeRegressor(\n",
    "    max_depth=10,\n",
    "    random_state=RANDOM_STATE\n",
    ")"
   ]
  },
  {
   "cell_type": "code",
   "execution_count": 142,
   "id": "5551caec-1e60-4adb-b873-399f8ed50f15",
   "metadata": {},
   "outputs": [
    {
     "data": {
      "text/html": [
       "<style>#sk-container-id-3 {color: black;}#sk-container-id-3 pre{padding: 0;}#sk-container-id-3 div.sk-toggleable {background-color: white;}#sk-container-id-3 label.sk-toggleable__label {cursor: pointer;display: block;width: 100%;margin-bottom: 0;padding: 0.3em;box-sizing: border-box;text-align: center;}#sk-container-id-3 label.sk-toggleable__label-arrow:before {content: \"▸\";float: left;margin-right: 0.25em;color: #696969;}#sk-container-id-3 label.sk-toggleable__label-arrow:hover:before {color: black;}#sk-container-id-3 div.sk-estimator:hover label.sk-toggleable__label-arrow:before {color: black;}#sk-container-id-3 div.sk-toggleable__content {max-height: 0;max-width: 0;overflow: hidden;text-align: left;background-color: #f0f8ff;}#sk-container-id-3 div.sk-toggleable__content pre {margin: 0.2em;color: black;border-radius: 0.25em;background-color: #f0f8ff;}#sk-container-id-3 input.sk-toggleable__control:checked~div.sk-toggleable__content {max-height: 200px;max-width: 100%;overflow: auto;}#sk-container-id-3 input.sk-toggleable__control:checked~label.sk-toggleable__label-arrow:before {content: \"▾\";}#sk-container-id-3 div.sk-estimator input.sk-toggleable__control:checked~label.sk-toggleable__label {background-color: #d4ebff;}#sk-container-id-3 div.sk-label input.sk-toggleable__control:checked~label.sk-toggleable__label {background-color: #d4ebff;}#sk-container-id-3 input.sk-hidden--visually {border: 0;clip: rect(1px 1px 1px 1px);clip: rect(1px, 1px, 1px, 1px);height: 1px;margin: -1px;overflow: hidden;padding: 0;position: absolute;width: 1px;}#sk-container-id-3 div.sk-estimator {font-family: monospace;background-color: #f0f8ff;border: 1px dotted black;border-radius: 0.25em;box-sizing: border-box;margin-bottom: 0.5em;}#sk-container-id-3 div.sk-estimator:hover {background-color: #d4ebff;}#sk-container-id-3 div.sk-parallel-item::after {content: \"\";width: 100%;border-bottom: 1px solid gray;flex-grow: 1;}#sk-container-id-3 div.sk-label:hover label.sk-toggleable__label {background-color: #d4ebff;}#sk-container-id-3 div.sk-serial::before {content: \"\";position: absolute;border-left: 1px solid gray;box-sizing: border-box;top: 0;bottom: 0;left: 50%;z-index: 0;}#sk-container-id-3 div.sk-serial {display: flex;flex-direction: column;align-items: center;background-color: white;padding-right: 0.2em;padding-left: 0.2em;position: relative;}#sk-container-id-3 div.sk-item {position: relative;z-index: 1;}#sk-container-id-3 div.sk-parallel {display: flex;align-items: stretch;justify-content: center;background-color: white;position: relative;}#sk-container-id-3 div.sk-item::before, #sk-container-id-3 div.sk-parallel-item::before {content: \"\";position: absolute;border-left: 1px solid gray;box-sizing: border-box;top: 0;bottom: 0;left: 50%;z-index: -1;}#sk-container-id-3 div.sk-parallel-item {display: flex;flex-direction: column;z-index: 1;position: relative;background-color: white;}#sk-container-id-3 div.sk-parallel-item:first-child::after {align-self: flex-end;width: 50%;}#sk-container-id-3 div.sk-parallel-item:last-child::after {align-self: flex-start;width: 50%;}#sk-container-id-3 div.sk-parallel-item:only-child::after {width: 0;}#sk-container-id-3 div.sk-dashed-wrapped {border: 1px dashed gray;margin: 0 0.4em 0.5em 0.4em;box-sizing: border-box;padding-bottom: 0.4em;background-color: white;}#sk-container-id-3 div.sk-label label {font-family: monospace;font-weight: bold;display: inline-block;line-height: 1.2em;}#sk-container-id-3 div.sk-label-container {text-align: center;}#sk-container-id-3 div.sk-container {/* jupyter's `normalize.less` sets `[hidden] { display: none; }` but bootstrap.min.css set `[hidden] { display: none !important; }` so we also need the `!important` here to be able to override the default hidden behavior on the sphinx rendered scikit-learn.org. See: https://github.com/scikit-learn/scikit-learn/issues/21755 */display: inline-block !important;position: relative;}#sk-container-id-3 div.sk-text-repr-fallback {display: none;}</style><div id=\"sk-container-id-3\" class=\"sk-top-container\"><div class=\"sk-text-repr-fallback\"><pre>DecisionTreeRegressor(max_depth=10, random_state=12345)</pre><b>In a Jupyter environment, please rerun this cell to show the HTML representation or trust the notebook. <br />On GitHub, the HTML representation is unable to render, please try loading this page with nbviewer.org.</b></div><div class=\"sk-container\" hidden><div class=\"sk-item\"><div class=\"sk-estimator sk-toggleable\"><input class=\"sk-toggleable__control sk-hidden--visually\" id=\"sk-estimator-id-3\" type=\"checkbox\" checked><label for=\"sk-estimator-id-3\" class=\"sk-toggleable__label sk-toggleable__label-arrow\">DecisionTreeRegressor</label><div class=\"sk-toggleable__content\"><pre>DecisionTreeRegressor(max_depth=10, random_state=12345)</pre></div></div></div></div></div>"
      ],
      "text/plain": [
       "DecisionTreeRegressor(max_depth=10, random_state=12345)"
      ]
     },
     "execution_count": 142,
     "metadata": {},
     "output_type": "execute_result"
    }
   ],
   "source": [
    "DTR.fit(features_train_piped, target_train)"
   ]
  },
  {
   "cell_type": "code",
   "execution_count": 143,
   "id": "d46adbf4-183d-403e-b119-2959ea87ecb5",
   "metadata": {},
   "outputs": [
    {
     "name": "stdout",
     "output_type": "stream",
     "text": [
      "565.4717647058824\n"
     ]
    }
   ],
   "source": [
    "predictionsDTR = DTR.predict(features_val_piped)\n",
    "\n",
    "# метрика MAE\n",
    "maeDTR = mean_absolute_error(target_val, predictionsDTR)\n",
    "print(maeDTR)"
   ]
  },
  {
   "cell_type": "code",
   "execution_count": 144,
   "id": "ca094643-3886-40b6-9fe3-e93cc04ead87",
   "metadata": {},
   "outputs": [],
   "source": [
    "from sklearn.ensemble import RandomForestRegressor"
   ]
  },
  {
   "cell_type": "code",
   "execution_count": 145,
   "id": "035e390c-8ea1-4aad-b75b-df7eb3b2105f",
   "metadata": {},
   "outputs": [],
   "source": [
    "# список гиперпараметров и их значений\n",
    "search_space = {\n",
    "    'criterion' : ['squared_error', 'absolute_error', 'friedman_mse', 'poisson'],\n",
    "    'max_depth' : [5, 10, 15],\n",
    "    'n_estimators' : [50, 100, 200],\n",
    "    'max_features' : ['sqrt', 'log2', 1]\n",
    "}"
   ]
  },
  {
   "cell_type": "code",
   "execution_count": 146,
   "id": "88bc8b2b-9747-45c7-94c1-03e30d85da0b",
   "metadata": {},
   "outputs": [],
   "source": [
    "model_rfr = RandomForestRegressor(\n",
    "    random_state=RANDOM_STATE\n",
    ")"
   ]
  },
  {
   "cell_type": "code",
   "execution_count": 147,
   "id": "baf5d16c-4cdb-459a-a908-9767ba1863e0",
   "metadata": {},
   "outputs": [],
   "source": [
    "GS = GridSearchCV(\n",
    "    estimator=model_rfr,\n",
    "    param_grid=search_space,\n",
    "    scoring='neg_mean_absolute_error',\n",
    "    cv=3,\n",
    "    verbose=4\n",
    ")"
   ]
  },
  {
   "cell_type": "code",
   "execution_count": 148,
   "id": "2c0a4fa2-bc23-45b5-a984-4c4368244202",
   "metadata": {},
   "outputs": [],
   "source": [
    "# GS.fit(features_train_sc, target_train)"
   ]
  },
  {
   "cell_type": "code",
   "execution_count": 149,
   "id": "5f94f7a1-7434-40ac-b9ae-3a3c7286cda3",
   "metadata": {},
   "outputs": [],
   "source": [
    "# GS.best_score_"
   ]
  },
  {
   "cell_type": "code",
   "execution_count": 150,
   "id": "95769eac-7bc2-46a6-b552-345acbb2677e",
   "metadata": {},
   "outputs": [],
   "source": [
    "# GS.best_estimator_"
   ]
  },
  {
   "cell_type": "code",
   "execution_count": 151,
   "id": "4bd1a873-6479-4c38-be7c-fee5815abdfa",
   "metadata": {},
   "outputs": [],
   "source": [
    "RFR = RandomForestRegressor(\n",
    "    # criterion='poisson',\n",
    "    max_depth=10, \n",
    "    # max_features='sqrt',\n",
    "    n_estimators=100,\n",
    "    random_state=RANDOM_STATE\n",
    ")"
   ]
  },
  {
   "cell_type": "code",
   "execution_count": 152,
   "id": "1c501962-2cb3-40af-9290-de0189c3cd53",
   "metadata": {},
   "outputs": [],
   "source": [
    "# RFR = RandomForestRegressor(\n",
    "#     max_depth=10,\n",
    "#     random_state=RANDOM_STATE,\n",
    "#     n_estimators=100\n",
    "# )"
   ]
  },
  {
   "cell_type": "code",
   "execution_count": 153,
   "id": "af108726-54ef-4490-84aa-fb2d1922ff0b",
   "metadata": {},
   "outputs": [
    {
     "data": {
      "text/html": [
       "<style>#sk-container-id-4 {color: black;}#sk-container-id-4 pre{padding: 0;}#sk-container-id-4 div.sk-toggleable {background-color: white;}#sk-container-id-4 label.sk-toggleable__label {cursor: pointer;display: block;width: 100%;margin-bottom: 0;padding: 0.3em;box-sizing: border-box;text-align: center;}#sk-container-id-4 label.sk-toggleable__label-arrow:before {content: \"▸\";float: left;margin-right: 0.25em;color: #696969;}#sk-container-id-4 label.sk-toggleable__label-arrow:hover:before {color: black;}#sk-container-id-4 div.sk-estimator:hover label.sk-toggleable__label-arrow:before {color: black;}#sk-container-id-4 div.sk-toggleable__content {max-height: 0;max-width: 0;overflow: hidden;text-align: left;background-color: #f0f8ff;}#sk-container-id-4 div.sk-toggleable__content pre {margin: 0.2em;color: black;border-radius: 0.25em;background-color: #f0f8ff;}#sk-container-id-4 input.sk-toggleable__control:checked~div.sk-toggleable__content {max-height: 200px;max-width: 100%;overflow: auto;}#sk-container-id-4 input.sk-toggleable__control:checked~label.sk-toggleable__label-arrow:before {content: \"▾\";}#sk-container-id-4 div.sk-estimator input.sk-toggleable__control:checked~label.sk-toggleable__label {background-color: #d4ebff;}#sk-container-id-4 div.sk-label input.sk-toggleable__control:checked~label.sk-toggleable__label {background-color: #d4ebff;}#sk-container-id-4 input.sk-hidden--visually {border: 0;clip: rect(1px 1px 1px 1px);clip: rect(1px, 1px, 1px, 1px);height: 1px;margin: -1px;overflow: hidden;padding: 0;position: absolute;width: 1px;}#sk-container-id-4 div.sk-estimator {font-family: monospace;background-color: #f0f8ff;border: 1px dotted black;border-radius: 0.25em;box-sizing: border-box;margin-bottom: 0.5em;}#sk-container-id-4 div.sk-estimator:hover {background-color: #d4ebff;}#sk-container-id-4 div.sk-parallel-item::after {content: \"\";width: 100%;border-bottom: 1px solid gray;flex-grow: 1;}#sk-container-id-4 div.sk-label:hover label.sk-toggleable__label {background-color: #d4ebff;}#sk-container-id-4 div.sk-serial::before {content: \"\";position: absolute;border-left: 1px solid gray;box-sizing: border-box;top: 0;bottom: 0;left: 50%;z-index: 0;}#sk-container-id-4 div.sk-serial {display: flex;flex-direction: column;align-items: center;background-color: white;padding-right: 0.2em;padding-left: 0.2em;position: relative;}#sk-container-id-4 div.sk-item {position: relative;z-index: 1;}#sk-container-id-4 div.sk-parallel {display: flex;align-items: stretch;justify-content: center;background-color: white;position: relative;}#sk-container-id-4 div.sk-item::before, #sk-container-id-4 div.sk-parallel-item::before {content: \"\";position: absolute;border-left: 1px solid gray;box-sizing: border-box;top: 0;bottom: 0;left: 50%;z-index: -1;}#sk-container-id-4 div.sk-parallel-item {display: flex;flex-direction: column;z-index: 1;position: relative;background-color: white;}#sk-container-id-4 div.sk-parallel-item:first-child::after {align-self: flex-end;width: 50%;}#sk-container-id-4 div.sk-parallel-item:last-child::after {align-self: flex-start;width: 50%;}#sk-container-id-4 div.sk-parallel-item:only-child::after {width: 0;}#sk-container-id-4 div.sk-dashed-wrapped {border: 1px dashed gray;margin: 0 0.4em 0.5em 0.4em;box-sizing: border-box;padding-bottom: 0.4em;background-color: white;}#sk-container-id-4 div.sk-label label {font-family: monospace;font-weight: bold;display: inline-block;line-height: 1.2em;}#sk-container-id-4 div.sk-label-container {text-align: center;}#sk-container-id-4 div.sk-container {/* jupyter's `normalize.less` sets `[hidden] { display: none; }` but bootstrap.min.css set `[hidden] { display: none !important; }` so we also need the `!important` here to be able to override the default hidden behavior on the sphinx rendered scikit-learn.org. See: https://github.com/scikit-learn/scikit-learn/issues/21755 */display: inline-block !important;position: relative;}#sk-container-id-4 div.sk-text-repr-fallback {display: none;}</style><div id=\"sk-container-id-4\" class=\"sk-top-container\"><div class=\"sk-text-repr-fallback\"><pre>RandomForestRegressor(max_depth=10, random_state=12345)</pre><b>In a Jupyter environment, please rerun this cell to show the HTML representation or trust the notebook. <br />On GitHub, the HTML representation is unable to render, please try loading this page with nbviewer.org.</b></div><div class=\"sk-container\" hidden><div class=\"sk-item\"><div class=\"sk-estimator sk-toggleable\"><input class=\"sk-toggleable__control sk-hidden--visually\" id=\"sk-estimator-id-4\" type=\"checkbox\" checked><label for=\"sk-estimator-id-4\" class=\"sk-toggleable__label sk-toggleable__label-arrow\">RandomForestRegressor</label><div class=\"sk-toggleable__content\"><pre>RandomForestRegressor(max_depth=10, random_state=12345)</pre></div></div></div></div></div>"
      ],
      "text/plain": [
       "RandomForestRegressor(max_depth=10, random_state=12345)"
      ]
     },
     "execution_count": 153,
     "metadata": {},
     "output_type": "execute_result"
    }
   ],
   "source": [
    "RFR.fit(features_train_piped, target_train)"
   ]
  },
  {
   "cell_type": "code",
   "execution_count": 154,
   "id": "dad8c915-8ab3-4588-80b0-4a90671853c0",
   "metadata": {},
   "outputs": [
    {
     "name": "stdout",
     "output_type": "stream",
     "text": [
      "489.68761813934765\n"
     ]
    }
   ],
   "source": [
    "predictionsRFR = RFR.predict(features_val_piped)\n",
    "\n",
    "# метрика MAE\n",
    "maeRFR = mean_absolute_error(target_val, predictionsRFR)\n",
    "print(maeRFR)"
   ]
  },
  {
   "cell_type": "code",
   "execution_count": 155,
   "id": "304ede7a-aa3c-48ff-8921-53dd070bccc8",
   "metadata": {},
   "outputs": [
    {
     "data": {
      "text/plain": [
       "14.551127744777027"
      ]
     },
     "execution_count": 155,
     "metadata": {},
     "output_type": "execute_result"
    }
   ],
   "source": [
    "mean_absolute_percentage_error(target_val, predictionsRFR)*100"
   ]
  },
  {
   "cell_type": "code",
   "execution_count": 156,
   "id": "888691a8-bb57-4e28-8719-699508dfdb09",
   "metadata": {},
   "outputs": [
    {
     "data": {
      "text/plain": [
       "722.3377981485312"
      ]
     },
     "execution_count": 156,
     "metadata": {},
     "output_type": "execute_result"
    }
   ],
   "source": [
    "mean_squared_error(target_val, predictionsRFR) ** 0.5"
   ]
  },
  {
   "cell_type": "code",
   "execution_count": 157,
   "id": "85eba103-615f-48bc-841e-9dffdd89f6a8",
   "metadata": {},
   "outputs": [
    {
     "name": "stdout",
     "output_type": "stream",
     "text": [
      "3050 3037.532532992569\n",
      "5950 5041.795213952713\n",
      "7400 6043.4\n",
      "5500 5616.993880447037\n",
      "2650 3138.790570373176\n",
      "3000 2618.297596453667\n",
      "4200 4224.286746031746\n",
      "2800 2510.6049428326864\n",
      "4300 4685.249626557652\n",
      "2750 4666.16429197995\n"
     ]
    }
   ],
   "source": [
    "for i in range(10):\n",
    "    print(target_val.iloc[i], predictionsRFR[i])"
   ]
  },
  {
   "cell_type": "code",
   "execution_count": 158,
   "id": "9d7dc68e-7cdd-487d-be19-305f609e6261",
   "metadata": {},
   "outputs": [
    {
     "data": {
      "text/plain": [
       "85"
      ]
     },
     "execution_count": 158,
     "metadata": {},
     "output_type": "execute_result"
    }
   ],
   "source": [
    "len(target_val)"
   ]
  },
  {
   "cell_type": "code",
   "execution_count": 159,
   "id": "a10e2b4e-96c7-43ff-bd51-836c3b54acf9",
   "metadata": {},
   "outputs": [
    {
     "data": {
      "image/png": "[encoded data removed]",
      "text/plain": [
       "<Figure size 900x600 with 1 Axes>"
      ]
     },
     "metadata": {},
     "output_type": "display_data"
    }
   ],
   "source": [
    "# построим диаграмму значений\n",
    "fig, ax = plt.subplots(figsize=(9, 6))\n",
    "plt.rc('font', size=14)\n",
    "x = [i for i in range(15)]\n",
    "\n",
    "ax.bar(x, target_val[70:], color='#96ceb4', label='Факт')\n",
    "ax.bar(x, predictionsRFR[70:], width = .45, color='#ff6f69', label='Прогноз')\n",
    "# ax.plot(x, [y_test[:13].median() for i in range(13)], color='#36454f', label='Медиана')\n",
    "\n",
    "\n",
    "\n",
    "ax.set_ylabel('Стоимость квартиры')\n",
    "ax.set_title('Номер квартиры в таблице данных')\n",
    "ax.legend()\n",
    "plt.show()"
   ]
  },
  {
   "cell_type": "code",
   "execution_count": 160,
   "id": "058e05e9-73ec-4599-b520-c1e5a9e2ce87",
   "metadata": {},
   "outputs": [
    {
     "data": {
      "text/plain": [
       "[(0.787584286225009, 'total_square'),\n",
       " (0.0490937542742821, 'kitchen_square'),\n",
       " (0.036396633086722904, 'total_floors'),\n",
       " (0.032477253890963724, 'living_square'),\n",
       " (0.028734086724948028, 'adress'),\n",
       " (0.02301100845566197, 'num_of_rooms'),\n",
       " (0.02004651697353978, 'floor_num'),\n",
       " (0.012174181488267644, 'district'),\n",
       " (0.01048227888060481, 'flat_type')]"
      ]
     },
     "execution_count": 160,
     "metadata": {},
     "output_type": "execute_result"
    }
   ],
   "source": [
    "sorted(zip(RFR.feature_importances_, features_val_piped.columns), reverse=True)"
   ]
  },
  {
   "cell_type": "code",
   "execution_count": 161,
   "id": "a5c575dd-83dc-48a6-862f-35939e6df700",
   "metadata": {},
   "outputs": [
    {
     "data": {
      "text/html": [
       "<div>\n",
       "<style scoped>\n",
       "    .dataframe tbody tr th:only-of-type {\n",
       "        vertical-align: middle;\n",
       "    }\n",
       "\n",
       "    .dataframe tbody tr th {\n",
       "        vertical-align: top;\n",
       "    }\n",
       "\n",
       "    .dataframe thead th {\n",
       "        text-align: right;\n",
       "    }\n",
       "</style>\n",
       "<table border=\"1\" class=\"dataframe\">\n",
       "  <thead>\n",
       "    <tr style=\"text-align: right;\">\n",
       "      <th></th>\n",
       "      <th>id</th>\n",
       "      <th>type</th>\n",
       "      <th>district</th>\n",
       "      <th>adress</th>\n",
       "      <th>floor</th>\n",
       "      <th>total_square</th>\n",
       "      <th>living_square</th>\n",
       "      <th>kitchen_square</th>\n",
       "      <th>price</th>\n",
       "    </tr>\n",
       "  </thead>\n",
       "  <tbody>\n",
       "    <tr>\n",
       "      <th>0</th>\n",
       "      <td>1</td>\n",
       "      <td>Трехкомнатная улучшенная</td>\n",
       "      <td>Орджоникидзевский</td>\n",
       "      <td>Ленина пр-т 145/2</td>\n",
       "      <td>1/5</td>\n",
       "      <td>64.0</td>\n",
       "      <td>43.0</td>\n",
       "      <td>8.0</td>\n",
       "      <td>3750</td>\n",
       "    </tr>\n",
       "    <tr>\n",
       "      <th>1</th>\n",
       "      <td>2</td>\n",
       "      <td>Трехкомнатная</td>\n",
       "      <td>Ленинский</td>\n",
       "      <td>Октябрьская 12</td>\n",
       "      <td>2/5</td>\n",
       "      <td>87.2</td>\n",
       "      <td>60.0</td>\n",
       "      <td>9.0</td>\n",
       "      <td>8300</td>\n",
       "    </tr>\n",
       "    <tr>\n",
       "      <th>2</th>\n",
       "      <td>3</td>\n",
       "      <td>Однокомнатная нестандартная</td>\n",
       "      <td>Орджоникидзевский</td>\n",
       "      <td>Ленина пр-т 135</td>\n",
       "      <td>6/14</td>\n",
       "      <td>36.1</td>\n",
       "      <td>20.0</td>\n",
       "      <td>9.0</td>\n",
       "      <td>3330</td>\n",
       "    </tr>\n",
       "    <tr>\n",
       "      <th>3</th>\n",
       "      <td>4</td>\n",
       "      <td>Трехкомнатная нестандартная</td>\n",
       "      <td>Орджоникидзевский</td>\n",
       "      <td>Ленина пр-т 129</td>\n",
       "      <td>5/16</td>\n",
       "      <td>105.0</td>\n",
       "      <td>75.0</td>\n",
       "      <td>14.0</td>\n",
       "      <td>7700</td>\n",
       "    </tr>\n",
       "    <tr>\n",
       "      <th>4</th>\n",
       "      <td>5</td>\n",
       "      <td>Двухкомнатная улучшенная</td>\n",
       "      <td>Орджоникидзевский</td>\n",
       "      <td>Сиреневый проезд 12</td>\n",
       "      <td>7/9</td>\n",
       "      <td>50.6</td>\n",
       "      <td>43.0</td>\n",
       "      <td>9.0</td>\n",
       "      <td>3800</td>\n",
       "    </tr>\n",
       "    <tr>\n",
       "      <th>5</th>\n",
       "      <td>6</td>\n",
       "      <td>Двухкомнатная улучшенная</td>\n",
       "      <td>Орджоникидзевский</td>\n",
       "      <td>Ленина пр-т 141</td>\n",
       "      <td>4/9</td>\n",
       "      <td>49.7</td>\n",
       "      <td>35.0</td>\n",
       "      <td>9.0</td>\n",
       "      <td>4000</td>\n",
       "    </tr>\n",
       "    <tr>\n",
       "      <th>6</th>\n",
       "      <td>7</td>\n",
       "      <td>Двухкомнатная</td>\n",
       "      <td>Правобережный</td>\n",
       "      <td>Советской Армии 9</td>\n",
       "      <td>1/5</td>\n",
       "      <td>43.8</td>\n",
       "      <td>28.6</td>\n",
       "      <td>6.0</td>\n",
       "      <td>3200</td>\n",
       "    </tr>\n",
       "    <tr>\n",
       "      <th>7</th>\n",
       "      <td>8</td>\n",
       "      <td>Однокомнатная брежневка</td>\n",
       "      <td>Правобережный</td>\n",
       "      <td>Карла Маркса 99</td>\n",
       "      <td>4/9</td>\n",
       "      <td>31.0</td>\n",
       "      <td>17.0</td>\n",
       "      <td>6.0</td>\n",
       "      <td>2670</td>\n",
       "    </tr>\n",
       "    <tr>\n",
       "      <th>8</th>\n",
       "      <td>9</td>\n",
       "      <td>Однокомнатная хрущевка</td>\n",
       "      <td>Ленинский</td>\n",
       "      <td>Ленинградская 37а</td>\n",
       "      <td>2/5</td>\n",
       "      <td>31.0</td>\n",
       "      <td>19.0</td>\n",
       "      <td>6.0</td>\n",
       "      <td>2650</td>\n",
       "    </tr>\n",
       "    <tr>\n",
       "      <th>9</th>\n",
       "      <td>10</td>\n",
       "      <td>Однокомнатная хабаровский вариант</td>\n",
       "      <td>Орджоникидзевский</td>\n",
       "      <td>Сиреневый проезд 14/2</td>\n",
       "      <td>6/6</td>\n",
       "      <td>37.0</td>\n",
       "      <td>19.0</td>\n",
       "      <td>8.0</td>\n",
       "      <td>2990</td>\n",
       "    </tr>\n",
       "    <tr>\n",
       "      <th>10</th>\n",
       "      <td>11</td>\n",
       "      <td>Однокомнатная нестандартная</td>\n",
       "      <td>Орджоникидзевский</td>\n",
       "      <td>Ленина пр-т 133/1</td>\n",
       "      <td>10/10</td>\n",
       "      <td>40.3</td>\n",
       "      <td>20.0</td>\n",
       "      <td>9.0</td>\n",
       "      <td>3300</td>\n",
       "    </tr>\n",
       "  </tbody>\n",
       "</table>\n",
       "</div>"
      ],
      "text/plain": [
       "    id                               type           district  \\\n",
       "0    1           Трехкомнатная улучшенная  Орджоникидзевский   \n",
       "1    2                     Трехкомнатная           Ленинский   \n",
       "2    3        Однокомнатная нестандартная  Орджоникидзевский   \n",
       "3    4        Трехкомнатная нестандартная  Орджоникидзевский   \n",
       "4    5           Двухкомнатная улучшенная  Орджоникидзевский   \n",
       "5    6           Двухкомнатная улучшенная  Орджоникидзевский   \n",
       "6    7                     Двухкомнатная       Правобережный   \n",
       "7    8            Однокомнатная брежневка      Правобережный   \n",
       "8    9             Однокомнатная хрущевка          Ленинский   \n",
       "9   10  Однокомнатная хабаровский вариант  Орджоникидзевский   \n",
       "10  11        Однокомнатная нестандартная  Орджоникидзевский   \n",
       "\n",
       "                   adress  floor  total_square  living_square  kitchen_square  \\\n",
       "0       Ленина пр-т 145/2    1/5          64.0           43.0             8.0   \n",
       "1          Октябрьская 12    2/5          87.2           60.0             9.0   \n",
       "2         Ленина пр-т 135   6/14          36.1           20.0             9.0   \n",
       "3         Ленина пр-т 129   5/16         105.0           75.0            14.0   \n",
       "4     Сиреневый проезд 12    7/9          50.6           43.0             9.0   \n",
       "5         Ленина пр-т 141    4/9          49.7           35.0             9.0   \n",
       "6       Советской Армии 9    1/5          43.8           28.6             6.0   \n",
       "7         Карла Маркса 99    4/9          31.0           17.0             6.0   \n",
       "8       Ленинградская 37а    2/5          31.0           19.0             6.0   \n",
       "9   Сиреневый проезд 14/2    6/6          37.0           19.0             8.0   \n",
       "10      Ленина пр-т 133/1  10/10          40.3           20.0             9.0   \n",
       "\n",
       "    price  \n",
       "0    3750  \n",
       "1    8300  \n",
       "2    3330  \n",
       "3    7700  \n",
       "4    3800  \n",
       "5    4000  \n",
       "6    3200  \n",
       "7    2670  \n",
       "8    2650  \n",
       "9    2990  \n",
       "10   3300  "
      ]
     },
     "execution_count": 161,
     "metadata": {},
     "output_type": "execute_result"
    }
   ],
   "source": [
    "data.head(11)"
   ]
  },
  {
   "cell_type": "code",
   "execution_count": 162,
   "id": "a83850e4-6265-4419-8fd2-2552a030dd2e",
   "metadata": {},
   "outputs": [],
   "source": [
    "data.drop(['id', 'price'], axis=1).iloc[10].to_json('test_features.json')"
   ]
  },
  {
   "cell_type": "code",
   "execution_count": 163,
   "id": "f0f6e500-63f5-4937-97e8-f42b870901d2",
   "metadata": {},
   "outputs": [],
   "source": [
    "# test = pd.read_json('test.json', typ='series')"
   ]
  },
  {
   "cell_type": "code",
   "execution_count": 164,
   "id": "7e16dd08-40fb-45d3-a63e-847d419a3083",
   "metadata": {},
   "outputs": [
    {
     "data": {
      "text/plain": [
       "type              Однокомнатная нестандартная\n",
       "district                    Орджоникидзевский\n",
       "adress                      Ленина пр-т 133/1\n",
       "floor                                   10/10\n",
       "total_square                             40.3\n",
       "living_square                            20.0\n",
       "kitchen_square                            9.0\n",
       "dtype: object"
      ]
     },
     "execution_count": 164,
     "metadata": {},
     "output_type": "execute_result"
    }
   ],
   "source": [
    "test_1 =  pd.read_json('test_features.json', typ='series')\n",
    "test_1"
   ]
  },
  {
   "cell_type": "code",
   "execution_count": 180,
   "id": "0121e026-b8db-4e69-aab3-505e1744a7c9",
   "metadata": {},
   "outputs": [
    {
     "name": "stdout",
     "output_type": "stream",
     "text": [
      "<class 'pandas.core.frame.DataFrame'>\n",
      "RangeIndex: 1 entries, 0 to 0\n",
      "Data columns (total 7 columns):\n",
      " #   Column          Non-Null Count  Dtype \n",
      "---  ------          --------------  ----- \n",
      " 0   type            1 non-null      object\n",
      " 1   district        1 non-null      object\n",
      " 2   adress          1 non-null      object\n",
      " 3   floor           1 non-null      object\n",
      " 4   total_square    1 non-null      object\n",
      " 5   living_square   1 non-null      object\n",
      " 6   kitchen_square  1 non-null      object\n",
      "dtypes: object(7)\n",
      "memory usage: 188.0+ bytes\n"
     ]
    }
   ],
   "source": [
    "test_1.info()"
   ]
  },
  {
   "cell_type": "code",
   "execution_count": 165,
   "id": "599b60a4-e4d4-48b0-a0f5-abefa3196e0a",
   "metadata": {},
   "outputs": [],
   "source": [
    "test_1 = test_1.to_frame().T"
   ]
  },
  {
   "cell_type": "code",
   "execution_count": 166,
   "id": "3a933bc3-8cd7-4fe3-b1af-4c5d84a8fad4",
   "metadata": {},
   "outputs": [
    {
     "data": {
      "text/plain": [
       "array([[-0.80971406, -0.36012566,  0.27714497, -0.07403652, -0.58753595,\n",
       "        -0.66156244,  0.01657767,  2.36838619,  1.11225609]])"
      ]
     },
     "execution_count": 166,
     "metadata": {},
     "output_type": "execute_result"
    }
   ],
   "source": [
    "my_pipeline.transform(test_1)"
   ]
  },
  {
   "cell_type": "code",
   "execution_count": 167,
   "id": "29be9601-e880-4f95-8084-699522a9e393",
   "metadata": {},
   "outputs": [
    {
     "name": "stderr",
     "output_type": "stream",
     "text": [
      "C:\\Users\\Admin\\AppData\\Local\\Programs\\Python\\Python311\\Lib\\site-packages\\sklearn\\base.py:464: UserWarning: X does not have valid feature names, but RandomForestRegressor was fitted with feature names\n",
      "  warnings.warn(\n"
     ]
    },
    {
     "data": {
      "text/plain": [
       "3372.1845027195027"
      ]
     },
     "execution_count": 167,
     "metadata": {},
     "output_type": "execute_result"
    }
   ],
   "source": [
    "RFR.predict(my_pipeline.transform(test_1))[0]"
   ]
  },
  {
   "cell_type": "code",
   "execution_count": 168,
   "id": "8249e336-e87a-4cb4-8739-96451424139c",
   "metadata": {},
   "outputs": [
    {
     "data": {
      "text/plain": [
       "3300"
      ]
     },
     "execution_count": 168,
     "metadata": {},
     "output_type": "execute_result"
    }
   ],
   "source": [
    "data['price'].iloc[10]"
   ]
  },
  {
   "cell_type": "code",
   "execution_count": 178,
   "id": "9cd656e6-4001-4af8-a18a-bb411b525e1a",
   "metadata": {},
   "outputs": [],
   "source": [
    "with open ('pickle/pipeline-1.0.pkl', 'wb') as f:\n",
    "    pickle.dump(my_pipeline, f)"
   ]
  },
  {
   "cell_type": "code",
   "execution_count": 179,
   "id": "9dab9881-8612-4d3c-9d99-9f883714a9f5",
   "metadata": {},
   "outputs": [],
   "source": [
    "with open ('pickle/model-1.0.pkl', 'wb') as f:\n",
    "    pickle.dump(RFR, f)"
   ]
  },
  {
   "cell_type": "code",
   "execution_count": null,
   "id": "d91cd11f-dfc3-4706-a79d-6fc3a0786318",
   "metadata": {},
   "outputs": [],
   "source": []
  },
  {
   "cell_type": "code",
   "execution_count": 170,
   "id": "e787cc90-4332-44a0-b54d-93e246ab9701",
   "metadata": {},
   "outputs": [],
   "source": [
    "final_pipeline = Pipeline([\n",
    "    ('data_cleaner', DataCleaner()),\n",
    "    ('features_transformer', FeaturesTransformer()),\n",
    "    ('col_transformer', ColumnTransformer(\n",
    "   transformers=[\n",
    "       ('oe', OrdinalEncoder(handle_unknown='use_encoded_value', unknown_value = -1), categorical)\n",
    "       ],\n",
    "    remainder=\"passthrough\",\n",
    "    verbose_feature_names_out=False\n",
    ")),\n",
    "    ('scaler', StandardScaler()),\n",
    "    ('RndomForestRegressor', RFR)\n",
    "])"
   ]
  },
  {
   "cell_type": "code",
   "execution_count": 171,
   "id": "b76532cc-3e77-475c-bccc-978457867e06",
   "metadata": {},
   "outputs": [
    {
     "ename": "TypeError",
     "evalue": "DataCleaner.fit() takes 2 positional arguments but 3 were given",
     "output_type": "error",
     "traceback": [
      "\u001b[1;31m---------------------------------------------------------------------------\u001b[0m",
      "\u001b[1;31mTypeError\u001b[0m                                 Traceback (most recent call last)",
      "Cell \u001b[1;32mIn[171], line 1\u001b[0m\n\u001b[1;32m----> 1\u001b[0m \u001b[43mfinal_pipeline\u001b[49m\u001b[38;5;241;43m.\u001b[39;49m\u001b[43mfit\u001b[49m\u001b[43m(\u001b[49m\u001b[43mfeatures_train\u001b[49m\u001b[43m,\u001b[49m\u001b[43m \u001b[49m\u001b[43mtarget_train\u001b[49m\u001b[43m)\u001b[49m\n",
      "File \u001b[1;32m~\\AppData\\Local\\Programs\\Python\\Python311\\Lib\\site-packages\\sklearn\\base.py:1151\u001b[0m, in \u001b[0;36m_fit_context.<locals>.decorator.<locals>.wrapper\u001b[1;34m(estimator, *args, **kwargs)\u001b[0m\n\u001b[0;32m   1144\u001b[0m     estimator\u001b[38;5;241m.\u001b[39m_validate_params()\n\u001b[0;32m   1146\u001b[0m \u001b[38;5;28;01mwith\u001b[39;00m config_context(\n\u001b[0;32m   1147\u001b[0m     skip_parameter_validation\u001b[38;5;241m=\u001b[39m(\n\u001b[0;32m   1148\u001b[0m         prefer_skip_nested_validation \u001b[38;5;129;01mor\u001b[39;00m global_skip_validation\n\u001b[0;32m   1149\u001b[0m     )\n\u001b[0;32m   1150\u001b[0m ):\n\u001b[1;32m-> 1151\u001b[0m     \u001b[38;5;28;01mreturn\u001b[39;00m \u001b[43mfit_method\u001b[49m\u001b[43m(\u001b[49m\u001b[43mestimator\u001b[49m\u001b[43m,\u001b[49m\u001b[43m \u001b[49m\u001b[38;5;241;43m*\u001b[39;49m\u001b[43margs\u001b[49m\u001b[43m,\u001b[49m\u001b[43m \u001b[49m\u001b[38;5;241;43m*\u001b[39;49m\u001b[38;5;241;43m*\u001b[39;49m\u001b[43mkwargs\u001b[49m\u001b[43m)\u001b[49m\n",
      "File \u001b[1;32m~\\AppData\\Local\\Programs\\Python\\Python311\\Lib\\site-packages\\sklearn\\pipeline.py:416\u001b[0m, in \u001b[0;36mPipeline.fit\u001b[1;34m(self, X, y, **fit_params)\u001b[0m\n\u001b[0;32m    390\u001b[0m \u001b[38;5;250m\u001b[39m\u001b[38;5;124;03m\"\"\"Fit the model.\u001b[39;00m\n\u001b[0;32m    391\u001b[0m \n\u001b[0;32m    392\u001b[0m \u001b[38;5;124;03mFit all the transformers one after the other and transform the\u001b[39;00m\n\u001b[1;32m   (...)\u001b[0m\n\u001b[0;32m    413\u001b[0m \u001b[38;5;124;03m    Pipeline with fitted steps.\u001b[39;00m\n\u001b[0;32m    414\u001b[0m \u001b[38;5;124;03m\"\"\"\u001b[39;00m\n\u001b[0;32m    415\u001b[0m fit_params_steps \u001b[38;5;241m=\u001b[39m \u001b[38;5;28mself\u001b[39m\u001b[38;5;241m.\u001b[39m_check_fit_params(\u001b[38;5;241m*\u001b[39m\u001b[38;5;241m*\u001b[39mfit_params)\n\u001b[1;32m--> 416\u001b[0m Xt \u001b[38;5;241m=\u001b[39m \u001b[38;5;28;43mself\u001b[39;49m\u001b[38;5;241;43m.\u001b[39;49m\u001b[43m_fit\u001b[49m\u001b[43m(\u001b[49m\u001b[43mX\u001b[49m\u001b[43m,\u001b[49m\u001b[43m \u001b[49m\u001b[43my\u001b[49m\u001b[43m,\u001b[49m\u001b[43m \u001b[49m\u001b[38;5;241;43m*\u001b[39;49m\u001b[38;5;241;43m*\u001b[39;49m\u001b[43mfit_params_steps\u001b[49m\u001b[43m)\u001b[49m\n\u001b[0;32m    417\u001b[0m \u001b[38;5;28;01mwith\u001b[39;00m _print_elapsed_time(\u001b[38;5;124m\"\u001b[39m\u001b[38;5;124mPipeline\u001b[39m\u001b[38;5;124m\"\u001b[39m, \u001b[38;5;28mself\u001b[39m\u001b[38;5;241m.\u001b[39m_log_message(\u001b[38;5;28mlen\u001b[39m(\u001b[38;5;28mself\u001b[39m\u001b[38;5;241m.\u001b[39msteps) \u001b[38;5;241m-\u001b[39m \u001b[38;5;241m1\u001b[39m)):\n\u001b[0;32m    418\u001b[0m     \u001b[38;5;28;01mif\u001b[39;00m \u001b[38;5;28mself\u001b[39m\u001b[38;5;241m.\u001b[39m_final_estimator \u001b[38;5;241m!=\u001b[39m \u001b[38;5;124m\"\u001b[39m\u001b[38;5;124mpassthrough\u001b[39m\u001b[38;5;124m\"\u001b[39m:\n",
      "File \u001b[1;32m~\\AppData\\Local\\Programs\\Python\\Python311\\Lib\\site-packages\\sklearn\\pipeline.py:370\u001b[0m, in \u001b[0;36mPipeline._fit\u001b[1;34m(self, X, y, **fit_params_steps)\u001b[0m\n\u001b[0;32m    368\u001b[0m     cloned_transformer \u001b[38;5;241m=\u001b[39m clone(transformer)\n\u001b[0;32m    369\u001b[0m \u001b[38;5;66;03m# Fit or load from cache the current transformer\u001b[39;00m\n\u001b[1;32m--> 370\u001b[0m X, fitted_transformer \u001b[38;5;241m=\u001b[39m \u001b[43mfit_transform_one_cached\u001b[49m\u001b[43m(\u001b[49m\n\u001b[0;32m    371\u001b[0m \u001b[43m    \u001b[49m\u001b[43mcloned_transformer\u001b[49m\u001b[43m,\u001b[49m\n\u001b[0;32m    372\u001b[0m \u001b[43m    \u001b[49m\u001b[43mX\u001b[49m\u001b[43m,\u001b[49m\n\u001b[0;32m    373\u001b[0m \u001b[43m    \u001b[49m\u001b[43my\u001b[49m\u001b[43m,\u001b[49m\n\u001b[0;32m    374\u001b[0m \u001b[43m    \u001b[49m\u001b[38;5;28;43;01mNone\u001b[39;49;00m\u001b[43m,\u001b[49m\n\u001b[0;32m    375\u001b[0m \u001b[43m    \u001b[49m\u001b[43mmessage_clsname\u001b[49m\u001b[38;5;241;43m=\u001b[39;49m\u001b[38;5;124;43m\"\u001b[39;49m\u001b[38;5;124;43mPipeline\u001b[39;49m\u001b[38;5;124;43m\"\u001b[39;49m\u001b[43m,\u001b[49m\n\u001b[0;32m    376\u001b[0m \u001b[43m    \u001b[49m\u001b[43mmessage\u001b[49m\u001b[38;5;241;43m=\u001b[39;49m\u001b[38;5;28;43mself\u001b[39;49m\u001b[38;5;241;43m.\u001b[39;49m\u001b[43m_log_message\u001b[49m\u001b[43m(\u001b[49m\u001b[43mstep_idx\u001b[49m\u001b[43m)\u001b[49m\u001b[43m,\u001b[49m\n\u001b[0;32m    377\u001b[0m \u001b[43m    \u001b[49m\u001b[38;5;241;43m*\u001b[39;49m\u001b[38;5;241;43m*\u001b[39;49m\u001b[43mfit_params_steps\u001b[49m\u001b[43m[\u001b[49m\u001b[43mname\u001b[49m\u001b[43m]\u001b[49m\u001b[43m,\u001b[49m\n\u001b[0;32m    378\u001b[0m \u001b[43m\u001b[49m\u001b[43m)\u001b[49m\n\u001b[0;32m    379\u001b[0m \u001b[38;5;66;03m# Replace the transformer of the step with the fitted\u001b[39;00m\n\u001b[0;32m    380\u001b[0m \u001b[38;5;66;03m# transformer. This is necessary when loading the transformer\u001b[39;00m\n\u001b[0;32m    381\u001b[0m \u001b[38;5;66;03m# from the cache.\u001b[39;00m\n\u001b[0;32m    382\u001b[0m \u001b[38;5;28mself\u001b[39m\u001b[38;5;241m.\u001b[39msteps[step_idx] \u001b[38;5;241m=\u001b[39m (name, fitted_transformer)\n",
      "File \u001b[1;32m~\\AppData\\Local\\Programs\\Python\\Python311\\Lib\\site-packages\\joblib\\memory.py:353\u001b[0m, in \u001b[0;36mNotMemorizedFunc.__call__\u001b[1;34m(self, *args, **kwargs)\u001b[0m\n\u001b[0;32m    352\u001b[0m \u001b[38;5;28;01mdef\u001b[39;00m \u001b[38;5;21m__call__\u001b[39m(\u001b[38;5;28mself\u001b[39m, \u001b[38;5;241m*\u001b[39margs, \u001b[38;5;241m*\u001b[39m\u001b[38;5;241m*\u001b[39mkwargs):\n\u001b[1;32m--> 353\u001b[0m     \u001b[38;5;28;01mreturn\u001b[39;00m \u001b[38;5;28;43mself\u001b[39;49m\u001b[38;5;241;43m.\u001b[39;49m\u001b[43mfunc\u001b[49m\u001b[43m(\u001b[49m\u001b[38;5;241;43m*\u001b[39;49m\u001b[43margs\u001b[49m\u001b[43m,\u001b[49m\u001b[43m \u001b[49m\u001b[38;5;241;43m*\u001b[39;49m\u001b[38;5;241;43m*\u001b[39;49m\u001b[43mkwargs\u001b[49m\u001b[43m)\u001b[49m\n",
      "File \u001b[1;32m~\\AppData\\Local\\Programs\\Python\\Python311\\Lib\\site-packages\\sklearn\\pipeline.py:950\u001b[0m, in \u001b[0;36m_fit_transform_one\u001b[1;34m(transformer, X, y, weight, message_clsname, message, **fit_params)\u001b[0m\n\u001b[0;32m    948\u001b[0m \u001b[38;5;28;01mwith\u001b[39;00m _print_elapsed_time(message_clsname, message):\n\u001b[0;32m    949\u001b[0m     \u001b[38;5;28;01mif\u001b[39;00m \u001b[38;5;28mhasattr\u001b[39m(transformer, \u001b[38;5;124m\"\u001b[39m\u001b[38;5;124mfit_transform\u001b[39m\u001b[38;5;124m\"\u001b[39m):\n\u001b[1;32m--> 950\u001b[0m         res \u001b[38;5;241m=\u001b[39m \u001b[43mtransformer\u001b[49m\u001b[38;5;241;43m.\u001b[39;49m\u001b[43mfit_transform\u001b[49m\u001b[43m(\u001b[49m\u001b[43mX\u001b[49m\u001b[43m,\u001b[49m\u001b[43m \u001b[49m\u001b[43my\u001b[49m\u001b[43m,\u001b[49m\u001b[43m \u001b[49m\u001b[38;5;241;43m*\u001b[39;49m\u001b[38;5;241;43m*\u001b[39;49m\u001b[43mfit_params\u001b[49m\u001b[43m)\u001b[49m\n\u001b[0;32m    951\u001b[0m     \u001b[38;5;28;01melse\u001b[39;00m:\n\u001b[0;32m    952\u001b[0m         res \u001b[38;5;241m=\u001b[39m transformer\u001b[38;5;241m.\u001b[39mfit(X, y, \u001b[38;5;241m*\u001b[39m\u001b[38;5;241m*\u001b[39mfit_params)\u001b[38;5;241m.\u001b[39mtransform(X)\n",
      "File \u001b[1;32m~\\AppData\\Local\\Programs\\Python\\Python311\\Lib\\site-packages\\sklearn\\utils\\_set_output.py:140\u001b[0m, in \u001b[0;36m_wrap_method_output.<locals>.wrapped\u001b[1;34m(self, X, *args, **kwargs)\u001b[0m\n\u001b[0;32m    138\u001b[0m \u001b[38;5;129m@wraps\u001b[39m(f)\n\u001b[0;32m    139\u001b[0m \u001b[38;5;28;01mdef\u001b[39;00m \u001b[38;5;21mwrapped\u001b[39m(\u001b[38;5;28mself\u001b[39m, X, \u001b[38;5;241m*\u001b[39margs, \u001b[38;5;241m*\u001b[39m\u001b[38;5;241m*\u001b[39mkwargs):\n\u001b[1;32m--> 140\u001b[0m     data_to_wrap \u001b[38;5;241m=\u001b[39m \u001b[43mf\u001b[49m\u001b[43m(\u001b[49m\u001b[38;5;28;43mself\u001b[39;49m\u001b[43m,\u001b[49m\u001b[43m \u001b[49m\u001b[43mX\u001b[49m\u001b[43m,\u001b[49m\u001b[43m \u001b[49m\u001b[38;5;241;43m*\u001b[39;49m\u001b[43margs\u001b[49m\u001b[43m,\u001b[49m\u001b[43m \u001b[49m\u001b[38;5;241;43m*\u001b[39;49m\u001b[38;5;241;43m*\u001b[39;49m\u001b[43mkwargs\u001b[49m\u001b[43m)\u001b[49m\n\u001b[0;32m    141\u001b[0m     \u001b[38;5;28;01mif\u001b[39;00m \u001b[38;5;28misinstance\u001b[39m(data_to_wrap, \u001b[38;5;28mtuple\u001b[39m):\n\u001b[0;32m    142\u001b[0m         \u001b[38;5;66;03m# only wrap the first output for cross decomposition\u001b[39;00m\n\u001b[0;32m    143\u001b[0m         return_tuple \u001b[38;5;241m=\u001b[39m (\n\u001b[0;32m    144\u001b[0m             _wrap_data_with_container(method, data_to_wrap[\u001b[38;5;241m0\u001b[39m], X, \u001b[38;5;28mself\u001b[39m),\n\u001b[0;32m    145\u001b[0m             \u001b[38;5;241m*\u001b[39mdata_to_wrap[\u001b[38;5;241m1\u001b[39m:],\n\u001b[0;32m    146\u001b[0m         )\n",
      "File \u001b[1;32m~\\AppData\\Local\\Programs\\Python\\Python311\\Lib\\site-packages\\sklearn\\base.py:918\u001b[0m, in \u001b[0;36mTransformerMixin.fit_transform\u001b[1;34m(self, X, y, **fit_params)\u001b[0m\n\u001b[0;32m    915\u001b[0m     \u001b[38;5;28;01mreturn\u001b[39;00m \u001b[38;5;28mself\u001b[39m\u001b[38;5;241m.\u001b[39mfit(X, \u001b[38;5;241m*\u001b[39m\u001b[38;5;241m*\u001b[39mfit_params)\u001b[38;5;241m.\u001b[39mtransform(X)\n\u001b[0;32m    916\u001b[0m \u001b[38;5;28;01melse\u001b[39;00m:\n\u001b[0;32m    917\u001b[0m     \u001b[38;5;66;03m# fit method of arity 2 (supervised transformation)\u001b[39;00m\n\u001b[1;32m--> 918\u001b[0m     \u001b[38;5;28;01mreturn\u001b[39;00m \u001b[38;5;28;43mself\u001b[39;49m\u001b[38;5;241;43m.\u001b[39;49m\u001b[43mfit\u001b[49m\u001b[43m(\u001b[49m\u001b[43mX\u001b[49m\u001b[43m,\u001b[49m\u001b[43m \u001b[49m\u001b[43my\u001b[49m\u001b[43m,\u001b[49m\u001b[43m \u001b[49m\u001b[38;5;241;43m*\u001b[39;49m\u001b[38;5;241;43m*\u001b[39;49m\u001b[43mfit_params\u001b[49m\u001b[43m)\u001b[49m\u001b[38;5;241m.\u001b[39mtransform(X)\n",
      "\u001b[1;31mTypeError\u001b[0m: DataCleaner.fit() takes 2 positional arguments but 3 were given"
     ]
    }
   ],
   "source": [
    "final_pipeline.fit(features_train, target_train)"
   ]
  },
  {
   "cell_type": "code",
   "execution_count": null,
   "id": "6a4d26f7-b8ba-4cb4-88ff-5e9a209d8902",
   "metadata": {},
   "outputs": [],
   "source": [
    " 3, 37, 82"
   ]
  },
  {
   "cell_type": "code",
   "execution_count": null,
   "id": "30103a19-8875-4382-ac33-dba0cd7cc444",
   "metadata": {},
   "outputs": [],
   "source": [
    "example_1 = data[data['id'] == 3]"
   ]
  },
  {
   "cell_type": "code",
   "execution_count": null,
   "id": "d8758779-31d8-454e-9343-27c7e13cf301",
   "metadata": {},
   "outputs": [],
   "source": [
    "example_1['price']"
   ]
  },
  {
   "cell_type": "code",
   "execution_count": null,
   "id": "5a99288c-f81d-4bd0-88e9-bcbccbb9f399",
   "metadata": {},
   "outputs": [],
   "source": [
    "model_1.predict(sscaler.transform())"
   ]
  }
 ],
 "metadata": {
  "kernelspec": {
   "display_name": "Python 3 (ipykernel)",
   "language": "python",
   "name": "python3"
  },
  "language_info": {
   "codemirror_mode": {
    "name": "ipython",
    "version": 3
   },
   "file_extension": ".py",
   "mimetype": "text/x-python",
   "name": "python",
   "nbconvert_exporter": "python",
   "pygments_lexer": "ipython3",
   "version": "3.11.4"
  }
 },
 "nbformat": 4,
 "nbformat_minor": 5
}
