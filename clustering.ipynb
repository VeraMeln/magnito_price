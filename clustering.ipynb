{
 "cells": [
  {
   "cell_type": "markdown",
   "id": "2c2626ae-a809-4048-bdcd-daa59cc7b75d",
   "metadata": {},
   "source": [
    "# Определение района квартиры в Магнитогорске"
   ]
  },
  {
   "cell_type": "markdown",
   "id": "29994b28-1fd9-468a-a22d-c5ec6aa02738",
   "metadata": {},
   "source": [
    "**id для демонстрации на собеседовании**\n",
    "id = 3, 37, 82"
   ]
  },
  {
   "cell_type": "markdown",
   "id": "e7ea8e44-32e5-49d6-b6bc-238885645f0e",
   "metadata": {},
   "source": [
    "## Введение"
   ]
  },
  {
   "cell_type": "markdown",
   "id": "c5b0168d-d84e-437e-8ade-46b5d6d1cb00",
   "metadata": {},
   "source": [
    "**Задача**\n",
    "\n",
    "Построить математическую модель стоимости жилья в зависимости от параметров этого жилья.\n",
    "\n",
    "\n",
    "Модель должна иметь REST API. На вход модели подаются параметры квартиры в формате JSON на выходе получается цена квартиры в формате JSON.\n",
    "\r\n",
    "Испытание проводится в режиме демонстрации экрана на собеседовании. Модель тестируется на 3х квартирах на выбор кандидата. (Просьба подготовить исходные данные (запросы) заранее)"
   ]
  },
  {
   "cell_type": "markdown",
   "id": "2404ee59-c5e5-4cf1-93b5-2c4f0170e0bd",
   "metadata": {},
   "source": [
    "\n",
    "**Данные**\n",
    "\n",
    "\n",
    "В качестве источника исходных данных предлагается использовать данные сайта магнитогорской недвижимости www.citystar.ru.\n",
    "\n",
    "Размер выборки исходных данных не имеет значения, однако она должна быть представительной (не следует делать ее слишком большой, т.к. задача тестовая).\n",
    "\n",
    "Данные должны быть загружены в базу данных."
   ]
  },
  {
   "cell_type": "markdown",
   "id": "09f28052-6e75-439d-bf1e-660f0a1048e6",
   "metadata": {},
   "source": [
    "## Импорт библиотек и загрузка данных"
   ]
  },
  {
   "cell_type": "code",
   "execution_count": 3,
   "id": "5bd465e7-4ee0-44b5-ab0b-fe7217837dea",
   "metadata": {},
   "outputs": [],
   "source": [
    "import sqlite3\n",
    "import pandas as pd\n",
    "import numpy as np\n",
    "import matplotlib.pyplot as plt\n",
    "import pickle\n",
    "\n",
    "from sklearn.model_selection import train_test_split, GridSearchCV\n",
    "from sklearn.base import BaseEstimator, TransformerMixin\n",
    "from sklearn.compose import ColumnTransformer\n",
    "from sklearn.preprocessing import OrdinalEncoder, StandardScaler\n",
    "from sklearn.pipeline import Pipeline\n",
    "from sklearn.metrics import mean_absolute_error, mean_absolute_percentage_error, mean_squared_error\n",
    "\n",
    "RANDOM_STATE = 12345"
   ]
  },
  {
   "cell_type": "code",
   "execution_count": 2,
   "id": "a846f2ee-b8da-4aff-8e3b-790a034e7cfb",
   "metadata": {},
   "outputs": [],
   "source": [
    "# подключаемся к базе данных\n",
    "cnx = sqlite3.connect('db/magnitogorsk.db')"
   ]
  },
  {
   "cell_type": "code",
   "execution_count": 3,
   "id": "b1e0d78b-6818-48b6-b14c-600aae7104f7",
   "metadata": {},
   "outputs": [],
   "source": [
    "# загружаем данные\n",
    "data = pd.read_sql_query(\"SELECT * FROM offers\", cnx)"
   ]
  },
  {
   "cell_type": "code",
   "execution_count": 4,
   "id": "13e0f458-562e-424d-9e6a-a55da04cad45",
   "metadata": {},
   "outputs": [],
   "source": [
    "# закрываем соединение с базой данных\n",
    "cnx.close()"
   ]
  },
  {
   "cell_type": "markdown",
   "id": "adc068c7-4d44-4567-97e3-12ae752cf902",
   "metadata": {},
   "source": [
    "## Первичное знакомство с данными"
   ]
  },
  {
   "cell_type": "code",
   "execution_count": 5,
   "id": "9e5381df-7762-4244-8eb7-ff621b4697ae",
   "metadata": {},
   "outputs": [],
   "source": [
    "def first_look(df, num_of_srtings=5):\n",
    "    print('Общая информация')\n",
    "    display(df.info())\n",
    "    \n",
    "    print(f'Первые {num_of_srtings} строк(и) данных')\n",
    "    display(df.head(num_of_srtings))\n",
    "    \n",
    "    print('Основные статистические характеристики данных')\n",
    "    display(df.describe())\n",
    "    print('Количество пропусков:')\n",
    "    print(df.isna().sum())\n",
    "    print()\n",
    "    \n",
    "    print('Количество дубликатов:', df.duplicated().sum())"
   ]
  },
  {
   "cell_type": "code",
   "execution_count": 6,
   "id": "f53d6f4e-af9b-44f6-b71e-ff8d5948842d",
   "metadata": {},
   "outputs": [
    {
     "name": "stdout",
     "output_type": "stream",
     "text": [
      "Общая информация\n",
      "<class 'pandas.core.frame.DataFrame'>\n",
      "RangeIndex: 456 entries, 0 to 455\n",
      "Data columns (total 9 columns):\n",
      " #   Column          Non-Null Count  Dtype  \n",
      "---  ------          --------------  -----  \n",
      " 0   id              456 non-null    int64  \n",
      " 1   type            445 non-null    object \n",
      " 2   district        254 non-null    object \n",
      " 3   adress          456 non-null    object \n",
      " 4   floor           456 non-null    object \n",
      " 5   total_square    456 non-null    float64\n",
      " 6   living_square   456 non-null    float64\n",
      " 7   kitchen_square  456 non-null    float64\n",
      " 8   price           456 non-null    int64  \n",
      "dtypes: float64(3), int64(2), object(4)\n",
      "memory usage: 32.2+ KB\n"
     ]
    },
    {
     "data": {
      "text/plain": [
       "None"
      ]
     },
     "metadata": {},
     "output_type": "display_data"
    },
    {
     "name": "stdout",
     "output_type": "stream",
     "text": [
      "Первые 5 строк(и) данных\n"
     ]
    },
    {
     "data": {
      "text/html": [
       "<div>\n",
       "<style scoped>\n",
       "    .dataframe tbody tr th:only-of-type {\n",
       "        vertical-align: middle;\n",
       "    }\n",
       "\n",
       "    .dataframe tbody tr th {\n",
       "        vertical-align: top;\n",
       "    }\n",
       "\n",
       "    .dataframe thead th {\n",
       "        text-align: right;\n",
       "    }\n",
       "</style>\n",
       "<table border=\"1\" class=\"dataframe\">\n",
       "  <thead>\n",
       "    <tr style=\"text-align: right;\">\n",
       "      <th></th>\n",
       "      <th>id</th>\n",
       "      <th>type</th>\n",
       "      <th>district</th>\n",
       "      <th>adress</th>\n",
       "      <th>floor</th>\n",
       "      <th>total_square</th>\n",
       "      <th>living_square</th>\n",
       "      <th>kitchen_square</th>\n",
       "      <th>price</th>\n",
       "    </tr>\n",
       "  </thead>\n",
       "  <tbody>\n",
       "    <tr>\n",
       "      <th>0</th>\n",
       "      <td>1</td>\n",
       "      <td>Трехкомнатная улучшенная</td>\n",
       "      <td>Орджоникидзевский</td>\n",
       "      <td>Ленина пр-т 145/2</td>\n",
       "      <td>1/5</td>\n",
       "      <td>64.0</td>\n",
       "      <td>43.0</td>\n",
       "      <td>8.0</td>\n",
       "      <td>3750</td>\n",
       "    </tr>\n",
       "    <tr>\n",
       "      <th>1</th>\n",
       "      <td>2</td>\n",
       "      <td>Трехкомнатная</td>\n",
       "      <td>Ленинский</td>\n",
       "      <td>Октябрьская 12</td>\n",
       "      <td>2/5</td>\n",
       "      <td>87.2</td>\n",
       "      <td>60.0</td>\n",
       "      <td>9.0</td>\n",
       "      <td>8300</td>\n",
       "    </tr>\n",
       "    <tr>\n",
       "      <th>2</th>\n",
       "      <td>3</td>\n",
       "      <td>Однокомнатная нестандартная</td>\n",
       "      <td>Орджоникидзевский</td>\n",
       "      <td>Ленина пр-т 135</td>\n",
       "      <td>6/14</td>\n",
       "      <td>36.1</td>\n",
       "      <td>20.0</td>\n",
       "      <td>9.0</td>\n",
       "      <td>3330</td>\n",
       "    </tr>\n",
       "    <tr>\n",
       "      <th>3</th>\n",
       "      <td>4</td>\n",
       "      <td>Трехкомнатная нестандартная</td>\n",
       "      <td>Орджоникидзевский</td>\n",
       "      <td>Ленина пр-т 129</td>\n",
       "      <td>5/16</td>\n",
       "      <td>105.0</td>\n",
       "      <td>75.0</td>\n",
       "      <td>14.0</td>\n",
       "      <td>7700</td>\n",
       "    </tr>\n",
       "    <tr>\n",
       "      <th>4</th>\n",
       "      <td>5</td>\n",
       "      <td>Двухкомнатная улучшенная</td>\n",
       "      <td>Орджоникидзевский</td>\n",
       "      <td>Сиреневый проезд 12</td>\n",
       "      <td>7/9</td>\n",
       "      <td>50.6</td>\n",
       "      <td>43.0</td>\n",
       "      <td>9.0</td>\n",
       "      <td>3800</td>\n",
       "    </tr>\n",
       "  </tbody>\n",
       "</table>\n",
       "</div>"
      ],
      "text/plain": [
       "   id                         type           district               adress  \\\n",
       "0   1     Трехкомнатная улучшенная  Орджоникидзевский    Ленина пр-т 145/2   \n",
       "1   2               Трехкомнатная           Ленинский       Октябрьская 12   \n",
       "2   3  Однокомнатная нестандартная  Орджоникидзевский      Ленина пр-т 135   \n",
       "3   4  Трехкомнатная нестандартная  Орджоникидзевский      Ленина пр-т 129   \n",
       "4   5     Двухкомнатная улучшенная  Орджоникидзевский  Сиреневый проезд 12   \n",
       "\n",
       "  floor  total_square  living_square  kitchen_square  price  \n",
       "0   1/5          64.0           43.0             8.0   3750  \n",
       "1   2/5          87.2           60.0             9.0   8300  \n",
       "2  6/14          36.1           20.0             9.0   3330  \n",
       "3  5/16         105.0           75.0            14.0   7700  \n",
       "4   7/9          50.6           43.0             9.0   3800  "
      ]
     },
     "metadata": {},
     "output_type": "display_data"
    },
    {
     "name": "stdout",
     "output_type": "stream",
     "text": [
      "Основные статистические характеристики данных\n"
     ]
    },
    {
     "data": {
      "text/html": [
       "<div>\n",
       "<style scoped>\n",
       "    .dataframe tbody tr th:only-of-type {\n",
       "        vertical-align: middle;\n",
       "    }\n",
       "\n",
       "    .dataframe tbody tr th {\n",
       "        vertical-align: top;\n",
       "    }\n",
       "\n",
       "    .dataframe thead th {\n",
       "        text-align: right;\n",
       "    }\n",
       "</style>\n",
       "<table border=\"1\" class=\"dataframe\">\n",
       "  <thead>\n",
       "    <tr style=\"text-align: right;\">\n",
       "      <th></th>\n",
       "      <th>id</th>\n",
       "      <th>total_square</th>\n",
       "      <th>living_square</th>\n",
       "      <th>kitchen_square</th>\n",
       "      <th>price</th>\n",
       "    </tr>\n",
       "  </thead>\n",
       "  <tbody>\n",
       "    <tr>\n",
       "      <th>count</th>\n",
       "      <td>456.00000</td>\n",
       "      <td>456.000000</td>\n",
       "      <td>456.000000</td>\n",
       "      <td>456.000000</td>\n",
       "      <td>456.000000</td>\n",
       "    </tr>\n",
       "    <tr>\n",
       "      <th>mean</th>\n",
       "      <td>228.50000</td>\n",
       "      <td>53.514912</td>\n",
       "      <td>32.120175</td>\n",
       "      <td>8.771250</td>\n",
       "      <td>3744.561404</td>\n",
       "    </tr>\n",
       "    <tr>\n",
       "      <th>std</th>\n",
       "      <td>131.78012</td>\n",
       "      <td>21.751910</td>\n",
       "      <td>17.343334</td>\n",
       "      <td>4.007841</td>\n",
       "      <td>1631.107124</td>\n",
       "    </tr>\n",
       "    <tr>\n",
       "      <th>min</th>\n",
       "      <td>1.00000</td>\n",
       "      <td>14.100000</td>\n",
       "      <td>0.000000</td>\n",
       "      <td>0.000000</td>\n",
       "      <td>0.000000</td>\n",
       "    </tr>\n",
       "    <tr>\n",
       "      <th>25%</th>\n",
       "      <td>114.75000</td>\n",
       "      <td>40.175000</td>\n",
       "      <td>19.000000</td>\n",
       "      <td>6.000000</td>\n",
       "      <td>2700.000000</td>\n",
       "    </tr>\n",
       "    <tr>\n",
       "      <th>50%</th>\n",
       "      <td>228.50000</td>\n",
       "      <td>50.000000</td>\n",
       "      <td>30.000000</td>\n",
       "      <td>8.050000</td>\n",
       "      <td>3500.000000</td>\n",
       "    </tr>\n",
       "    <tr>\n",
       "      <th>75%</th>\n",
       "      <td>342.25000</td>\n",
       "      <td>65.000000</td>\n",
       "      <td>43.000000</td>\n",
       "      <td>10.000000</td>\n",
       "      <td>4600.000000</td>\n",
       "    </tr>\n",
       "    <tr>\n",
       "      <th>max</th>\n",
       "      <td>456.00000</td>\n",
       "      <td>220.000000</td>\n",
       "      <td>150.000000</td>\n",
       "      <td>30.000000</td>\n",
       "      <td>10000.000000</td>\n",
       "    </tr>\n",
       "  </tbody>\n",
       "</table>\n",
       "</div>"
      ],
      "text/plain": [
       "              id  total_square  living_square  kitchen_square         price\n",
       "count  456.00000    456.000000     456.000000      456.000000    456.000000\n",
       "mean   228.50000     53.514912      32.120175        8.771250   3744.561404\n",
       "std    131.78012     21.751910      17.343334        4.007841   1631.107124\n",
       "min      1.00000     14.100000       0.000000        0.000000      0.000000\n",
       "25%    114.75000     40.175000      19.000000        6.000000   2700.000000\n",
       "50%    228.50000     50.000000      30.000000        8.050000   3500.000000\n",
       "75%    342.25000     65.000000      43.000000       10.000000   4600.000000\n",
       "max    456.00000    220.000000     150.000000       30.000000  10000.000000"
      ]
     },
     "metadata": {},
     "output_type": "display_data"
    },
    {
     "name": "stdout",
     "output_type": "stream",
     "text": [
      "Количество пропусков:\n",
      "id                  0\n",
      "type               11\n",
      "district          202\n",
      "adress              0\n",
      "floor               0\n",
      "total_square        0\n",
      "living_square       0\n",
      "kitchen_square      0\n",
      "price               0\n",
      "dtype: int64\n",
      "\n",
      "Количество дубликатов: 0\n"
     ]
    }
   ],
   "source": [
    "first_look(data)"
   ]
  },
  {
   "cell_type": "markdown",
   "id": "0c6b9a30-5595-481d-951b-bdb8198c5731",
   "metadata": {},
   "source": [
    "Посмотрим, есть ли в данных дубликаты, если мы не будем учитывать столбец id."
   ]
  },
  {
   "cell_type": "code",
   "execution_count": 7,
   "id": "0e935065-a2a3-4b02-a72e-90bf54abcf37",
   "metadata": {},
   "outputs": [
    {
     "name": "stdout",
     "output_type": "stream",
     "text": [
      "Количество дубликатов: 2\n"
     ]
    }
   ],
   "source": [
    "print('Количество дубликатов:', data.drop('id', axis=1).duplicated().sum())"
   ]
  },
  {
   "cell_type": "code",
   "execution_count": 8,
   "id": "a5db09cb-6585-4404-b1a8-1f1e1d61f3b6",
   "metadata": {},
   "outputs": [
    {
     "data": {
      "text/html": [
       "<div>\n",
       "<style scoped>\n",
       "    .dataframe tbody tr th:only-of-type {\n",
       "        vertical-align: middle;\n",
       "    }\n",
       "\n",
       "    .dataframe tbody tr th {\n",
       "        vertical-align: top;\n",
       "    }\n",
       "\n",
       "    .dataframe thead th {\n",
       "        text-align: right;\n",
       "    }\n",
       "</style>\n",
       "<table border=\"1\" class=\"dataframe\">\n",
       "  <thead>\n",
       "    <tr style=\"text-align: right;\">\n",
       "      <th></th>\n",
       "      <th>id</th>\n",
       "      <th>type</th>\n",
       "      <th>district</th>\n",
       "      <th>adress</th>\n",
       "      <th>floor</th>\n",
       "      <th>total_square</th>\n",
       "      <th>living_square</th>\n",
       "      <th>kitchen_square</th>\n",
       "      <th>price</th>\n",
       "    </tr>\n",
       "  </thead>\n",
       "  <tbody>\n",
       "    <tr>\n",
       "      <th>354</th>\n",
       "      <td>355</td>\n",
       "      <td>Двухкомнатная раздельная</td>\n",
       "      <td>Орджоникидзевский (левый берег)</td>\n",
       "      <td>Трамвайная 25</td>\n",
       "      <td>1/3</td>\n",
       "      <td>43.0</td>\n",
       "      <td>31.0</td>\n",
       "      <td>6.0</td>\n",
       "      <td>2350</td>\n",
       "    </tr>\n",
       "    <tr>\n",
       "      <th>413</th>\n",
       "      <td>414</td>\n",
       "      <td>Двухкомнатная</td>\n",
       "      <td>Правобережный</td>\n",
       "      <td>Им. газеты \"Правда\" 23</td>\n",
       "      <td>4/5</td>\n",
       "      <td>46.1</td>\n",
       "      <td>29.0</td>\n",
       "      <td>6.0</td>\n",
       "      <td>2600</td>\n",
       "    </tr>\n",
       "  </tbody>\n",
       "</table>\n",
       "</div>"
      ],
      "text/plain": [
       "      id                      type                         district  \\\n",
       "354  355  Двухкомнатная раздельная  Орджоникидзевский (левый берег)   \n",
       "413  414            Двухкомнатная                     Правобережный   \n",
       "\n",
       "                     adress floor  total_square  living_square  \\\n",
       "354           Трамвайная 25   1/3          43.0           31.0   \n",
       "413  Им. газеты \"Правда\" 23   4/5          46.1           29.0   \n",
       "\n",
       "     kitchen_square  price  \n",
       "354             6.0   2350  \n",
       "413             6.0   2600  "
      ]
     },
     "execution_count": 8,
     "metadata": {},
     "output_type": "execute_result"
    }
   ],
   "source": [
    "data[data.drop('id', axis=1).duplicated()]"
   ]
  },
  {
   "cell_type": "code",
   "execution_count": 9,
   "id": "c09ee71b-eafa-4019-99a8-7866f57aa537",
   "metadata": {},
   "outputs": [
    {
     "data": {
      "text/plain": [
       "(456, 9)"
      ]
     },
     "execution_count": 9,
     "metadata": {},
     "output_type": "execute_result"
    }
   ],
   "source": [
    "data.shape"
   ]
  },
  {
   "cell_type": "code",
   "execution_count": 10,
   "id": "98066ede-ff30-4cc1-9512-9d251db4d392",
   "metadata": {},
   "outputs": [],
   "source": [
    "data.drop_duplicates(\n",
    "    subset=['type', 'district', 'adress', 'floor', 'total_square', 'living_square', 'kitchen_square', 'price'],\n",
    "    inplace=True\n",
    ")"
   ]
  },
  {
   "cell_type": "code",
   "execution_count": 11,
   "id": "47798c8f-82b4-4098-ab1d-0f5b0e8b7ca2",
   "metadata": {},
   "outputs": [
    {
     "data": {
      "text/plain": [
       "(454, 9)"
      ]
     },
     "execution_count": 11,
     "metadata": {},
     "output_type": "execute_result"
    }
   ],
   "source": [
    "data.shape"
   ]
  },
  {
   "cell_type": "markdown",
   "id": "e75c0a57-1a23-4493-819d-f830b03af1af",
   "metadata": {},
   "source": [
    "### Цена"
   ]
  },
  {
   "cell_type": "code",
   "execution_count": 12,
   "id": "04f8b4a1-a767-4fa1-bc12-e4e93d816da3",
   "metadata": {},
   "outputs": [
    {
     "data": {
      "image/png": "[encoded data removed]",
      "text/plain": [
       "<Figure size 1200x500 with 1 Axes>"
      ]
     },
     "metadata": {},
     "output_type": "display_data"
    }
   ],
   "source": [
    "data['price'].plot(figsize=(12, 5));"
   ]
  },
  {
   "cell_type": "code",
   "execution_count": 13,
   "id": "394cf70f-19d2-409e-a70e-f79dc273a13b",
   "metadata": {},
   "outputs": [
    {
     "data": {
      "image/png": "[encoded data removed]",
      "text/plain": [
       "<Figure size 1200x500 with 1 Axes>"
      ]
     },
     "metadata": {},
     "output_type": "display_data"
    }
   ],
   "source": [
    "data[data['price'] < 1000]['price'].plot(figsize=(12, 5));"
   ]
  },
  {
   "cell_type": "code",
   "execution_count": 14,
   "id": "d13f357e-8e09-4c56-95db-d21a6641d549",
   "metadata": {},
   "outputs": [
    {
     "data": {
      "text/plain": [
       "3.0837004405286343"
      ]
     },
     "execution_count": 14,
     "metadata": {},
     "output_type": "execute_result"
    }
   ],
   "source": [
    "data[data['price'] < 800].shape[0] / data.shape[0] * 100"
   ]
  },
  {
   "cell_type": "code",
   "execution_count": 15,
   "id": "0d5db257-f9e6-4177-a6a4-142745aa2081",
   "metadata": {},
   "outputs": [
    {
     "data": {
      "text/html": [
       "<div>\n",
       "<style scoped>\n",
       "    .dataframe tbody tr th:only-of-type {\n",
       "        vertical-align: middle;\n",
       "    }\n",
       "\n",
       "    .dataframe tbody tr th {\n",
       "        vertical-align: top;\n",
       "    }\n",
       "\n",
       "    .dataframe thead th {\n",
       "        text-align: right;\n",
       "    }\n",
       "</style>\n",
       "<table border=\"1\" class=\"dataframe\">\n",
       "  <thead>\n",
       "    <tr style=\"text-align: right;\">\n",
       "      <th></th>\n",
       "      <th>id</th>\n",
       "      <th>type</th>\n",
       "      <th>district</th>\n",
       "      <th>adress</th>\n",
       "      <th>floor</th>\n",
       "      <th>total_square</th>\n",
       "      <th>living_square</th>\n",
       "      <th>kitchen_square</th>\n",
       "      <th>price</th>\n",
       "    </tr>\n",
       "  </thead>\n",
       "  <tbody>\n",
       "    <tr>\n",
       "      <th>58</th>\n",
       "      <td>59</td>\n",
       "      <td>Трехкомнатная</td>\n",
       "      <td>None</td>\n",
       "      <td>Школьная 10</td>\n",
       "      <td>1/1</td>\n",
       "      <td>59.5</td>\n",
       "      <td>47.0</td>\n",
       "      <td>12.0</td>\n",
       "      <td>500</td>\n",
       "    </tr>\n",
       "    <tr>\n",
       "      <th>61</th>\n",
       "      <td>62</td>\n",
       "      <td>Двухкомнатная</td>\n",
       "      <td>None</td>\n",
       "      <td>Новая 1/5</td>\n",
       "      <td>1/2</td>\n",
       "      <td>47.0</td>\n",
       "      <td>29.0</td>\n",
       "      <td>8.0</td>\n",
       "      <td>550</td>\n",
       "    </tr>\n",
       "    <tr>\n",
       "      <th>63</th>\n",
       "      <td>64</td>\n",
       "      <td>Двухкомнатная</td>\n",
       "      <td>None</td>\n",
       "      <td>Новая 1/5</td>\n",
       "      <td>1/2</td>\n",
       "      <td>47.0</td>\n",
       "      <td>29.0</td>\n",
       "      <td>8.0</td>\n",
       "      <td>480</td>\n",
       "    </tr>\n",
       "    <tr>\n",
       "      <th>73</th>\n",
       "      <td>74</td>\n",
       "      <td>Однокомнатная</td>\n",
       "      <td>None</td>\n",
       "      <td>Первомайская 16</td>\n",
       "      <td>2/4</td>\n",
       "      <td>42.6</td>\n",
       "      <td>20.0</td>\n",
       "      <td>15.0</td>\n",
       "      <td>0</td>\n",
       "    </tr>\n",
       "    <tr>\n",
       "      <th>141</th>\n",
       "      <td>142</td>\n",
       "      <td>Однокомнатная</td>\n",
       "      <td>None</td>\n",
       "      <td>Труда 47</td>\n",
       "      <td>4/9</td>\n",
       "      <td>32.0</td>\n",
       "      <td>19.0</td>\n",
       "      <td>6.0</td>\n",
       "      <td>0</td>\n",
       "    </tr>\n",
       "    <tr>\n",
       "      <th>173</th>\n",
       "      <td>174</td>\n",
       "      <td>Однокомнатная малосемейка</td>\n",
       "      <td>Правобережный</td>\n",
       "      <td>Советской Армии 37/1</td>\n",
       "      <td>4/9</td>\n",
       "      <td>22.0</td>\n",
       "      <td>12.0</td>\n",
       "      <td>6.0</td>\n",
       "      <td>1</td>\n",
       "    </tr>\n",
       "    <tr>\n",
       "      <th>294</th>\n",
       "      <td>295</td>\n",
       "      <td>Однокомнатная</td>\n",
       "      <td>None</td>\n",
       "      <td>Привокзальная 29кв1</td>\n",
       "      <td>1/1</td>\n",
       "      <td>42.5</td>\n",
       "      <td>22.0</td>\n",
       "      <td>12.0</td>\n",
       "      <td>450</td>\n",
       "    </tr>\n",
       "    <tr>\n",
       "      <th>332</th>\n",
       "      <td>333</td>\n",
       "      <td>Двухкомнатная</td>\n",
       "      <td>None</td>\n",
       "      <td>Российская 7</td>\n",
       "      <td>2/2</td>\n",
       "      <td>45.0</td>\n",
       "      <td>31.0</td>\n",
       "      <td>6.0</td>\n",
       "      <td>500</td>\n",
       "    </tr>\n",
       "    <tr>\n",
       "      <th>373</th>\n",
       "      <td>374</td>\n",
       "      <td>Двухкомнатная</td>\n",
       "      <td>None</td>\n",
       "      <td>ул Черемушки 13</td>\n",
       "      <td>2/2</td>\n",
       "      <td>40.0</td>\n",
       "      <td>22.0</td>\n",
       "      <td>6.0</td>\n",
       "      <td>500</td>\n",
       "    </tr>\n",
       "    <tr>\n",
       "      <th>389</th>\n",
       "      <td>390</td>\n",
       "      <td>Трехкомнатная</td>\n",
       "      <td>None</td>\n",
       "      <td>Труда 2</td>\n",
       "      <td>1/2</td>\n",
       "      <td>63.4</td>\n",
       "      <td>0.0</td>\n",
       "      <td>0.0</td>\n",
       "      <td>530</td>\n",
       "    </tr>\n",
       "    <tr>\n",
       "      <th>399</th>\n",
       "      <td>400</td>\n",
       "      <td>Трехкомнатная</td>\n",
       "      <td>Орджоникидзевский</td>\n",
       "      <td>ул Репина 12</td>\n",
       "      <td>1/1</td>\n",
       "      <td>55.0</td>\n",
       "      <td>39.0</td>\n",
       "      <td>6.0</td>\n",
       "      <td>0</td>\n",
       "    </tr>\n",
       "    <tr>\n",
       "      <th>416</th>\n",
       "      <td>417</td>\n",
       "      <td>Трехкомнатная</td>\n",
       "      <td>None</td>\n",
       "      <td>сад Горняк</td>\n",
       "      <td>1/1</td>\n",
       "      <td>50.0</td>\n",
       "      <td>29.0</td>\n",
       "      <td>5.0</td>\n",
       "      <td>550</td>\n",
       "    </tr>\n",
       "    <tr>\n",
       "      <th>429</th>\n",
       "      <td>430</td>\n",
       "      <td>Двухкомнатная</td>\n",
       "      <td>None</td>\n",
       "      <td>Центральная 3</td>\n",
       "      <td>2/2</td>\n",
       "      <td>44.0</td>\n",
       "      <td>30.0</td>\n",
       "      <td>8.0</td>\n",
       "      <td>450</td>\n",
       "    </tr>\n",
       "  </tbody>\n",
       "</table>\n",
       "</div>"
      ],
      "text/plain": [
       "      id                       type           district                adress  \\\n",
       "58    59             Трехкомнатная                None           Школьная 10   \n",
       "61    62             Двухкомнатная                None             Новая 1/5   \n",
       "63    64             Двухкомнатная                None             Новая 1/5   \n",
       "73    74             Однокомнатная                None       Первомайская 16   \n",
       "141  142             Однокомнатная                None              Труда 47   \n",
       "173  174  Однокомнатная малосемейка      Правобережный  Советской Армии 37/1   \n",
       "294  295             Однокомнатная                None   Привокзальная 29кв1   \n",
       "332  333             Двухкомнатная                None          Российская 7   \n",
       "373  374             Двухкомнатная                None       ул Черемушки 13   \n",
       "389  390             Трехкомнатная                None               Труда 2   \n",
       "399  400             Трехкомнатная   Орджоникидзевский          ул Репина 12   \n",
       "416  417             Трехкомнатная                None           сад Горняк    \n",
       "429  430             Двухкомнатная                None         Центральная 3   \n",
       "\n",
       "    floor  total_square  living_square  kitchen_square  price  \n",
       "58    1/1          59.5           47.0            12.0    500  \n",
       "61    1/2          47.0           29.0             8.0    550  \n",
       "63    1/2          47.0           29.0             8.0    480  \n",
       "73    2/4          42.6           20.0            15.0      0  \n",
       "141   4/9          32.0           19.0             6.0      0  \n",
       "173   4/9          22.0           12.0             6.0      1  \n",
       "294   1/1          42.5           22.0            12.0    450  \n",
       "332   2/2          45.0           31.0             6.0    500  \n",
       "373   2/2          40.0           22.0             6.0    500  \n",
       "389   1/2          63.4            0.0             0.0    530  \n",
       "399   1/1          55.0           39.0             6.0      0  \n",
       "416   1/1          50.0           29.0             5.0    550  \n",
       "429   2/2          44.0           30.0             8.0    450  "
      ]
     },
     "execution_count": 15,
     "metadata": {},
     "output_type": "execute_result"
    }
   ],
   "source": [
    "data[data['price'] < 600]"
   ]
  },
  {
   "cell_type": "markdown",
   "id": "8e8be602-95bc-40ed-9e0a-9725f0b20ac6",
   "metadata": {},
   "source": [
    "Для трех квартир цена не указана, поэтому удалим эти строки, так как они не подходят ни для обучения модели ни для контроля качества. \n",
    "\n",
    "Количество квартир с нетипично низкой ценой составляет около 3 % данных. Удалим их, чтобы модель смогла точнее выявить закономерность."
   ]
  },
  {
   "cell_type": "code",
   "execution_count": 16,
   "id": "ec8fb70e-0c24-442d-aca0-0896268ce052",
   "metadata": {},
   "outputs": [
    {
     "data": {
      "text/plain": [
       "(454, 9)"
      ]
     },
     "execution_count": 16,
     "metadata": {},
     "output_type": "execute_result"
    }
   ],
   "source": [
    "# контроль размерности\n",
    "data.shape"
   ]
  },
  {
   "cell_type": "code",
   "execution_count": 17,
   "id": "25e8f942-e643-4d87-909e-d0b96dfc1e19",
   "metadata": {},
   "outputs": [],
   "source": [
    "data = data[data['price'] >= 800]"
   ]
  },
  {
   "cell_type": "code",
   "execution_count": 18,
   "id": "8002012f-c218-4ba6-ba8f-2411fc3a880f",
   "metadata": {},
   "outputs": [
    {
     "data": {
      "text/plain": [
       "(440, 9)"
      ]
     },
     "execution_count": 18,
     "metadata": {},
     "output_type": "execute_result"
    }
   ],
   "source": [
    "# контроль размерности\n",
    "data.shape"
   ]
  },
  {
   "cell_type": "markdown",
   "id": "239b1631-ea6a-47d8-9036-823163e77e03",
   "metadata": {},
   "source": [
    "### Отбор столбцов"
   ]
  },
  {
   "cell_type": "code",
   "execution_count": 19,
   "id": "ac1e0c97-af6a-4a39-ad4c-9c47de35f5d8",
   "metadata": {},
   "outputs": [],
   "source": [
    "data = data.drop(['id', 'adress'], axis=1)"
   ]
  },
  {
   "cell_type": "code",
   "execution_count": 20,
   "id": "6d682fca-6144-451d-ac55-b9cab4de92b8",
   "metadata": {},
   "outputs": [
    {
     "data": {
      "text/html": [
       "<div>\n",
       "<style scoped>\n",
       "    .dataframe tbody tr th:only-of-type {\n",
       "        vertical-align: middle;\n",
       "    }\n",
       "\n",
       "    .dataframe tbody tr th {\n",
       "        vertical-align: top;\n",
       "    }\n",
       "\n",
       "    .dataframe thead th {\n",
       "        text-align: right;\n",
       "    }\n",
       "</style>\n",
       "<table border=\"1\" class=\"dataframe\">\n",
       "  <thead>\n",
       "    <tr style=\"text-align: right;\">\n",
       "      <th></th>\n",
       "      <th>type</th>\n",
       "      <th>district</th>\n",
       "      <th>floor</th>\n",
       "      <th>total_square</th>\n",
       "      <th>living_square</th>\n",
       "      <th>kitchen_square</th>\n",
       "      <th>price</th>\n",
       "    </tr>\n",
       "  </thead>\n",
       "  <tbody>\n",
       "    <tr>\n",
       "      <th>0</th>\n",
       "      <td>Трехкомнатная улучшенная</td>\n",
       "      <td>Орджоникидзевский</td>\n",
       "      <td>1/5</td>\n",
       "      <td>64.0</td>\n",
       "      <td>43.0</td>\n",
       "      <td>8.0</td>\n",
       "      <td>3750</td>\n",
       "    </tr>\n",
       "    <tr>\n",
       "      <th>1</th>\n",
       "      <td>Трехкомнатная</td>\n",
       "      <td>Ленинский</td>\n",
       "      <td>2/5</td>\n",
       "      <td>87.2</td>\n",
       "      <td>60.0</td>\n",
       "      <td>9.0</td>\n",
       "      <td>8300</td>\n",
       "    </tr>\n",
       "    <tr>\n",
       "      <th>2</th>\n",
       "      <td>Однокомнатная нестандартная</td>\n",
       "      <td>Орджоникидзевский</td>\n",
       "      <td>6/14</td>\n",
       "      <td>36.1</td>\n",
       "      <td>20.0</td>\n",
       "      <td>9.0</td>\n",
       "      <td>3330</td>\n",
       "    </tr>\n",
       "    <tr>\n",
       "      <th>3</th>\n",
       "      <td>Трехкомнатная нестандартная</td>\n",
       "      <td>Орджоникидзевский</td>\n",
       "      <td>5/16</td>\n",
       "      <td>105.0</td>\n",
       "      <td>75.0</td>\n",
       "      <td>14.0</td>\n",
       "      <td>7700</td>\n",
       "    </tr>\n",
       "    <tr>\n",
       "      <th>4</th>\n",
       "      <td>Двухкомнатная улучшенная</td>\n",
       "      <td>Орджоникидзевский</td>\n",
       "      <td>7/9</td>\n",
       "      <td>50.6</td>\n",
       "      <td>43.0</td>\n",
       "      <td>9.0</td>\n",
       "      <td>3800</td>\n",
       "    </tr>\n",
       "  </tbody>\n",
       "</table>\n",
       "</div>"
      ],
      "text/plain": [
       "                          type           district floor  total_square  \\\n",
       "0     Трехкомнатная улучшенная  Орджоникидзевский   1/5          64.0   \n",
       "1               Трехкомнатная           Ленинский   2/5          87.2   \n",
       "2  Однокомнатная нестандартная  Орджоникидзевский  6/14          36.1   \n",
       "3  Трехкомнатная нестандартная  Орджоникидзевский  5/16         105.0   \n",
       "4     Двухкомнатная улучшенная  Орджоникидзевский   7/9          50.6   \n",
       "\n",
       "   living_square  kitchen_square  price  \n",
       "0           43.0             8.0   3750  \n",
       "1           60.0             9.0   8300  \n",
       "2           20.0             9.0   3330  \n",
       "3           75.0            14.0   7700  \n",
       "4           43.0             9.0   3800  "
      ]
     },
     "execution_count": 20,
     "metadata": {},
     "output_type": "execute_result"
    }
   ],
   "source": [
    "data.head()"
   ]
  },
  {
   "cell_type": "markdown",
   "id": "6edc7abf-c50c-4840-a9e6-44a573bb1807",
   "metadata": {},
   "source": [
    "## Построение модели"
   ]
  },
  {
   "cell_type": "markdown",
   "id": "b574cd27-785f-47a3-a571-c8479dc542be",
   "metadata": {},
   "source": [
    "### Предварительна обработка данных"
   ]
  },
  {
   "cell_type": "markdown",
   "id": "ccc7260e-c8cb-40a3-bf1f-a464b20b2e73",
   "metadata": {},
   "source": [
    "Разделим характеристики и целевую переменную."
   ]
  },
  {
   "cell_type": "code",
   "execution_count": 21,
   "id": "0489c8f0-c7bb-4ba4-92cf-5dcef25d6625",
   "metadata": {},
   "outputs": [
    {
     "data": {
      "text/plain": [
       "(440, 7)"
      ]
     },
     "execution_count": 21,
     "metadata": {},
     "output_type": "execute_result"
    }
   ],
   "source": [
    "data.shape"
   ]
  },
  {
   "cell_type": "code",
   "execution_count": 22,
   "id": "e84bff10-f328-4e06-8cec-384dc09df959",
   "metadata": {},
   "outputs": [],
   "source": [
    "data = data[data['district'].notna()]"
   ]
  },
  {
   "cell_type": "code",
   "execution_count": 23,
   "id": "2aae156a-a6ce-4f62-8db8-bfe6e48aebb6",
   "metadata": {},
   "outputs": [],
   "source": [
    "data = data[data['type'].notna()]"
   ]
  },
  {
   "cell_type": "code",
   "execution_count": 24,
   "id": "3bfb3798-a4ee-4e0f-b696-bf1b3e3fb3ec",
   "metadata": {},
   "outputs": [
    {
     "data": {
      "text/plain": [
       "(249, 7)"
      ]
     },
     "execution_count": 24,
     "metadata": {},
     "output_type": "execute_result"
    }
   ],
   "source": [
    "data.shape"
   ]
  },
  {
   "cell_type": "code",
   "execution_count": 25,
   "id": "dd5ee413-24e7-4776-b669-44a3a57456b0",
   "metadata": {},
   "outputs": [
    {
     "data": {
      "text/plain": [
       "type              0\n",
       "district          0\n",
       "floor             0\n",
       "total_square      0\n",
       "living_square     0\n",
       "kitchen_square    0\n",
       "price             0\n",
       "dtype: int64"
      ]
     },
     "execution_count": 25,
     "metadata": {},
     "output_type": "execute_result"
    }
   ],
   "source": [
    "data.isna().sum()"
   ]
  },
  {
   "cell_type": "code",
   "execution_count": null,
   "id": "a9defed6-a45e-408d-871c-bcbd65dd6aea",
   "metadata": {},
   "outputs": [],
   "source": []
  },
  {
   "cell_type": "markdown",
   "id": "ad4231ab-7f2b-487e-81d3-201cf0714d9a",
   "metadata": {},
   "source": [
    "### Трансформер для предварительной обработки данных"
   ]
  },
  {
   "cell_type": "markdown",
   "id": "a3e9755b-bf19-4bba-a4dd-757da5793297",
   "metadata": {},
   "source": [
    "Напишем два трансформера для предварительной обработки данных\n",
    "\n",
    "**Чистка данных**\n",
    "- 'adress': у названий улиц уберем номера домов\n",
    "- 'adress': в названиях улиц исправим неявные дубликаты\n",
    "- 'district': исправим неявные дубликаты\n",
    "\n",
    "**Преобразование характеристик**\n",
    "    \n",
    "- 'floor': добавляем столбец с номером этажа\n",
    "- 'floor': добавляем столбец с общим количеством этажей в доме.\n",
    "- 'type': добавляем столбец с количеством комнат\n",
    "- 'type': добавляем столбец с типом планировки. пропуски заполняем значением «неизвестно»\n",
    "- 'floor': удалим, потому что вместо него будем использовать столбцы, сгенерированные на его основе \n",
    "- 'type': удалим, потому что вместо него будем использовать столбцы, сгенерированные на его основе \n",
    "- 'adress': удалим, потому что вместо него будем использовать столбцы, сгенерированные на его основе\n"
   ]
  },
  {
   "cell_type": "code",
   "execution_count": 26,
   "id": "f2b88aaa-12de-4e11-849c-c9bc513c6fe5",
   "metadata": {},
   "outputs": [],
   "source": [
    "class DataCleaner(BaseEstimator, TransformerMixin):\n",
    "    '''\n",
    "    Класс для обработки неявных дубликатов и пропусков\n",
    "    '''\n",
    "    def __init__(self):\n",
    "        self.districts_to_replace = {\n",
    "            'ленинский' : 'Ленинский',\n",
    "            'Орджоникидзевский район' : 'Орджоникидзевский',\n",
    "            'Орджо' : 'Орджоникидзевский',\n",
    "            'правобережный' : 'Правобережный'\n",
    "        }\n",
    "           \n",
    "    def fit(self, X):\n",
    "        return self\n",
    "\n",
    "    def transform(self, X):\n",
    "         \n",
    "        # обработка дубликатов и пропусков района\n",
    "        X['district'].replace(to_replace=self.districts_to_replace, inplace=True)\n",
    "        X['district'].fillna('неизвестно', inplace=True)\n",
    "                        \n",
    "        return X"
   ]
  },
  {
   "cell_type": "code",
   "execution_count": 27,
   "id": "ca91d7dc-7038-4d6f-8194-c763fb9e3951",
   "metadata": {},
   "outputs": [],
   "source": [
    "class FeaturesTransformer(BaseEstimator, TransformerMixin):\n",
    "    '''\n",
    "    Класс для преобразования характеристик.\n",
    "    \n",
    "    Добавляет:\n",
    "        floor_num - номер этажа\n",
    "        total_floors - общее количество этажей\n",
    "        num_of_rooms - количество комнат\n",
    "        flat_type - тип планировки\n",
    "\n",
    "    Удаляет: \n",
    "        floor - так как заменен на два более информативных признака\n",
    "        type - так как заменен на два более информативных признака\n",
    "    '''\n",
    "    columns_ = [\n",
    "        'district',  \n",
    "        'total_square', \n",
    "        'living_square', \n",
    "        'kitchen_square', \n",
    "        'price',\n",
    "        'floor_num', \n",
    "        'total_floors', \n",
    "        'num_of_rooms', \n",
    "        'flat_type'\n",
    "    ]\n",
    "    def __init__(self):\n",
    "        pass\n",
    "        \n",
    "    def __get_floor_num(self, row):\n",
    "        return int(row[:row.find('/')])\n",
    "    \n",
    "    def __get_total_floors(self, row):\n",
    "        return int(row[row.find('/')+1:])\n",
    "\n",
    "    def __get_num_of_rooms(self, row):\n",
    "        return row[: row.find(' ')] if row.find(' ') > 0 else None\n",
    "\n",
    "    def __get_flat_type(self, row):\n",
    "        return 'неизвестно' if (len(row) - row.find(' ') == 1) or (row.find(' ') == -1) else row[row.find(' ')+1:]\n",
    "    \n",
    "    def fit(self, X):\n",
    "        return self\n",
    "\n",
    "    def transform(self, X):\n",
    "         \n",
    "        # номер этажа квартиры\n",
    "        floor_num = X['floor'].apply(self.__get_floor_num)\n",
    "\n",
    "        # общее количество этажей в доме\n",
    "        total_floors = X['floor'].apply(self.__get_total_floors)\n",
    "\n",
    "        num_of_rooms = X['type'].apply(self.__get_num_of_rooms)\n",
    "        flat_type = X['type'].apply(self.__get_flat_type)\n",
    "        \n",
    "        X = pd.DataFrame(np.c_[X.drop(['floor', 'type'], axis=1), floor_num, total_floors, num_of_rooms, flat_type])    \n",
    "        X.columns = self.columns_\n",
    "        return X"
   ]
  },
  {
   "cell_type": "markdown",
   "id": "a9926ee8-c2c2-44b6-8f7e-cca5108dc115",
   "metadata": {},
   "source": [
    "Выделим категориальные и числовые признаки."
   ]
  },
  {
   "cell_type": "code",
   "execution_count": 28,
   "id": "6ba68e02-da3a-4810-9273-a376a7b3bb1f",
   "metadata": {},
   "outputs": [],
   "source": [
    "knn_pipeline =  Pipeline([\n",
    "    ('data_cleaner', DataCleaner()),\n",
    "    ('features_transformer', FeaturesTransformer())\n",
    "])"
   ]
  },
  {
   "cell_type": "code",
   "execution_count": 29,
   "id": "8944a34a-0d81-4a7c-bcae-e53d320061fe",
   "metadata": {},
   "outputs": [],
   "source": [
    "data = knn_pipeline.fit_transform(data)"
   ]
  },
  {
   "cell_type": "code",
   "execution_count": 30,
   "id": "dec5b6fa-654c-4737-9167-68653265f707",
   "metadata": {},
   "outputs": [
    {
     "data": {
      "text/html": [
       "<div>\n",
       "<style scoped>\n",
       "    .dataframe tbody tr th:only-of-type {\n",
       "        vertical-align: middle;\n",
       "    }\n",
       "\n",
       "    .dataframe tbody tr th {\n",
       "        vertical-align: top;\n",
       "    }\n",
       "\n",
       "    .dataframe thead th {\n",
       "        text-align: right;\n",
       "    }\n",
       "</style>\n",
       "<table border=\"1\" class=\"dataframe\">\n",
       "  <thead>\n",
       "    <tr style=\"text-align: right;\">\n",
       "      <th></th>\n",
       "      <th>district</th>\n",
       "      <th>total_square</th>\n",
       "      <th>living_square</th>\n",
       "      <th>kitchen_square</th>\n",
       "      <th>price</th>\n",
       "      <th>floor_num</th>\n",
       "      <th>total_floors</th>\n",
       "      <th>num_of_rooms</th>\n",
       "      <th>flat_type</th>\n",
       "    </tr>\n",
       "  </thead>\n",
       "  <tbody>\n",
       "    <tr>\n",
       "      <th>0</th>\n",
       "      <td>Орджоникидзевский</td>\n",
       "      <td>64.0</td>\n",
       "      <td>43.0</td>\n",
       "      <td>8.0</td>\n",
       "      <td>3750</td>\n",
       "      <td>1</td>\n",
       "      <td>5</td>\n",
       "      <td>Трехкомнатная</td>\n",
       "      <td>улучшенная</td>\n",
       "    </tr>\n",
       "    <tr>\n",
       "      <th>1</th>\n",
       "      <td>Ленинский</td>\n",
       "      <td>87.2</td>\n",
       "      <td>60.0</td>\n",
       "      <td>9.0</td>\n",
       "      <td>8300</td>\n",
       "      <td>2</td>\n",
       "      <td>5</td>\n",
       "      <td>Трехкомнатная</td>\n",
       "      <td>неизвестно</td>\n",
       "    </tr>\n",
       "    <tr>\n",
       "      <th>2</th>\n",
       "      <td>Орджоникидзевский</td>\n",
       "      <td>36.1</td>\n",
       "      <td>20.0</td>\n",
       "      <td>9.0</td>\n",
       "      <td>3330</td>\n",
       "      <td>6</td>\n",
       "      <td>14</td>\n",
       "      <td>Однокомнатная</td>\n",
       "      <td>нестандартная</td>\n",
       "    </tr>\n",
       "    <tr>\n",
       "      <th>3</th>\n",
       "      <td>Орджоникидзевский</td>\n",
       "      <td>105.0</td>\n",
       "      <td>75.0</td>\n",
       "      <td>14.0</td>\n",
       "      <td>7700</td>\n",
       "      <td>5</td>\n",
       "      <td>16</td>\n",
       "      <td>Трехкомнатная</td>\n",
       "      <td>нестандартная</td>\n",
       "    </tr>\n",
       "    <tr>\n",
       "      <th>4</th>\n",
       "      <td>Орджоникидзевский</td>\n",
       "      <td>50.6</td>\n",
       "      <td>43.0</td>\n",
       "      <td>9.0</td>\n",
       "      <td>3800</td>\n",
       "      <td>7</td>\n",
       "      <td>9</td>\n",
       "      <td>Двухкомнатная</td>\n",
       "      <td>улучшенная</td>\n",
       "    </tr>\n",
       "  </tbody>\n",
       "</table>\n",
       "</div>"
      ],
      "text/plain": [
       "            district total_square living_square kitchen_square price  \\\n",
       "0  Орджоникидзевский         64.0          43.0            8.0  3750   \n",
       "1          Ленинский         87.2          60.0            9.0  8300   \n",
       "2  Орджоникидзевский         36.1          20.0            9.0  3330   \n",
       "3  Орджоникидзевский        105.0          75.0           14.0  7700   \n",
       "4  Орджоникидзевский         50.6          43.0            9.0  3800   \n",
       "\n",
       "  floor_num total_floors   num_of_rooms      flat_type  \n",
       "0         1            5  Трехкомнатная     улучшенная  \n",
       "1         2            5  Трехкомнатная     неизвестно  \n",
       "2         6           14  Однокомнатная  нестандартная  \n",
       "3         5           16  Трехкомнатная  нестандартная  \n",
       "4         7            9  Двухкомнатная     улучшенная  "
      ]
     },
     "execution_count": 30,
     "metadata": {},
     "output_type": "execute_result"
    }
   ],
   "source": [
    "data.head()"
   ]
  },
  {
   "cell_type": "code",
   "execution_count": 31,
   "id": "aed7e237-adaf-45f2-bffa-e682229414b1",
   "metadata": {},
   "outputs": [
    {
     "data": {
      "text/plain": [
       "(249, 9)"
      ]
     },
     "execution_count": 31,
     "metadata": {},
     "output_type": "execute_result"
    }
   ],
   "source": [
    "data.shape"
   ]
  },
  {
   "cell_type": "code",
   "execution_count": 32,
   "id": "9629b1d5-2d58-46dc-b865-50708e550b28",
   "metadata": {},
   "outputs": [],
   "source": [
    "data = data[data['num_of_rooms'] != 'Многокомнатная']"
   ]
  },
  {
   "cell_type": "code",
   "execution_count": 33,
   "id": "5df20ede-ea83-4eaa-9b91-326d99ba30b7",
   "metadata": {},
   "outputs": [
    {
     "data": {
      "text/plain": [
       "(248, 9)"
      ]
     },
     "execution_count": 33,
     "metadata": {},
     "output_type": "execute_result"
    }
   ],
   "source": [
    "data.shape"
   ]
  },
  {
   "cell_type": "code",
   "execution_count": 34,
   "id": "37c3a69d-8b81-4df4-90d4-7e1ef9ba0703",
   "metadata": {},
   "outputs": [
    {
     "data": {
      "text/plain": [
       "array(['Трехкомнатная', 'Однокомнатная', 'Двухкомнатная',\n",
       "       'Четырехкомнатная'], dtype=object)"
      ]
     },
     "execution_count": 34,
     "metadata": {},
     "output_type": "execute_result"
    }
   ],
   "source": [
    "data['num_of_rooms'].unique()"
   ]
  },
  {
   "cell_type": "code",
   "execution_count": 35,
   "id": "84ed7781-6183-4de9-a883-52eda9be42c8",
   "metadata": {},
   "outputs": [],
   "source": [
    "num_of_rooms_replace = {\n",
    "    'Однокомнатная' : 1, \n",
    "    'Двухкомнатная' : 2,\n",
    "    'Трехкомнатная' : 3, \n",
    "    'Четырехкомнатная' : 4\n",
    "}"
   ]
  },
  {
   "cell_type": "code",
   "execution_count": 36,
   "id": "bce1bf43-f680-49a1-a010-debea5063375",
   "metadata": {},
   "outputs": [],
   "source": [
    "data['num_of_rooms'].replace(num_of_rooms_replace, inplace=True)"
   ]
  },
  {
   "cell_type": "code",
   "execution_count": 37,
   "id": "70ee7daf-43e6-46f4-a4e0-3dfdc332172d",
   "metadata": {},
   "outputs": [
    {
     "name": "stdout",
     "output_type": "stream",
     "text": [
      "<class 'pandas.core.frame.DataFrame'>\n",
      "Index: 248 entries, 0 to 248\n",
      "Data columns (total 9 columns):\n",
      " #   Column          Non-Null Count  Dtype \n",
      "---  ------          --------------  ----- \n",
      " 0   district        248 non-null    object\n",
      " 1   total_square    248 non-null    object\n",
      " 2   living_square   248 non-null    object\n",
      " 3   kitchen_square  248 non-null    object\n",
      " 4   price           248 non-null    object\n",
      " 5   floor_num       248 non-null    object\n",
      " 6   total_floors    248 non-null    object\n",
      " 7   num_of_rooms    248 non-null    int64 \n",
      " 8   flat_type       248 non-null    object\n",
      "dtypes: int64(1), object(8)\n",
      "memory usage: 19.4+ KB\n"
     ]
    }
   ],
   "source": [
    "data.info()"
   ]
  },
  {
   "cell_type": "code",
   "execution_count": 38,
   "id": "12b5ef40-4026-48a9-938c-5cf645e1e742",
   "metadata": {},
   "outputs": [],
   "source": [
    "data['total_square'] = data['total_square'].astype('float')\n",
    "data['living_square'] = data['living_square'].astype('float')\n",
    "data['kitchen_square'] = data['kitchen_square'].astype('float')\n",
    "data['price'] = data['price'].astype('int')\n",
    "data['floor_num'] = data['floor_num'].astype('int')\n",
    "\n"
   ]
  },
  {
   "cell_type": "code",
   "execution_count": 39,
   "id": "0503609a-e1f4-4f36-817d-8fe1ba924394",
   "metadata": {},
   "outputs": [
    {
     "name": "stdout",
     "output_type": "stream",
     "text": [
      "<class 'pandas.core.frame.DataFrame'>\n",
      "Index: 248 entries, 0 to 248\n",
      "Data columns (total 9 columns):\n",
      " #   Column          Non-Null Count  Dtype  \n",
      "---  ------          --------------  -----  \n",
      " 0   district        248 non-null    object \n",
      " 1   total_square    248 non-null    float64\n",
      " 2   living_square   248 non-null    float64\n",
      " 3   kitchen_square  248 non-null    float64\n",
      " 4   price           248 non-null    int32  \n",
      " 5   floor_num       248 non-null    int32  \n",
      " 6   total_floors    248 non-null    object \n",
      " 7   num_of_rooms    248 non-null    int64  \n",
      " 8   flat_type       248 non-null    object \n",
      "dtypes: float64(3), int32(2), int64(1), object(3)\n",
      "memory usage: 17.4+ KB\n"
     ]
    }
   ],
   "source": [
    "data.info()"
   ]
  },
  {
   "cell_type": "code",
   "execution_count": 40,
   "id": "bc6679b4-a6a8-4dcd-af6e-fef1ff232bef",
   "metadata": {},
   "outputs": [
    {
     "data": {
      "text/plain": [
       "array(['Орджоникидзевский', 'Ленинский', 'Правобережный',\n",
       "       'Орджоникидзевский (левый берег)'], dtype=object)"
      ]
     },
     "execution_count": 40,
     "metadata": {},
     "output_type": "execute_result"
    }
   ],
   "source": [
    "data['district'].unique()"
   ]
  },
  {
   "cell_type": "code",
   "execution_count": 41,
   "id": "cfe81e2c-4997-4c0d-baad-24336a3d93e3",
   "metadata": {},
   "outputs": [
    {
     "data": {
      "text/plain": [
       "district\n",
       "Орджоникидзевский                  111\n",
       "Ленинский                           75\n",
       "Правобережный                       51\n",
       "Орджоникидзевский (левый берег)     11\n",
       "Name: count, dtype: int64"
      ]
     },
     "execution_count": 41,
     "metadata": {},
     "output_type": "execute_result"
    }
   ],
   "source": [
    "data['district'].value_counts()"
   ]
  },
  {
   "cell_type": "code",
   "execution_count": 42,
   "id": "d545f1b8-2bc7-42c8-9be9-c6efad65f206",
   "metadata": {},
   "outputs": [],
   "source": [
    "district_to_replace = {\n",
    "    'Орджоникидзевский' : 1, \n",
    "    'Орджоникидзевский (левый берег)' : 2,\n",
    "    'Ленинский' : 3, \n",
    "    'Правобережный' : 4\n",
    "}"
   ]
  },
  {
   "cell_type": "code",
   "execution_count": 43,
   "id": "4868354d-2970-41a8-9e34-23953eba2abc",
   "metadata": {},
   "outputs": [],
   "source": [
    "data['district'].replace(district_to_replace, inplace=True)"
   ]
  },
  {
   "cell_type": "code",
   "execution_count": 44,
   "id": "fbf5c70a-f839-4204-a0c2-8ce6f09010d6",
   "metadata": {},
   "outputs": [
    {
     "name": "stdout",
     "output_type": "stream",
     "text": [
      "<class 'pandas.core.frame.DataFrame'>\n",
      "Index: 248 entries, 0 to 248\n",
      "Data columns (total 9 columns):\n",
      " #   Column          Non-Null Count  Dtype  \n",
      "---  ------          --------------  -----  \n",
      " 0   district        248 non-null    int64  \n",
      " 1   total_square    248 non-null    float64\n",
      " 2   living_square   248 non-null    float64\n",
      " 3   kitchen_square  248 non-null    float64\n",
      " 4   price           248 non-null    int32  \n",
      " 5   floor_num       248 non-null    int32  \n",
      " 6   total_floors    248 non-null    object \n",
      " 7   num_of_rooms    248 non-null    int64  \n",
      " 8   flat_type       248 non-null    object \n",
      "dtypes: float64(3), int32(2), int64(2), object(2)\n",
      "memory usage: 17.4+ KB\n"
     ]
    }
   ],
   "source": [
    "data.info()"
   ]
  },
  {
   "cell_type": "markdown",
   "id": "83ac31ca-5d0b-4188-9913-10b660988df3",
   "metadata": {},
   "source": [
    "### Подготовка обучающей и валидационной выборки."
   ]
  },
  {
   "cell_type": "markdown",
   "id": "4682e01c-5358-4bed-aea2-388eb200c26a",
   "metadata": {},
   "source": [
    "Выделим характеристики, которые будем использовать для обучения модели."
   ]
  },
  {
   "cell_type": "markdown",
   "id": "0398c59a-7238-41fb-a273-e932ff8d0216",
   "metadata": {},
   "source": [
    "Разобьем выборки на обучающую и валидационную в отношении 4 : 1."
   ]
  },
  {
   "cell_type": "code",
   "execution_count": 45,
   "id": "22c0b234-1a62-4bcb-b51c-782772c377f7",
   "metadata": {},
   "outputs": [],
   "source": [
    "features = data.drop(['district', 'total_floors', 'flat_type'], axis=1)\n",
    "target = data['district']"
   ]
  },
  {
   "cell_type": "code",
   "execution_count": 46,
   "id": "761a1e53-bd41-41fc-8956-6a937d51c44c",
   "metadata": {},
   "outputs": [
    {
     "data": {
      "text/html": [
       "<div>\n",
       "<style scoped>\n",
       "    .dataframe tbody tr th:only-of-type {\n",
       "        vertical-align: middle;\n",
       "    }\n",
       "\n",
       "    .dataframe tbody tr th {\n",
       "        vertical-align: top;\n",
       "    }\n",
       "\n",
       "    .dataframe thead th {\n",
       "        text-align: right;\n",
       "    }\n",
       "</style>\n",
       "<table border=\"1\" class=\"dataframe\">\n",
       "  <thead>\n",
       "    <tr style=\"text-align: right;\">\n",
       "      <th></th>\n",
       "      <th>total_square</th>\n",
       "      <th>living_square</th>\n",
       "      <th>kitchen_square</th>\n",
       "      <th>price</th>\n",
       "      <th>floor_num</th>\n",
       "      <th>num_of_rooms</th>\n",
       "    </tr>\n",
       "  </thead>\n",
       "  <tbody>\n",
       "    <tr>\n",
       "      <th>0</th>\n",
       "      <td>64.0</td>\n",
       "      <td>43.0</td>\n",
       "      <td>8.0</td>\n",
       "      <td>3750</td>\n",
       "      <td>1</td>\n",
       "      <td>3</td>\n",
       "    </tr>\n",
       "    <tr>\n",
       "      <th>1</th>\n",
       "      <td>87.2</td>\n",
       "      <td>60.0</td>\n",
       "      <td>9.0</td>\n",
       "      <td>8300</td>\n",
       "      <td>2</td>\n",
       "      <td>3</td>\n",
       "    </tr>\n",
       "    <tr>\n",
       "      <th>2</th>\n",
       "      <td>36.1</td>\n",
       "      <td>20.0</td>\n",
       "      <td>9.0</td>\n",
       "      <td>3330</td>\n",
       "      <td>6</td>\n",
       "      <td>1</td>\n",
       "    </tr>\n",
       "    <tr>\n",
       "      <th>3</th>\n",
       "      <td>105.0</td>\n",
       "      <td>75.0</td>\n",
       "      <td>14.0</td>\n",
       "      <td>7700</td>\n",
       "      <td>5</td>\n",
       "      <td>3</td>\n",
       "    </tr>\n",
       "    <tr>\n",
       "      <th>4</th>\n",
       "      <td>50.6</td>\n",
       "      <td>43.0</td>\n",
       "      <td>9.0</td>\n",
       "      <td>3800</td>\n",
       "      <td>7</td>\n",
       "      <td>2</td>\n",
       "    </tr>\n",
       "    <tr>\n",
       "      <th>...</th>\n",
       "      <td>...</td>\n",
       "      <td>...</td>\n",
       "      <td>...</td>\n",
       "      <td>...</td>\n",
       "      <td>...</td>\n",
       "      <td>...</td>\n",
       "    </tr>\n",
       "    <tr>\n",
       "      <th>244</th>\n",
       "      <td>50.0</td>\n",
       "      <td>36.0</td>\n",
       "      <td>12.0</td>\n",
       "      <td>2590</td>\n",
       "      <td>2</td>\n",
       "      <td>2</td>\n",
       "    </tr>\n",
       "    <tr>\n",
       "      <th>245</th>\n",
       "      <td>26.0</td>\n",
       "      <td>14.0</td>\n",
       "      <td>7.0</td>\n",
       "      <td>3145</td>\n",
       "      <td>5</td>\n",
       "      <td>1</td>\n",
       "    </tr>\n",
       "    <tr>\n",
       "      <th>246</th>\n",
       "      <td>67.2</td>\n",
       "      <td>45.0</td>\n",
       "      <td>12.0</td>\n",
       "      <td>5000</td>\n",
       "      <td>1</td>\n",
       "      <td>3</td>\n",
       "    </tr>\n",
       "    <tr>\n",
       "      <th>247</th>\n",
       "      <td>74.0</td>\n",
       "      <td>56.0</td>\n",
       "      <td>9.0</td>\n",
       "      <td>5500</td>\n",
       "      <td>5</td>\n",
       "      <td>3</td>\n",
       "    </tr>\n",
       "    <tr>\n",
       "      <th>248</th>\n",
       "      <td>65.0</td>\n",
       "      <td>43.0</td>\n",
       "      <td>9.0</td>\n",
       "      <td>4200</td>\n",
       "      <td>7</td>\n",
       "      <td>3</td>\n",
       "    </tr>\n",
       "  </tbody>\n",
       "</table>\n",
       "<p>248 rows × 6 columns</p>\n",
       "</div>"
      ],
      "text/plain": [
       "     total_square  living_square  kitchen_square  price  floor_num  \\\n",
       "0            64.0           43.0             8.0   3750          1   \n",
       "1            87.2           60.0             9.0   8300          2   \n",
       "2            36.1           20.0             9.0   3330          6   \n",
       "3           105.0           75.0            14.0   7700          5   \n",
       "4            50.6           43.0             9.0   3800          7   \n",
       "..            ...            ...             ...    ...        ...   \n",
       "244          50.0           36.0            12.0   2590          2   \n",
       "245          26.0           14.0             7.0   3145          5   \n",
       "246          67.2           45.0            12.0   5000          1   \n",
       "247          74.0           56.0             9.0   5500          5   \n",
       "248          65.0           43.0             9.0   4200          7   \n",
       "\n",
       "     num_of_rooms  \n",
       "0               3  \n",
       "1               3  \n",
       "2               1  \n",
       "3               3  \n",
       "4               2  \n",
       "..            ...  \n",
       "244             2  \n",
       "245             1  \n",
       "246             3  \n",
       "247             3  \n",
       "248             3  \n",
       "\n",
       "[248 rows x 6 columns]"
      ]
     },
     "execution_count": 46,
     "metadata": {},
     "output_type": "execute_result"
    }
   ],
   "source": [
    "features"
   ]
  },
  {
   "cell_type": "code",
   "execution_count": 47,
   "id": "745ef03d-9840-4a90-b82a-4d0fa3340224",
   "metadata": {},
   "outputs": [
    {
     "data": {
      "text/plain": [
       "0      1\n",
       "1      3\n",
       "2      1\n",
       "3      1\n",
       "4      1\n",
       "      ..\n",
       "244    1\n",
       "245    4\n",
       "246    4\n",
       "247    3\n",
       "248    1\n",
       "Name: district, Length: 248, dtype: int64"
      ]
     },
     "execution_count": 47,
     "metadata": {},
     "output_type": "execute_result"
    }
   ],
   "source": [
    "target"
   ]
  },
  {
   "cell_type": "code",
   "execution_count": 48,
   "id": "27f50d5d-e8e4-461e-8367-5cbcf2ae210d",
   "metadata": {},
   "outputs": [],
   "source": [
    "features_train, features_val, target_train, target_val = train_test_split(\n",
    "    features,\n",
    "    target,\n",
    "    test_size=0.2,\n",
    "    random_state=RANDOM_STATE\n",
    ")"
   ]
  },
  {
   "cell_type": "markdown",
   "id": "93cbe96d-2bdf-40cb-bacd-496728582754",
   "metadata": {},
   "source": [
    "## KMeans"
   ]
  },
  {
   "cell_type": "code",
   "execution_count": 49,
   "id": "9fe1a28a-a947-4291-8024-904f7d278299",
   "metadata": {},
   "outputs": [],
   "source": [
    "from sklearn.cluster import KMeans"
   ]
  },
  {
   "cell_type": "code",
   "execution_count": 50,
   "id": "e5727992-2d76-4a85-87a2-a7a07cc97b8a",
   "metadata": {},
   "outputs": [],
   "source": [
    "kmeans = KMeans(n_clusters=4, random_state=RANDOM_STATE, n_init=\"auto\").fit(features_train)"
   ]
  },
  {
   "cell_type": "code",
   "execution_count": 51,
   "id": "a10f0ff7-8b7f-476f-b46a-7fab8ee7c3b7",
   "metadata": {},
   "outputs": [
    {
     "data": {
      "text/plain": [
       "array([0, 1, 3, 3, 3, 0, 1, 1, 1, 1, 0, 0, 1, 1, 1, 1, 1, 1, 0, 0, 1, 0,\n",
       "       0, 0, 3, 2, 0, 2, 3, 0, 0, 1, 1, 1, 0, 3, 1, 0, 0, 0, 0, 1, 1, 0,\n",
       "       1, 2, 0, 1, 0, 0, 1, 0, 0, 1, 1, 2, 3, 1, 0, 3, 0, 0, 1, 1, 1, 1,\n",
       "       0, 1, 0, 1, 1, 1, 0, 0, 0, 3, 3, 0, 3, 3, 1, 0, 1, 0, 0, 0, 0, 0,\n",
       "       0, 0, 1, 0, 0, 0, 1, 0, 3, 0, 1, 1, 0, 1, 0, 0, 0, 0, 0, 0, 0, 2,\n",
       "       0, 3, 0, 1, 1, 1, 1, 3, 1, 1, 0, 1, 2, 0, 2, 1, 0, 1, 1, 0, 0, 0,\n",
       "       3, 1, 1, 0, 0, 3, 1, 1, 3, 0, 1, 1, 1, 0, 0, 0, 1, 2, 0, 1, 0, 0,\n",
       "       0, 1, 0, 1, 0, 3, 3, 0, 3, 3, 1, 0, 3, 1, 3, 3, 0, 2, 0, 1, 2, 0,\n",
       "       1, 0, 1, 1, 0, 1, 0, 3, 0, 3, 1, 2, 1, 3, 1, 0, 3, 0, 3, 0, 2, 0])"
      ]
     },
     "execution_count": 51,
     "metadata": {},
     "output_type": "execute_result"
    }
   ],
   "source": [
    "predictions = kmeans.predict(features_train)\n",
    "predictions"
   ]
  },
  {
   "cell_type": "code",
   "execution_count": 52,
   "id": "43d652a5-ec6e-43b8-a3aa-9ebe1989fb3a",
   "metadata": {},
   "outputs": [],
   "source": [
    "from sklearn.metrics import accuracy_score"
   ]
  },
  {
   "cell_type": "code",
   "execution_count": 53,
   "id": "e787cc90-4332-44a0-b54d-93e246ab9701",
   "metadata": {},
   "outputs": [
    {
     "data": {
      "text/plain": [
       "0.2727272727272727"
      ]
     },
     "execution_count": 53,
     "metadata": {},
     "output_type": "execute_result"
    }
   ],
   "source": [
    "accuracy_score(target_train, predictions)"
   ]
  },
  {
   "cell_type": "code",
   "execution_count": 54,
   "id": "1977e297-e093-4708-a082-3bec60937886",
   "metadata": {},
   "outputs": [
    {
     "data": {
      "text/plain": [
       "0.18"
      ]
     },
     "execution_count": 54,
     "metadata": {},
     "output_type": "execute_result"
    }
   ],
   "source": [
    "predictions_val = kmeans.predict(features_val)\n",
    "accuracy_score(target_val, predictions_val)"
   ]
  },
  {
   "cell_type": "code",
   "execution_count": 55,
   "id": "b76532cc-3e77-475c-bccc-978457867e06",
   "metadata": {},
   "outputs": [
    {
     "data": {
      "text/plain": [
       "Index(['total_square', 'living_square', 'kitchen_square', 'price', 'floor_num',\n",
       "       'num_of_rooms'],\n",
       "      dtype='object')"
      ]
     },
     "execution_count": 55,
     "metadata": {},
     "output_type": "execute_result"
    }
   ],
   "source": [
    "features_train.columns"
   ]
  },
  {
   "cell_type": "code",
   "execution_count": 56,
   "id": "72177b47-55e8-4a58-bde6-8876edac36e7",
   "metadata": {},
   "outputs": [
    {
     "name": "stdout",
     "output_type": "stream",
     "text": [
      "Index(['total_square'], dtype='object')\n",
      "0.21212121212121213\n",
      "-------------\n",
      "\n",
      "Index(['total_square', 'living_square'], dtype='object')\n",
      "0.0707070707070707\n",
      "-------------\n",
      "\n",
      "Index(['total_square', 'living_square', 'kitchen_square'], dtype='object')\n",
      "0.06565656565656566\n",
      "-------------\n",
      "\n",
      "Index(['total_square', 'living_square', 'kitchen_square', 'price'], dtype='object')\n",
      "0.2727272727272727\n",
      "-------------\n",
      "\n",
      "Index(['total_square', 'living_square', 'kitchen_square', 'price',\n",
      "       'floor_num'],\n",
      "      dtype='object')\n",
      "0.2727272727272727\n",
      "-------------\n",
      "\n"
     ]
    }
   ],
   "source": [
    "for i in range(1, len(features_train.columns)):\n",
    "    print(features_train.columns[:i])\n",
    "    kmeans = KMeans(n_clusters=4, random_state=RANDOM_STATE, n_init=\"auto\").fit(features_train[features_train.columns[:i]])\n",
    "    predictions = kmeans.predict(features_train[features_train.columns[:i]])\n",
    "    print(accuracy_score(target_train, predictions))\n",
    "    print('-------------')\n",
    "    print()"
   ]
  },
  {
   "cell_type": "markdown",
   "id": "97abc809-f708-4265-8d87-7b38c64e4272",
   "metadata": {},
   "source": [
    "## MiniBatchKMeans"
   ]
  },
  {
   "cell_type": "code",
   "execution_count": 57,
   "id": "69854496-be49-4236-be12-ce7cf131b854",
   "metadata": {},
   "outputs": [],
   "source": [
    "from sklearn.cluster import MiniBatchKMeans"
   ]
  },
  {
   "cell_type": "code",
   "execution_count": 70,
   "id": "3ad7048b-ced5-4627-ad22-76e373629ab7",
   "metadata": {},
   "outputs": [
    {
     "name": "stdout",
     "output_type": "stream",
     "text": [
      "Index(['total_square'], dtype='object')\n",
      "batch_size_test 5\n",
      "train_score 0.16161616161616163\n",
      "val_score 0.26\n",
      "-------------\n",
      "\n",
      "Index(['total_square', 'living_square'], dtype='object')\n",
      "batch_size_test 5\n",
      "train_score 0.21212121212121213\n",
      "val_score 0.34\n",
      "0 \t 4 \t 3\n",
      "1 \t 1 \t 3\n",
      "2 \t 3 \t 3\n",
      "3 \t 1 \t 3\n",
      "4 \t 3 \t 3\n",
      "5 \t 1 \t 1\n",
      "6 \t 3 \t 0\n",
      "7 \t 1 \t 1\n",
      "8 \t 1 \t 3\n",
      "9 \t 1 \t 1\n",
      "10 \t 4 \t 3\n",
      "11 \t 1 \t 3\n",
      "12 \t 3 \t 3\n",
      "13 \t 1 \t 0\n",
      "14 \t 4 \t 1\n",
      "15 \t 1 \t 0\n",
      "16 \t 4 \t 0\n",
      "17 \t 3 \t 3\n",
      "18 \t 1 \t 3\n",
      "19 \t 3 \t 0\n",
      "20 \t 1 \t 3\n",
      "21 \t 1 \t 2\n",
      "22 \t 3 \t 3\n",
      "23 \t 1 \t 0\n",
      "24 \t 1 \t 0\n",
      "25 \t 3 \t 3\n",
      "26 \t 1 \t 1\n",
      "27 \t 4 \t 3\n",
      "28 \t 4 \t 3\n",
      "29 \t 1 \t 1\n",
      "30 \t 1 \t 1\n",
      "31 \t 1 \t 3\n",
      "32 \t 1 \t 3\n",
      "33 \t 4 \t 3\n",
      "34 \t 3 \t 3\n",
      "35 \t 3 \t 3\n",
      "36 \t 1 \t 0\n",
      "37 \t 3 \t 3\n",
      "38 \t 3 \t 3\n",
      "39 \t 4 \t 0\n",
      "40 \t 1 \t 0\n",
      "41 \t 3 \t 3\n",
      "42 \t 1 \t 3\n",
      "43 \t 1 \t 0\n",
      "44 \t 4 \t 3\n",
      "45 \t 4 \t 3\n",
      "46 \t 3 \t 1\n",
      "47 \t 3 \t 0\n",
      "48 \t 3 \t 1\n",
      "49 \t 4 \t 3\n",
      "-------------\n",
      "\n",
      "Index(['total_square', 'living_square', 'kitchen_square'], dtype='object')\n",
      "batch_size_test 5\n",
      "train_score 0.18181818181818182\n",
      "val_score 0.22\n",
      "-------------\n",
      "\n",
      "Index(['total_square', 'living_square', 'kitchen_square', 'price'], dtype='object')\n",
      "batch_size_test 5\n",
      "train_score 0.20202020202020202\n",
      "val_score 0.22\n",
      "-------------\n",
      "\n",
      "Index(['total_square', 'living_square', 'kitchen_square', 'price',\n",
      "       'floor_num'],\n",
      "      dtype='object')\n",
      "batch_size_test 5\n",
      "train_score 0.20202020202020202\n",
      "val_score 0.22\n",
      "-------------\n",
      "\n",
      "Index(['total_square'], dtype='object')\n",
      "batch_size_test 10\n",
      "train_score 0.19696969696969696\n",
      "val_score 0.22\n",
      "-------------\n",
      "\n",
      "Index(['total_square', 'living_square'], dtype='object')\n",
      "batch_size_test 10\n",
      "train_score 0.13636363636363635\n",
      "val_score 0.12\n",
      "-------------\n",
      "\n",
      "Index(['total_square', 'living_square', 'kitchen_square'], dtype='object')\n",
      "batch_size_test 10\n"
     ]
    },
    {
     "name": "stderr",
     "output_type": "stream",
     "text": [
      "C:\\Users\\Admin\\AppData\\Local\\Programs\\Python\\Python311\\Lib\\site-packages\\sklearn\\cluster\\_kmeans.py:1099: FutureWarning: 'sample_weight' was deprecated in version 1.3 and will be removed in 1.5.\n",
      "  warnings.warn(\n",
      "C:\\Users\\Admin\\AppData\\Local\\Programs\\Python\\Python311\\Lib\\site-packages\\sklearn\\cluster\\_kmeans.py:1099: FutureWarning: 'sample_weight' was deprecated in version 1.3 and will be removed in 1.5.\n",
      "  warnings.warn(\n",
      "C:\\Users\\Admin\\AppData\\Local\\Programs\\Python\\Python311\\Lib\\site-packages\\sklearn\\cluster\\_kmeans.py:1099: FutureWarning: 'sample_weight' was deprecated in version 1.3 and will be removed in 1.5.\n",
      "  warnings.warn(\n",
      "C:\\Users\\Admin\\AppData\\Local\\Programs\\Python\\Python311\\Lib\\site-packages\\sklearn\\cluster\\_kmeans.py:1099: FutureWarning: 'sample_weight' was deprecated in version 1.3 and will be removed in 1.5.\n",
      "  warnings.warn(\n",
      "C:\\Users\\Admin\\AppData\\Local\\Programs\\Python\\Python311\\Lib\\site-packages\\sklearn\\cluster\\_kmeans.py:1099: FutureWarning: 'sample_weight' was deprecated in version 1.3 and will be removed in 1.5.\n",
      "  warnings.warn(\n",
      "C:\\Users\\Admin\\AppData\\Local\\Programs\\Python\\Python311\\Lib\\site-packages\\sklearn\\cluster\\_kmeans.py:1099: FutureWarning: 'sample_weight' was deprecated in version 1.3 and will be removed in 1.5.\n",
      "  warnings.warn(\n",
      "C:\\Users\\Admin\\AppData\\Local\\Programs\\Python\\Python311\\Lib\\site-packages\\sklearn\\cluster\\_kmeans.py:1099: FutureWarning: 'sample_weight' was deprecated in version 1.3 and will be removed in 1.5.\n",
      "  warnings.warn(\n"
     ]
    },
    {
     "name": "stdout",
     "output_type": "stream",
     "text": [
      "train_score 0.13131313131313133\n",
      "val_score 0.12\n",
      "-------------\n",
      "\n",
      "Index(['total_square', 'living_square', 'kitchen_square', 'price'], dtype='object')\n",
      "batch_size_test 10\n",
      "train_score 0.14646464646464646\n",
      "val_score 0.12\n",
      "-------------\n",
      "\n",
      "Index(['total_square', 'living_square', 'kitchen_square', 'price',\n",
      "       'floor_num'],\n",
      "      dtype='object')\n",
      "batch_size_test 10\n",
      "train_score 0.14646464646464646\n",
      "val_score 0.12\n",
      "-------------\n",
      "\n",
      "best_score 0.34\n",
      "best_model MiniBatchKMeans(batch_size=5, n_clusters=4, n_init='auto', random_state=12345)\n"
     ]
    },
    {
     "name": "stderr",
     "output_type": "stream",
     "text": [
      "C:\\Users\\Admin\\AppData\\Local\\Programs\\Python\\Python311\\Lib\\site-packages\\sklearn\\cluster\\_kmeans.py:1099: FutureWarning: 'sample_weight' was deprecated in version 1.3 and will be removed in 1.5.\n",
      "  warnings.warn(\n",
      "C:\\Users\\Admin\\AppData\\Local\\Programs\\Python\\Python311\\Lib\\site-packages\\sklearn\\cluster\\_kmeans.py:1099: FutureWarning: 'sample_weight' was deprecated in version 1.3 and will be removed in 1.5.\n",
      "  warnings.warn(\n",
      "C:\\Users\\Admin\\AppData\\Local\\Programs\\Python\\Python311\\Lib\\site-packages\\sklearn\\cluster\\_kmeans.py:1099: FutureWarning: 'sample_weight' was deprecated in version 1.3 and will be removed in 1.5.\n",
      "  warnings.warn(\n"
     ]
    }
   ],
   "source": [
    "best_model = None\n",
    "best_score = 0\n",
    "# best_metric = ''\n",
    "for batch_size_test in [5, 10]:\n",
    "    for i in range(1, len(features_train.columns)):\n",
    "        print(features_train.columns[:i])\n",
    "        print('batch_size_test', batch_size_test)\n",
    "        model = MiniBatchKMeans(\n",
    "            n_clusters=4,\n",
    "            random_state=RANDOM_STATE,\n",
    "            batch_size=batch_size_test,\n",
    "            n_init='auto'\n",
    "            ).fit(features_train[features_train.columns[:i]])\n",
    "        predictions = model.predict(features_train[features_train.columns[:i]])\n",
    "        # print(predictions.tolist())\n",
    "        train_score = accuracy_score(target_train, predictions.tolist())\n",
    "        print('train_score', train_score)\n",
    "        predictions_val = model.predict(features_val[features_train.columns[:i]])\n",
    "        val_score = accuracy_score(target_val, predictions_val.tolist())\n",
    "        print('val_score', val_score)\n",
    "        if val_score >= 0.34:\n",
    "            for i in range(len(target_val)):\n",
    "                print(i, '\\t', target_val.iloc[i], '\\t', predictions_val.tolist()[i])\n",
    "        if val_score > best_score:\n",
    "            best_score = val_score\n",
    "            best_model = model\n",
    "            best_batch = batch_size_test\n",
    "        print('-------------')\n",
    "        print()\n",
    "\n",
    "print('best_score', best_score)\n",
    "print('best_model', best_model)\n"
   ]
  },
  {
   "cell_type": "markdown",
   "id": "7dcf3f58-609f-4f97-856f-ee3438c4797c",
   "metadata": {},
   "source": [
    "## анализ кластеровё"
   ]
  },
  {
   "cell_type": "code",
   "execution_count": 71,
   "id": "12393057-2891-46c1-92c7-831f228b637a",
   "metadata": {},
   "outputs": [],
   "source": [
    "model_1 = MiniBatchKMeans(\n",
    "            n_clusters=4,\n",
    "            random_state=RANDOM_STATE,\n",
    "            batch_size=batch_size_test,\n",
    "            n_init='auto'\n",
    "            )"
   ]
  },
  {
   "cell_type": "code",
   "execution_count": 72,
   "id": "da21b274-131a-4bc0-8580-c23843954435",
   "metadata": {},
   "outputs": [
    {
     "data": {
      "text/html": [
       "<style>#sk-container-id-1 {color: black;}#sk-container-id-1 pre{padding: 0;}#sk-container-id-1 div.sk-toggleable {background-color: white;}#sk-container-id-1 label.sk-toggleable__label {cursor: pointer;display: block;width: 100%;margin-bottom: 0;padding: 0.3em;box-sizing: border-box;text-align: center;}#sk-container-id-1 label.sk-toggleable__label-arrow:before {content: \"▸\";float: left;margin-right: 0.25em;color: #696969;}#sk-container-id-1 label.sk-toggleable__label-arrow:hover:before {color: black;}#sk-container-id-1 div.sk-estimator:hover label.sk-toggleable__label-arrow:before {color: black;}#sk-container-id-1 div.sk-toggleable__content {max-height: 0;max-width: 0;overflow: hidden;text-align: left;background-color: #f0f8ff;}#sk-container-id-1 div.sk-toggleable__content pre {margin: 0.2em;color: black;border-radius: 0.25em;background-color: #f0f8ff;}#sk-container-id-1 input.sk-toggleable__control:checked~div.sk-toggleable__content {max-height: 200px;max-width: 100%;overflow: auto;}#sk-container-id-1 input.sk-toggleable__control:checked~label.sk-toggleable__label-arrow:before {content: \"▾\";}#sk-container-id-1 div.sk-estimator input.sk-toggleable__control:checked~label.sk-toggleable__label {background-color: #d4ebff;}#sk-container-id-1 div.sk-label input.sk-toggleable__control:checked~label.sk-toggleable__label {background-color: #d4ebff;}#sk-container-id-1 input.sk-hidden--visually {border: 0;clip: rect(1px 1px 1px 1px);clip: rect(1px, 1px, 1px, 1px);height: 1px;margin: -1px;overflow: hidden;padding: 0;position: absolute;width: 1px;}#sk-container-id-1 div.sk-estimator {font-family: monospace;background-color: #f0f8ff;border: 1px dotted black;border-radius: 0.25em;box-sizing: border-box;margin-bottom: 0.5em;}#sk-container-id-1 div.sk-estimator:hover {background-color: #d4ebff;}#sk-container-id-1 div.sk-parallel-item::after {content: \"\";width: 100%;border-bottom: 1px solid gray;flex-grow: 1;}#sk-container-id-1 div.sk-label:hover label.sk-toggleable__label {background-color: #d4ebff;}#sk-container-id-1 div.sk-serial::before {content: \"\";position: absolute;border-left: 1px solid gray;box-sizing: border-box;top: 0;bottom: 0;left: 50%;z-index: 0;}#sk-container-id-1 div.sk-serial {display: flex;flex-direction: column;align-items: center;background-color: white;padding-right: 0.2em;padding-left: 0.2em;position: relative;}#sk-container-id-1 div.sk-item {position: relative;z-index: 1;}#sk-container-id-1 div.sk-parallel {display: flex;align-items: stretch;justify-content: center;background-color: white;position: relative;}#sk-container-id-1 div.sk-item::before, #sk-container-id-1 div.sk-parallel-item::before {content: \"\";position: absolute;border-left: 1px solid gray;box-sizing: border-box;top: 0;bottom: 0;left: 50%;z-index: -1;}#sk-container-id-1 div.sk-parallel-item {display: flex;flex-direction: column;z-index: 1;position: relative;background-color: white;}#sk-container-id-1 div.sk-parallel-item:first-child::after {align-self: flex-end;width: 50%;}#sk-container-id-1 div.sk-parallel-item:last-child::after {align-self: flex-start;width: 50%;}#sk-container-id-1 div.sk-parallel-item:only-child::after {width: 0;}#sk-container-id-1 div.sk-dashed-wrapped {border: 1px dashed gray;margin: 0 0.4em 0.5em 0.4em;box-sizing: border-box;padding-bottom: 0.4em;background-color: white;}#sk-container-id-1 div.sk-label label {font-family: monospace;font-weight: bold;display: inline-block;line-height: 1.2em;}#sk-container-id-1 div.sk-label-container {text-align: center;}#sk-container-id-1 div.sk-container {/* jupyter's `normalize.less` sets `[hidden] { display: none; }` but bootstrap.min.css set `[hidden] { display: none !important; }` so we also need the `!important` here to be able to override the default hidden behavior on the sphinx rendered scikit-learn.org. See: https://github.com/scikit-learn/scikit-learn/issues/21755 */display: inline-block !important;position: relative;}#sk-container-id-1 div.sk-text-repr-fallback {display: none;}</style><div id=\"sk-container-id-1\" class=\"sk-top-container\"><div class=\"sk-text-repr-fallback\"><pre>MiniBatchKMeans(batch_size=10, n_clusters=4, n_init=&#x27;auto&#x27;, random_state=12345)</pre><b>In a Jupyter environment, please rerun this cell to show the HTML representation or trust the notebook. <br />On GitHub, the HTML representation is unable to render, please try loading this page with nbviewer.org.</b></div><div class=\"sk-container\" hidden><div class=\"sk-item\"><div class=\"sk-estimator sk-toggleable\"><input class=\"sk-toggleable__control sk-hidden--visually\" id=\"sk-estimator-id-1\" type=\"checkbox\" checked><label for=\"sk-estimator-id-1\" class=\"sk-toggleable__label sk-toggleable__label-arrow\">MiniBatchKMeans</label><div class=\"sk-toggleable__content\"><pre>MiniBatchKMeans(batch_size=10, n_clusters=4, n_init=&#x27;auto&#x27;, random_state=12345)</pre></div></div></div></div></div>"
      ],
      "text/plain": [
       "MiniBatchKMeans(batch_size=10, n_clusters=4, n_init='auto', random_state=12345)"
      ]
     },
     "execution_count": 72,
     "metadata": {},
     "output_type": "execute_result"
    }
   ],
   "source": [
    "model_1.fit(features)"
   ]
  },
  {
   "cell_type": "code",
   "execution_count": 73,
   "id": "9e4489d4-c5c8-46dd-a8e8-032acbd1ab72",
   "metadata": {},
   "outputs": [
    {
     "data": {
      "text/plain": [
       "array([3, 0, 3, 0, 3, 3, 3, 1, 1, 1, 3, 2, 2, 3, 0, 2, 1, 2, 3, 2, 3, 3,\n",
       "       3, 2, 3, 1, 1, 3, 1, 1, 2, 2, 3, 1, 2, 3, 2, 1, 2, 3, 3, 3, 3, 2,\n",
       "       3, 2, 0, 1, 0, 3, 1, 3, 2, 1, 0, 3, 0, 3, 3, 3, 1, 3, 3, 3, 3, 1,\n",
       "       3, 3, 1, 1, 3, 1, 3, 1, 3, 1, 1, 1, 1, 1, 1, 2, 1, 3, 2, 3, 3, 0,\n",
       "       2, 3, 1, 2, 1, 2, 3, 1, 2, 2, 3, 1, 0, 3, 1, 1, 1, 1, 2, 2, 3, 3,\n",
       "       3, 3, 2, 2, 3, 1, 1, 3, 2, 3, 3, 3, 2, 3, 3, 3, 1, 1, 3, 2, 2, 2,\n",
       "       1, 2, 2, 3, 3, 3, 0, 2, 3, 1, 2, 1, 2, 0, 0, 2, 2, 3, 2, 2, 1, 1,\n",
       "       1, 2, 1, 3, 2, 2, 3, 3, 1, 2, 3, 1, 0, 2, 2, 2, 3, 3, 1, 0, 3, 3,\n",
       "       1, 3, 1, 2, 2, 3, 2, 1, 2, 3, 3, 3, 2, 2, 3, 1, 2, 1, 1, 3, 2, 2,\n",
       "       1, 2, 2, 1, 2, 2, 1, 1, 1, 1, 3, 3, 3, 1, 1, 3, 1, 1, 1, 3, 1, 1,\n",
       "       3, 2, 2, 0, 3, 1, 1, 1, 1, 0, 3, 1, 3, 2, 3, 3, 1, 1, 3, 1, 3, 3,\n",
       "       2, 1, 3, 2, 2, 3])"
      ]
     },
     "execution_count": 73,
     "metadata": {},
     "output_type": "execute_result"
    }
   ],
   "source": [
    "model_1.predict(features)"
   ]
  },
  {
   "cell_type": "code",
   "execution_count": 74,
   "id": "7cdb6eab-6d40-4ee9-ad47-2347ebf920dc",
   "metadata": {},
   "outputs": [],
   "source": [
    "new_data = features"
   ]
  },
  {
   "cell_type": "code",
   "execution_count": 75,
   "id": "fc95e854-818e-49b3-9542-9e81f13ccdc2",
   "metadata": {},
   "outputs": [],
   "source": [
    "new_data['predictions'] = model_1.predict(features)"
   ]
  },
  {
   "cell_type": "code",
   "execution_count": 77,
   "id": "96d5e561-19a6-40f6-aa16-ad62ca94f2c6",
   "metadata": {},
   "outputs": [],
   "source": [
    "new_data['district'] = target"
   ]
  },
  {
   "cell_type": "code",
   "execution_count": 78,
   "id": "43ef9712-bf62-458f-aacc-2bc5d4212a7a",
   "metadata": {},
   "outputs": [
    {
     "data": {
      "text/html": [
       "<div>\n",
       "<style scoped>\n",
       "    .dataframe tbody tr th:only-of-type {\n",
       "        vertical-align: middle;\n",
       "    }\n",
       "\n",
       "    .dataframe tbody tr th {\n",
       "        vertical-align: top;\n",
       "    }\n",
       "\n",
       "    .dataframe thead th {\n",
       "        text-align: right;\n",
       "    }\n",
       "</style>\n",
       "<table border=\"1\" class=\"dataframe\">\n",
       "  <thead>\n",
       "    <tr style=\"text-align: right;\">\n",
       "      <th></th>\n",
       "      <th>total_square</th>\n",
       "      <th>living_square</th>\n",
       "      <th>kitchen_square</th>\n",
       "      <th>price</th>\n",
       "      <th>floor_num</th>\n",
       "      <th>num_of_rooms</th>\n",
       "      <th>predictions</th>\n",
       "      <th>district</th>\n",
       "    </tr>\n",
       "  </thead>\n",
       "  <tbody>\n",
       "    <tr>\n",
       "      <th>0</th>\n",
       "      <td>64.0</td>\n",
       "      <td>43.0</td>\n",
       "      <td>8.0</td>\n",
       "      <td>3750</td>\n",
       "      <td>1</td>\n",
       "      <td>3</td>\n",
       "      <td>3</td>\n",
       "      <td>1</td>\n",
       "    </tr>\n",
       "    <tr>\n",
       "      <th>1</th>\n",
       "      <td>87.2</td>\n",
       "      <td>60.0</td>\n",
       "      <td>9.0</td>\n",
       "      <td>8300</td>\n",
       "      <td>2</td>\n",
       "      <td>3</td>\n",
       "      <td>0</td>\n",
       "      <td>3</td>\n",
       "    </tr>\n",
       "    <tr>\n",
       "      <th>2</th>\n",
       "      <td>36.1</td>\n",
       "      <td>20.0</td>\n",
       "      <td>9.0</td>\n",
       "      <td>3330</td>\n",
       "      <td>6</td>\n",
       "      <td>1</td>\n",
       "      <td>3</td>\n",
       "      <td>1</td>\n",
       "    </tr>\n",
       "    <tr>\n",
       "      <th>3</th>\n",
       "      <td>105.0</td>\n",
       "      <td>75.0</td>\n",
       "      <td>14.0</td>\n",
       "      <td>7700</td>\n",
       "      <td>5</td>\n",
       "      <td>3</td>\n",
       "      <td>0</td>\n",
       "      <td>1</td>\n",
       "    </tr>\n",
       "    <tr>\n",
       "      <th>4</th>\n",
       "      <td>50.6</td>\n",
       "      <td>43.0</td>\n",
       "      <td>9.0</td>\n",
       "      <td>3800</td>\n",
       "      <td>7</td>\n",
       "      <td>2</td>\n",
       "      <td>3</td>\n",
       "      <td>1</td>\n",
       "    </tr>\n",
       "  </tbody>\n",
       "</table>\n",
       "</div>"
      ],
      "text/plain": [
       "   total_square  living_square  kitchen_square  price  floor_num  \\\n",
       "0          64.0           43.0             8.0   3750          1   \n",
       "1          87.2           60.0             9.0   8300          2   \n",
       "2          36.1           20.0             9.0   3330          6   \n",
       "3         105.0           75.0            14.0   7700          5   \n",
       "4          50.6           43.0             9.0   3800          7   \n",
       "\n",
       "   num_of_rooms  predictions  district  \n",
       "0             3            3         1  \n",
       "1             3            0         3  \n",
       "2             1            3         1  \n",
       "3             3            0         1  \n",
       "4             2            3         1  "
      ]
     },
     "execution_count": 78,
     "metadata": {},
     "output_type": "execute_result"
    }
   ],
   "source": [
    "new_data.head()"
   ]
  },
  {
   "cell_type": "code",
   "execution_count": 82,
   "id": "d411aa50-4034-4522-b681-80a19d7c0d1e",
   "metadata": {},
   "outputs": [
    {
     "data": {
      "text/plain": [
       "predictions\n",
       "3    44\n",
       "2    34\n",
       "1    24\n",
       "0     9\n",
       "Name: count, dtype: int64"
      ]
     },
     "execution_count": 82,
     "metadata": {},
     "output_type": "execute_result"
    }
   ],
   "source": [
    "new_data[new_data['district'] == 1]['predictions'].value_counts()"
   ]
  },
  {
   "cell_type": "code",
   "execution_count": 83,
   "id": "ab7b18e9-4fbb-4bac-8289-f611ce77320c",
   "metadata": {},
   "outputs": [
    {
     "data": {
      "text/plain": [
       "predictions\n",
       "1    9\n",
       "3    2\n",
       "Name: count, dtype: int64"
      ]
     },
     "execution_count": 83,
     "metadata": {},
     "output_type": "execute_result"
    }
   ],
   "source": [
    "new_data[new_data['district'] == 2]['predictions'].value_counts()"
   ]
  },
  {
   "cell_type": "code",
   "execution_count": 84,
   "id": "a57a908b-c459-4c39-9e45-a8c8c76f107d",
   "metadata": {},
   "outputs": [
    {
     "data": {
      "text/plain": [
       "predictions\n",
       "1    26\n",
       "2    24\n",
       "3    21\n",
       "0     4\n",
       "Name: count, dtype: int64"
      ]
     },
     "execution_count": 84,
     "metadata": {},
     "output_type": "execute_result"
    }
   ],
   "source": [
    "new_data[new_data['district'] == 3]['predictions'].value_counts()"
   ]
  },
  {
   "cell_type": "code",
   "execution_count": 85,
   "id": "505f1b21-6232-45fc-a4e8-0cbc647e0c3c",
   "metadata": {},
   "outputs": [
    {
     "data": {
      "text/plain": [
       "predictions\n",
       "3    24\n",
       "1    17\n",
       "2     7\n",
       "0     3\n",
       "Name: count, dtype: int64"
      ]
     },
     "execution_count": 85,
     "metadata": {},
     "output_type": "execute_result"
    }
   ],
   "source": [
    "new_data[new_data['district'] == 4]['predictions'].value_counts()"
   ]
  },
  {
   "cell_type": "code",
   "execution_count": null,
   "id": "53467750-44f2-4640-8c98-1b83acf8717f",
   "metadata": {},
   "outputs": [],
   "source": []
  }
 ],
 "metadata": {
  "kernelspec": {
   "display_name": "Python 3 (ipykernel)",
   "language": "python",
   "name": "python3"
  },
  "language_info": {
   "codemirror_mode": {
    "name": "ipython",
    "version": 3
   },
   "file_extension": ".py",
   "mimetype": "text/x-python",
   "name": "python",
   "nbconvert_exporter": "python",
   "pygments_lexer": "ipython3",
   "version": "3.11.4"
  }
 },
 "nbformat": 4,
 "nbformat_minor": 5
}
