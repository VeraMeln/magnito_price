{
 "cells": [
  {
   "cell_type": "code",
   "execution_count": 1,
   "id": "dbf737df-daa5-4196-ba7a-6efd74c89fe7",
   "metadata": {},
   "outputs": [],
   "source": [
    "import pandas as pd"
   ]
  },
  {
   "cell_type": "code",
   "execution_count": 2,
   "id": "317de721-4bec-4b1c-bf9b-8d6bb2a97666",
   "metadata": {},
   "outputs": [],
   "source": [
    "data = pd.read_excel('CityStarExport.xls', header=4)"
   ]
  },
  {
   "cell_type": "code",
   "execution_count": 3,
   "id": "2ffacf5e-c9bf-41e4-8fe0-365838877419",
   "metadata": {},
   "outputs": [
    {
     "data": {
      "text/html": [
       "<div>\n",
       "<style scoped>\n",
       "    .dataframe tbody tr th:only-of-type {\n",
       "        vertical-align: middle;\n",
       "    }\n",
       "\n",
       "    .dataframe tbody tr th {\n",
       "        vertical-align: top;\n",
       "    }\n",
       "\n",
       "    .dataframe thead th {\n",
       "        text-align: right;\n",
       "    }\n",
       "</style>\n",
       "<table border=\"1\" class=\"dataframe\">\n",
       "  <thead>\n",
       "    <tr style=\"text-align: right;\">\n",
       "      <th></th>\n",
       "      <th>Unnamed: 0</th>\n",
       "      <th>Дата</th>\n",
       "      <th>Адрес</th>\n",
       "      <th>Количество комнат</th>\n",
       "      <th>Цена, р.</th>\n",
       "      <th>Планировка</th>\n",
       "      <th>Этаж</th>\n",
       "      <th>Общая площадь, м2</th>\n",
       "      <th>Жилая площадь, м2</th>\n",
       "      <th>Площадь кухни, м2</th>\n",
       "      <th>Дополнительное описание</th>\n",
       "      <th>Контакты</th>\n",
       "      <th>Адрес на сайте</th>\n",
       "    </tr>\n",
       "  </thead>\n",
       "  <tbody>\n",
       "    <tr>\n",
       "      <th>0</th>\n",
       "      <td>NaN</td>\n",
       "      <td>02.11.2022 20:02</td>\n",
       "      <td>Менделеева, 6</td>\n",
       "      <td>Трехкомнатная</td>\n",
       "      <td>5 600 000</td>\n",
       "      <td>старой планировки</td>\n",
       "      <td>3/4</td>\n",
       "      <td>83,00</td>\n",
       "      <td>55,00</td>\n",
       "      <td>9,00</td>\n",
       "      <td>ПРОДАМ трехкомнатную квартиру старой планировк...</td>\n",
       "      <td>Нестерова Айгуль Зинуровна  тел. 89128051276</td>\n",
       "      <td>http://magnitogorsk-citystar.ru/realty/prodazh...</td>\n",
       "    </tr>\n",
       "    <tr>\n",
       "      <th>1</th>\n",
       "      <td>NaN</td>\n",
       "      <td>06.07.2023 12:58</td>\n",
       "      <td>Советской Армии, 5</td>\n",
       "      <td>Двухкомнатная</td>\n",
       "      <td>3 200 000</td>\n",
       "      <td>брежневка</td>\n",
       "      <td>5/5</td>\n",
       "      <td>44,00</td>\n",
       "      <td>29,00</td>\n",
       "      <td>7,00</td>\n",
       "      <td>2к С.Армии 5, 5/5,S=44/29/7, брежневка, окна П...</td>\n",
       "      <td>Дмитрий Борисович  тел. +79193131784</td>\n",
       "      <td>http://magnitogorsk-citystar.ru/realty/prodazh...</td>\n",
       "    </tr>\n",
       "    <tr>\n",
       "      <th>2</th>\n",
       "      <td>NaN</td>\n",
       "      <td>24.08.2023 13:43</td>\n",
       "      <td>Завенягина, 6</td>\n",
       "      <td>Трехкомнатная</td>\n",
       "      <td>6 200 000</td>\n",
       "      <td>нестандартная</td>\n",
       "      <td>7/16</td>\n",
       "      <td>82,00</td>\n",
       "      <td>50,00</td>\n",
       "      <td>10,00</td>\n",
       "      <td>3к Завенягина 6, нестандартная пл., 7/16 S=82/...</td>\n",
       "      <td>Дмитрий Борисович  тел. +79193131784</td>\n",
       "      <td>http://magnitogorsk-citystar.ru/realty/prodazh...</td>\n",
       "    </tr>\n",
       "    <tr>\n",
       "      <th>3</th>\n",
       "      <td>NaN</td>\n",
       "      <td>18.04.2022 09:34</td>\n",
       "      <td>Николая Шишка, 22</td>\n",
       "      <td>Трехкомнатная</td>\n",
       "      <td>5 500 000</td>\n",
       "      <td>нестандартная</td>\n",
       "      <td>5/5</td>\n",
       "      <td>74,00</td>\n",
       "      <td>56,00</td>\n",
       "      <td>9,00</td>\n",
       "      <td>Объявление актуально. Продам трёх комнатную кв...</td>\n",
       "      <td>Ведякина Люцина, Формула недвижимости  тел. 8-...</td>\n",
       "      <td>http://magnitogorsk-citystar.ru/realty/prodazh...</td>\n",
       "    </tr>\n",
       "    <tr>\n",
       "      <th>4</th>\n",
       "      <td>NaN</td>\n",
       "      <td>03.11.2023 15:57</td>\n",
       "      <td>Карла Маркса, 208</td>\n",
       "      <td>Трехкомнатная</td>\n",
       "      <td>4 400 000</td>\n",
       "      <td>улучшенная</td>\n",
       "      <td>7/9</td>\n",
       "      <td>69,00</td>\n",
       "      <td>46,00</td>\n",
       "      <td>9,00</td>\n",
       "      <td>Продам прекрасную 3 комнатную квартиру. Шикарн...</td>\n",
       "      <td>Сокурян Мария, Рио-Люкс  тел. +7 968-116-81-20</td>\n",
       "      <td>http://magnitogorsk-citystar.ru/realty/prodazh...</td>\n",
       "    </tr>\n",
       "  </tbody>\n",
       "</table>\n",
       "</div>"
      ],
      "text/plain": [
       "   Unnamed: 0              Дата               Адрес Количество комнат  \\\n",
       "0         NaN  02.11.2022 20:02       Менделеева, 6     Трехкомнатная   \n",
       "1         NaN  06.07.2023 12:58  Советской Армии, 5     Двухкомнатная   \n",
       "2         NaN  24.08.2023 13:43       Завенягина, 6     Трехкомнатная   \n",
       "3         NaN  18.04.2022 09:34   Николая Шишка, 22     Трехкомнатная   \n",
       "4         NaN  03.11.2023 15:57   Карла Маркса, 208     Трехкомнатная   \n",
       "\n",
       "    Цена, р.         Планировка  Этаж Общая площадь, м2 Жилая площадь, м2  \\\n",
       "0  5 600 000  старой планировки   3/4             83,00             55,00   \n",
       "1  3 200 000          брежневка   5/5             44,00             29,00   \n",
       "2  6 200 000      нестандартная  7/16             82,00             50,00   \n",
       "3  5 500 000      нестандартная   5/5             74,00             56,00   \n",
       "4  4 400 000         улучшенная   7/9             69,00             46,00   \n",
       "\n",
       "  Площадь кухни, м2                            Дополнительное описание  \\\n",
       "0              9,00  ПРОДАМ трехкомнатную квартиру старой планировк...   \n",
       "1              7,00  2к С.Армии 5, 5/5,S=44/29/7, брежневка, окна П...   \n",
       "2             10,00  3к Завенягина 6, нестандартная пл., 7/16 S=82/...   \n",
       "3              9,00  Объявление актуально. Продам трёх комнатную кв...   \n",
       "4              9,00  Продам прекрасную 3 комнатную квартиру. Шикарн...   \n",
       "\n",
       "                                            Контакты  \\\n",
       "0       Нестерова Айгуль Зинуровна  тел. 89128051276   \n",
       "1               Дмитрий Борисович  тел. +79193131784   \n",
       "2               Дмитрий Борисович  тел. +79193131784   \n",
       "3  Ведякина Люцина, Формула недвижимости  тел. 8-...   \n",
       "4     Сокурян Мария, Рио-Люкс  тел. +7 968-116-81-20   \n",
       "\n",
       "                                      Адрес на сайте  \n",
       "0  http://magnitogorsk-citystar.ru/realty/prodazh...  \n",
       "1  http://magnitogorsk-citystar.ru/realty/prodazh...  \n",
       "2  http://magnitogorsk-citystar.ru/realty/prodazh...  \n",
       "3  http://magnitogorsk-citystar.ru/realty/prodazh...  \n",
       "4  http://magnitogorsk-citystar.ru/realty/prodazh...  "
      ]
     },
     "execution_count": 3,
     "metadata": {},
     "output_type": "execute_result"
    }
   ],
   "source": [
    "data.head()"
   ]
  },
  {
   "cell_type": "code",
   "execution_count": 4,
   "id": "5ece61d2-47f4-4664-a772-9e065e527082",
   "metadata": {},
   "outputs": [],
   "source": [
    "data = data.loc[:, 'Дата':'Площадь кухни, м2']"
   ]
  },
  {
   "cell_type": "code",
   "execution_count": 5,
   "id": "a79cc150-47e2-4093-a016-e3e3ff7d601a",
   "metadata": {},
   "outputs": [],
   "source": [
    "data.columns = [\n",
    "    'date',\n",
    "    'adress',\n",
    "    'n_rooms',\n",
    "    'price',\n",
    "    'plan',\n",
    "    'floor',\n",
    "    'total_square',\n",
    "    'living_square',\n",
    "    'kitchen_square'\n",
    "]"
   ]
  },
  {
   "cell_type": "code",
   "execution_count": 6,
   "id": "325f578f-2bbf-4bb3-a416-0f379c9db975",
   "metadata": {},
   "outputs": [
    {
     "data": {
      "text/html": [
       "<div>\n",
       "<style scoped>\n",
       "    .dataframe tbody tr th:only-of-type {\n",
       "        vertical-align: middle;\n",
       "    }\n",
       "\n",
       "    .dataframe tbody tr th {\n",
       "        vertical-align: top;\n",
       "    }\n",
       "\n",
       "    .dataframe thead th {\n",
       "        text-align: right;\n",
       "    }\n",
       "</style>\n",
       "<table border=\"1\" class=\"dataframe\">\n",
       "  <thead>\n",
       "    <tr style=\"text-align: right;\">\n",
       "      <th></th>\n",
       "      <th>date</th>\n",
       "      <th>adress</th>\n",
       "      <th>n_rooms</th>\n",
       "      <th>price</th>\n",
       "      <th>plan</th>\n",
       "      <th>floor</th>\n",
       "      <th>total_square</th>\n",
       "      <th>living_square</th>\n",
       "      <th>kitchen_square</th>\n",
       "    </tr>\n",
       "  </thead>\n",
       "  <tbody>\n",
       "    <tr>\n",
       "      <th>0</th>\n",
       "      <td>02.11.2022 20:02</td>\n",
       "      <td>Менделеева, 6</td>\n",
       "      <td>Трехкомнатная</td>\n",
       "      <td>5 600 000</td>\n",
       "      <td>старой планировки</td>\n",
       "      <td>3/4</td>\n",
       "      <td>83,00</td>\n",
       "      <td>55,00</td>\n",
       "      <td>9,00</td>\n",
       "    </tr>\n",
       "    <tr>\n",
       "      <th>1</th>\n",
       "      <td>06.07.2023 12:58</td>\n",
       "      <td>Советской Армии, 5</td>\n",
       "      <td>Двухкомнатная</td>\n",
       "      <td>3 200 000</td>\n",
       "      <td>брежневка</td>\n",
       "      <td>5/5</td>\n",
       "      <td>44,00</td>\n",
       "      <td>29,00</td>\n",
       "      <td>7,00</td>\n",
       "    </tr>\n",
       "    <tr>\n",
       "      <th>2</th>\n",
       "      <td>24.08.2023 13:43</td>\n",
       "      <td>Завенягина, 6</td>\n",
       "      <td>Трехкомнатная</td>\n",
       "      <td>6 200 000</td>\n",
       "      <td>нестандартная</td>\n",
       "      <td>7/16</td>\n",
       "      <td>82,00</td>\n",
       "      <td>50,00</td>\n",
       "      <td>10,00</td>\n",
       "    </tr>\n",
       "    <tr>\n",
       "      <th>3</th>\n",
       "      <td>18.04.2022 09:34</td>\n",
       "      <td>Николая Шишка, 22</td>\n",
       "      <td>Трехкомнатная</td>\n",
       "      <td>5 500 000</td>\n",
       "      <td>нестандартная</td>\n",
       "      <td>5/5</td>\n",
       "      <td>74,00</td>\n",
       "      <td>56,00</td>\n",
       "      <td>9,00</td>\n",
       "    </tr>\n",
       "    <tr>\n",
       "      <th>4</th>\n",
       "      <td>03.11.2023 15:57</td>\n",
       "      <td>Карла Маркса, 208</td>\n",
       "      <td>Трехкомнатная</td>\n",
       "      <td>4 400 000</td>\n",
       "      <td>улучшенная</td>\n",
       "      <td>7/9</td>\n",
       "      <td>69,00</td>\n",
       "      <td>46,00</td>\n",
       "      <td>9,00</td>\n",
       "    </tr>\n",
       "  </tbody>\n",
       "</table>\n",
       "</div>"
      ],
      "text/plain": [
       "               date              adress        n_rooms      price  \\\n",
       "0  02.11.2022 20:02       Менделеева, 6  Трехкомнатная  5 600 000   \n",
       "1  06.07.2023 12:58  Советской Армии, 5  Двухкомнатная  3 200 000   \n",
       "2  24.08.2023 13:43       Завенягина, 6  Трехкомнатная  6 200 000   \n",
       "3  18.04.2022 09:34   Николая Шишка, 22  Трехкомнатная  5 500 000   \n",
       "4  03.11.2023 15:57   Карла Маркса, 208  Трехкомнатная  4 400 000   \n",
       "\n",
       "                plan floor total_square living_square kitchen_square  \n",
       "0  старой планировки   3/4        83,00         55,00           9,00  \n",
       "1          брежневка   5/5        44,00         29,00           7,00  \n",
       "2      нестандартная  7/16        82,00         50,00          10,00  \n",
       "3      нестандартная   5/5        74,00         56,00           9,00  \n",
       "4         улучшенная   7/9        69,00         46,00           9,00  "
      ]
     },
     "execution_count": 6,
     "metadata": {},
     "output_type": "execute_result"
    }
   ],
   "source": [
    "data.head()"
   ]
  },
  {
   "cell_type": "markdown",
   "id": "cb4cb4a3-c087-43d4-b1fc-56b7c1ce252c",
   "metadata": {},
   "source": [
    "## Анализ данных"
   ]
  },
  {
   "cell_type": "code",
   "execution_count": 7,
   "id": "c18e2494-e955-4b8f-94cf-d3a6178dadb3",
   "metadata": {},
   "outputs": [],
   "source": [
    "def first_look(df, num_of_srtings=5):\n",
    "    print('Общая информация')\n",
    "    display(df.info())\n",
    "    \n",
    "    print(f'Первые {num_of_srtings} строк(и) данных')\n",
    "    display(df.head(num_of_srtings))\n",
    "    \n",
    "    print('Основные статистические характеристики данных')\n",
    "    display(df.describe())\n",
    "    print('Количество пропусков:')\n",
    "    print(df.isna().sum())\n",
    "    print()\n",
    "    \n",
    "    print('Количество дубликатов:', df.duplicated().sum())"
   ]
  },
  {
   "cell_type": "code",
   "execution_count": 8,
   "id": "cbcb8826-def7-461f-824f-739c3ce8ace8",
   "metadata": {},
   "outputs": [
    {
     "name": "stdout",
     "output_type": "stream",
     "text": [
      "Общая информация\n",
      "<class 'pandas.core.frame.DataFrame'>\n",
      "RangeIndex: 454 entries, 0 to 453\n",
      "Data columns (total 9 columns):\n",
      " #   Column          Non-Null Count  Dtype \n",
      "---  ------          --------------  ----- \n",
      " 0   date            454 non-null    object\n",
      " 1   adress          454 non-null    object\n",
      " 2   n_rooms         441 non-null    object\n",
      " 3   price           450 non-null    object\n",
      " 4   plan            126 non-null    object\n",
      " 5   floor           454 non-null    object\n",
      " 6   total_square    454 non-null    object\n",
      " 7   living_square   454 non-null    object\n",
      " 8   kitchen_square  454 non-null    object\n",
      "dtypes: object(9)\n",
      "memory usage: 32.1+ KB\n"
     ]
    },
    {
     "data": {
      "text/plain": [
       "None"
      ]
     },
     "metadata": {},
     "output_type": "display_data"
    },
    {
     "name": "stdout",
     "output_type": "stream",
     "text": [
      "Первые 5 строк(и) данных\n"
     ]
    },
    {
     "data": {
      "text/html": [
       "<div>\n",
       "<style scoped>\n",
       "    .dataframe tbody tr th:only-of-type {\n",
       "        vertical-align: middle;\n",
       "    }\n",
       "\n",
       "    .dataframe tbody tr th {\n",
       "        vertical-align: top;\n",
       "    }\n",
       "\n",
       "    .dataframe thead th {\n",
       "        text-align: right;\n",
       "    }\n",
       "</style>\n",
       "<table border=\"1\" class=\"dataframe\">\n",
       "  <thead>\n",
       "    <tr style=\"text-align: right;\">\n",
       "      <th></th>\n",
       "      <th>date</th>\n",
       "      <th>adress</th>\n",
       "      <th>n_rooms</th>\n",
       "      <th>price</th>\n",
       "      <th>plan</th>\n",
       "      <th>floor</th>\n",
       "      <th>total_square</th>\n",
       "      <th>living_square</th>\n",
       "      <th>kitchen_square</th>\n",
       "    </tr>\n",
       "  </thead>\n",
       "  <tbody>\n",
       "    <tr>\n",
       "      <th>0</th>\n",
       "      <td>02.11.2022 20:02</td>\n",
       "      <td>Менделеева, 6</td>\n",
       "      <td>Трехкомнатная</td>\n",
       "      <td>5 600 000</td>\n",
       "      <td>старой планировки</td>\n",
       "      <td>3/4</td>\n",
       "      <td>83,00</td>\n",
       "      <td>55,00</td>\n",
       "      <td>9,00</td>\n",
       "    </tr>\n",
       "    <tr>\n",
       "      <th>1</th>\n",
       "      <td>06.07.2023 12:58</td>\n",
       "      <td>Советской Армии, 5</td>\n",
       "      <td>Двухкомнатная</td>\n",
       "      <td>3 200 000</td>\n",
       "      <td>брежневка</td>\n",
       "      <td>5/5</td>\n",
       "      <td>44,00</td>\n",
       "      <td>29,00</td>\n",
       "      <td>7,00</td>\n",
       "    </tr>\n",
       "    <tr>\n",
       "      <th>2</th>\n",
       "      <td>24.08.2023 13:43</td>\n",
       "      <td>Завенягина, 6</td>\n",
       "      <td>Трехкомнатная</td>\n",
       "      <td>6 200 000</td>\n",
       "      <td>нестандартная</td>\n",
       "      <td>7/16</td>\n",
       "      <td>82,00</td>\n",
       "      <td>50,00</td>\n",
       "      <td>10,00</td>\n",
       "    </tr>\n",
       "    <tr>\n",
       "      <th>3</th>\n",
       "      <td>18.04.2022 09:34</td>\n",
       "      <td>Николая Шишка, 22</td>\n",
       "      <td>Трехкомнатная</td>\n",
       "      <td>5 500 000</td>\n",
       "      <td>нестандартная</td>\n",
       "      <td>5/5</td>\n",
       "      <td>74,00</td>\n",
       "      <td>56,00</td>\n",
       "      <td>9,00</td>\n",
       "    </tr>\n",
       "    <tr>\n",
       "      <th>4</th>\n",
       "      <td>03.11.2023 15:57</td>\n",
       "      <td>Карла Маркса, 208</td>\n",
       "      <td>Трехкомнатная</td>\n",
       "      <td>4 400 000</td>\n",
       "      <td>улучшенная</td>\n",
       "      <td>7/9</td>\n",
       "      <td>69,00</td>\n",
       "      <td>46,00</td>\n",
       "      <td>9,00</td>\n",
       "    </tr>\n",
       "  </tbody>\n",
       "</table>\n",
       "</div>"
      ],
      "text/plain": [
       "               date              adress        n_rooms      price  \\\n",
       "0  02.11.2022 20:02       Менделеева, 6  Трехкомнатная  5 600 000   \n",
       "1  06.07.2023 12:58  Советской Армии, 5  Двухкомнатная  3 200 000   \n",
       "2  24.08.2023 13:43       Завенягина, 6  Трехкомнатная  6 200 000   \n",
       "3  18.04.2022 09:34   Николая Шишка, 22  Трехкомнатная  5 500 000   \n",
       "4  03.11.2023 15:57   Карла Маркса, 208  Трехкомнатная  4 400 000   \n",
       "\n",
       "                plan floor total_square living_square kitchen_square  \n",
       "0  старой планировки   3/4        83,00         55,00           9,00  \n",
       "1          брежневка   5/5        44,00         29,00           7,00  \n",
       "2      нестандартная  7/16        82,00         50,00          10,00  \n",
       "3      нестандартная   5/5        74,00         56,00           9,00  \n",
       "4         улучшенная   7/9        69,00         46,00           9,00  "
      ]
     },
     "metadata": {},
     "output_type": "display_data"
    },
    {
     "name": "stdout",
     "output_type": "stream",
     "text": [
      "Основные статистические характеристики данных\n"
     ]
    },
    {
     "data": {
      "text/html": [
       "<div>\n",
       "<style scoped>\n",
       "    .dataframe tbody tr th:only-of-type {\n",
       "        vertical-align: middle;\n",
       "    }\n",
       "\n",
       "    .dataframe tbody tr th {\n",
       "        vertical-align: top;\n",
       "    }\n",
       "\n",
       "    .dataframe thead th {\n",
       "        text-align: right;\n",
       "    }\n",
       "</style>\n",
       "<table border=\"1\" class=\"dataframe\">\n",
       "  <thead>\n",
       "    <tr style=\"text-align: right;\">\n",
       "      <th></th>\n",
       "      <th>date</th>\n",
       "      <th>adress</th>\n",
       "      <th>n_rooms</th>\n",
       "      <th>price</th>\n",
       "      <th>plan</th>\n",
       "      <th>floor</th>\n",
       "      <th>total_square</th>\n",
       "      <th>living_square</th>\n",
       "      <th>kitchen_square</th>\n",
       "    </tr>\n",
       "  </thead>\n",
       "  <tbody>\n",
       "    <tr>\n",
       "      <th>count</th>\n",
       "      <td>454</td>\n",
       "      <td>454</td>\n",
       "      <td>441</td>\n",
       "      <td>450</td>\n",
       "      <td>126</td>\n",
       "      <td>454</td>\n",
       "      <td>454</td>\n",
       "      <td>454</td>\n",
       "      <td>454</td>\n",
       "    </tr>\n",
       "    <tr>\n",
       "      <th>unique</th>\n",
       "      <td>311</td>\n",
       "      <td>386</td>\n",
       "      <td>5</td>\n",
       "      <td>197</td>\n",
       "      <td>18</td>\n",
       "      <td>58</td>\n",
       "      <td>221</td>\n",
       "      <td>85</td>\n",
       "      <td>49</td>\n",
       "    </tr>\n",
       "    <tr>\n",
       "      <th>top</th>\n",
       "      <td>19.10.2023 10:04</td>\n",
       "      <td>,</td>\n",
       "      <td>Двухкомнатная</td>\n",
       "      <td>3 300 000</td>\n",
       "      <td>нестандартная</td>\n",
       "      <td>5/5</td>\n",
       "      <td>65,00</td>\n",
       "      <td>30,00</td>\n",
       "      <td>6,00</td>\n",
       "    </tr>\n",
       "    <tr>\n",
       "      <th>freq</th>\n",
       "      <td>10</td>\n",
       "      <td>5</td>\n",
       "      <td>165</td>\n",
       "      <td>10</td>\n",
       "      <td>32</td>\n",
       "      <td>40</td>\n",
       "      <td>18</td>\n",
       "      <td>35</td>\n",
       "      <td>106</td>\n",
       "    </tr>\n",
       "  </tbody>\n",
       "</table>\n",
       "</div>"
      ],
      "text/plain": [
       "                    date adress        n_rooms      price           plan  \\\n",
       "count                454    454            441        450            126   \n",
       "unique               311    386              5        197             18   \n",
       "top     19.10.2023 10:04     ,   Двухкомнатная  3 300 000  нестандартная   \n",
       "freq                  10      5            165         10             32   \n",
       "\n",
       "       floor total_square living_square kitchen_square  \n",
       "count    454          454           454            454  \n",
       "unique    58          221            85             49  \n",
       "top      5/5        65,00         30,00           6,00  \n",
       "freq      40           18            35            106  "
      ]
     },
     "metadata": {},
     "output_type": "display_data"
    },
    {
     "name": "stdout",
     "output_type": "stream",
     "text": [
      "Количество пропусков:\n",
      "date                0\n",
      "adress              0\n",
      "n_rooms            13\n",
      "price               4\n",
      "plan              328\n",
      "floor               0\n",
      "total_square        0\n",
      "living_square       0\n",
      "kitchen_square      0\n",
      "dtype: int64\n",
      "\n",
      "Количество дубликатов: 0\n"
     ]
    }
   ],
   "source": [
    "first_look(data)"
   ]
  },
  {
   "cell_type": "markdown",
   "id": "a155df05-b60c-47a8-84fe-3261887f76a4",
   "metadata": {},
   "source": [
    "### Цена"
   ]
  },
  {
   "cell_type": "code",
   "execution_count": 9,
   "id": "29d2117c-004f-43eb-af6c-b98864cdefb4",
   "metadata": {},
   "outputs": [
    {
     "data": {
      "text/plain": [
       "4"
      ]
     },
     "execution_count": 9,
     "metadata": {},
     "output_type": "execute_result"
    }
   ],
   "source": [
    "data['price'].isna().sum()"
   ]
  },
  {
   "cell_type": "markdown",
   "id": "af0cf017-02a0-405e-a054-4d7b22bb2a19",
   "metadata": {},
   "source": [
    "Так как записи без цены не дадут нам возможности обучить модель или проверить ее качество, удалим их."
   ]
  },
  {
   "cell_type": "code",
   "execution_count": 10,
   "id": "494fb9f6-b303-40a5-bd99-9d872130e674",
   "metadata": {},
   "outputs": [
    {
     "data": {
      "text/plain": [
       "(454, 9)"
      ]
     },
     "execution_count": 10,
     "metadata": {},
     "output_type": "execute_result"
    }
   ],
   "source": [
    "data.shape"
   ]
  },
  {
   "cell_type": "code",
   "execution_count": 11,
   "id": "342a6232-7ca7-4bb2-8872-f268570cba9c",
   "metadata": {},
   "outputs": [],
   "source": [
    "data.dropna(\n",
    "    subset='price', \n",
    "    inplace=True, \n",
    "    axis=0\n",
    ")"
   ]
  },
  {
   "cell_type": "code",
   "execution_count": 12,
   "id": "8e7195ea-c6fe-4a6f-b590-2e7841a9d399",
   "metadata": {},
   "outputs": [
    {
     "data": {
      "text/plain": [
       "(450, 9)"
      ]
     },
     "execution_count": 12,
     "metadata": {},
     "output_type": "execute_result"
    }
   ],
   "source": [
    "data.shape"
   ]
  },
  {
   "cell_type": "code",
   "execution_count": 13,
   "id": "319f4b2b-9dd0-46b9-bcb8-4a229e05b2c8",
   "metadata": {},
   "outputs": [
    {
     "data": {
      "text/plain": [
       "0"
      ]
     },
     "execution_count": 13,
     "metadata": {},
     "output_type": "execute_result"
    }
   ],
   "source": [
    "data['price'].isna().sum()"
   ]
  },
  {
   "cell_type": "markdown",
   "id": "d3cf5d0b-46f3-4174-97d2-d45424ae5482",
   "metadata": {},
   "source": [
    "### количество комнат"
   ]
  },
  {
   "cell_type": "code",
   "execution_count": 14,
   "id": "4ccb788d-9e1e-43d9-bafb-ceaffe189fc0",
   "metadata": {},
   "outputs": [
    {
     "data": {
      "text/plain": [
       "5"
      ]
     },
     "execution_count": 14,
     "metadata": {},
     "output_type": "execute_result"
    }
   ],
   "source": [
    "data['n_rooms'].nunique()"
   ]
  },
  {
   "cell_type": "code",
   "execution_count": 15,
   "id": "35521868-6b0d-469d-bdfb-71e88945c01b",
   "metadata": {},
   "outputs": [
    {
     "data": {
      "text/plain": [
       "array(['Трехкомнатная', 'Двухкомнатная', 'Однокомнатная',\n",
       "       'Четырехкомнатная', nan, 'Многокомнатная'], dtype=object)"
      ]
     },
     "execution_count": 15,
     "metadata": {},
     "output_type": "execute_result"
    }
   ],
   "source": [
    "data['n_rooms'].unique()"
   ]
  },
  {
   "cell_type": "code",
   "execution_count": 16,
   "id": "3e29dfe0-e6f8-4de5-a122-0628c6df3f22",
   "metadata": {},
   "outputs": [
    {
     "data": {
      "text/plain": [
       "12"
      ]
     },
     "execution_count": 16,
     "metadata": {},
     "output_type": "execute_result"
    }
   ],
   "source": [
    "data['n_rooms'].isna().sum()"
   ]
  },
  {
   "cell_type": "code",
   "execution_count": 17,
   "id": "7b3d14bf-3ddc-4160-97f4-a04cd3d543fd",
   "metadata": {},
   "outputs": [
    {
     "data": {
      "text/html": [
       "<div>\n",
       "<style scoped>\n",
       "    .dataframe tbody tr th:only-of-type {\n",
       "        vertical-align: middle;\n",
       "    }\n",
       "\n",
       "    .dataframe tbody tr th {\n",
       "        vertical-align: top;\n",
       "    }\n",
       "\n",
       "    .dataframe thead th {\n",
       "        text-align: right;\n",
       "    }\n",
       "</style>\n",
       "<table border=\"1\" class=\"dataframe\">\n",
       "  <thead>\n",
       "    <tr style=\"text-align: right;\">\n",
       "      <th></th>\n",
       "      <th>date</th>\n",
       "      <th>adress</th>\n",
       "      <th>n_rooms</th>\n",
       "      <th>price</th>\n",
       "      <th>plan</th>\n",
       "      <th>floor</th>\n",
       "      <th>total_square</th>\n",
       "      <th>living_square</th>\n",
       "      <th>kitchen_square</th>\n",
       "    </tr>\n",
       "  </thead>\n",
       "  <tbody>\n",
       "    <tr>\n",
       "      <th>92</th>\n",
       "      <td>26.10.2023 08:16</td>\n",
       "      <td>Карла Маркса, 233</td>\n",
       "      <td>NaN</td>\n",
       "      <td>4 860 000</td>\n",
       "      <td>NaN</td>\n",
       "      <td>8/10</td>\n",
       "      <td>70,00</td>\n",
       "      <td>50,00</td>\n",
       "      <td>7,00</td>\n",
       "    </tr>\n",
       "    <tr>\n",
       "      <th>153</th>\n",
       "      <td>19.04.2023 08:18</td>\n",
       "      <td>Ленина пр-т, 212а</td>\n",
       "      <td>NaN</td>\n",
       "      <td>1 100 000</td>\n",
       "      <td>NaN</td>\n",
       "      <td>1/1</td>\n",
       "      <td>18,40</td>\n",
       "      <td>12,00</td>\n",
       "      <td>5,00</td>\n",
       "    </tr>\n",
       "    <tr>\n",
       "      <th>208</th>\n",
       "      <td>24.10.2023 08:13</td>\n",
       "      <td>Завенягина, 1</td>\n",
       "      <td>NaN</td>\n",
       "      <td>4 750 000</td>\n",
       "      <td>NaN</td>\n",
       "      <td>5/9</td>\n",
       "      <td>65,10</td>\n",
       "      <td>44,00</td>\n",
       "      <td>8,00</td>\n",
       "    </tr>\n",
       "    <tr>\n",
       "      <th>209</th>\n",
       "      <td>17.10.2023 08:44</td>\n",
       "      <td>Торфяная, 5/2</td>\n",
       "      <td>NaN</td>\n",
       "      <td>4 950 000</td>\n",
       "      <td>NaN</td>\n",
       "      <td>1/2</td>\n",
       "      <td>46,80</td>\n",
       "      <td>0,00</td>\n",
       "      <td>0,00</td>\n",
       "    </tr>\n",
       "    <tr>\n",
       "      <th>211</th>\n",
       "      <td>19.10.2023 10:04</td>\n",
       "      <td>Гагарина, 15</td>\n",
       "      <td>NaN</td>\n",
       "      <td>3 800 000</td>\n",
       "      <td>NaN</td>\n",
       "      <td>8/12</td>\n",
       "      <td>59,50</td>\n",
       "      <td>0,00</td>\n",
       "      <td>8,00</td>\n",
       "    </tr>\n",
       "    <tr>\n",
       "      <th>285</th>\n",
       "      <td>13.10.2023 12:53</td>\n",
       "      <td>Карла Маркса, 117</td>\n",
       "      <td>NaN</td>\n",
       "      <td>3 400 000</td>\n",
       "      <td>NaN</td>\n",
       "      <td>2/5</td>\n",
       "      <td>41,00</td>\n",
       "      <td>26,00</td>\n",
       "      <td>6,00</td>\n",
       "    </tr>\n",
       "    <tr>\n",
       "      <th>288</th>\n",
       "      <td>13.10.2023 12:53</td>\n",
       "      <td>Карла Маркса, 119/1</td>\n",
       "      <td>NaN</td>\n",
       "      <td>3 600 000</td>\n",
       "      <td>NaN</td>\n",
       "      <td>2/5</td>\n",
       "      <td>41,00</td>\n",
       "      <td>0,00</td>\n",
       "      <td>6,00</td>\n",
       "    </tr>\n",
       "    <tr>\n",
       "      <th>293</th>\n",
       "      <td>13.10.2023 12:53</td>\n",
       "      <td>ул Жукова, 17/1</td>\n",
       "      <td>NaN</td>\n",
       "      <td>3 100 000</td>\n",
       "      <td>NaN</td>\n",
       "      <td>4/9</td>\n",
       "      <td>40,10</td>\n",
       "      <td>18,00</td>\n",
       "      <td>9,00</td>\n",
       "    </tr>\n",
       "    <tr>\n",
       "      <th>299</th>\n",
       "      <td>11.10.2023 08:19</td>\n",
       "      <td>Западное шоссе, 101</td>\n",
       "      <td>NaN</td>\n",
       "      <td>6 000 000</td>\n",
       "      <td>NaN</td>\n",
       "      <td>2/3</td>\n",
       "      <td>68,00</td>\n",
       "      <td>40,00</td>\n",
       "      <td>0,00</td>\n",
       "    </tr>\n",
       "    <tr>\n",
       "      <th>425</th>\n",
       "      <td>09.08.2023 07:53</td>\n",
       "      <td>ул Лесопарковая, 93/1</td>\n",
       "      <td>NaN</td>\n",
       "      <td>3 150 000</td>\n",
       "      <td>NaN</td>\n",
       "      <td>10/10</td>\n",
       "      <td>41,20</td>\n",
       "      <td>28,00</td>\n",
       "      <td>12,50</td>\n",
       "    </tr>\n",
       "    <tr>\n",
       "      <th>427</th>\n",
       "      <td>03.08.2023 08:06</td>\n",
       "      <td>Ленина пр-т, 114/4</td>\n",
       "      <td>NaN</td>\n",
       "      <td>2 620 000</td>\n",
       "      <td>NaN</td>\n",
       "      <td>5/14</td>\n",
       "      <td>40,00</td>\n",
       "      <td>18,00</td>\n",
       "      <td>13,00</td>\n",
       "    </tr>\n",
       "    <tr>\n",
       "      <th>429</th>\n",
       "      <td>27.06.2023 14:07</td>\n",
       "      <td>Ленина пр-т, 87а</td>\n",
       "      <td>NaN</td>\n",
       "      <td>2 800 000</td>\n",
       "      <td>NaN</td>\n",
       "      <td>6/14</td>\n",
       "      <td>45,00</td>\n",
       "      <td>37,00</td>\n",
       "      <td>8,00</td>\n",
       "    </tr>\n",
       "  </tbody>\n",
       "</table>\n",
       "</div>"
      ],
      "text/plain": [
       "                 date                 adress n_rooms      price plan  floor  \\\n",
       "92   26.10.2023 08:16      Карла Маркса, 233     NaN  4 860 000  NaN   8/10   \n",
       "153  19.04.2023 08:18      Ленина пр-т, 212а     NaN  1 100 000  NaN    1/1   \n",
       "208  24.10.2023 08:13          Завенягина, 1     NaN  4 750 000  NaN    5/9   \n",
       "209  17.10.2023 08:44          Торфяная, 5/2     NaN  4 950 000  NaN    1/2   \n",
       "211  19.10.2023 10:04           Гагарина, 15     NaN  3 800 000  NaN   8/12   \n",
       "285  13.10.2023 12:53      Карла Маркса, 117     NaN  3 400 000  NaN    2/5   \n",
       "288  13.10.2023 12:53    Карла Маркса, 119/1     NaN  3 600 000  NaN    2/5   \n",
       "293  13.10.2023 12:53        ул Жукова, 17/1     NaN  3 100 000  NaN    4/9   \n",
       "299  11.10.2023 08:19    Западное шоссе, 101     NaN  6 000 000  NaN    2/3   \n",
       "425  09.08.2023 07:53  ул Лесопарковая, 93/1     NaN  3 150 000  NaN  10/10   \n",
       "427  03.08.2023 08:06     Ленина пр-т, 114/4     NaN  2 620 000  NaN   5/14   \n",
       "429  27.06.2023 14:07       Ленина пр-т, 87а     NaN  2 800 000  NaN   6/14   \n",
       "\n",
       "    total_square living_square kitchen_square  \n",
       "92         70,00         50,00           7,00  \n",
       "153        18,40         12,00           5,00  \n",
       "208        65,10         44,00           8,00  \n",
       "209        46,80          0,00           0,00  \n",
       "211        59,50          0,00           8,00  \n",
       "285        41,00         26,00           6,00  \n",
       "288        41,00          0,00           6,00  \n",
       "293        40,10         18,00           9,00  \n",
       "299        68,00         40,00           0,00  \n",
       "425        41,20         28,00          12,50  \n",
       "427        40,00         18,00          13,00  \n",
       "429        45,00         37,00           8,00  "
      ]
     },
     "execution_count": 17,
     "metadata": {},
     "output_type": "execute_result"
    }
   ],
   "source": [
    "data[data['n_rooms'].isna()]"
   ]
  },
  {
   "cell_type": "markdown",
   "id": "c9b5acea-7891-4ef6-a427-ed26bd4a0a9d",
   "metadata": {},
   "source": [
    "### Дата"
   ]
  },
  {
   "cell_type": "markdown",
   "id": "04c81df9-02d7-48d2-a8aa-bf64097fb45e",
   "metadata": {},
   "source": [
    "Для предсказания цены нам необходим только год и месяц. Выделим их из данных о дате публикации объявления. "
   ]
  },
  {
   "cell_type": "code",
   "execution_count": 18,
   "id": "81969b56-3d5a-4615-a951-4ea07e80bf95",
   "metadata": {},
   "outputs": [],
   "source": [
    "data['date'] = pd.to_datetime(data['date'], format='%d.%m.%Y %H:%M')"
   ]
  },
  {
   "cell_type": "code",
   "execution_count": 19,
   "id": "302bcb71-1a56-4f95-87f2-ed1a473b3abe",
   "metadata": {},
   "outputs": [],
   "source": [
    "data['year'] = pd.DatetimeIndex(data['date']).year"
   ]
  },
  {
   "cell_type": "code",
   "execution_count": 20,
   "id": "67a2d602-0cfd-4b26-9cef-a031e0bcb0e3",
   "metadata": {},
   "outputs": [],
   "source": [
    "data['month'] = pd.DatetimeIndex(data['date']).month"
   ]
  },
  {
   "cell_type": "code",
   "execution_count": 21,
   "id": "9290af85-8c05-4438-a92f-8e724bb58129",
   "metadata": {},
   "outputs": [
    {
     "data": {
      "text/html": [
       "<div>\n",
       "<style scoped>\n",
       "    .dataframe tbody tr th:only-of-type {\n",
       "        vertical-align: middle;\n",
       "    }\n",
       "\n",
       "    .dataframe tbody tr th {\n",
       "        vertical-align: top;\n",
       "    }\n",
       "\n",
       "    .dataframe thead th {\n",
       "        text-align: right;\n",
       "    }\n",
       "</style>\n",
       "<table border=\"1\" class=\"dataframe\">\n",
       "  <thead>\n",
       "    <tr style=\"text-align: right;\">\n",
       "      <th></th>\n",
       "      <th>date</th>\n",
       "      <th>adress</th>\n",
       "      <th>n_rooms</th>\n",
       "      <th>price</th>\n",
       "      <th>plan</th>\n",
       "      <th>floor</th>\n",
       "      <th>total_square</th>\n",
       "      <th>living_square</th>\n",
       "      <th>kitchen_square</th>\n",
       "      <th>year</th>\n",
       "      <th>month</th>\n",
       "    </tr>\n",
       "  </thead>\n",
       "  <tbody>\n",
       "    <tr>\n",
       "      <th>0</th>\n",
       "      <td>2022-11-02 20:02:00</td>\n",
       "      <td>Менделеева, 6</td>\n",
       "      <td>Трехкомнатная</td>\n",
       "      <td>5 600 000</td>\n",
       "      <td>старой планировки</td>\n",
       "      <td>3/4</td>\n",
       "      <td>83,00</td>\n",
       "      <td>55,00</td>\n",
       "      <td>9,00</td>\n",
       "      <td>2022</td>\n",
       "      <td>11</td>\n",
       "    </tr>\n",
       "    <tr>\n",
       "      <th>1</th>\n",
       "      <td>2023-07-06 12:58:00</td>\n",
       "      <td>Советской Армии, 5</td>\n",
       "      <td>Двухкомнатная</td>\n",
       "      <td>3 200 000</td>\n",
       "      <td>брежневка</td>\n",
       "      <td>5/5</td>\n",
       "      <td>44,00</td>\n",
       "      <td>29,00</td>\n",
       "      <td>7,00</td>\n",
       "      <td>2023</td>\n",
       "      <td>7</td>\n",
       "    </tr>\n",
       "    <tr>\n",
       "      <th>2</th>\n",
       "      <td>2023-08-24 13:43:00</td>\n",
       "      <td>Завенягина, 6</td>\n",
       "      <td>Трехкомнатная</td>\n",
       "      <td>6 200 000</td>\n",
       "      <td>нестандартная</td>\n",
       "      <td>7/16</td>\n",
       "      <td>82,00</td>\n",
       "      <td>50,00</td>\n",
       "      <td>10,00</td>\n",
       "      <td>2023</td>\n",
       "      <td>8</td>\n",
       "    </tr>\n",
       "    <tr>\n",
       "      <th>3</th>\n",
       "      <td>2022-04-18 09:34:00</td>\n",
       "      <td>Николая Шишка, 22</td>\n",
       "      <td>Трехкомнатная</td>\n",
       "      <td>5 500 000</td>\n",
       "      <td>нестандартная</td>\n",
       "      <td>5/5</td>\n",
       "      <td>74,00</td>\n",
       "      <td>56,00</td>\n",
       "      <td>9,00</td>\n",
       "      <td>2022</td>\n",
       "      <td>4</td>\n",
       "    </tr>\n",
       "    <tr>\n",
       "      <th>4</th>\n",
       "      <td>2023-11-03 15:57:00</td>\n",
       "      <td>Карла Маркса, 208</td>\n",
       "      <td>Трехкомнатная</td>\n",
       "      <td>4 400 000</td>\n",
       "      <td>улучшенная</td>\n",
       "      <td>7/9</td>\n",
       "      <td>69,00</td>\n",
       "      <td>46,00</td>\n",
       "      <td>9,00</td>\n",
       "      <td>2023</td>\n",
       "      <td>11</td>\n",
       "    </tr>\n",
       "  </tbody>\n",
       "</table>\n",
       "</div>"
      ],
      "text/plain": [
       "                 date              adress        n_rooms      price  \\\n",
       "0 2022-11-02 20:02:00       Менделеева, 6  Трехкомнатная  5 600 000   \n",
       "1 2023-07-06 12:58:00  Советской Армии, 5  Двухкомнатная  3 200 000   \n",
       "2 2023-08-24 13:43:00       Завенягина, 6  Трехкомнатная  6 200 000   \n",
       "3 2022-04-18 09:34:00   Николая Шишка, 22  Трехкомнатная  5 500 000   \n",
       "4 2023-11-03 15:57:00   Карла Маркса, 208  Трехкомнатная  4 400 000   \n",
       "\n",
       "                plan floor total_square living_square kitchen_square  year  \\\n",
       "0  старой планировки   3/4        83,00         55,00           9,00  2022   \n",
       "1          брежневка   5/5        44,00         29,00           7,00  2023   \n",
       "2      нестандартная  7/16        82,00         50,00          10,00  2023   \n",
       "3      нестандартная   5/5        74,00         56,00           9,00  2022   \n",
       "4         улучшенная   7/9        69,00         46,00           9,00  2023   \n",
       "\n",
       "   month  \n",
       "0     11  \n",
       "1      7  \n",
       "2      8  \n",
       "3      4  \n",
       "4     11  "
      ]
     },
     "execution_count": 21,
     "metadata": {},
     "output_type": "execute_result"
    }
   ],
   "source": [
    "data.head()"
   ]
  },
  {
   "cell_type": "markdown",
   "id": "7f0aa77b-2650-4212-8239-5582a9f6c58c",
   "metadata": {},
   "source": [
    "### Адрес"
   ]
  },
  {
   "cell_type": "markdown",
   "id": "cff5cefe-46d9-452d-b398-56217cc191d6",
   "metadata": {},
   "source": [
    "В адресе оставим только улицу, для упрощения обработки категориального признака."
   ]
  },
  {
   "cell_type": "code",
   "execution_count": 22,
   "id": "d57372fc-d366-4f3e-80cf-c17d7b3e0ce0",
   "metadata": {},
   "outputs": [
    {
     "data": {
      "text/plain": [
       "0"
      ]
     },
     "execution_count": 22,
     "metadata": {},
     "output_type": "execute_result"
    }
   ],
   "source": [
    "data['adress'].isna().sum()"
   ]
  },
  {
   "cell_type": "code",
   "execution_count": 23,
   "id": "308bea42-b7a1-47ea-bcdd-a7953b6468e1",
   "metadata": {},
   "outputs": [],
   "source": [
    "def get_street(row):\n",
    "    dirt = ['ул. ', 'ул.', 'ул ', 'пр.']\n",
    "    for dot in dirt:\n",
    "        if dot in row:\n",
    "            row = row.replace(dot, '')\n",
    "    if row.find('. ') == 0:\n",
    "        row = row[2:]\n",
    "    return row[:row.find(',')]"
   ]
  },
  {
   "cell_type": "code",
   "execution_count": 24,
   "id": "5d7152be-52b2-4bfc-9be2-e65fcef86526",
   "metadata": {},
   "outputs": [],
   "source": [
    "data['sreet'] = data['adress'].apply(get_street)"
   ]
  },
  {
   "cell_type": "code",
   "execution_count": 25,
   "id": "276ce480-d7a6-43be-8f97-129cfcbf869f",
   "metadata": {},
   "outputs": [
    {
     "data": {
      "text/html": [
       "<div>\n",
       "<style scoped>\n",
       "    .dataframe tbody tr th:only-of-type {\n",
       "        vertical-align: middle;\n",
       "    }\n",
       "\n",
       "    .dataframe tbody tr th {\n",
       "        vertical-align: top;\n",
       "    }\n",
       "\n",
       "    .dataframe thead th {\n",
       "        text-align: right;\n",
       "    }\n",
       "</style>\n",
       "<table border=\"1\" class=\"dataframe\">\n",
       "  <thead>\n",
       "    <tr style=\"text-align: right;\">\n",
       "      <th></th>\n",
       "      <th>date</th>\n",
       "      <th>adress</th>\n",
       "      <th>n_rooms</th>\n",
       "      <th>price</th>\n",
       "      <th>plan</th>\n",
       "      <th>floor</th>\n",
       "      <th>total_square</th>\n",
       "      <th>living_square</th>\n",
       "      <th>kitchen_square</th>\n",
       "      <th>year</th>\n",
       "      <th>month</th>\n",
       "      <th>sreet</th>\n",
       "    </tr>\n",
       "  </thead>\n",
       "  <tbody>\n",
       "    <tr>\n",
       "      <th>0</th>\n",
       "      <td>2022-11-02 20:02:00</td>\n",
       "      <td>Менделеева, 6</td>\n",
       "      <td>Трехкомнатная</td>\n",
       "      <td>5 600 000</td>\n",
       "      <td>старой планировки</td>\n",
       "      <td>3/4</td>\n",
       "      <td>83,00</td>\n",
       "      <td>55,00</td>\n",
       "      <td>9,00</td>\n",
       "      <td>2022</td>\n",
       "      <td>11</td>\n",
       "      <td>Менделеева</td>\n",
       "    </tr>\n",
       "    <tr>\n",
       "      <th>1</th>\n",
       "      <td>2023-07-06 12:58:00</td>\n",
       "      <td>Советской Армии, 5</td>\n",
       "      <td>Двухкомнатная</td>\n",
       "      <td>3 200 000</td>\n",
       "      <td>брежневка</td>\n",
       "      <td>5/5</td>\n",
       "      <td>44,00</td>\n",
       "      <td>29,00</td>\n",
       "      <td>7,00</td>\n",
       "      <td>2023</td>\n",
       "      <td>7</td>\n",
       "      <td>Советской Армии</td>\n",
       "    </tr>\n",
       "    <tr>\n",
       "      <th>2</th>\n",
       "      <td>2023-08-24 13:43:00</td>\n",
       "      <td>Завенягина, 6</td>\n",
       "      <td>Трехкомнатная</td>\n",
       "      <td>6 200 000</td>\n",
       "      <td>нестандартная</td>\n",
       "      <td>7/16</td>\n",
       "      <td>82,00</td>\n",
       "      <td>50,00</td>\n",
       "      <td>10,00</td>\n",
       "      <td>2023</td>\n",
       "      <td>8</td>\n",
       "      <td>Завенягина</td>\n",
       "    </tr>\n",
       "    <tr>\n",
       "      <th>3</th>\n",
       "      <td>2022-04-18 09:34:00</td>\n",
       "      <td>Николая Шишка, 22</td>\n",
       "      <td>Трехкомнатная</td>\n",
       "      <td>5 500 000</td>\n",
       "      <td>нестандартная</td>\n",
       "      <td>5/5</td>\n",
       "      <td>74,00</td>\n",
       "      <td>56,00</td>\n",
       "      <td>9,00</td>\n",
       "      <td>2022</td>\n",
       "      <td>4</td>\n",
       "      <td>Николая Шишка</td>\n",
       "    </tr>\n",
       "    <tr>\n",
       "      <th>4</th>\n",
       "      <td>2023-11-03 15:57:00</td>\n",
       "      <td>Карла Маркса, 208</td>\n",
       "      <td>Трехкомнатная</td>\n",
       "      <td>4 400 000</td>\n",
       "      <td>улучшенная</td>\n",
       "      <td>7/9</td>\n",
       "      <td>69,00</td>\n",
       "      <td>46,00</td>\n",
       "      <td>9,00</td>\n",
       "      <td>2023</td>\n",
       "      <td>11</td>\n",
       "      <td>Карла Маркса</td>\n",
       "    </tr>\n",
       "  </tbody>\n",
       "</table>\n",
       "</div>"
      ],
      "text/plain": [
       "                 date              adress        n_rooms      price  \\\n",
       "0 2022-11-02 20:02:00       Менделеева, 6  Трехкомнатная  5 600 000   \n",
       "1 2023-07-06 12:58:00  Советской Армии, 5  Двухкомнатная  3 200 000   \n",
       "2 2023-08-24 13:43:00       Завенягина, 6  Трехкомнатная  6 200 000   \n",
       "3 2022-04-18 09:34:00   Николая Шишка, 22  Трехкомнатная  5 500 000   \n",
       "4 2023-11-03 15:57:00   Карла Маркса, 208  Трехкомнатная  4 400 000   \n",
       "\n",
       "                plan floor total_square living_square kitchen_square  year  \\\n",
       "0  старой планировки   3/4        83,00         55,00           9,00  2022   \n",
       "1          брежневка   5/5        44,00         29,00           7,00  2023   \n",
       "2      нестандартная  7/16        82,00         50,00          10,00  2023   \n",
       "3      нестандартная   5/5        74,00         56,00           9,00  2022   \n",
       "4         улучшенная   7/9        69,00         46,00           9,00  2023   \n",
       "\n",
       "   month            sreet  \n",
       "0     11       Менделеева  \n",
       "1      7  Советской Армии  \n",
       "2      8       Завенягина  \n",
       "3      4    Николая Шишка  \n",
       "4     11     Карла Маркса  "
      ]
     },
     "execution_count": 25,
     "metadata": {},
     "output_type": "execute_result"
    }
   ],
   "source": [
    "data.head()"
   ]
  },
  {
   "cell_type": "code",
   "execution_count": 26,
   "id": "f0c76b04-2c24-4f75-842f-10e8204aea00",
   "metadata": {},
   "outputs": [
    {
     "data": {
      "text/plain": [
       "95"
      ]
     },
     "execution_count": 26,
     "metadata": {},
     "output_type": "execute_result"
    }
   ],
   "source": [
    "data['sreet'].nunique()"
   ]
  },
  {
   "cell_type": "code",
   "execution_count": 27,
   "id": "bf0d1d41-2aac-490c-93f8-990358a08f74",
   "metadata": {},
   "outputs": [
    {
     "data": {
      "text/plain": [
       "['',\n",
       " '133/1',\n",
       " '14',\n",
       " '26 Горнолыжная',\n",
       " '50 лет Магнитки',\n",
       " '50-летия Магнитки',\n",
       " '70 лет Октября',\n",
       " 'Анджиевского',\n",
       " 'Болотникова',\n",
       " 'Бориса Ручьева',\n",
       " 'Вознесенская',\n",
       " 'Вокзальная',\n",
       " 'Ворошилова',\n",
       " 'Габдрауфа Давлетова',\n",
       " 'Гагарина',\n",
       " 'Галиуллина',\n",
       " 'Герцена',\n",
       " 'Горнолыжная',\n",
       " 'Горького',\n",
       " 'Грязнова',\n",
       " 'Доменщиков',\n",
       " 'Жукова',\n",
       " 'Завенягина',\n",
       " 'Западное шоссе',\n",
       " 'Зеленый Лог',\n",
       " 'Зеленый лог',\n",
       " 'Им. газеты \\\\\"Правда\\\\\"',\n",
       " 'Индустриальная',\n",
       " 'Казакова',\n",
       " 'Калмыкова',\n",
       " 'Карла Маркса',\n",
       " 'Коробова',\n",
       " 'Красноармейская',\n",
       " 'Кронштадтская',\n",
       " 'Куйбышева',\n",
       " 'Курортная',\n",
       " 'Ленина пр-т',\n",
       " 'Ленинградская',\n",
       " 'Лесная',\n",
       " 'Лесопарковая',\n",
       " 'Менделеева',\n",
       " 'Металлургов',\n",
       " 'Мичурина',\n",
       " 'Молодежная',\n",
       " 'Московская',\n",
       " 'Набережная',\n",
       " 'Николая Шишка',\n",
       " 'Новая',\n",
       " 'Октябрьская',\n",
       " 'Оранжерейная',\n",
       " 'Панькова',\n",
       " 'Парковая',\n",
       " 'Первомайская',\n",
       " 'Пионерская',\n",
       " 'Подольская',\n",
       " 'Помяловского',\n",
       " 'Привокзальная',\n",
       " 'Пушкина',\n",
       " 'Раздольная',\n",
       " 'Ржевского переулок',\n",
       " 'Российская',\n",
       " 'Садовая',\n",
       " 'Салтыкова-Щедрина',\n",
       " 'Сиреневый проезд',\n",
       " 'Советская',\n",
       " 'Советский переулок',\n",
       " 'Советский переулок 12',\n",
       " 'Советской Армии',\n",
       " 'Солнечный Берег',\n",
       " 'Сочинская',\n",
       " 'Сталеваров',\n",
       " 'Строителей',\n",
       " 'Суворова',\n",
       " 'Тагира Кусимова',\n",
       " 'Тарасенко',\n",
       " 'Тевосяна',\n",
       " 'Тимирязева',\n",
       " 'Титова',\n",
       " 'Торфяная',\n",
       " 'Трамвайная',\n",
       " 'Труда',\n",
       " 'Тургенева',\n",
       " 'Уральская',\n",
       " 'Фадеева',\n",
       " 'Центральная',\n",
       " 'Чайковского',\n",
       " 'Чапаева',\n",
       " 'Чекалина',\n",
       " 'Черемушки',\n",
       " 'Школьная',\n",
       " 'зеленый лог',\n",
       " 'имени газеты Правда',\n",
       " 'карла маркса',\n",
       " 'проспект Сиреневый',\n",
       " 'сад Горняк']"
      ]
     },
     "execution_count": 27,
     "metadata": {},
     "output_type": "execute_result"
    }
   ],
   "source": [
    "sorted(data['sreet'].unique())"
   ]
  },
  {
   "cell_type": "markdown",
   "id": "a540b0c2-8954-4fe3-bf2d-7abf66931d36",
   "metadata": {},
   "source": [
    "В списке улиц присутствуют неявные дубликаты. Приведем названия улиц к единому написанию."
   ]
  },
  {
   "cell_type": "code",
   "execution_count": 28,
   "id": "0961f112-f7ef-4f3d-b08c-fefb6643d663",
   "metadata": {},
   "outputs": [],
   "source": [
    "streets_to_replace = {\n",
    "    'зеленый лог' : 'Зеленый Лог',\n",
    "    'Зеленый лог' : 'Зеленый Лог',\n",
    "    'Им. газеты \\\\\"Правда\\\\\"' : 'имени газеты Правда',\n",
    "    'проспект Сиреневый' : 'Сиреневый проезд',\n",
    "    'карла маркса' : 'Карла Маркса',\n",
    "    '50 лет Магнитки' : '50-летия Магнитки'\n",
    "}"
   ]
  },
  {
   "cell_type": "code",
   "execution_count": 29,
   "id": "3ed38449-ba3e-47a6-b300-a24847a5c08e",
   "metadata": {},
   "outputs": [],
   "source": [
    "data['sreet'].replace(streets_to_replace, inplace=True)"
   ]
  },
  {
   "cell_type": "code",
   "execution_count": 30,
   "id": "c7b7c982-e750-4d35-bbc8-05d019996903",
   "metadata": {},
   "outputs": [
    {
     "data": {
      "text/plain": [
       "89"
      ]
     },
     "execution_count": 30,
     "metadata": {},
     "output_type": "execute_result"
    }
   ],
   "source": [
    "data['sreet'].nunique()"
   ]
  },
  {
   "cell_type": "code",
   "execution_count": 31,
   "id": "2bcc5c38-f4eb-4836-92f0-10b172c244a2",
   "metadata": {},
   "outputs": [
    {
     "data": {
      "text/html": [
       "<div>\n",
       "<style scoped>\n",
       "    .dataframe tbody tr th:only-of-type {\n",
       "        vertical-align: middle;\n",
       "    }\n",
       "\n",
       "    .dataframe tbody tr th {\n",
       "        vertical-align: top;\n",
       "    }\n",
       "\n",
       "    .dataframe thead th {\n",
       "        text-align: right;\n",
       "    }\n",
       "</style>\n",
       "<table border=\"1\" class=\"dataframe\">\n",
       "  <thead>\n",
       "    <tr style=\"text-align: right;\">\n",
       "      <th></th>\n",
       "      <th>date</th>\n",
       "      <th>adress</th>\n",
       "      <th>n_rooms</th>\n",
       "      <th>price</th>\n",
       "      <th>plan</th>\n",
       "      <th>floor</th>\n",
       "      <th>total_square</th>\n",
       "      <th>living_square</th>\n",
       "      <th>kitchen_square</th>\n",
       "      <th>year</th>\n",
       "      <th>month</th>\n",
       "      <th>sreet</th>\n",
       "    </tr>\n",
       "  </thead>\n",
       "  <tbody>\n",
       "    <tr>\n",
       "      <th>448</th>\n",
       "      <td>2023-01-21 04:34:00</td>\n",
       "      <td>14,</td>\n",
       "      <td>Двухкомнатная</td>\n",
       "      <td>3 600 000</td>\n",
       "      <td>NaN</td>\n",
       "      <td>-1/1</td>\n",
       "      <td>100,00</td>\n",
       "      <td>65,00</td>\n",
       "      <td>25,00</td>\n",
       "      <td>2023</td>\n",
       "      <td>1</td>\n",
       "      <td>14</td>\n",
       "    </tr>\n",
       "  </tbody>\n",
       "</table>\n",
       "</div>"
      ],
      "text/plain": [
       "                   date adress        n_rooms      price plan floor  \\\n",
       "448 2023-01-21 04:34:00   14,   Двухкомнатная  3 600 000  NaN  -1/1   \n",
       "\n",
       "    total_square living_square kitchen_square  year  month sreet  \n",
       "448       100,00         65,00          25,00  2023      1    14  "
      ]
     },
     "execution_count": 31,
     "metadata": {},
     "output_type": "execute_result"
    }
   ],
   "source": [
    "data[data['sreet'] == '14']"
   ]
  },
  {
   "cell_type": "code",
   "execution_count": 32,
   "id": "c2d3b9c9-1105-4eed-9501-cea7c2a849bc",
   "metadata": {},
   "outputs": [],
   "source": [
    "first_data = pd.read_excel('CityStarExport.xls', header=4)"
   ]
  },
  {
   "cell_type": "code",
   "execution_count": 33,
   "id": "301fc6c6-dae3-4f0e-917d-92f5891d0e27",
   "metadata": {},
   "outputs": [
    {
     "data": {
      "text/plain": [
       "Unnamed: 0                                                               NaN\n",
       "Дата                                                        21.01.2023 04:34\n",
       "Адрес                                                                   14, \n",
       "Количество комнат                                              Двухкомнатная\n",
       "Цена, р.                                                           3 600 000\n",
       "Планировка                                                               NaN\n",
       "Этаж                                                                    -1/1\n",
       "Общая площадь, м2                                                     100,00\n",
       "Жилая площадь, м2                                                      65,00\n",
       "Площадь кухни, м2                                                      25,00\n",
       "Дополнительное описание    id:1385. \\nПродам отдельно стоящий дом с пред ...\n",
       "Контакты                                        Павлюченко Виктория, РиоЛюкс\n",
       "Адрес на сайте             http://magnitogorsk-citystar.ru/realty/prodazh...\n",
       "Name: 448, dtype: object"
      ]
     },
     "execution_count": 33,
     "metadata": {},
     "output_type": "execute_result"
    }
   ],
   "source": [
    "first_data.iloc[448]"
   ]
  },
  {
   "cell_type": "code",
   "execution_count": 34,
   "id": "ab4a039f-8e74-4d0a-8000-70c0b17ff1b9",
   "metadata": {},
   "outputs": [
    {
     "data": {
      "text/html": [
       "<div>\n",
       "<style scoped>\n",
       "    .dataframe tbody tr th:only-of-type {\n",
       "        vertical-align: middle;\n",
       "    }\n",
       "\n",
       "    .dataframe tbody tr th {\n",
       "        vertical-align: top;\n",
       "    }\n",
       "\n",
       "    .dataframe thead th {\n",
       "        text-align: right;\n",
       "    }\n",
       "</style>\n",
       "<table border=\"1\" class=\"dataframe\">\n",
       "  <thead>\n",
       "    <tr style=\"text-align: right;\">\n",
       "      <th></th>\n",
       "      <th>date</th>\n",
       "      <th>adress</th>\n",
       "      <th>n_rooms</th>\n",
       "      <th>price</th>\n",
       "      <th>plan</th>\n",
       "      <th>floor</th>\n",
       "      <th>total_square</th>\n",
       "      <th>living_square</th>\n",
       "      <th>kitchen_square</th>\n",
       "      <th>year</th>\n",
       "      <th>month</th>\n",
       "      <th>sreet</th>\n",
       "    </tr>\n",
       "  </thead>\n",
       "  <tbody>\n",
       "    <tr>\n",
       "      <th>0</th>\n",
       "      <td>2022-11-02 20:02:00</td>\n",
       "      <td>Менделеева, 6</td>\n",
       "      <td>Трехкомнатная</td>\n",
       "      <td>5 600 000</td>\n",
       "      <td>старой планировки</td>\n",
       "      <td>3/4</td>\n",
       "      <td>83,00</td>\n",
       "      <td>55,00</td>\n",
       "      <td>9,00</td>\n",
       "      <td>2022</td>\n",
       "      <td>11</td>\n",
       "      <td>Менделеева</td>\n",
       "    </tr>\n",
       "    <tr>\n",
       "      <th>1</th>\n",
       "      <td>2023-07-06 12:58:00</td>\n",
       "      <td>Советской Армии, 5</td>\n",
       "      <td>Двухкомнатная</td>\n",
       "      <td>3 200 000</td>\n",
       "      <td>брежневка</td>\n",
       "      <td>5/5</td>\n",
       "      <td>44,00</td>\n",
       "      <td>29,00</td>\n",
       "      <td>7,00</td>\n",
       "      <td>2023</td>\n",
       "      <td>7</td>\n",
       "      <td>Советской Армии</td>\n",
       "    </tr>\n",
       "    <tr>\n",
       "      <th>2</th>\n",
       "      <td>2023-08-24 13:43:00</td>\n",
       "      <td>Завенягина, 6</td>\n",
       "      <td>Трехкомнатная</td>\n",
       "      <td>6 200 000</td>\n",
       "      <td>нестандартная</td>\n",
       "      <td>7/16</td>\n",
       "      <td>82,00</td>\n",
       "      <td>50,00</td>\n",
       "      <td>10,00</td>\n",
       "      <td>2023</td>\n",
       "      <td>8</td>\n",
       "      <td>Завенягина</td>\n",
       "    </tr>\n",
       "    <tr>\n",
       "      <th>3</th>\n",
       "      <td>2022-04-18 09:34:00</td>\n",
       "      <td>Николая Шишка, 22</td>\n",
       "      <td>Трехкомнатная</td>\n",
       "      <td>5 500 000</td>\n",
       "      <td>нестандартная</td>\n",
       "      <td>5/5</td>\n",
       "      <td>74,00</td>\n",
       "      <td>56,00</td>\n",
       "      <td>9,00</td>\n",
       "      <td>2022</td>\n",
       "      <td>4</td>\n",
       "      <td>Николая Шишка</td>\n",
       "    </tr>\n",
       "    <tr>\n",
       "      <th>4</th>\n",
       "      <td>2023-11-03 15:57:00</td>\n",
       "      <td>Карла Маркса, 208</td>\n",
       "      <td>Трехкомнатная</td>\n",
       "      <td>4 400 000</td>\n",
       "      <td>улучшенная</td>\n",
       "      <td>7/9</td>\n",
       "      <td>69,00</td>\n",
       "      <td>46,00</td>\n",
       "      <td>9,00</td>\n",
       "      <td>2023</td>\n",
       "      <td>11</td>\n",
       "      <td>Карла Маркса</td>\n",
       "    </tr>\n",
       "  </tbody>\n",
       "</table>\n",
       "</div>"
      ],
      "text/plain": [
       "                 date              adress        n_rooms      price  \\\n",
       "0 2022-11-02 20:02:00       Менделеева, 6  Трехкомнатная  5 600 000   \n",
       "1 2023-07-06 12:58:00  Советской Армии, 5  Двухкомнатная  3 200 000   \n",
       "2 2023-08-24 13:43:00       Завенягина, 6  Трехкомнатная  6 200 000   \n",
       "3 2022-04-18 09:34:00   Николая Шишка, 22  Трехкомнатная  5 500 000   \n",
       "4 2023-11-03 15:57:00   Карла Маркса, 208  Трехкомнатная  4 400 000   \n",
       "\n",
       "                plan floor total_square living_square kitchen_square  year  \\\n",
       "0  старой планировки   3/4        83,00         55,00           9,00  2022   \n",
       "1          брежневка   5/5        44,00         29,00           7,00  2023   \n",
       "2      нестандартная  7/16        82,00         50,00          10,00  2023   \n",
       "3      нестандартная   5/5        74,00         56,00           9,00  2022   \n",
       "4         улучшенная   7/9        69,00         46,00           9,00  2023   \n",
       "\n",
       "   month            sreet  \n",
       "0     11       Менделеева  \n",
       "1      7  Советской Армии  \n",
       "2      8       Завенягина  \n",
       "3      4    Николая Шишка  \n",
       "4     11     Карла Маркса  "
      ]
     },
     "execution_count": 34,
     "metadata": {},
     "output_type": "execute_result"
    }
   ],
   "source": [
    "data.head()"
   ]
  },
  {
   "cell_type": "markdown",
   "id": "307da01c-6163-4d2b-aa4d-cc5a60ef2ce2",
   "metadata": {},
   "source": [
    "### Планировка"
   ]
  },
  {
   "cell_type": "code",
   "execution_count": 38,
   "id": "6bc40d9d-fa47-4649-866e-d3d7cbef5998",
   "metadata": {},
   "outputs": [
    {
     "data": {
      "text/plain": [
       "126"
      ]
     },
     "execution_count": 38,
     "metadata": {},
     "output_type": "execute_result"
    }
   ],
   "source": [
    "data['plan'].notna().sum()"
   ]
  },
  {
   "cell_type": "code",
   "execution_count": 39,
   "id": "bff759cc-53cc-4def-8609-342e24237d40",
   "metadata": {},
   "outputs": [
    {
     "data": {
      "text/plain": [
       "18"
      ]
     },
     "execution_count": 39,
     "metadata": {},
     "output_type": "execute_result"
    }
   ],
   "source": [
    "data['plan'].nunique()"
   ]
  },
  {
   "cell_type": "code",
   "execution_count": 40,
   "id": "b621407f-ed41-45e5-a28a-f3a9e682ceca",
   "metadata": {},
   "outputs": [
    {
     "data": {
      "text/plain": [
       "array(['старой планировки', 'брежневка', 'нестандартная', 'улучшенная',\n",
       "       nan, 'свердловский вариант', 'хабаровский вариант', 'раздельная',\n",
       "       'малосемейка', 'распашонка', 'гребенка', 'хрущевка',\n",
       "       'сталинский вариант', 'ленинградский проект', 'евродвушка',\n",
       "       'полусмежная', 'евротрешка', 'смежная', 'трапеция'], dtype=object)"
      ]
     },
     "execution_count": 40,
     "metadata": {},
     "output_type": "execute_result"
    }
   ],
   "source": [
    "data['plan'].unique()"
   ]
  },
  {
   "cell_type": "markdown",
   "id": "736ba954-d9ca-4f33-87a6-882000e7d2e9",
   "metadata": {},
   "source": [
    "### Этаж"
   ]
  },
  {
   "cell_type": "code",
   "execution_count": 41,
   "id": "96e44f61-a6cc-4f9a-a951-3f7536a5778a",
   "metadata": {},
   "outputs": [
    {
     "data": {
      "text/plain": [
       "0"
      ]
     },
     "execution_count": 41,
     "metadata": {},
     "output_type": "execute_result"
    }
   ],
   "source": [
    "data['floor'].isna().sum()"
   ]
  },
  {
   "cell_type": "code",
   "execution_count": 44,
   "id": "cdbda41c-9f3e-43d6-9f50-9e249f9b5c97",
   "metadata": {},
   "outputs": [],
   "source": [
    "def get_floor_num(row):\n",
    "    return int(row[:row.find('/')])"
   ]
  },
  {
   "cell_type": "code",
   "execution_count": 48,
   "id": "f260720c-14cd-49b9-8e5c-54f816a7d120",
   "metadata": {},
   "outputs": [],
   "source": [
    "data['floor_num'] = data['floor'].apply(get_floor_num)"
   ]
  },
  {
   "cell_type": "code",
   "execution_count": 50,
   "id": "be5cbaad-2e4e-42c2-8edf-b3992e2cf8c5",
   "metadata": {},
   "outputs": [
    {
     "data": {
      "text/plain": [
       "0"
      ]
     },
     "execution_count": 50,
     "metadata": {},
     "output_type": "execute_result"
    }
   ],
   "source": [
    "data['floor_num'].isna().sum()"
   ]
  },
  {
   "cell_type": "code",
   "execution_count": 51,
   "id": "2755679d-2d0f-4fa6-b106-42a3f14e2b8d",
   "metadata": {},
   "outputs": [],
   "source": [
    "def get_total_floors(row):\n",
    "    return int(row[row.find('/')+1:])"
   ]
  },
  {
   "cell_type": "code",
   "execution_count": 53,
   "id": "3bc77f2d-2777-4bc7-b783-727e32a3aa89",
   "metadata": {},
   "outputs": [],
   "source": [
    "data['total_floors'] = data['floor'].apply(get_total_floors)"
   ]
  },
  {
   "cell_type": "code",
   "execution_count": 54,
   "id": "b36b10f7-513c-4368-8448-597aca872807",
   "metadata": {},
   "outputs": [
    {
     "data": {
      "text/plain": [
       "0"
      ]
     },
     "execution_count": 54,
     "metadata": {},
     "output_type": "execute_result"
    }
   ],
   "source": [
    "data['total_floors'].isna().sum()"
   ]
  },
  {
   "cell_type": "code",
   "execution_count": 55,
   "id": "fd9ea9dd-6578-417c-886c-eb390ea8524e",
   "metadata": {},
   "outputs": [
    {
     "data": {
      "text/html": [
       "<div>\n",
       "<style scoped>\n",
       "    .dataframe tbody tr th:only-of-type {\n",
       "        vertical-align: middle;\n",
       "    }\n",
       "\n",
       "    .dataframe tbody tr th {\n",
       "        vertical-align: top;\n",
       "    }\n",
       "\n",
       "    .dataframe thead th {\n",
       "        text-align: right;\n",
       "    }\n",
       "</style>\n",
       "<table border=\"1\" class=\"dataframe\">\n",
       "  <thead>\n",
       "    <tr style=\"text-align: right;\">\n",
       "      <th></th>\n",
       "      <th>date</th>\n",
       "      <th>adress</th>\n",
       "      <th>n_rooms</th>\n",
       "      <th>price</th>\n",
       "      <th>plan</th>\n",
       "      <th>floor</th>\n",
       "      <th>total_square</th>\n",
       "      <th>living_square</th>\n",
       "      <th>kitchen_square</th>\n",
       "      <th>year</th>\n",
       "      <th>month</th>\n",
       "      <th>sreet</th>\n",
       "      <th>floor_num</th>\n",
       "      <th>total_floors</th>\n",
       "    </tr>\n",
       "  </thead>\n",
       "  <tbody>\n",
       "    <tr>\n",
       "      <th>0</th>\n",
       "      <td>2022-11-02 20:02:00</td>\n",
       "      <td>Менделеева, 6</td>\n",
       "      <td>Трехкомнатная</td>\n",
       "      <td>5 600 000</td>\n",
       "      <td>старой планировки</td>\n",
       "      <td>3/4</td>\n",
       "      <td>83,00</td>\n",
       "      <td>55,00</td>\n",
       "      <td>9,00</td>\n",
       "      <td>2022</td>\n",
       "      <td>11</td>\n",
       "      <td>Менделеева</td>\n",
       "      <td>3</td>\n",
       "      <td>4</td>\n",
       "    </tr>\n",
       "    <tr>\n",
       "      <th>1</th>\n",
       "      <td>2023-07-06 12:58:00</td>\n",
       "      <td>Советской Армии, 5</td>\n",
       "      <td>Двухкомнатная</td>\n",
       "      <td>3 200 000</td>\n",
       "      <td>брежневка</td>\n",
       "      <td>5/5</td>\n",
       "      <td>44,00</td>\n",
       "      <td>29,00</td>\n",
       "      <td>7,00</td>\n",
       "      <td>2023</td>\n",
       "      <td>7</td>\n",
       "      <td>Советской Армии</td>\n",
       "      <td>5</td>\n",
       "      <td>5</td>\n",
       "    </tr>\n",
       "    <tr>\n",
       "      <th>2</th>\n",
       "      <td>2023-08-24 13:43:00</td>\n",
       "      <td>Завенягина, 6</td>\n",
       "      <td>Трехкомнатная</td>\n",
       "      <td>6 200 000</td>\n",
       "      <td>нестандартная</td>\n",
       "      <td>7/16</td>\n",
       "      <td>82,00</td>\n",
       "      <td>50,00</td>\n",
       "      <td>10,00</td>\n",
       "      <td>2023</td>\n",
       "      <td>8</td>\n",
       "      <td>Завенягина</td>\n",
       "      <td>7</td>\n",
       "      <td>16</td>\n",
       "    </tr>\n",
       "    <tr>\n",
       "      <th>3</th>\n",
       "      <td>2022-04-18 09:34:00</td>\n",
       "      <td>Николая Шишка, 22</td>\n",
       "      <td>Трехкомнатная</td>\n",
       "      <td>5 500 000</td>\n",
       "      <td>нестандартная</td>\n",
       "      <td>5/5</td>\n",
       "      <td>74,00</td>\n",
       "      <td>56,00</td>\n",
       "      <td>9,00</td>\n",
       "      <td>2022</td>\n",
       "      <td>4</td>\n",
       "      <td>Николая Шишка</td>\n",
       "      <td>5</td>\n",
       "      <td>5</td>\n",
       "    </tr>\n",
       "    <tr>\n",
       "      <th>4</th>\n",
       "      <td>2023-11-03 15:57:00</td>\n",
       "      <td>Карла Маркса, 208</td>\n",
       "      <td>Трехкомнатная</td>\n",
       "      <td>4 400 000</td>\n",
       "      <td>улучшенная</td>\n",
       "      <td>7/9</td>\n",
       "      <td>69,00</td>\n",
       "      <td>46,00</td>\n",
       "      <td>9,00</td>\n",
       "      <td>2023</td>\n",
       "      <td>11</td>\n",
       "      <td>Карла Маркса</td>\n",
       "      <td>7</td>\n",
       "      <td>9</td>\n",
       "    </tr>\n",
       "  </tbody>\n",
       "</table>\n",
       "</div>"
      ],
      "text/plain": [
       "                 date              adress        n_rooms      price  \\\n",
       "0 2022-11-02 20:02:00       Менделеева, 6  Трехкомнатная  5 600 000   \n",
       "1 2023-07-06 12:58:00  Советской Армии, 5  Двухкомнатная  3 200 000   \n",
       "2 2023-08-24 13:43:00       Завенягина, 6  Трехкомнатная  6 200 000   \n",
       "3 2022-04-18 09:34:00   Николая Шишка, 22  Трехкомнатная  5 500 000   \n",
       "4 2023-11-03 15:57:00   Карла Маркса, 208  Трехкомнатная  4 400 000   \n",
       "\n",
       "                plan floor total_square living_square kitchen_square  year  \\\n",
       "0  старой планировки   3/4        83,00         55,00           9,00  2022   \n",
       "1          брежневка   5/5        44,00         29,00           7,00  2023   \n",
       "2      нестандартная  7/16        82,00         50,00          10,00  2023   \n",
       "3      нестандартная   5/5        74,00         56,00           9,00  2022   \n",
       "4         улучшенная   7/9        69,00         46,00           9,00  2023   \n",
       "\n",
       "   month            sreet  floor_num  total_floors  \n",
       "0     11       Менделеева          3             4  \n",
       "1      7  Советской Армии          5             5  \n",
       "2      8       Завенягина          7            16  \n",
       "3      4    Николая Шишка          5             5  \n",
       "4     11     Карла Маркса          7             9  "
      ]
     },
     "execution_count": 55,
     "metadata": {},
     "output_type": "execute_result"
    }
   ],
   "source": [
    "data.head()"
   ]
  },
  {
   "cell_type": "markdown",
   "id": "9d6c306b-5241-4757-9ee9-9d3e737b7027",
   "metadata": {},
   "source": [
    "Добавим столбец с информацией о том, является ли этаж квартиры первым."
   ]
  },
  {
   "cell_type": "code",
   "execution_count": 57,
   "id": "e16f32b9-f58d-4d93-b326-867047de41df",
   "metadata": {},
   "outputs": [],
   "source": [
    "data['is_first_floor'] = data['floor_num'] == 1"
   ]
  },
  {
   "cell_type": "code",
   "execution_count": 60,
   "id": "b2090084-997e-4695-bb7c-b2f53459c147",
   "metadata": {},
   "outputs": [],
   "source": [
    "data['is_first_floor'] = data['is_first_floor'].astype('int')"
   ]
  },
  {
   "cell_type": "markdown",
   "id": "688a45e1-ac9e-401a-ae37-53d4601bc07d",
   "metadata": {},
   "source": [
    "Добавим столбец с информацией о том, является ли этаж квартиры последним."
   ]
  },
  {
   "cell_type": "code",
   "execution_count": 62,
   "id": "0a296f5e-7608-485a-8630-1f14240f212a",
   "metadata": {},
   "outputs": [],
   "source": [
    "data['is_last_floor'] = data['floor_num'] == data['total_floors']\n",
    "data['is_last_floor'] = data['is_last_floor'].astype('int')"
   ]
  },
  {
   "cell_type": "markdown",
   "id": "2f2046eb-9b3d-478b-bb1b-b8c8357a45b3",
   "metadata": {},
   "source": [
    "Преобразуем типы данных у числовых столбцов."
   ]
  },
  {
   "cell_type": "code",
   "execution_count": 81,
   "id": "a5aea77a-445d-4293-892c-c2454d9f50c2",
   "metadata": {},
   "outputs": [
    {
     "name": "stdout",
     "output_type": "stream",
     "text": [
      "<class 'pandas.core.frame.DataFrame'>\n",
      "Index: 450 entries, 0 to 453\n",
      "Data columns (total 16 columns):\n",
      " #   Column          Non-Null Count  Dtype         \n",
      "---  ------          --------------  -----         \n",
      " 0   date            450 non-null    datetime64[ns]\n",
      " 1   adress          450 non-null    object        \n",
      " 2   n_rooms         438 non-null    object        \n",
      " 3   price           450 non-null    object        \n",
      " 4   plan            126 non-null    object        \n",
      " 5   floor           450 non-null    object        \n",
      " 6   total_square    450 non-null    object        \n",
      " 7   living_square   450 non-null    object        \n",
      " 8   kitchen_square  450 non-null    object        \n",
      " 9   year            450 non-null    int32         \n",
      " 10  month           450 non-null    int32         \n",
      " 11  sreet           450 non-null    object        \n",
      " 12  floor_num       450 non-null    int64         \n",
      " 13  total_floors    450 non-null    int64         \n",
      " 14  is_first_floor  450 non-null    int32         \n",
      " 15  is_last_floor   450 non-null    int32         \n",
      "dtypes: datetime64[ns](1), int32(4), int64(2), object(9)\n",
      "memory usage: 52.7+ KB\n"
     ]
    }
   ],
   "source": [
    "data.info()"
   ]
  },
  {
   "cell_type": "code",
   "execution_count": 93,
   "id": "8ca1342e-ba92-42bd-87d8-378a929d2902",
   "metadata": {},
   "outputs": [],
   "source": [
    "def repl(row):\n",
    "    return row.replace(',', '.')"
   ]
  },
  {
   "cell_type": "code",
   "execution_count": 96,
   "id": "93291a1c-8eda-4fe6-a451-1be76ca38bed",
   "metadata": {},
   "outputs": [],
   "source": [
    "data['total_square'] = data['total_square'].apply(repl)\n",
    "data['living_square'] = data['living_square'].apply(repl)\n",
    "data['kitchen_square'] = data['kitchen_square'].apply(repl)\n"
   ]
  },
  {
   "cell_type": "code",
   "execution_count": 98,
   "id": "45d5e3a9-323b-47ce-9a4c-08dc1a7cd75a",
   "metadata": {},
   "outputs": [],
   "source": [
    "data['total_square'] = data['total_square'].astype('float')\n",
    "data['living_square'] = data['living_square'].astype('float')\n",
    "data['kitchen_square'] = data['kitchen_square'].astype('float')\n"
   ]
  },
  {
   "cell_type": "code",
   "execution_count": 112,
   "id": "83b9b520-78a4-4cfd-a699-24abaa10053d",
   "metadata": {},
   "outputs": [],
   "source": [
    "def strip_price(row):\n",
    "    return row.replace(' ', '')"
   ]
  },
  {
   "cell_type": "code",
   "execution_count": 116,
   "id": "d8dfad64-ea5f-445c-9ea2-539fce613c2b",
   "metadata": {},
   "outputs": [
    {
     "data": {
      "text/plain": [
       "'5600000'"
      ]
     },
     "execution_count": 116,
     "metadata": {},
     "output_type": "execute_result"
    }
   ],
   "source": [
    "strip_price('5 600 000')"
   ]
  },
  {
   "cell_type": "code",
   "execution_count": 113,
   "id": "ab8a68d2-47ff-4a27-a21a-f0e742acf6e2",
   "metadata": {},
   "outputs": [],
   "source": [
    "data['price'] = data['price'].apply(strip_price)"
   ]
  },
  {
   "cell_type": "code",
   "execution_count": 114,
   "id": "e712f566-a64b-4c45-ab21-66ab7cd636f5",
   "metadata": {},
   "outputs": [
    {
     "name": "stdout",
     "output_type": "stream",
     "text": [
      "<class 'pandas.core.frame.DataFrame'>\n",
      "Index: 450 entries, 0 to 453\n",
      "Data columns (total 16 columns):\n",
      " #   Column          Non-Null Count  Dtype         \n",
      "---  ------          --------------  -----         \n",
      " 0   date            450 non-null    datetime64[ns]\n",
      " 1   adress          450 non-null    object        \n",
      " 2   n_rooms         438 non-null    object        \n",
      " 3   price           450 non-null    object        \n",
      " 4   plan            126 non-null    object        \n",
      " 5   floor           450 non-null    object        \n",
      " 6   total_square    450 non-null    float64       \n",
      " 7   living_square   450 non-null    float64       \n",
      " 8   kitchen_square  450 non-null    float64       \n",
      " 9   year            450 non-null    int32         \n",
      " 10  month           450 non-null    int32         \n",
      " 11  sreet           450 non-null    object        \n",
      " 12  floor_num       450 non-null    int64         \n",
      " 13  total_floors    450 non-null    int64         \n",
      " 14  is_first_floor  450 non-null    int32         \n",
      " 15  is_last_floor   450 non-null    int32         \n",
      "dtypes: datetime64[ns](1), float64(3), int32(4), int64(2), object(6)\n",
      "memory usage: 52.7+ KB\n"
     ]
    }
   ],
   "source": [
    "data.info()"
   ]
  },
  {
   "cell_type": "code",
   "execution_count": 115,
   "id": "2363e878-da75-4d52-bb87-6a03de85c289",
   "metadata": {},
   "outputs": [
    {
     "ename": "ValueError",
     "evalue": "could not convert string to float: '5\\xa0600\\xa0000'",
     "output_type": "error",
     "traceback": [
      "\u001b[1;31m---------------------------------------------------------------------------\u001b[0m",
      "\u001b[1;31mValueError\u001b[0m                                Traceback (most recent call last)",
      "Cell \u001b[1;32mIn[115], line 1\u001b[0m\n\u001b[1;32m----> 1\u001b[0m data[\u001b[38;5;124m'\u001b[39m\u001b[38;5;124mprice\u001b[39m\u001b[38;5;124m'\u001b[39m] \u001b[38;5;241m=\u001b[39m \u001b[43mdata\u001b[49m\u001b[43m[\u001b[49m\u001b[38;5;124;43m'\u001b[39;49m\u001b[38;5;124;43mprice\u001b[39;49m\u001b[38;5;124;43m'\u001b[39;49m\u001b[43m]\u001b[49m\u001b[38;5;241;43m.\u001b[39;49m\u001b[43mastype\u001b[49m\u001b[43m(\u001b[49m\u001b[38;5;124;43m'\u001b[39;49m\u001b[38;5;124;43mfloat\u001b[39;49m\u001b[38;5;124;43m'\u001b[39;49m\u001b[43m)\u001b[49m\n",
      "File \u001b[1;32m~\\AppData\\Local\\Programs\\Python\\Python311\\Lib\\site-packages\\pandas\\core\\generic.py:6324\u001b[0m, in \u001b[0;36mNDFrame.astype\u001b[1;34m(self, dtype, copy, errors)\u001b[0m\n\u001b[0;32m   6317\u001b[0m     results \u001b[38;5;241m=\u001b[39m [\n\u001b[0;32m   6318\u001b[0m         \u001b[38;5;28mself\u001b[39m\u001b[38;5;241m.\u001b[39miloc[:, i]\u001b[38;5;241m.\u001b[39mastype(dtype, copy\u001b[38;5;241m=\u001b[39mcopy)\n\u001b[0;32m   6319\u001b[0m         \u001b[38;5;28;01mfor\u001b[39;00m i \u001b[38;5;129;01min\u001b[39;00m \u001b[38;5;28mrange\u001b[39m(\u001b[38;5;28mlen\u001b[39m(\u001b[38;5;28mself\u001b[39m\u001b[38;5;241m.\u001b[39mcolumns))\n\u001b[0;32m   6320\u001b[0m     ]\n\u001b[0;32m   6322\u001b[0m \u001b[38;5;28;01melse\u001b[39;00m:\n\u001b[0;32m   6323\u001b[0m     \u001b[38;5;66;03m# else, only a single dtype is given\u001b[39;00m\n\u001b[1;32m-> 6324\u001b[0m     new_data \u001b[38;5;241m=\u001b[39m \u001b[38;5;28;43mself\u001b[39;49m\u001b[38;5;241;43m.\u001b[39;49m\u001b[43m_mgr\u001b[49m\u001b[38;5;241;43m.\u001b[39;49m\u001b[43mastype\u001b[49m\u001b[43m(\u001b[49m\u001b[43mdtype\u001b[49m\u001b[38;5;241;43m=\u001b[39;49m\u001b[43mdtype\u001b[49m\u001b[43m,\u001b[49m\u001b[43m \u001b[49m\u001b[43mcopy\u001b[49m\u001b[38;5;241;43m=\u001b[39;49m\u001b[43mcopy\u001b[49m\u001b[43m,\u001b[49m\u001b[43m \u001b[49m\u001b[43merrors\u001b[49m\u001b[38;5;241;43m=\u001b[39;49m\u001b[43merrors\u001b[49m\u001b[43m)\u001b[49m\n\u001b[0;32m   6325\u001b[0m     \u001b[38;5;28;01mreturn\u001b[39;00m \u001b[38;5;28mself\u001b[39m\u001b[38;5;241m.\u001b[39m_constructor(new_data)\u001b[38;5;241m.\u001b[39m__finalize__(\u001b[38;5;28mself\u001b[39m, method\u001b[38;5;241m=\u001b[39m\u001b[38;5;124m\"\u001b[39m\u001b[38;5;124mastype\u001b[39m\u001b[38;5;124m\"\u001b[39m)\n\u001b[0;32m   6327\u001b[0m \u001b[38;5;66;03m# GH 33113: handle empty frame or series\u001b[39;00m\n",
      "File \u001b[1;32m~\\AppData\\Local\\Programs\\Python\\Python311\\Lib\\site-packages\\pandas\\core\\internals\\managers.py:451\u001b[0m, in \u001b[0;36mBaseBlockManager.astype\u001b[1;34m(self, dtype, copy, errors)\u001b[0m\n\u001b[0;32m    448\u001b[0m \u001b[38;5;28;01melif\u001b[39;00m using_copy_on_write():\n\u001b[0;32m    449\u001b[0m     copy \u001b[38;5;241m=\u001b[39m \u001b[38;5;28;01mFalse\u001b[39;00m\n\u001b[1;32m--> 451\u001b[0m \u001b[38;5;28;01mreturn\u001b[39;00m \u001b[38;5;28;43mself\u001b[39;49m\u001b[38;5;241;43m.\u001b[39;49m\u001b[43mapply\u001b[49m\u001b[43m(\u001b[49m\n\u001b[0;32m    452\u001b[0m \u001b[43m    \u001b[49m\u001b[38;5;124;43m\"\u001b[39;49m\u001b[38;5;124;43mastype\u001b[39;49m\u001b[38;5;124;43m\"\u001b[39;49m\u001b[43m,\u001b[49m\n\u001b[0;32m    453\u001b[0m \u001b[43m    \u001b[49m\u001b[43mdtype\u001b[49m\u001b[38;5;241;43m=\u001b[39;49m\u001b[43mdtype\u001b[49m\u001b[43m,\u001b[49m\n\u001b[0;32m    454\u001b[0m \u001b[43m    \u001b[49m\u001b[43mcopy\u001b[49m\u001b[38;5;241;43m=\u001b[39;49m\u001b[43mcopy\u001b[49m\u001b[43m,\u001b[49m\n\u001b[0;32m    455\u001b[0m \u001b[43m    \u001b[49m\u001b[43merrors\u001b[49m\u001b[38;5;241;43m=\u001b[39;49m\u001b[43merrors\u001b[49m\u001b[43m,\u001b[49m\n\u001b[0;32m    456\u001b[0m \u001b[43m    \u001b[49m\u001b[43musing_cow\u001b[49m\u001b[38;5;241;43m=\u001b[39;49m\u001b[43musing_copy_on_write\u001b[49m\u001b[43m(\u001b[49m\u001b[43m)\u001b[49m\u001b[43m,\u001b[49m\n\u001b[0;32m    457\u001b[0m \u001b[43m\u001b[49m\u001b[43m)\u001b[49m\n",
      "File \u001b[1;32m~\\AppData\\Local\\Programs\\Python\\Python311\\Lib\\site-packages\\pandas\\core\\internals\\managers.py:352\u001b[0m, in \u001b[0;36mBaseBlockManager.apply\u001b[1;34m(self, f, align_keys, **kwargs)\u001b[0m\n\u001b[0;32m    350\u001b[0m         applied \u001b[38;5;241m=\u001b[39m b\u001b[38;5;241m.\u001b[39mapply(f, \u001b[38;5;241m*\u001b[39m\u001b[38;5;241m*\u001b[39mkwargs)\n\u001b[0;32m    351\u001b[0m     \u001b[38;5;28;01melse\u001b[39;00m:\n\u001b[1;32m--> 352\u001b[0m         applied \u001b[38;5;241m=\u001b[39m \u001b[38;5;28;43mgetattr\u001b[39;49m\u001b[43m(\u001b[49m\u001b[43mb\u001b[49m\u001b[43m,\u001b[49m\u001b[43m \u001b[49m\u001b[43mf\u001b[49m\u001b[43m)\u001b[49m\u001b[43m(\u001b[49m\u001b[38;5;241;43m*\u001b[39;49m\u001b[38;5;241;43m*\u001b[39;49m\u001b[43mkwargs\u001b[49m\u001b[43m)\u001b[49m\n\u001b[0;32m    353\u001b[0m     result_blocks \u001b[38;5;241m=\u001b[39m extend_blocks(applied, result_blocks)\n\u001b[0;32m    355\u001b[0m out \u001b[38;5;241m=\u001b[39m \u001b[38;5;28mtype\u001b[39m(\u001b[38;5;28mself\u001b[39m)\u001b[38;5;241m.\u001b[39mfrom_blocks(result_blocks, \u001b[38;5;28mself\u001b[39m\u001b[38;5;241m.\u001b[39maxes)\n",
      "File \u001b[1;32m~\\AppData\\Local\\Programs\\Python\\Python311\\Lib\\site-packages\\pandas\\core\\internals\\blocks.py:511\u001b[0m, in \u001b[0;36mBlock.astype\u001b[1;34m(self, dtype, copy, errors, using_cow)\u001b[0m\n\u001b[0;32m    491\u001b[0m \u001b[38;5;250m\u001b[39m\u001b[38;5;124;03m\"\"\"\u001b[39;00m\n\u001b[0;32m    492\u001b[0m \u001b[38;5;124;03mCoerce to the new dtype.\u001b[39;00m\n\u001b[0;32m    493\u001b[0m \n\u001b[1;32m   (...)\u001b[0m\n\u001b[0;32m    507\u001b[0m \u001b[38;5;124;03mBlock\u001b[39;00m\n\u001b[0;32m    508\u001b[0m \u001b[38;5;124;03m\"\"\"\u001b[39;00m\n\u001b[0;32m    509\u001b[0m values \u001b[38;5;241m=\u001b[39m \u001b[38;5;28mself\u001b[39m\u001b[38;5;241m.\u001b[39mvalues\n\u001b[1;32m--> 511\u001b[0m new_values \u001b[38;5;241m=\u001b[39m \u001b[43mastype_array_safe\u001b[49m\u001b[43m(\u001b[49m\u001b[43mvalues\u001b[49m\u001b[43m,\u001b[49m\u001b[43m \u001b[49m\u001b[43mdtype\u001b[49m\u001b[43m,\u001b[49m\u001b[43m \u001b[49m\u001b[43mcopy\u001b[49m\u001b[38;5;241;43m=\u001b[39;49m\u001b[43mcopy\u001b[49m\u001b[43m,\u001b[49m\u001b[43m \u001b[49m\u001b[43merrors\u001b[49m\u001b[38;5;241;43m=\u001b[39;49m\u001b[43merrors\u001b[49m\u001b[43m)\u001b[49m\n\u001b[0;32m    513\u001b[0m new_values \u001b[38;5;241m=\u001b[39m maybe_coerce_values(new_values)\n\u001b[0;32m    515\u001b[0m refs \u001b[38;5;241m=\u001b[39m \u001b[38;5;28;01mNone\u001b[39;00m\n",
      "File \u001b[1;32m~\\AppData\\Local\\Programs\\Python\\Python311\\Lib\\site-packages\\pandas\\core\\dtypes\\astype.py:242\u001b[0m, in \u001b[0;36mastype_array_safe\u001b[1;34m(values, dtype, copy, errors)\u001b[0m\n\u001b[0;32m    239\u001b[0m     dtype \u001b[38;5;241m=\u001b[39m dtype\u001b[38;5;241m.\u001b[39mnumpy_dtype\n\u001b[0;32m    241\u001b[0m \u001b[38;5;28;01mtry\u001b[39;00m:\n\u001b[1;32m--> 242\u001b[0m     new_values \u001b[38;5;241m=\u001b[39m \u001b[43mastype_array\u001b[49m\u001b[43m(\u001b[49m\u001b[43mvalues\u001b[49m\u001b[43m,\u001b[49m\u001b[43m \u001b[49m\u001b[43mdtype\u001b[49m\u001b[43m,\u001b[49m\u001b[43m \u001b[49m\u001b[43mcopy\u001b[49m\u001b[38;5;241;43m=\u001b[39;49m\u001b[43mcopy\u001b[49m\u001b[43m)\u001b[49m\n\u001b[0;32m    243\u001b[0m \u001b[38;5;28;01mexcept\u001b[39;00m (\u001b[38;5;167;01mValueError\u001b[39;00m, \u001b[38;5;167;01mTypeError\u001b[39;00m):\n\u001b[0;32m    244\u001b[0m     \u001b[38;5;66;03m# e.g. _astype_nansafe can fail on object-dtype of strings\u001b[39;00m\n\u001b[0;32m    245\u001b[0m     \u001b[38;5;66;03m#  trying to convert to float\u001b[39;00m\n\u001b[0;32m    246\u001b[0m     \u001b[38;5;28;01mif\u001b[39;00m errors \u001b[38;5;241m==\u001b[39m \u001b[38;5;124m\"\u001b[39m\u001b[38;5;124mignore\u001b[39m\u001b[38;5;124m\"\u001b[39m:\n",
      "File \u001b[1;32m~\\AppData\\Local\\Programs\\Python\\Python311\\Lib\\site-packages\\pandas\\core\\dtypes\\astype.py:187\u001b[0m, in \u001b[0;36mastype_array\u001b[1;34m(values, dtype, copy)\u001b[0m\n\u001b[0;32m    184\u001b[0m     values \u001b[38;5;241m=\u001b[39m values\u001b[38;5;241m.\u001b[39mastype(dtype, copy\u001b[38;5;241m=\u001b[39mcopy)\n\u001b[0;32m    186\u001b[0m \u001b[38;5;28;01melse\u001b[39;00m:\n\u001b[1;32m--> 187\u001b[0m     values \u001b[38;5;241m=\u001b[39m \u001b[43m_astype_nansafe\u001b[49m\u001b[43m(\u001b[49m\u001b[43mvalues\u001b[49m\u001b[43m,\u001b[49m\u001b[43m \u001b[49m\u001b[43mdtype\u001b[49m\u001b[43m,\u001b[49m\u001b[43m \u001b[49m\u001b[43mcopy\u001b[49m\u001b[38;5;241;43m=\u001b[39;49m\u001b[43mcopy\u001b[49m\u001b[43m)\u001b[49m\n\u001b[0;32m    189\u001b[0m \u001b[38;5;66;03m# in pandas we don't store numpy str dtypes, so convert to object\u001b[39;00m\n\u001b[0;32m    190\u001b[0m \u001b[38;5;28;01mif\u001b[39;00m \u001b[38;5;28misinstance\u001b[39m(dtype, np\u001b[38;5;241m.\u001b[39mdtype) \u001b[38;5;129;01mand\u001b[39;00m \u001b[38;5;28missubclass\u001b[39m(values\u001b[38;5;241m.\u001b[39mdtype\u001b[38;5;241m.\u001b[39mtype, \u001b[38;5;28mstr\u001b[39m):\n",
      "File \u001b[1;32m~\\AppData\\Local\\Programs\\Python\\Python311\\Lib\\site-packages\\pandas\\core\\dtypes\\astype.py:138\u001b[0m, in \u001b[0;36m_astype_nansafe\u001b[1;34m(arr, dtype, copy, skipna)\u001b[0m\n\u001b[0;32m    134\u001b[0m     \u001b[38;5;28;01mraise\u001b[39;00m \u001b[38;5;167;01mValueError\u001b[39;00m(msg)\n\u001b[0;32m    136\u001b[0m \u001b[38;5;28;01mif\u001b[39;00m copy \u001b[38;5;129;01mor\u001b[39;00m is_object_dtype(arr\u001b[38;5;241m.\u001b[39mdtype) \u001b[38;5;129;01mor\u001b[39;00m is_object_dtype(dtype):\n\u001b[0;32m    137\u001b[0m     \u001b[38;5;66;03m# Explicit copy, or required since NumPy can't view from / to object.\u001b[39;00m\n\u001b[1;32m--> 138\u001b[0m     \u001b[38;5;28;01mreturn\u001b[39;00m \u001b[43marr\u001b[49m\u001b[38;5;241;43m.\u001b[39;49m\u001b[43mastype\u001b[49m\u001b[43m(\u001b[49m\u001b[43mdtype\u001b[49m\u001b[43m,\u001b[49m\u001b[43m \u001b[49m\u001b[43mcopy\u001b[49m\u001b[38;5;241;43m=\u001b[39;49m\u001b[38;5;28;43;01mTrue\u001b[39;49;00m\u001b[43m)\u001b[49m\n\u001b[0;32m    140\u001b[0m \u001b[38;5;28;01mreturn\u001b[39;00m arr\u001b[38;5;241m.\u001b[39mastype(dtype, copy\u001b[38;5;241m=\u001b[39mcopy)\n",
      "\u001b[1;31mValueError\u001b[0m: could not convert string to float: '5\\xa0600\\xa0000'"
     ]
    }
   ],
   "source": [
    "data['price'] = data['price'].astype('float')\n"
   ]
  },
  {
   "cell_type": "code",
   "execution_count": 101,
   "id": "89590d28-2c70-456b-970b-721b34c2973b",
   "metadata": {},
   "outputs": [
    {
     "data": {
      "text/html": [
       "<div>\n",
       "<style scoped>\n",
       "    .dataframe tbody tr th:only-of-type {\n",
       "        vertical-align: middle;\n",
       "    }\n",
       "\n",
       "    .dataframe tbody tr th {\n",
       "        vertical-align: top;\n",
       "    }\n",
       "\n",
       "    .dataframe thead th {\n",
       "        text-align: right;\n",
       "    }\n",
       "</style>\n",
       "<table border=\"1\" class=\"dataframe\">\n",
       "  <thead>\n",
       "    <tr style=\"text-align: right;\">\n",
       "      <th></th>\n",
       "      <th>date</th>\n",
       "      <th>adress</th>\n",
       "      <th>n_rooms</th>\n",
       "      <th>price</th>\n",
       "      <th>plan</th>\n",
       "      <th>floor</th>\n",
       "      <th>total_square</th>\n",
       "      <th>living_square</th>\n",
       "      <th>kitchen_square</th>\n",
       "      <th>year</th>\n",
       "      <th>month</th>\n",
       "      <th>sreet</th>\n",
       "      <th>floor_num</th>\n",
       "      <th>total_floors</th>\n",
       "      <th>is_first_floor</th>\n",
       "      <th>is_last_floor</th>\n",
       "    </tr>\n",
       "  </thead>\n",
       "  <tbody>\n",
       "    <tr>\n",
       "      <th>0</th>\n",
       "      <td>2022-11-02 20:02:00</td>\n",
       "      <td>Менделеева, 6</td>\n",
       "      <td>Трехкомнатная</td>\n",
       "      <td>5 600 000</td>\n",
       "      <td>старой планировки</td>\n",
       "      <td>3/4</td>\n",
       "      <td>83.0</td>\n",
       "      <td>55.0</td>\n",
       "      <td>9.0</td>\n",
       "      <td>2022</td>\n",
       "      <td>11</td>\n",
       "      <td>Менделеева</td>\n",
       "      <td>3</td>\n",
       "      <td>4</td>\n",
       "      <td>0</td>\n",
       "      <td>0</td>\n",
       "    </tr>\n",
       "    <tr>\n",
       "      <th>1</th>\n",
       "      <td>2023-07-06 12:58:00</td>\n",
       "      <td>Советской Армии, 5</td>\n",
       "      <td>Двухкомнатная</td>\n",
       "      <td>3 200 000</td>\n",
       "      <td>брежневка</td>\n",
       "      <td>5/5</td>\n",
       "      <td>44.0</td>\n",
       "      <td>29.0</td>\n",
       "      <td>7.0</td>\n",
       "      <td>2023</td>\n",
       "      <td>7</td>\n",
       "      <td>Советской Армии</td>\n",
       "      <td>5</td>\n",
       "      <td>5</td>\n",
       "      <td>0</td>\n",
       "      <td>1</td>\n",
       "    </tr>\n",
       "    <tr>\n",
       "      <th>2</th>\n",
       "      <td>2023-08-24 13:43:00</td>\n",
       "      <td>Завенягина, 6</td>\n",
       "      <td>Трехкомнатная</td>\n",
       "      <td>6 200 000</td>\n",
       "      <td>нестандартная</td>\n",
       "      <td>7/16</td>\n",
       "      <td>82.0</td>\n",
       "      <td>50.0</td>\n",
       "      <td>10.0</td>\n",
       "      <td>2023</td>\n",
       "      <td>8</td>\n",
       "      <td>Завенягина</td>\n",
       "      <td>7</td>\n",
       "      <td>16</td>\n",
       "      <td>0</td>\n",
       "      <td>0</td>\n",
       "    </tr>\n",
       "  </tbody>\n",
       "</table>\n",
       "</div>"
      ],
      "text/plain": [
       "                 date              adress        n_rooms      price  \\\n",
       "0 2022-11-02 20:02:00       Менделеева, 6  Трехкомнатная  5 600 000   \n",
       "1 2023-07-06 12:58:00  Советской Армии, 5  Двухкомнатная  3 200 000   \n",
       "2 2023-08-24 13:43:00       Завенягина, 6  Трехкомнатная  6 200 000   \n",
       "\n",
       "                plan floor  total_square  living_square  kitchen_square  year  \\\n",
       "0  старой планировки   3/4          83.0           55.0             9.0  2022   \n",
       "1          брежневка   5/5          44.0           29.0             7.0  2023   \n",
       "2      нестандартная  7/16          82.0           50.0            10.0  2023   \n",
       "\n",
       "   month            sreet  floor_num  total_floors  is_first_floor  \\\n",
       "0     11       Менделеева          3             4               0   \n",
       "1      7  Советской Армии          5             5               0   \n",
       "2      8       Завенягина          7            16               0   \n",
       "\n",
       "   is_last_floor  \n",
       "0              0  \n",
       "1              1  \n",
       "2              0  "
      ]
     },
     "execution_count": 101,
     "metadata": {},
     "output_type": "execute_result"
    }
   ],
   "source": [
    "data.head(3)"
   ]
  },
  {
   "cell_type": "code",
   "execution_count": null,
   "id": "2d77a1ef-cfaf-4c31-aca3-22d668233279",
   "metadata": {},
   "outputs": [],
   "source": []
  }
 ],
 "metadata": {
  "kernelspec": {
   "display_name": "Python 3 (ipykernel)",
   "language": "python",
   "name": "python3"
  },
  "language_info": {
   "codemirror_mode": {
    "name": "ipython",
    "version": 3
   },
   "file_extension": ".py",
   "mimetype": "text/x-python",
   "name": "python",
   "nbconvert_exporter": "python",
   "pygments_lexer": "ipython3",
   "version": "3.11.4"
  }
 },
 "nbformat": 4,
 "nbformat_minor": 5
}
